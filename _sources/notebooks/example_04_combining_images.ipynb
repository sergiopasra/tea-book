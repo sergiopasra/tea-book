{
 "cells": [
  {
   "cell_type": "markdown",
   "metadata": {},
   "source": [
    "## Example 4: Combining several images "
   ]
  },
  {
   "cell_type": "markdown",
   "metadata": {},
   "source": [
    "<pre> Máster en Astrofísica UCM -- Técnicas Experimentales en Astrofísica\n",
    "Jaime Zamorano and Nicolás Cardiel\n",
    "\n",
    "This notebook has reproduced parts of the STAK project notebook:\n",
    " - https://stak-notebooks.readthedocs.io/en/latest/index.html \n",
    "\n",
    "and the astropy tutorials: http://learn.astropy.org/FITS-images.html (by Lia R. Corrales)\n",
    "\n",
    "v0  2020/05/12 to be completed\n",
    "v1  2021/01/10 almost ready for 2020/21\n",
    "</pre>"
   ]
  },
  {
   "cell_type": "markdown",
   "metadata": {},
   "source": [
    "Note that the ``astropy`` package should be installed. In this sense, have a look to the\n",
    "astropy installation description: https://docs.astropy.org/en/stable/install.html.\n",
    "We are also using ``ccdproc`` package."
   ]
  },
  {
   "cell_type": "code",
   "execution_count": null,
   "metadata": {},
   "outputs": [],
   "source": [
    "from astropy.io import fits\n",
    "import matplotlib\n",
    "%matplotlib inline\n",
    "import matplotlib.pyplot as plt\n",
    "from matplotlib.colors import LogNorm\n",
    "import numpy as np\n",
    "from mpl_toolkits.axes_grid1 import make_axes_locatable\n",
    "from ccdproc import CCDData, Combiner"
   ]
  },
  {
   "cell_type": "code",
   "execution_count": null,
   "metadata": {},
   "outputs": [],
   "source": [
    "# auxiliary function to display a rectangle and compute mean value within it\n",
    "def draw_rectangle(ax, image_data, x1, x2, y1, y2, color, text=False):\n",
    "    ax.plot((x1, x1), (y1, y2), color, lw=1)\n",
    "    ax.plot((x2, x2), (y1, y2), color, lw=1)\n",
    "    ax.plot((x1, x2), (y1, y1), color, lw=1)\n",
    "    ax.plot((x1, x2), (y2, y2), color, lw=1)\n",
    "    if text:\n",
    "        media = image_data[y1:y2,x1:x2].mean()\n",
    "        std   = image_data[y1:y2,x1:x2].std()\n",
    "        ax.text((x1+x2)/2, y1, str(int(media)), \n",
    "                ha='center', va='top', color=color, fontsize=15)        \n",
    "        ax.text((x1+x2)/2, y2, str(int(std)), \n",
    "                ha='center', va='bottom', color=color, fontsize=15)\n",
    "    return media,std"
   ]
  },
  {
   "cell_type": "markdown",
   "metadata": {},
   "source": [
    "### Opening the FITS files to be combined"
   ]
  },
  {
   "cell_type": "markdown",
   "metadata": {},
   "source": [
    "**List of files to be combined**\n",
    "\n",
    "These are three consecutive images of M51 in Johnson R band taken with CAFOS at Calar Alto."
   ]
  },
  {
   "cell_type": "code",
   "execution_count": null,
   "metadata": {},
   "outputs": [],
   "source": [
    "directory = 'FITS_files/'\n",
    "filename = 'ucmP_0052.fits'\n",
    "imagen = fits.getdata(directory+filename)\n",
    "header = fits.getheader(directory+filename)\n",
    "exposure = header['EXPTIME']\n",
    "print(header['FILENAME'],header['OBJECT'],\n",
    "      header['INSFLNAM'],header['EXPTIME'],\n",
    "      int(np.mean(imagen)),int(np.std(imagen)),\n",
    "      np.min(imagen), np.max(imagen))\n"
   ]
  },
  {
   "cell_type": "code",
   "execution_count": null,
   "metadata": {},
   "outputs": [],
   "source": [
    "fig = plt.figure()\n",
    "ax = fig.add_subplot(111)\n",
    "img = ax.imshow(imagen, cmap='gray', vmin=500, vmax=5000,norm=LogNorm())\n",
    "ax.set_xlabel('X axis')\n",
    "x_pos, y_pos = 20,20\n",
    "step = 200\n",
    "for i in range(6):\n",
    "    x1 = int(x_pos + i * step)\n",
    "    x2 = x1 + step\n",
    "    draw_rectangle(ax, imagen , x1,x2,x1,x2, color='k',text=True)\n",
    "ax.text(1000,10,exposure,fontsize=15)"
   ]
  },
  {
   "cell_type": "code",
   "execution_count": null,
   "metadata": {},
   "outputs": [],
   "source": [
    "directory = 'FITS_files/'\n",
    "files = ['ucmP_0050.fits','ucmP_0051.fits','ucmP_0052.fits','ucmP_0053.fits']"
   ]
  },
  {
   "cell_type": "markdown",
   "metadata": {},
   "source": [
    "Oppening the FITS files and putting the data into a list of numpy 2-D arrays."
   ]
  },
  {
   "cell_type": "code",
   "execution_count": null,
   "metadata": {},
   "outputs": [],
   "source": [
    "image = []\n",
    "exposure = []\n",
    "for i in range(len(files)):\n",
    "    image.append(fits.getdata(directory+files[i]))\n",
    "# If you need to browse the header\n",
    "#fits.getheader(directory+files[0])"
   ]
  },
  {
   "cell_type": "markdown",
   "metadata": {},
   "source": [
    "Each image is now stored as a 2-D numpy arrays inside a list. \n",
    "Want to know the dimensions of the image? Just look at the shape of the array."
   ]
  },
  {
   "cell_type": "code",
   "execution_count": null,
   "metadata": {},
   "outputs": [],
   "source": [
    "print(type(image[0]))\n",
    "print(image[1].shape)\n",
    "print((image[2].shape)[0])\n",
    "print((image[1].shape)[1])"
   ]
  },
  {
   "cell_type": "markdown",
   "metadata": {},
   "source": [
    "### Analysing the images data"
   ]
  },
  {
   "cell_type": "markdown",
   "metadata": {},
   "source": [
    "Let us get some basic statistics about our images"
   ]
  },
  {
   "cell_type": "code",
   "execution_count": null,
   "metadata": {},
   "outputs": [],
   "source": [
    "print('Filename    Object  Filter   Mean  std min  max')\n",
    "for i in range(len(files)):\n",
    "    header = fits.getheader(directory+files[i])\n",
    "    exposure.append(header['EXPTIME'])\n",
    "    print(header['FILENAME'],header['OBJECT'],header['INSFLNAM'],header['EXPTIME'],int(np.mean(image[i])),int(np.std(image[i])),np.min(image[i]), np.max(image[i]), )"
   ]
  },
  {
   "cell_type": "raw",
   "metadata": {},
   "source": [
    "The four files belongs to observations of M51 with the Johnson R filter and exposures of 500, 300, 200 and 200s respectively"
   ]
  },
  {
   "cell_type": "markdown",
   "metadata": {},
   "source": [
    "#### Plotting a histogram"
   ]
  },
  {
   "cell_type": "markdown",
   "metadata": {},
   "source": [
    "To make a histogram with ``matplotlib.pyplot.hist()``, we need to cast the data from a 2-D to array to something one dimensional.\n",
    "In this case, we are am using ``ndarray.flatten()`` to return a 1-D numpy array."
   ]
  },
  {
   "cell_type": "raw",
   "metadata": {},
   "source": []
  },
  {
   "cell_type": "code",
   "execution_count": null,
   "metadata": {},
   "outputs": [],
   "source": [
    "plt.xlim(0,8000)\n",
    "for i in range(len(files)):\n",
    "    plt.hist(image[i].flatten(), alpha=0.6, bins=100, label=exposure[i])\n",
    "plt.legend()\n",
    "plt.show()"
   ]
  },
  {
   "cell_type": "markdown",
   "metadata": {},
   "source": [
    "As expected first image (exposure of 500s) has more signal than the next ones. The exposure time of the last two images is 200s, and the histograms are similar. "
   ]
  },
  {
   "cell_type": "markdown",
   "metadata": {},
   "source": [
    "Let display the four images with the same background and foreground limit values."
   ]
  },
  {
   "cell_type": "code",
   "execution_count": null,
   "metadata": {},
   "outputs": [],
   "source": [
    "#plt.imshow(image[0], cmap='gray', vmin=1000, vmax=5000,norm=LogNorm())\n",
    "#plt.show()\n",
    "fig, axarr = plt.subplots(ncols=2, nrows=2, figsize=(12, 12))\n",
    "i,j=0,0\n",
    "for n in range(0,4):\n",
    "    ax = axarr[j,i]\n",
    "    ax.imshow(image[n], cmap='gray', vmin=1000, vmax=5000,norm=LogNorm())\n",
    "    ax.text(400,100,exposure[n],fontsize=15)\n",
    "    ax.set_xlabel('X axis')\n",
    "    ax.grid()\n",
    "    i = i+1\n",
    "    if i==2 :\n",
    "        i=0\n",
    "        j=1\n",
    "    "
   ]
  },
  {
   "cell_type": "raw",
   "metadata": {},
   "source": [
    "Lets perform some statistics on the images using a fuction similar to that of example 1\n",
    "In this case we add the standard deviation "
   ]
  },
  {
   "cell_type": "code",
   "execution_count": null,
   "metadata": {},
   "outputs": [],
   "source": [
    "# auxiliary function to display a rectangle and compute mean value within it\n",
    "def draw_rectangle(ax, image_data, x1, x2, y1, y2, color, text=False):\n",
    "    ax.plot((x1, x1), (y1, y2), color, lw=1)\n",
    "    ax.plot((x2, x2), (y1, y2), color, lw=1)\n",
    "    ax.plot((x1, x2), (y1, y1), color, lw=1)\n",
    "    ax.plot((x1, x2), (y2, y2), color, lw=1)\n",
    "    if text:\n",
    "        media = image_data[y1:y2,x1:x2].mean()\n",
    "        std   = image_data[y1:y2,x1:x2].std()\n",
    "        ax.text((x1+x2)/2, y1, str(int(media)), \n",
    "                ha='center', va='top', color=color, fontsize=15)        \n",
    "        ax.text((x1+x2)/2, y2, str(int(std)), \n",
    "                ha='center', va='bottom', color=color, fontsize=15)\n",
    "    return media,std"
   ]
  },
  {
   "cell_type": "markdown",
   "metadata": {},
   "source": [
    "### Estimating DARK value"
   ]
  },
  {
   "cell_type": "raw",
   "metadata": {},
   "source": [
    "We are zooming and displaying only a portion of the images: the upper left corner region. "
   ]
  },
  {
   "cell_type": "code",
   "execution_count": null,
   "metadata": {},
   "outputs": [],
   "source": [
    "dark_mean,std= [],[]\n",
    "fig, axarr = plt.subplots(ncols=2, nrows=2, figsize=(12, 12))\n",
    "i,j=0,0\n",
    "for n in range(0,4):\n",
    "    ax = axarr[j,i]\n",
    "    box = image[n][0:200,0:200]\n",
    "    img = ax.imshow(box, cmap='gray', vmin=1000, vmax=5000,norm=LogNorm())\n",
    "    ax.set_xlabel('X axis')\n",
    "    mean_n,std_n= draw_rectangle(ax, box , 10, 50, 10, 50, color='y',text=True)\n",
    "    dark_mean.append(mean_n)\n",
    "    std.append(std_n)\n",
    "    draw_rectangle(ax, box , 60, 100, 10, 50, color='y',text=True)\n",
    "    draw_rectangle(ax, box , 10, 50, 60, 100, color='y',text=True)\n",
    "    draw_rectangle(ax, box , 100, 150, 100, 150, color='k',text=True)\n",
    "    ax.text(200,10,exposure[n],fontsize=15)\n",
    "    i = i+1\n",
    "    if i==2 :\n",
    "        i=0\n",
    "        j=1"
   ]
  },
  {
   "cell_type": "raw",
   "metadata": {},
   "source": [
    "For Calar Alto CAFOS images with the selected window (1300x1300 pixels) there is a region or the CCD without light since the Field of View is only 11 arcmin in diameter. \n",
    "The statistics in the black corner provides an estimate of the DARK value that varies with exposure time."
   ]
  },
  {
   "cell_type": "code",
   "execution_count": null,
   "metadata": {},
   "outputs": [],
   "source": [
    "for n in range(0,4):\n",
    "    print(files[n],exposure[n],int(dark_mean[n]),int(std[n]))"
   ]
  },
  {
   "cell_type": "raw",
   "metadata": {},
   "source": [
    "Let us try to determine the BIAS and the thermal noise by adjusting the mean values of the DARK with the exposure time and extrapolating to zero exposure time"
   ]
  },
  {
   "cell_type": "code",
   "execution_count": null,
   "metadata": {},
   "outputs": [],
   "source": [
    "from scipy.optimize import curve_fit\n",
    "plt.xlim(0,600)\n",
    "plt.ylim(650,700)\n",
    "x,y,noise = np.array(exposure),np.array(dark_mean),np.array(std)\n",
    "def func(x, a, b):\n",
    "    return a + b*x \n",
    "popt, pcov = curve_fit(func, x, y, sigma=1./(noise*noise))\n",
    "a,b = round(popt[0],3),round(popt[1],5)\n",
    "print('BIAS= ',a,'noise=',b,'counts/s')\n",
    "xx = np.linspace(0,600,100)\n",
    "yy = func(xx,a,b)\n",
    "plt.plot(x, y, 'ro',ms=12) \n",
    "plt.xlabel('exposure time')\n",
    "plt.ylabel('counts')\n",
    "plt.plot(xx,yy,'k--',lw=4)\n",
    "plt.text(20,690,'DARK = '+str(a)+' + '+str(b)+' x t[s]')\n",
    "plt.show()"
   ]
  },
  {
   "cell_type": "raw",
   "metadata": {},
   "source": [
    "The DARK correction should be made using a combined DARK image using multiple observations. Let us perform here a naive aproximation substracting a single value as DARK value to correct.\n",
    "We assign the DARK mean value found for each image."
   ]
  },
  {
   "cell_type": "code",
   "execution_count": null,
   "metadata": {},
   "outputs": [],
   "source": [
    "zimage = []\n",
    "for i in range(0,4):\n",
    "    zimage.append(image[i] - dark_mean[i])   \n",
    "for i in range(0,4):\n",
    "    print(int(image[i].mean()),int(dark_mean[i]),int(zimage[i].mean()))"
   ]
  },
  {
   "cell_type": "code",
   "execution_count": null,
   "metadata": {},
   "outputs": [],
   "source": [
    "sky_mean,std= [],[]\n",
    "fig, axarr = plt.subplots(ncols=2, nrows=2, figsize=(12, 5))\n",
    "i,j=0,0\n",
    "for n in range(0,4):\n",
    "    ax = axarr[j,i]\n",
    "    box = zimage[n][0:400,:]\n",
    "    img = ax.imshow(box, cmap='gray', vmin=400, vmax=5000,norm=LogNorm())\n",
    "    mean_n,std_n= draw_rectangle(ax, box , 800, 1000, 50, 200, color='k',text=True)\n",
    "    sky_mean.append(mean_n)\n",
    "    std.append(std_n)\n",
    "    ax.text(200,100,str(int(exposure[n]))+' s',fontsize=15)\n",
    "    i = i+1\n",
    "    if i==2 :\n",
    "        i=0\n",
    "        j=1"
   ]
  },
  {
   "cell_type": "markdown",
   "metadata": {},
   "source": [
    "#### Checking sky brightness versus time"
   ]
  },
  {
   "cell_type": "raw",
   "metadata": {},
   "source": [
    "We can check whether the signal in the sky is proportional to exposure time. It should be noted that the atmosphere transmission is changing from an exposure to next and during the observations."
   ]
  },
  {
   "cell_type": "code",
   "execution_count": null,
   "metadata": {},
   "outputs": [],
   "source": [
    "plt.plot(exposure,sky_mean,'gs')\n",
    "plt.xlabel('exposure')\n",
    "plt.ylabel('sky counts')\n",
    "plt.xlim(0,600)\n",
    "plt.ylim(0,4000)\n",
    "\n",
    "x,y = np.array(exposure),np.array(sky_mean)\n",
    "plt.plot(x, y, 'ro',ms=12) \n",
    "\n",
    "def func(x, b):\n",
    "    return b*x \n",
    "popt, pcov = curve_fit(func, x, y)\n",
    "b = round(popt[0],3)\n",
    "print(b,'counts/s')\n",
    "xx = np.linspace(0,600,100)\n",
    "yy = func(xx,b)\n",
    "plt.plot(xx,yy,'k--',lw=4)\n",
    "plt.plot(x, y, 'ro',ms=12) \n",
    "plt.text(20,3500,'Sky = '+str(b)+' x t[s]')\n",
    "plt.show()"
   ]
  },
  {
   "cell_type": "markdown",
   "metadata": {},
   "source": [
    "### Combining the individual images"
   ]
  },
  {
   "cell_type": "code",
   "execution_count": null,
   "metadata": {},
   "outputs": [],
   "source": [
    "# Converting numpy arrays to CCDData objects\n",
    "ccd = []\n",
    "for i in range(len(zimage)):\n",
    "    ccd.append(CCDData(zimage[i],unit='adu'))\n",
    "    \n",
    "# Combiner is a class for combining CCDData objects.\n",
    "# https://ccdproc.readthedocs.io/en/latest/api/ccdproc.Combiner.html\n",
    "# The Combiner class is used to combine together CCDData objects \n",
    "# including the method for combining the data, rejecting outlying data, \n",
    "# and weighting used for combining frames.\n",
    "combiner = Combiner(ccd)"
   ]
  },
  {
   "cell_type": "markdown",
   "metadata": {},
   "source": [
    "As the images have different exposure times we must scale the signal to combine the individual images\n",
    "https://ccdproc.readthedocs.io/en/latest/api/ccdproc.Combiner.html#ccdproc.Combiner.scaling"
   ]
  },
  {
   "cell_type": "code",
   "execution_count": null,
   "metadata": {},
   "outputs": [],
   "source": [
    "scaling_func = lambda arr: 1/np.ma.average(arr)\n",
    "combiner.scaling = scaling_func"
   ]
  },
  {
   "cell_type": "markdown",
   "metadata": {},
   "source": [
    "Preguntar a Nicolás"
   ]
  },
  {
   "cell_type": "code",
   "execution_count": null,
   "metadata": {},
   "outputs": [],
   "source": [
    "# median combine \n",
    "combined_image_average_scaled = combiner.average_combine()\n",
    "# median combine \n",
    "combined_image_median = combiner.median_combine()"
   ]
  },
  {
   "cell_type": "markdown",
   "metadata": {},
   "source": [
    "### Writing the resulting file"
   ]
  },
  {
   "cell_type": "markdown",
   "metadata": {},
   "source": [
    "We can use the ``writeto`` method to save the new file. \n",
    "Note that ``writeto`` will close the new file for you."
   ]
  },
  {
   "cell_type": "code",
   "execution_count": null,
   "metadata": {},
   "outputs": [],
   "source": [
    "# Extract primary header from single file and copy into new combined file header\n",
    "HDUList_object = fits.open(directory+files[0])\n",
    "combined_image_median.header = HDUList_object[0].header"
   ]
  },
  {
   "cell_type": "code",
   "execution_count": null,
   "metadata": {},
   "outputs": [],
   "source": [
    "# Replace FILENAME keyword and add information\n",
    "combined_image_median.header['FILENAME'] = 'M51_new.fits' \n",
    "combined_image_median.header['HISTORY'] = 'median combining '+ str(len(files)) + 'images'\n",
    "combined_image_median.header['HISTORY'] = 'individual images from ' + str(files[0])+' to ' + str(files[-1])\n"
   ]
  },
  {
   "cell_type": "code",
   "execution_count": null,
   "metadata": {},
   "outputs": [],
   "source": [
    "# Finally writte the image to a FITS file. \n",
    "# An error occurs when the file already exits (use overwrite='yes' to avoid the error)\n",
    "combined_image_median.write('M51_new.fits',overwrite='yes')"
   ]
  },
  {
   "cell_type": "code",
   "execution_count": null,
   "metadata": {},
   "outputs": [],
   "source": []
  }
 ],
 "metadata": {
  "kernelspec": {
   "display_name": "Python 3",
   "language": "python",
   "name": "python3"
  },
  "language_info": {
   "codemirror_mode": {
    "name": "ipython",
    "version": 3
   },
   "file_extension": ".py",
   "mimetype": "text/x-python",
   "name": "python",
   "nbconvert_exporter": "python",
   "pygments_lexer": "ipython3",
   "version": "3.7.7"
  }
 },
 "nbformat": 4,
 "nbformat_minor": 4
}
