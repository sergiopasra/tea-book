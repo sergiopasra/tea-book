{
 "cells": [
  {
   "cell_type": "markdown",
   "metadata": {},
   "source": [
    "## Example 5: Registering images with AstroAlign"
   ]
  },
  {
   "cell_type": "markdown",
   "metadata": {},
   "source": [
    "Máster en Astrofísica UCM\n",
    "Técnicas Experimentales en Astrofísica\n",
    "\n",
    "Curso 2019-2020\n",
    "Grupo 4: Eva Herrero, Alba Vega Alonso, Álvaro Mas\n",
    "\n",
    "This notebook uses the Astropy AstroAlign package \n",
    "to align two images of M51 taken at Calar Alto in different epochs.\n",
    "    https://astroalign.readthedocs.io/en/latest/index.html\n",
    "Based on example jupyter notebook by Martin Beroiz\n",
    "    http://toros-astro.github.io/astroalign/\n",
    "\n",
    "v3 2020/05/20\n",
    "v4 2021/01/21"
   ]
  },
  {
   "cell_type": "code",
   "execution_count": null,
   "metadata": {},
   "outputs": [],
   "source": [
    "# The astroalign package should be installed. \n",
    "# https://github.com/toros-astro/astroalign\n",
    "# https://astroalign.readthedocs.io/en/latest/installation.html\n",
    "import astroalign as aa \n",
    "\n",
    "from astropy.io import fits\n",
    "from astropy.io.fits import update\n",
    "import numpy as np\n",
    "import matplotlib.pyplot as plt\n",
    "%matplotlib inline"
   ]
  },
  {
   "cell_type": "markdown",
   "metadata": {},
   "source": [
    "Files of observations used in this example were obtained by students of Master en Astrofísica of the Universidad Complutense de Madrid at Calar Alto astronomical observatory during the 2016 and 2019 campaigns."
   ]
  },
  {
   "cell_type": "code",
   "execution_count": null,
   "metadata": {},
   "outputs": [],
   "source": [
    "plt.style.use('./tea.mplstyle')   # Some parameters for nicer graphs"
   ]
  },
  {
   "cell_type": "code",
   "execution_count": null,
   "metadata": {},
   "outputs": [],
   "source": [
    "# Files of observations used in this example \n",
    "directory = 'FITS_files/'\n",
    "file_reference_image = directory+'afztUCM0070.fits'    #2016-04-28\n",
    "file_original_image  = directory+'fztucmP_0044.fits'   #2019-04-11"
   ]
  },
  {
   "cell_type": "code",
   "execution_count": null,
   "metadata": {},
   "outputs": [],
   "source": [
    "# Some information of the images\n",
    "fits.info(file_reference_image)\n",
    "fits.info(file_original_image)"
   ]
  },
  {
   "cell_type": "markdown",
   "metadata": {},
   "source": [
    "The images have different BITPIX\n",
    "There are different options for BITPIX in FITS files\n",
    "BITPIX    Numpy Data Type\n",
    "8         numpy.uint8 (note it is UNsigned integer)\n",
    "16        numpy.int16\n",
    "32        numpy.int32\n",
    "64        numpy.int64\n",
    "-32       numpy.float32\n",
    "-64       numpy.float64"
   ]
  },
  {
   "cell_type": "markdown",
   "metadata": {},
   "source": [
    "Let open the fits files to extract the data and headers"
   ]
  },
  {
   "cell_type": "code",
   "execution_count": null,
   "metadata": {},
   "outputs": [],
   "source": [
    "HDUList_object = fits.open(file_reference_image)\n",
    "reference_header  = HDUList_object[0].header\n",
    "reference_image = HDUList_object[0].data\n",
    "print('reference image',reference_header['FILENAME'], reference_header['INSFLNAM'],\n",
    "      reference_header['DATE-OBS'],'    BITPIX:',reference_header['BITPIX'])\n",
    "HDUList_object = fits.open(file_original_image)\n",
    "original_header = HDUList_object[0].header\n",
    "original_image = HDUList_object[0].data\n",
    "print('image to align ',original_header['FILENAME'], original_header['INSFLNAM'],\n",
    "      original_header['DATE-OBS'],'  BITPIX:',original_header['BITPIX'])"
   ]
  },
  {
   "cell_type": "code",
   "execution_count": null,
   "metadata": {},
   "outputs": [],
   "source": [
    "print(reference_image.dtype,original_image.dtype)"
   ]
  },
  {
   "cell_type": "markdown",
   "metadata": {},
   "source": [
    "In some cases the astroalign procedure does not work and raises an error due to the different data types. Let us convert the numpy arrays to the same data format"
   ]
  },
  {
   "cell_type": "code",
   "execution_count": null,
   "metadata": {},
   "outputs": [],
   "source": [
    "reference = reference_image.astype('float32') \n",
    "original  = original_image.astype('float32') \n",
    "print(reference.dtype,original.dtype)"
   ]
  },
  {
   "cell_type": "code",
   "execution_count": null,
   "metadata": {},
   "outputs": [],
   "source": [
    "# Displaying the original and the reference image \n",
    "fig, axes = plt.subplots(1, 2, figsize=(10, 10))\n",
    "axes[0].imshow(original, cmap='gray', interpolation='none', origin='lower', vmin=200, vmax=1400)\n",
    "#axes[0].axis('off')\n",
    "axes[0].set_title(\"image to be transformed\")\n",
    "axes[0].grid(color='w')\n",
    "axes[1].imshow(reference, cmap='gray', interpolation='none', origin='lower', vmin=50, vmax=1000)\n",
    "#axes[1].axis('off')\n",
    "axes[1].set_title(\"reference image\")\n",
    "plt.tight_layout()\n",
    "axes[1].grid(color='w')\n",
    "plt.show()"
   ]
  },
  {
   "cell_type": "code",
   "execution_count": null,
   "metadata": {},
   "outputs": [],
   "source": [
    "# To transform the image (align & rotate) using the reference image \n",
    "registered_image, footprint = aa.register(original, reference)"
   ]
  },
  {
   "cell_type": "code",
   "execution_count": null,
   "metadata": {},
   "outputs": [],
   "source": [
    "# Displaying the transformed image and the reference image \n",
    "fig, axes = plt.subplots(1, 2, figsize=(14, 10))\n",
    "axes[0].imshow(registered_image, cmap='gray', interpolation='none', origin='lower', vmin=200, vmax=1400)\n",
    "#axes[0].axis('off')\n",
    "axes[0].set_title(\"transformed image\")\n",
    "axes[0].minorticks_on()\n",
    "axes[0].grid(True,which='major',color='w',linestyle='-',lw=0.5)\n",
    "axes[0].grid(True,which='minor',color='w',linestyle='--',lw=0.2)\n",
    "axes[1].imshow(reference, cmap='gray', interpolation='none', origin='lower', vmin=50, vmax=1000)\n",
    "#axes[1].axis('off')\n",
    "axes[1].set_title(\"reference image\")\n",
    "axes[1].minorticks_on()\n",
    "axes[1].grid(True,which='major',color='w',linestyle='-',lw=0.5)\n",
    "axes[1].grid(True,which='minor',color='w',linestyle='--',lw=0.2)\n",
    "plt.tight_layout()"
   ]
  },
  {
   "cell_type": "code",
   "execution_count": null,
   "metadata": {},
   "outputs": [],
   "source": [
    "p, (pos_img, pos_img_rot) = aa.find_transform(original, reference)\n",
    "print(\"Rotation: {:.2f} degrees\".format(p.rotation * 180.0 / np.pi))\n",
    "print(\"\\nScale factor: {:.2f}\".format(p.scale))\n",
    "print(\"\\nTranslation: (x, y) = ({:.2f}, {:.2f})\".format(*p.translation))\n",
    "print(\"\\nTranformation matrix:\\n{}\".format(p.params))\n",
    "print(\"\\nPoint correspondence:\")\n",
    "for (x1, y1), (x2, y2) in zip(pos_img, pos_img_rot):\n",
    "    print(\"({:.2f}, {:.2f}) in source --> ({:.2f}, {:.2f}) in target\"\n",
    "          .format(x1, y1, x2, y2))"
   ]
  },
  {
   "cell_type": "markdown",
   "metadata": {},
   "source": [
    "The scale factor is 1 because both images comes from the same instrumentation: CAFOS at Calar Alto"
   ]
  },
  {
   "cell_type": "code",
   "execution_count": null,
   "metadata": {},
   "outputs": [],
   "source": [
    "fig, axes = plt.subplots(1, 3, figsize=(14,9))\n",
    "\n",
    "colors = ['r', 'g', 'b', 'y', 'cyan', 'w', 'm']\n",
    "vmin,vmax= 200,2000\n",
    "axes[0].imshow(original, cmap='gray', vmin=vmin,vmax=vmax,interpolation='none', origin='lower')\n",
    "axes[0].axis('off')\n",
    "axes[0].set_title(\"Source Image\")\n",
    "for (xp, yp), c in zip(pos_img[:len(colors)], colors):\n",
    "    circ = plt.Circle((xp, yp), 15, fill=False, edgecolor=c, linewidth=2)\n",
    "    axes[0].add_patch(circ)\n",
    "vmin,vmax= 200,800\n",
    "axes[1].imshow(reference, cmap='gray', vmin=vmin,vmax=vmax, interpolation='none', origin='lower')\n",
    "axes[1].axis('off')\n",
    "axes[1].set_title(\"Target Image\")\n",
    "for (xp, yp), c in zip(pos_img_rot[:len(colors)], colors):\n",
    "    circ = plt.Circle((xp, yp), 15 * p.scale, fill=False, edgecolor=c, linewidth=2)\n",
    "    axes[1].add_patch(circ)\n",
    "vmin,vmax= 200,2000\n",
    "axes[2].imshow(registered_image, cmap='gray', vmin=vmin,vmax=vmax, interpolation='none', origin='lower')\n",
    "axes[2].axis('off')\n",
    "axes[2].set_title(\"Source Image aligned with Target\")\n",
    "for (xp, yp), c in zip(pos_img_rot[:len(colors)], colors):\n",
    "    circ = plt.Circle((xp, yp), 15 * p.scale, fill=False, edgecolor=c, linewidth=2)\n",
    "    axes[2].add_patch(circ)\n",
    "\n",
    "axes[2].axis('off')\n",
    "\n",
    "plt.tight_layout()"
   ]
  },
  {
   "cell_type": "code",
   "execution_count": null,
   "metadata": {},
   "outputs": [],
   "source": [
    "# A new FITS file to contain the registered image is created \n",
    "hdu = fits.PrimaryHDU(registered_image)\n",
    "hdul = fits.HDUList([hdu])\n",
    "hdul.writeto('afztucmP_0044.fits') # A warning raises when the file already exits\n",
    "\n",
    "# We use the original image header \n",
    "update('afztucmP_0044.fits', registered_image, original_header)"
   ]
  }
 ],
 "metadata": {
  "kernelspec": {
   "display_name": "Python 3",
   "language": "python",
   "name": "python3"
  },
  "language_info": {
   "codemirror_mode": {
    "name": "ipython",
    "version": 3
   },
   "file_extension": ".py",
   "mimetype": "text/x-python",
   "name": "python",
   "nbconvert_exporter": "python",
   "pygments_lexer": "ipython3",
   "version": "3.7.7"
  }
 },
 "nbformat": 4,
 "nbformat_minor": 4
}
