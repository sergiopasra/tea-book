{
 "cells": [
  {
   "cell_type": "markdown",
   "metadata": {},
   "source": [
    "## Ajuste Bouger y término de color"
   ]
  },
  {
   "cell_type": "markdown",
   "metadata": {},
   "source": [
    "<pre>Máster en Astrofísica UCM  -- Técnicas Experimentales en Astrofísica\n",
    "Jaime Zamorano and Nicolás Cardiel\n",
    "\n",
    "Datos de campaña JKT 1999 Tesis Pablo Pérez González\n",
    "\n",
    "v1  2021/12/11  J. Zamorano almost ready for 2020/21 \n",
    "</pre>"
   ]
  },
  {
   "cell_type": "code",
   "execution_count": null,
   "metadata": {},
   "outputs": [],
   "source": [
    "#!/usr/bin/env python\n",
    "import matplotlib\n",
    "from pylab import *\n",
    "import numpy as np\n",
    "from matplotlib.pyplot import show\n",
    "import matplotlib.pyplot as plt\n",
    "from scipy.interpolate import interp1d\n",
    "from scipy import integrate,interpolate,stats\n",
    "import matplotlib.mlab as ml\n",
    "from math import pi  \n",
    "from matplotlib.pyplot import figure, show, rc, grid, savefig\n",
    "from astropy.io import ascii"
   ]
  },
  {
   "cell_type": "code",
   "execution_count": null,
   "metadata": {},
   "outputs": [],
   "source": [
    "mpl.rcParams['text.usetex']=False\n",
    "rcParams['font.family'] = 'sans-serif'\n",
    "rcParams['font.sans-serif'] = ['Verdana']\n",
    "rcParams['font.size'] = 15.\n",
    "rcParams['lines.linewidth'] = 4.\n",
    "rcParams['axes.labelsize'] = 'large'\n",
    "rcParams['grid.linewidth'] = 1.0\n",
    "rcParams['grid.linestyle'] = ':'"
   ]
  },
  {
   "cell_type": "markdown",
   "metadata": {},
   "source": [
    "### Datos observacionales \n",
    "Son observaciones con el telescopio JKT (La Palma) pertenecientea a la tesis de Pablo Pérez González obtenidos en Julio de 1999. Usaremos sus ficheros que contienen las medidas de las estrellas estándar. \n",
    "\n",
    "Leemos el fichero csv ('comma separated values') correspondiente a la primera noche de observación como una tabla de astropy. \n",
    "\n",
    "Nota: El flujo f en la columna 2.5logf está en unidades de cuentas/s "
   ]
  },
  {
   "cell_type": "code",
   "execution_count": null,
   "metadata": {},
   "outputs": [],
   "source": [
    "directory = \"./files/fotometria_1/\"\n",
    "file_N1 = directory+\"JKT99_N1_refer_stars_b.csv\"\n",
    "data1 = ascii.read(file_N1, format='basic', delimiter=';', guess=False)"
   ]
  },
  {
   "cell_type": "code",
   "execution_count": null,
   "metadata": {},
   "outputs": [],
   "source": [
    "print(data1)    # cada columna es una variable"
   ]
  },
  {
   "cell_type": "code",
   "execution_count": null,
   "metadata": {},
   "outputs": [],
   "source": [
    "# podemos referirnos a ella por su nombre que es el que aparece en el encabezado\n",
    "print(data1['secz'][0:4])  "
   ]
  },
  {
   "cell_type": "markdown",
   "metadata": {},
   "source": [
    "### Preparando la gráfica para ajustar la Recta de Bouguer\n",
    "\n",
    "La ecuación simple de la fotometría\n",
    "\\begin{equation*}\n",
    "m_B + 2.5 log(F_B)  =  C - K_B X  \n",
    "\\end{equation*}"
   ]
  },
  {
   "cell_type": "code",
   "execution_count": null,
   "metadata": {},
   "outputs": [],
   "source": [
    "data1['B'] = np.add(data1['V'],data1['B-V'])               # para la mgnitud B estándar\n",
    "data1['B+2.5logF'] = np.add(data1['B'],data1['2.5logf'])   # para el eje Y de la gráfica"
   ]
  },
  {
   "cell_type": "code",
   "execution_count": null,
   "metadata": {},
   "outputs": [],
   "source": [
    "print(data1[0:6])"
   ]
  },
  {
   "cell_type": "code",
   "execution_count": null,
   "metadata": {},
   "outputs": [],
   "source": [
    "figura = plt.figure(figsize=(10,6))\n",
    "ax0 = plt.subplot(1,1,1)\n",
    "xx = np.linspace(0.0,5,30)\n",
    "plt.plot(data1['secz'],data1['B+2.5logF'],'go')\n",
    "plt.xlim(0.0,3.0)\n",
    "plt.ylim(21.5,23.0)\n",
    "plt.grid()\n",
    "plt.xlabel('sec(z)')\n",
    "plt.ylabel('B + 2.5 log F (c/s)')\n",
    "plt.title('Gráfica para la noche 1')\n"
   ]
  },
  {
   "cell_type": "markdown",
   "metadata": {},
   "source": [
    "Se aprecia que los puntos se alinean como era de esperar.\n",
    "Podemos ajustar una recta."
   ]
  },
  {
   "cell_type": "markdown",
   "metadata": {},
   "source": [
    "### Ajuste de la recta de Bouguer"
   ]
  },
  {
   "cell_type": "code",
   "execution_count": null,
   "metadata": {},
   "outputs": [],
   "source": [
    "slope, intercept, r_value, p_value, std_err = stats.linregress(data1['secz'],data1['B+2.5logF'])\n",
    "print(\"slope, intercept, r_value, p_value, std_err\")\n",
    "print(\"%.3f  %.3f %.3f  %.3f %.3f\" % (slope, intercept, r_value, p_value, std_err))"
   ]
  },
  {
   "cell_type": "code",
   "execution_count": null,
   "metadata": {},
   "outputs": [],
   "source": [
    "(m_x1,b_x1) = polyfit(data1['secz'],data1['B+2.5logF'],1)\n",
    "xx = np.linspace(0.0,5,30)\n",
    "ynew = polyval([m_x1,b_x1],xx)\n",
    "print(\"%.3f  %.3f\" % (m_x1,b_x1))"
   ]
  },
  {
   "cell_type": "markdown",
   "metadata": {},
   "source": [
    "La pendiente es negativa. El coeficiente de extinción $K_B$ = 0.461 es positivo."
   ]
  },
  {
   "cell_type": "code",
   "execution_count": null,
   "metadata": {},
   "outputs": [],
   "source": [
    "figura = plt.figure(figsize=(10,6))\n",
    "ax0 = plt.subplot(1,1,1)\n",
    "plt.plot(data1['secz'],data1['B+2.5logF'],'go',label='night 1')\n",
    "plt.xlim(0.0,3.0)\n",
    "plt.ylim(21.0,23.5)\n",
    "plt.grid()\n",
    "plt.xlabel('sec(z)')\n",
    "plt.ylabel('B + 2.5 log F (c/s)')\n",
    "plt.plot(xx,ynew,'k--',lw=2)\n",
    "plt.legend()\n",
    "ax0.text(0.05, 0.05,\"B + 2.5 log F = %.3f  %.3f sec(z) \"%(b_x1,m_x1), ha='left', va='center', transform=ax0.transAxes,fontsize=15,bbox=dict(facecolor='white'))"
   ]
  },
  {
   "cell_type": "markdown",
   "metadata": {},
   "source": [
    "Hacemos la misma operación para otras noches de la misma campaña"
   ]
  },
  {
   "cell_type": "code",
   "execution_count": null,
   "metadata": {},
   "outputs": [],
   "source": [
    "file_N2 = directory+\"JKT99_N2_refer_stars_b.csv\"\n",
    "data2 = ascii.read(file_N2, format='basic', delimiter=';', guess=False)\n",
    "file_N6 = directory+\"JKT99_N6_refer_stars_b.csv\"\n",
    "data6 = ascii.read(file_N6, format='basic', delimiter=';', guess=False)\n",
    "file_N7 = directory+\"JKT99_N7_refer_stars_b.csv\"\n",
    "data7 = ascii.read(file_N7, format='basic', delimiter=';', guess=False)"
   ]
  },
  {
   "cell_type": "code",
   "execution_count": null,
   "metadata": {},
   "outputs": [],
   "source": [
    "data2['B']         = np.add(data2['V'],data2['B-V']) \n",
    "data2['B+2.5logF'] = np.add(data2['B'],data2['2.5logf']) \n",
    "data6['B']         = np.add(data6['V'],data6['B-V']) \n",
    "data6['B+2.5logF'] = np.add(data6['B'],data6['2.5logf']) \n",
    "data7['B']         = np.add(data7['V'],data7['B-V']) \n",
    "data7['B+2.5logF'] = np.add(data7['B'],data7['2.5logf']) "
   ]
  },
  {
   "cell_type": "code",
   "execution_count": null,
   "metadata": {},
   "outputs": [],
   "source": [
    "print('Night 1',\"%.3f  %.3f\" % (m_x1,b_x1))\n",
    "\n",
    "(m_x2,b_x2) = polyfit(data2['secz'],data2['B+2.5logF'],1)\n",
    "ynew2 = polyval([m_x2,b_x2],xx)\n",
    "print('Night 2',\"%.3f  %.3f\" % (m_x2,b_x2))\n",
    "\n",
    "x = [x for x,y in zip(data6['secz'],data6['B+2.5logF']) if x<1.8]\n",
    "y = [y for x,y in zip(data6['secz'],data6['B+2.5logF']) if x<1.8]\n",
    "#(m_x6,b_x6) = polyfit(data6['secz'],data6['B+2.5logF'],1)\n",
    "(m_x6,b_x6) = polyfit(x,y,1)\n",
    "xx = np.linspace(0.0,5,30)\n",
    "ynew6 = polyval([m_x6,b_x6],xx)\n",
    "print('Night 6',\"%.3f  %.3f\" % (m_x6,b_x6))\n",
    "(m_x7,b_x7) = polyfit(data7['secz'],data7['B+2.5logF'],1)\n",
    "ynew7 = polyval([m_x7,b_x7],xx)\n",
    "print('Night 7',\"%.3f  %.3f\" % (m_x7,b_x7))"
   ]
  },
  {
   "cell_type": "code",
   "execution_count": null,
   "metadata": {},
   "outputs": [],
   "source": [
    "figura = plt.figure(figsize=(10,6))\n",
    "ax0 = plt.subplot(1,1,1)\n",
    "plt.plot(data1['secz'],data1['B+2.5logF'],'go',label='night 1',ms=5)\n",
    "plt.plot(data2['secz'],data2['B+2.5logF'],'ko',label='night 2',ms=4)\n",
    "plt.plot(data6['secz'],data6['B+2.5logF'],'ro',label='night 6',ms=4)\n",
    "plt.plot(data7['secz'],data7['B+2.5logF'],'bo',label='night 7',ms=5)\n",
    "plt.plot(xx,ynew,'g--',lw=2)\n",
    "plt.plot(xx,ynew6,'r--',lw=2)\n",
    "plt.plot(xx,ynew7,'b--',lw=2)\n",
    "plt.xlim(1.0,2.5)\n",
    "plt.ylim(21.0,23.5)\n",
    "plt.grid()\n",
    "plt.xlabel('sec(z)')\n",
    "plt.ylabel('B + 2.5 log F (c/s)')\n",
    "\n",
    "plt.legend()\n",
    "ax0.text(0.05, 0.24,\"Night 1   B + 2.5 log F = %.3f  %.3f sec(z) \"%(b_x1,m_x1), ha='left', va='center', transform=ax0.transAxes,fontsize=12)\n",
    "ax0.text(0.05, 0.18,\"Night 2   B + 2.5 log F = %.3f  %.3f sec(z) \"%(b_x2,m_x2), ha='left', va='center', transform=ax0.transAxes,fontsize=12)\n",
    "ax0.text(0.05, 0.11,\"Night 6   B + 2.5 log F = %.3f  %.3f sec(z) \"%(b_x6,m_x6), ha='left', va='center', transform=ax0.transAxes,fontsize=12)\n",
    "ax0.text(0.05, 0.05,\"Night 7   B + 2.5 log F = %.3f  %.3f sec(z) \"%(b_x7,m_x7), ha='left', va='center', transform=ax0.transAxes,fontsize=12)"
   ]
  },
  {
   "cell_type": "markdown",
   "metadata": {},
   "source": [
    "Esperamos cambios en el coeficiente de extinción pero no en la constante instrumental.\n",
    "Para nuestra sorpresa la constante instrumental varía de una noche a otra."
   ]
  },
  {
   "cell_type": "markdown",
   "metadata": {},
   "source": [
    "### Término de color\n",
    "Podemos pintar la gráfica de la noche 7 (por ejemplo) codificando el color de las estrellas para comprobar que los puntos de las estrellas más rojas (mayor índice de color B-V) se separan hacia arriba de la recta ajustada y viceversa. "
   ]
  },
  {
   "cell_type": "code",
   "execution_count": null,
   "metadata": {},
   "outputs": [],
   "source": [
    "figura = plt.figure(figsize=(10,6))\n",
    "ax0 = plt.subplot(1,1,1)\n",
    "plt.scatter(data7['secz'],data7['B+2.5logF'],c=data7['B-V'],label='night 7',edgecolor='black')\n",
    "cbar = plt.colorbar()\n",
    "cbar.ax.get_yaxis().labelpad = 35\n",
    "cbar.ax.set_ylabel('(B-V)', rotation=0)\n",
    "plt.plot(xx,ynew7,'b--',lw=2)\n",
    "plt.xlim(1.0,1.8)\n",
    "plt.ylim(22.2,23.0)\n",
    "plt.grid()\n",
    "plt.xlabel('sec(z)')\n",
    "plt.ylabel('B + 2.5 log F (c/s)')\n",
    "plt.legend()\n",
    "ax0.text(0.05, 0.05,\"Night 7   B + 2.5 log F = %.3f  %.3f sec(z) \"%(b_x7,m_x7), ha='left', va='center', transform=ax0.transAxes,fontsize=12)\n"
   ]
  },
  {
   "cell_type": "markdown",
   "metadata": {},
   "source": [
    "### Ajuste de un término de color\n",
    "\n",
    "Intentamos ajustar un término de color en la forma\n",
    "\\begin{equation*}\n",
    "m_B + 2.5 log(F_B)  =  C - K_B X + K_{B-R} (B-R) \n",
    "\\end{equation*}"
   ]
  },
  {
   "cell_type": "code",
   "execution_count": null,
   "metadata": {},
   "outputs": [],
   "source": [
    "data7['B-R'] = np.add(data7['B-V'],data7['V-R'])    # para calcular el B-R de las estrellas "
   ]
  },
  {
   "cell_type": "code",
   "execution_count": null,
   "metadata": {},
   "outputs": [],
   "source": [
    "figura = plt.figure(figsize=(10,6))\n",
    "ax0 = plt.subplot(1,1,1)\n",
    "plt.scatter(data7['secz'],data7['B+2.5logF'],c=data7['B-R'],label='night 7',edgecolor='black')\n",
    "cbar = plt.colorbar()\n",
    "cbar.ax.get_yaxis().labelpad = 35\n",
    "cbar.ax.set_ylabel('(B-R)', rotation=0)\n",
    "plt.plot(xx,ynew7,'b--',lw=2)\n",
    "plt.xlim(1.0,1.8)\n",
    "plt.ylim(22.2,23.0)\n",
    "plt.grid()\n",
    "plt.xlabel('sec(z)')\n",
    "plt.ylabel('B + 2.5 log F (c/s)')\n",
    "plt.legend()\n",
    "ax0.text(0.05, 0.05,\"Night 7   B + 2.5 log F = %.3f  %.3f sec(z) \"%(b_x7,m_x7), ha='left', va='center', transform=ax0.transAxes,fontsize=12)"
   ]
  },
  {
   "cell_type": "markdown",
   "metadata": {},
   "source": [
    "Definimos una función para realizar el ajuste\n",
    "\\begin{equation*}\n",
    "m_B + 2.5 log(F_B)  =  C - K_B X + K_{B-R} (B-R) \n",
    "\\end{equation*}"
   ]
  },
  {
   "cell_type": "code",
   "execution_count": null,
   "metadata": {},
   "outputs": [],
   "source": [
    "def mifuncion(X , c, k, kbr):\n",
    "    x,br = X\n",
    "    return c - k * x + kbr * br"
   ]
  },
  {
   "cell_type": "code",
   "execution_count": null,
   "metadata": {},
   "outputs": [],
   "source": [
    "from scipy.optimize import curve_fit\n",
    "# ajustamos la función\n",
    "x  = data7['secz']\n",
    "br = data7['B-R']\n",
    "y  = data7['B+2.5logF']\n",
    "# estimaciones de partida C,k,kbr:\n",
    "p0 = 22., 0.4, 0.01\n",
    "popt_N7, _ = curve_fit(mifuncion,(x,br),y,p0)"
   ]
  },
  {
   "cell_type": "code",
   "execution_count": null,
   "metadata": {},
   "outputs": [],
   "source": [
    "print(popt_N7)     # Cb Kb Kbr"
   ]
  },
  {
   "cell_type": "code",
   "execution_count": null,
   "metadata": {},
   "outputs": [],
   "source": [
    "print('Night 7',\"%.3f  %.3f\" % (b_x7,m_x7))\n",
    "print('Night 7',\"%.3f  %.3f %.3f\" % (popt_N7[0],popt_N7[1],popt_N7[2]))\n",
    "termino = np.multiply(popt_N7[2],data7['B-R'])\n",
    "ynew = np.subtract(data7['B+2.5logF'],termino)"
   ]
  },
  {
   "cell_type": "code",
   "execution_count": null,
   "metadata": {},
   "outputs": [],
   "source": [
    "figura = plt.figure(figsize=(12,6))\n",
    "ax0 = plt.subplot(121)\n",
    "plt.scatter(x,y,c=data7['B-R'],label='night 7',edgecolor='black')\n",
    "plt.xlim(1.0,1.8)\n",
    "plt.ylim(22.2,23.0)\n",
    "plt.grid()\n",
    "plt.xlabel('sec(z)')\n",
    "plt.ylabel('B + 2.5 log F (c/s)')\n",
    "plt.legend()\n",
    "ax0.text(0.05, 0.05,\"B + 2.5 log F = %.3f  %.3f sec(z) \"%(b_x7,m_x7), ha='left', va='center', transform=ax0.transAxes,fontsize=12)\n",
    "\n",
    "ax1 = plt.subplot(122)\n",
    "plt.plot(x,ynew,'bs')\n",
    "plt.xlim(1.0,1.8)\n",
    "plt.ylim(22.2,23.0)\n",
    "plt.grid()\n",
    "plt.xlabel('sec(z)')\n",
    "plt.ylabel('B + 2.5 log F (c/s) + Kbr (B-R)')\n",
    "plt.legend()\n",
    "ax1.text(0.05, 0.05,\"B + 2.5 log F = %.3f - %.3f sec(z) + %.3f (B-R)\"%(popt_N7[0],popt_N7[1],popt_N7[2]), ha='left', va='center', transform=ax1.transAxes,fontsize=12)\n",
    "plt.tight_layout()"
   ]
  },
  {
   "cell_type": "markdown",
   "metadata": {},
   "source": [
    "La dispersión de los puntos azules (los corregidos de término de color) es mucho menor."
   ]
  },
  {
   "cell_type": "code",
   "execution_count": null,
   "metadata": {},
   "outputs": [],
   "source": [
    "data6['B-R'] = np.add(data6['B-V'],data6['V-R'])    # para calcular el B-R de las estrellas \n",
    "x  = data6['secz']\n",
    "br = data6['B-R']\n",
    "y  = data6['B+2.5logF']\n",
    "# estimaciones de partida C,k,kbr:\n",
    "p0 = 22., 0.4, 0.01\n",
    "popt_N6, _ = curve_fit(mifuncion,(x,br),y,p0)\n",
    "print(popt_N6)     # Cb Kb Kbr"
   ]
  },
  {
   "cell_type": "code",
   "execution_count": null,
   "metadata": {},
   "outputs": [],
   "source": [
    "data2['B-R'] = np.add(data2['B-V'],data2['V-R'])    # para calcular el B-R de las estrellas \n",
    "x  = data2['secz']\n",
    "br = data2['B-R']\n",
    "y  = data2['B+2.5logF']\n",
    "# estimaciones de partida C,k,kbr:\n",
    "p0 = 22., 0.4, 0.01\n",
    "popt_N2, _ = curve_fit(mifuncion,(x,br),y,p0)\n",
    "print(popt_N2)     # Cb Kb Kbr"
   ]
  },
  {
   "cell_type": "code",
   "execution_count": null,
   "metadata": {},
   "outputs": [],
   "source": [
    "data1['B-R'] = np.add(data1['B-V'],data1['V-R'])    # para calcular el B-R de las estrellas \n",
    "x  = data1['secz']\n",
    "br = data1['B-R']\n",
    "y  = data1['B+2.5logF']\n",
    "# estimaciones de partida C,k,kbr:\n",
    "p0 = 22., 0.4, 0.01\n",
    "popt_N1, _ = curve_fit(mifuncion,(x,br),y,p0)\n",
    "print('Night  ',\"C_B    K_B   K_{B-R}\")\n",
    "print('Night 1',\"%.3f %.3f %.3f\" % (popt_N1[0],popt_N1[1],popt_N1[2]))     # Cb Kb Kbr\n",
    "print('Night 2',\"%.3f %.3f %.3f\" % (popt_N2[0],popt_N2[1],popt_N2[2]))     # Cb Kb Kbr\n",
    "print('Night 6',\"%.3f %.3f %.3f\" % (popt_N6[0],popt_N6[1],popt_N6[2]))     # Cb Kb Kbr\n",
    "print('Night 7',\"%.3f %.3f %.3f\" % (popt_N7[0],popt_N7[1],popt_N7[2]))     # Cb Kb Kbr"
   ]
  }
 ],
 "metadata": {
  "kernelspec": {
   "display_name": "Python 3",
   "language": "python",
   "name": "python3"
  },
  "language_info": {
   "codemirror_mode": {
    "name": "ipython",
    "version": 3
   },
   "file_extension": ".py",
   "mimetype": "text/x-python",
   "name": "python",
   "nbconvert_exporter": "python",
   "pygments_lexer": "ipython3",
   "version": "3.7.7"
  }
 },
 "nbformat": 4,
 "nbformat_minor": 4
}
