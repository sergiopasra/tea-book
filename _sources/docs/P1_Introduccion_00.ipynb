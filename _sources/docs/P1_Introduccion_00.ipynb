{
 "cells": [
  {
   "cell_type": "markdown",
   "metadata": {},
   "source": [
    "# Práctica 1 Procesado de observaciones astronómicas\n",
    "Para paliar el problema de la heterogénea formación inicial con la que ingresan los estudiantes del Máster en el ámbito de la utilización de un sistema operativo en Linux (o similar), así como en el manejo de lenguajes de programación, se comienzan las clases prácticas con un repaso sobre el uso de terminales y comandos básicos de Linux. Esto permite al estudiante organizar y manejar un gran volumen de ficheros, algo esencial para esta asignatura. \n",
    "\n",
    "Por otro lado, como las prácticas propuestas durante el resto del curso están pensadas para poder ser llevadas a cabo utilizando el lenguaje de programación [Python](https://www.python.org/) a través de cuadernos de [Jupyter](https://jupyter.org/) (conocidos como Jupyter notebooks), se utiliza este sistema desde el primer instante de ejecución de esta práctica de demostración inicial. Se explican los pasos a seguir para obtener imágenes y espectros de objetos astronómicos reducidos, destacando la importancia de adquirir el número suficiente de imágenes de calibración de diferentes tipos (dependiendo del tipo de observación). Finalmente se discuten distintas alternativas para la estimación de incertidumbres en las medidas finales realizadas sobre las imágenes reducidas. \n",
    "\n",
    "Los alumnos podrán entregar los Jupyter notebooks generados por ellos mismos como material evaluable de las Prácticas 2, 3 y 4, lo que evita la necesidad de generar informes independientes.\n",
    "\n",
    "\n",
    "\n",
    "\n",
    "```{toctree}\n",
    ":hidden:\n",
    ":titlesonly:\n",
    "\n",
    "\n",
    "P1_Introduccion_01\n",
    "P1_Introduccion_02\n",
    "P1_Introduccion_03\n",
    "P1_Introduccion_04\n",
    "P1_Introduccion_05\n",
    "P1_Introduccion_06\n",
    "```"
   ]
  }
 ],
 "metadata": {
  "jupytext": {
   "text_representation": {
    "extension": ".md",
    "format_name": "myst"
   }
  },
  "kernelspec": {
   "display_name": "Python 3",
   "language": "python",
   "name": "python3"
  },
  "language_info": {
   "codemirror_mode": {
    "name": "ipython",
    "version": 3
   },
   "file_extension": ".py",
   "mimetype": "text/x-python",
   "name": "python",
   "nbconvert_exporter": "python",
   "pygments_lexer": "ipython3",
   "version": "3.9.1"
  },
  "source_map": [
   10
  ]
 },
 "nbformat": 4,
 "nbformat_minor": 4
}