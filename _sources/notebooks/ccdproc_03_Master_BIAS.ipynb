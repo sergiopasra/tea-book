{
 "cells": [
  {
   "cell_type": "markdown",
   "metadata": {},
   "source": [
    "# ccdproc-03:   Master BIAS\n",
    "\n",
    "## Overview\n",
    "1. Build a list of BIAS image files\n",
    "2. Display and statistics\n",
    "3. Combine to obtain master BIAS"
   ]
  },
  {
   "cell_type": "markdown",
   "metadata": {},
   "source": [
    "<pre>\n",
    "Máster en Astrofísica UCM  -- Técnicas Experimentales en Astrofísica  \n",
    "Jaime Zamorano, Nicolás Cardiel and Sergio Pascual\n",
    "\n",
    "This notebook has reproduced parts of the the astropy ccdproc docs: \n",
    "https://ccdproc.readthedocs.io/en/latest/reduction_toolbox.html#subtract-bias-and-dark\n",
    "\n",
    "Version 1.0 2021/01/14  \n",
    "Version 2.0 2021/01/18\n",
    "</pre>"
   ]
  },
  {
   "cell_type": "markdown",
   "metadata": {},
   "source": [
    "Note that the ``astropy`` package should be installed. In this sense, have a look to the\n",
    "astropy installation description: https://docs.astropy.org/en/stable/install.html."
   ]
  },
  {
   "cell_type": "code",
   "execution_count": null,
   "metadata": {},
   "outputs": [],
   "source": [
    "from pylab import *\n",
    "import matplotlib\n",
    "%matplotlib inline\n",
    "import matplotlib.pyplot as plt\n",
    "import matplotlib.mlab as ml\n",
    "import numpy as np\n",
    "from mpl_toolkits.axes_grid1 import make_axes_locatable\n",
    "from astropy.io import fits\n",
    "from astropy import units as u\n",
    "from astropy.nddata import CCDData\n",
    "import ccdproc"
   ]
  },
  {
   "cell_type": "code",
   "execution_count": null,
   "metadata": {},
   "outputs": [],
   "source": [
    "plt.style.use('./tea.mplstyle')   # Some parameters for nicer graphs"
   ]
  },
  {
   "cell_type": "markdown",
   "metadata": {},
   "source": [
    "### Working with images in a directory\n",
    "We will use the files of the first night of observations at NOT (Nordic Optical Telescope) 2008 that can be downloaded from   ftp://astrax.fis.ucm.es/pub/users/jaz/NOT_2008_04_12-14/N1/\n",
    "or \n",
    "http://guaix.fis.ucm.es/~jaz/master_TEA/observaciones_NOT_2008/N1/\n",
    "\n",
    "``directory`` should point to the working directory.  \n"
   ]
  },
  {
   "cell_type": "code",
   "execution_count": null,
   "metadata": {},
   "outputs": [],
   "source": [
    "directory='N1/'"
   ]
  },
  {
   "cell_type": "markdown",
   "metadata": {},
   "source": [
    "Let\\'s create a list containing all the FITS files in that directory.  \n",
    "We asume that the images were already trimmed and their names begin with 't_' (see previous notebook 'ccdproc_02')"
   ]
  },
  {
   "cell_type": "code",
   "execution_count": null,
   "metadata": {},
   "outputs": [],
   "source": [
    "import os\n",
    "from glob import glob\n",
    "# os.path.join is a platform-independent way to join two directories\n",
    "globpath = os.path.join(directory, 't_*.fits')\n",
    "print(globpath)\n",
    "# glob searches through directories similar to the Unix shell\n",
    "filelist = sorted(glob(globpath))\n",
    "print(filelist[100:105])    # printing only from 10 to 20"
   ]
  },
  {
   "cell_type": "markdown",
   "metadata": {},
   "source": [
    "### Selecting BIAS files "
   ]
  },
  {
   "cell_type": "markdown",
   "metadata": {},
   "source": [
    "See previous notebook ccdproc_01_ImageCollection"
   ]
  },
  {
   "cell_type": "code",
   "execution_count": null,
   "metadata": {},
   "outputs": [],
   "source": [
    "from ccdproc import ImageFileCollection\n",
    "from ccdproc.utils.sample_directory import sample_directory_with_files"
   ]
  },
  {
   "cell_type": "code",
   "execution_count": null,
   "metadata": {},
   "outputs": [],
   "source": [
    "keys = ['imagetyp','OBJECT' , 'EXPTIME' , 'ALFLTID' , 'FAFLTID' , 'FBFLTID']\n",
    "ic1 = ImageFileCollection(directory, keywords=keys) # only keep track of keys\n",
    "ic1.summary.colnames"
   ]
  },
  {
   "cell_type": "code",
   "execution_count": null,
   "metadata": {},
   "outputs": [],
   "source": [
    "print(keys)"
   ]
  },
  {
   "cell_type": "code",
   "execution_count": null,
   "metadata": {},
   "outputs": [],
   "source": [
    "matches = (ic1.summary['imagetyp'] == 'BIAS') \n",
    "my_bias_files = ic1.summary['file'][matches]\n",
    "print(my_bias_files)"
   ]
  },
  {
   "cell_type": "markdown",
   "metadata": {},
   "source": [
    "### Statistics and display"
   ]
  },
  {
   "cell_type": "markdown",
   "metadata": {},
   "source": [
    "#### Reading the files"
   ]
  },
  {
   "cell_type": "code",
   "execution_count": null,
   "metadata": {},
   "outputs": [],
   "source": [
    "image_bias = []\n",
    "for file in my_bias_files:\n",
    "    image_bias.append(CCDData.read(directory+file)) #, unit=\"adu\"))"
   ]
  },
  {
   "cell_type": "markdown",
   "metadata": {},
   "source": [
    "#### Analysing the images data"
   ]
  },
  {
   "cell_type": "code",
   "execution_count": null,
   "metadata": {},
   "outputs": [],
   "source": [
    "print('Filename          Object        exp Mean std min  max')\n",
    "exposure = []\n",
    "for i in range(len(my_bias_files)):\n",
    "    print(image_bias[i].header['FILENAME'], \n",
    "          image_bias[i].header['OBJECT'], \n",
    "          image_bias[i].header['EXPTIME'], \n",
    "          int(np.mean(image_bias[i])), \n",
    "          int(np.std(image_bias[i])), \n",
    "          np.min(image_bias[i]), \n",
    "          np.max(image_bias[i]))"
   ]
  },
  {
   "cell_type": "markdown",
   "metadata": {},
   "source": [
    "Mean value around 357 counts. The ten files have similar mean values. The maximum values are the results of cosmic rays impacts during the CCD readout."
   ]
  },
  {
   "cell_type": "markdown",
   "metadata": {},
   "source": [
    "#### Plotting Histograms to compare data"
   ]
  },
  {
   "cell_type": "markdown",
   "metadata": {},
   "source": [
    "To make a histogram with ``matplotlib.pyplot.hist()``, we need to cast the data from a 2-D to array to something one dimensional. In this case, we are using ``ndarray.flatten()`` to return a 1-D numpy array."
   ]
  },
  {
   "cell_type": "code",
   "execution_count": null,
   "metadata": {},
   "outputs": [],
   "source": [
    "bins = np.arange(330, 380, 5)\n",
    "fig, axarr = plt.subplots(ncols=5, nrows=1, figsize=(12, 4))\n",
    "for i in range(0,5): #len(my_bias_files)):\n",
    "    ax = axarr[i]\n",
    "    ax.hist(image_bias[i].data.flatten(), alpha=0.8, bins=bins, label=i)\n",
    "    ax.grid()\n",
    "    ax.set_xticks([340,360,380])\n",
    "    ax.set_title('BIAS '+image_bias[i].header['FILENAME'][8:12])\n",
    "    if i > 0:\n",
    "        ax.label_outer()\n",
    "plt.xlim(330,380)\n",
    "\n",
    "fig, axarr = plt.subplots(ncols=5, nrows=1, figsize=(12, 4))\n",
    "for i in range(5,10): #len(my_bias_files)):\n",
    "    ax = axarr[i-5]\n",
    "    ax.hist(image_bias[i].data.flatten(), alpha=0.8, bins=bins, label=i)\n",
    "    ax.grid()\n",
    "    ax.set_xticks([340,360,380])\n",
    "    ax.set_title('BIAS '+image_bias[i].header['FILENAME'][8:12])\n",
    "    if i > 0:\n",
    "        ax.label_outer()\n",
    "plt.xlim(330,380)"
   ]
  },
  {
   "cell_type": "markdown",
   "metadata": {},
   "source": [
    "#### Display of files"
   ]
  },
  {
   "cell_type": "code",
   "execution_count": null,
   "metadata": {},
   "outputs": [],
   "source": [
    "vmin,vmax = 340,380\n",
    "i = 0\n",
    "fig, axarr = plt.subplots(ncols=3, nrows=3, figsize=(9, 9))\n",
    "for row in range(3):\n",
    "    for col in range(3):\n",
    "        ax = axarr[row][col]\n",
    "        img = ax.imshow(image_bias[i], cmap='gray', origin='low',vmin=vmin,vmax=vmax)\n",
    "        #ax.set_xlabel('X axis')\n",
    "        #ax.set_ylabel('Y axis')\n",
    "        ax.set_xticks([])\n",
    "        ax.set_yticks([])\n",
    "        ax.text(600, 100, 'BIAS '+image_bias[i].header['FILENAME'][8:12], fontsize=10, color='w')\n",
    "        divider = make_axes_locatable(ax)\n",
    "        cax = divider.append_axes(\"right\", size=\"5%\", pad=0.05)\n",
    "        fig.colorbar(img, cax=cax) #, label='Number of counts')\n",
    "        ax.grid()\n",
    "        i = i + 1"
   ]
  },
  {
   "cell_type": "markdown",
   "metadata": {},
   "source": [
    "It is interesting to see some cosmic ray hits that have higher value. "
   ]
  },
  {
   "cell_type": "code",
   "execution_count": null,
   "metadata": {},
   "outputs": [],
   "source": [
    "fig, axarr = plt.subplots(ncols=2, nrows=1, figsize=(9, 9))\n",
    "ax = axarr[0]\n",
    "img = ax.imshow(image_bias[9], cmap='gray', origin='low',vmin=vmin,vmax=vmax)\n",
    "ax.text(600, 100, 'BIAS '+image_bias[9].header['FILENAME'][8:12], fontsize=10, color='w')        \n",
    "ax.set_xlabel('X axis')\n",
    "ax.set_ylabel('Y axis')\n",
    "ax.grid()\n",
    "ax = axarr[1]\n",
    "img = ax.imshow(image_bias[9][1000:2200,0:1200], cmap='gray', origin='low',vmin=vmin,vmax=vmax)\n",
    "ax.text(20, 180, 'BIAS '+image_bias[9].header['FILENAME'][8:12], fontsize=10, color='w')        \n",
    "ax.text(20, 120, 'Y axis 1000:2200', fontsize=10, color='w')        \n",
    "ax.text(20, 50,  'X axis 0:1200', fontsize=10, color='w')        \n",
    "ax.set_xticks([])\n",
    "ax.set_yticks([])"
   ]
  },
  {
   "cell_type": "markdown",
   "metadata": {},
   "source": [
    "### Combining the BIAS images"
   ]
  },
  {
   "cell_type": "markdown",
   "metadata": {},
   "source": [
    "The DARK correction should be made using a combined DARK image (master DARK) using multiple observations. The combination will get rid of the high values produced by the cosmic rays. We will use the ccdproc package."
   ]
  },
  {
   "cell_type": "code",
   "execution_count": null,
   "metadata": {},
   "outputs": [],
   "source": [
    "# Some astropy packages \n",
    "import ccdproc\n",
    "from ccdproc import CCDData, Combiner\n",
    "from astropy import stats\n",
    "from astropy.stats import sigma_clip, mad_std\n",
    "from astropy.stats import sigma_clipped_stats"
   ]
  },
  {
   "cell_type": "code",
   "execution_count": null,
   "metadata": {},
   "outputs": [],
   "source": [
    "# Combiner is a class for combining CCDData objects.\n",
    "# https://ccdproc.readthedocs.io/en/latest/api/ccdproc.Combiner.html\n",
    "# The Combiner class is used to combine together CCDData objects \n",
    "# including the method for combining the data, rejecting outlying data, \n",
    "# and weighting used for combining frames.\n",
    "\n",
    "combiner = Combiner(image_bias)"
   ]
  },
  {
   "cell_type": "code",
   "execution_count": null,
   "metadata": {},
   "outputs": [],
   "source": [
    "# clipping all values over 800 to remove cosmic rays hits \n",
    "combiner.minmax_clipping(min_clip=None, max_clip=800)\n",
    "# median combine \n",
    "master_dark = combiner.median_combine()\n",
    "# median filter  \n",
    "master_dark_filtered = ccdproc.median_filter(master_dark, 3)"
   ]
  },
  {
   "cell_type": "markdown",
   "metadata": {},
   "source": [
    "Let display a region of one of the BIAS images and the master DARK"
   ]
  },
  {
   "cell_type": "code",
   "execution_count": null,
   "metadata": {},
   "outputs": [],
   "source": [
    "# auxiliary function to display a rectangle and compute mean value within it\n",
    "def draw_rectangle(ax, image_data, x1, x2, y1, y2, color, text=False):\n",
    "    ax.plot((x1, x1), (y1, y2), color, lw=1)\n",
    "    ax.plot((x2, x2), (y1, y2), color, lw=1)\n",
    "    ax.plot((x1, x2), (y1, y1), color, lw=1)\n",
    "    ax.plot((x1, x2), (y2, y2), color, lw=1)\n",
    "    if text:\n",
    "        media = image_data[y1:y2,x1:x2].mean()\n",
    "        std   = image_data[y1:y2,x1:x2].std()\n",
    "        ax.text((x1+x2)/2, y1+(y2-y1)/8, str(int(media)), \n",
    "                ha='center', va='center', color=color, fontsize=15)        \n",
    "        ax.text((x1+x2)/2, y2-(y2-y1)/8, str(round(std,1)), \n",
    "                ha='center', va='top', color=color, fontsize=15)\n",
    "    return media, std"
   ]
  },
  {
   "cell_type": "code",
   "execution_count": null,
   "metadata": {},
   "outputs": [],
   "source": [
    "from matplotlib.colors import LogNorm\n",
    "fig, axarr = plt.subplots(ncols=3, nrows=1, figsize=(12, 6))\n",
    "for i in range(3):\n",
    "    ax = axarr[i]\n",
    "    if i==0:\n",
    "        box = image_bias[0].data[1000:2200,0:1200]\n",
    "        label = 'BIAS 010'\n",
    "    if i==1:  \n",
    "        box = master_dark.data[1000:2200,0:1200]  # We need to convert CCDdata to np.array\n",
    "        label = 'master DARK'\n",
    "    if i == 2:\n",
    "        box = master_dark_filtered.data[1000:2200,0:1200]\n",
    "        label = 'filtered master Dark'\n",
    "    ax.imshow(box, cmap='gray', origin='low', vmin=vmin, vmax=vmax,norm=LogNorm())\n",
    "    ax.text(0.05, 0.05,label, ha='left', va='center', color='w',\n",
    "            transform=ax.transAxes, fontsize=18)\n",
    "    draw_rectangle(ax, box , 200, 500, 200, 500, color='w',text=True)\n",
    "    draw_rectangle(ax, box , 700, 1000, 500, 800, color='y',text=True)\n",
    "    #draw_rectangle(ax, box , 120, 190, 120, 190, color='k',text=True)"
   ]
  },
  {
   "cell_type": "markdown",
   "metadata": {},
   "source": [
    "The cosmic ray hits in the yellow rectangle for the single DARK exposure has disappeared in the master DARK. The standard deviations of the master DARK is also lower that those of the single exposure. The third panel shows a filtered master DARK."
   ]
  },
  {
   "cell_type": "markdown",
   "metadata": {},
   "source": [
    "#### Writting the Master DARK"
   ]
  },
  {
   "cell_type": "code",
   "execution_count": null,
   "metadata": {},
   "outputs": [],
   "source": [
    "# Copy primary header from single dark file and copy into master_dark header\n",
    "master_dark.header = image_bias[0].header.copy()"
   ]
  },
  {
   "cell_type": "code",
   "execution_count": null,
   "metadata": {},
   "outputs": [],
   "source": [
    "# Replace FILENAME keyword and add information\n",
    "master_dark.header['HISTORY']  = 'super DARK combining '+ str(len(image_bias)) + ' BIAS images'\n",
    "master_dark.header['HISTORY']  =  str(datetime.datetime.now())[0:18]+' astropy median combine'\n",
    "master_dark.header['HISTORY']  = 'BIAS images from ' + str(image_bias[0].header['FILENAME'])+' to ' + str(image_bias[9].header['FILENAME'])\n",
    "master_dark.header['FILENAME'] = 'N1_master_dark' "
   ]
  },
  {
   "cell_type": "code",
   "execution_count": null,
   "metadata": {},
   "outputs": [],
   "source": [
    "master_dark.write(directory+'zero_N1.fits',overwrite='yes')"
   ]
  },
  {
   "cell_type": "code",
   "execution_count": null,
   "metadata": {},
   "outputs": [],
   "source": []
  }
 ],
 "metadata": {
  "kernelspec": {
   "display_name": "Python 3",
   "language": "python",
   "name": "python3"
  },
  "language_info": {
   "codemirror_mode": {
    "name": "ipython",
    "version": 3
   },
   "file_extension": ".py",
   "mimetype": "text/x-python",
   "name": "python",
   "nbconvert_exporter": "python",
   "pygments_lexer": "ipython3",
   "version": "3.7.7"
  }
 },
 "nbformat": 4,
 "nbformat_minor": 4
}
