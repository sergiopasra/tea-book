{
 "cells": [
  {
   "cell_type": "markdown",
   "metadata": {},
   "source": [
    "## Example 3: Master FLAT "
   ]
  },
  {
   "cell_type": "markdown",
   "metadata": {},
   "source": [
    "<pre> Máster en Astrofísica UCM -- Técnicas Experimentales en Astrofísica\n",
    "Jaime Zamorano and Nicolás Cardiel\n",
    "\n",
    "This notebook has reproduced parts of the STAK project notebook:\n",
    " - https://stak-notebooks.readthedocs.io/en/latest/index.html \n",
    "\n",
    "and the astropy tutorials: http://learn.astropy.org/FITS-images.html (by Lia R. Corrales)\n",
    "\n",
    "v2  2020/05/14 \n",
    "v3  2021/01/10 almost ready for 2020/21"
   ]
  },
  {
   "cell_type": "markdown",
   "metadata": {},
   "source": [
    "Note that the ``astropy`` package should be installed. In this sense, have a look to the\n",
    "astropy installation description: https://docs.astropy.org/en/stable/install.html.  \n",
    "We are also using ``ccdproc`` package  \n",
    "and ``photutils'' https://photutils.readthedocs.io/en/stable/install.html"
   ]
  },
  {
   "cell_type": "code",
   "execution_count": null,
   "metadata": {},
   "outputs": [],
   "source": [
    "import matplotlib\n",
    "%matplotlib inline\n",
    "import matplotlib.pyplot as plt\n",
    "from matplotlib.colors import LogNorm\n",
    "from mpl_toolkits.axes_grid1 import make_axes_locatable\n",
    "\n",
    "from astropy.io import fits\n",
    "from astropy.stats import sigma_clip, sigma_clipped_stats, mad_std\n",
    "\n",
    "import ccdproc\n",
    "from ccdproc import CCDData, Combiner\n",
    "from ccdproc import median_filter\n",
    "\n",
    "import numpy as np\n",
    "import numpy.ma as ma\n",
    "\n",
    "from photutils import DAOStarFinder\n",
    "from photutils import CircularAperture"
   ]
  },
  {
   "cell_type": "code",
   "execution_count": null,
   "metadata": {},
   "outputs": [],
   "source": [
    "# auxiliary function to display a rectangle and compute mean value within it\n",
    "def draw_rectangle(ax, image_data, x1, x2, y1, y2, color, text=False):\n",
    "    ax.plot((x1, x1), (y1, y2), color, lw=1)\n",
    "    ax.plot((x2, x2), (y1, y2), color, lw=1)\n",
    "    ax.plot((x1, x2), (y1, y1), color, lw=1)\n",
    "    ax.plot((x1, x2), (y2, y2), color, lw=1)\n",
    "    if text:\n",
    "        media = image_data[y1:y2,x1:x2].mean()\n",
    "        std   = image_data[y1:y2,x1:x2].std()\n",
    "        ax.text((x1+x2)/2, y1+(y2-y1)/8, str(int(media)), \n",
    "                ha='center', va='top', color=color, fontsize=15)        \n",
    "        ax.text((x1+x2)/2, y2, str(int(std)), \n",
    "                ha='center', va='bottom', color=color, fontsize=15)\n",
    "    return media,std"
   ]
  },
  {
   "cell_type": "code",
   "execution_count": null,
   "metadata": {},
   "outputs": [],
   "source": [
    "# Some style for better looking plots\n",
    "matplotlib.rcParams['text.usetex']=False\n",
    "plt.rcParams['font.family'] = 'sans-serif'\n",
    "plt.rcParams['font.sans-serif'] = ['Verdana']\n",
    "plt.rcParams['font.size'] = 12\n",
    "plt.rcParams['font.size'] = 12\n",
    "plt.rcParams['lines.linewidth'] = 4.\n",
    "plt.rcParams['axes.labelsize'] = 'medium'\n",
    "plt.rcParams['grid.linewidth'] = 1.0\n",
    "plt.rcParams['grid.linestyle'] = '-'\n",
    "plt.rcParams['xtick.minor.size']=4\n",
    "plt.rcParams['xtick.major.size']=8\n",
    "plt.rcParams['ytick.minor.size']=4\n",
    "plt.rcParams['ytick.major.size']=8\n",
    "plt.rcParams['figure.figsize'] = 12,6\n",
    "plt.rcParams['figure.subplot.bottom'] = 0.15\n",
    "plt.rcParams['ytick.labelsize'] = 10\n",
    "plt.rcParams['xtick.labelsize'] = 10"
   ]
  },
  {
   "cell_type": "markdown",
   "metadata": {},
   "source": [
    "### Opening the FITS files of Sky FLATs observations"
   ]
  },
  {
   "cell_type": "markdown",
   "metadata": {},
   "source": [
    "List of files to be combined\n",
    "\n",
    "We are using the observations at Calar Alto with CAFOS of 2019/05/10 and 2019/05/11 performed by the students of Master in Astrofísica UCM"
   ]
  },
  {
   "cell_type": "code",
   "execution_count": null,
   "metadata": {},
   "outputs": [],
   "source": [
    "# Files of Sky Flats observations\n",
    "directory = 'FITS_files_flats/'\n",
    "files = ['ucmP_0018.fits',\n",
    "         'ucmP_0019.fits',\n",
    "         'ucmP_0020.fits',\n",
    "         'ucmP_0021.fits']"
   ]
  },
  {
   "cell_type": "markdown",
   "metadata": {},
   "source": [
    "Opening the FITS files and putting the data into a list of numpy 2-D arrays."
   ]
  },
  {
   "cell_type": "code",
   "execution_count": null,
   "metadata": {},
   "outputs": [],
   "source": [
    "image = []\n",
    "for i in range(len(files)):\n",
    "    image.append(fits.getdata(directory+files[i]))\n",
    "# If you need to browse the header\n",
    "#fits.getheader(directory+files[0])"
   ]
  },
  {
   "cell_type": "markdown",
   "metadata": {},
   "source": [
    "Each image is now stored as a 2-D numpy arrays inside a list. \n",
    "Want to know the dimensions of the image? Just look at the shape of the array."
   ]
  },
  {
   "cell_type": "code",
   "execution_count": null,
   "metadata": {},
   "outputs": [],
   "source": [
    "print(type(image[0]))\n",
    "print(image[1].shape)\n",
    "print((image[2].shape)[0])\n",
    "print((image[3].shape)[1])"
   ]
  },
  {
   "cell_type": "markdown",
   "metadata": {},
   "source": [
    "### Analysing the images data"
   ]
  },
  {
   "cell_type": "markdown",
   "metadata": {},
   "source": [
    "Let us get some basic statistics about our images"
   ]
  },
  {
   "cell_type": "code",
   "execution_count": null,
   "metadata": {},
   "outputs": [],
   "source": [
    "exposure = []\n",
    "mean, median = [],[]\n",
    "print('Filename        Object  date&time       exposure   Mean std  Median')\n",
    "for i in range(len(files)):\n",
    "    header = fits.getheader(directory+files[i])\n",
    "    exposure.append(header['EXPTIME'])\n",
    "    median.append(np.median(image[i]))\n",
    "    mean.append(np.mean(image[i]))\n",
    "    print(header['FILENAME'], header['OBJECT'], header['DATE'], header['EXPTIME'],\n",
    "          int(np.mean(image[i])), int(np.std(image[i])), int(np.median(image[i])))"
   ]
  },
  {
   "cell_type": "markdown",
   "metadata": {},
   "source": [
    "During the twilight the signal drops quickly and you should increase the exposure time. The last flats have lower median values."
   ]
  },
  {
   "cell_type": "markdown",
   "metadata": {},
   "source": [
    "### Plotting histograms to compare data"
   ]
  },
  {
   "cell_type": "markdown",
   "metadata": {},
   "source": [
    "To make a histogram with ``matplotlib.pyplot.hist()``, we need to cast the data from a 2-D to array to something one dimensional. In this case, we are am using ``ndarray.flatten()`` to return a 1-D numpy array."
   ]
  },
  {
   "cell_type": "code",
   "execution_count": null,
   "metadata": {},
   "outputs": [],
   "source": [
    "bins = np.arange(5000, 30000, 500)\n",
    "fig, axarr = plt.subplots(ncols=2, nrows=2, figsize=(10, 10))\n",
    "k = 0\n",
    "for i in range(2):\n",
    "    for j in range(2):\n",
    "        ax = axarr[i, j]\n",
    "        ax.hist(image[k].flatten(), alpha=1, bins=bins)\n",
    "        ax.grid()\n",
    "        ax.set_xlabel('pixel value')\n",
    "        ax.set_ylabel('number of pixels')\n",
    "        ax.set_title(files[k][:])\n",
    "        if k < 2:\n",
    "            ax.label_outer()\n",
    "        k += 1\n",
    "plt.show()"
   ]
  },
  {
   "cell_type": "markdown",
   "metadata": {},
   "source": [
    "The histograms show different distributions of the pixel values.\n",
    "Let display the four images."
   ]
  },
  {
   "cell_type": "markdown",
   "metadata": {},
   "source": [
    "### Displaying the images  "
   ]
  },
  {
   "cell_type": "markdown",
   "metadata": {},
   "source": [
    "Let display one of the flats with logaritmic scale to see details in low signal values"
   ]
  },
  {
   "cell_type": "code",
   "execution_count": null,
   "metadata": {},
   "outputs": [],
   "source": [
    "fig, ax = plt.subplots(ncols=1, nrows=1, figsize=(6, 6))\n",
    "ax.imshow(image[2], cmap='gray', vmin=5000, vmax=30000, norm=LogNorm())\n",
    "ax.set_xlabel('X axis')\n",
    "ax.set_ylabel('Y axis')\n",
    "ax.text(0.5, 1.05, files[2], ha='center', va='center', color='k', transform=ax.transAxes, fontsize=15)"
   ]
  },
  {
   "cell_type": "markdown",
   "metadata": {},
   "source": [
    "The image is full of stars. Let check whether this is the case for the remaining sky flats."
   ]
  },
  {
   "cell_type": "code",
   "execution_count": null,
   "metadata": {},
   "outputs": [],
   "source": [
    "fig, axarr = plt.subplots(ncols=4, nrows=1, figsize=(14, 9))\n",
    "for i in range(4):\n",
    "    ax = axarr[i]\n",
    "    ax.imshow(image[i], cmap='gray', vmin=5000, vmax=30000, norm=LogNorm())\n",
    "    ax.text(0.5, 1.05, files[i], ha='center', va='center', color='k', transform=ax.transAxes, fontsize=15)\n",
    "    ax.set_xlabel('X axis')\n",
    "    ax.set_ylabel('Y axis')\n",
    "    if i > 0:\n",
    "        ax.label_outer()\n",
    "    ax.grid()"
   ]
  },
  {
   "cell_type": "markdown",
   "metadata": {},
   "source": [
    "The stars do not appear at the same place of the consecutive images as the observer moved the pointing between exposures. Let display now a region in the center of the field of view to appreciate these shifs."
   ]
  },
  {
   "cell_type": "code",
   "execution_count": null,
   "metadata": {},
   "outputs": [],
   "source": [
    "fig, axarr = plt.subplots(ncols=4, nrows=1, figsize=(14, 6))\n",
    "for i in range(0,4):\n",
    "    ax = axarr[i]\n",
    "    box = image[i][500:900, 400:800]\n",
    "    ax.imshow(box, cmap='gray', vmin=5000, vmax=40000) #,norm=LogNorm())\n",
    "    ax.text(0.05, 0.95, files[i], ha='left', va='center', color='w', transform=ax.transAxes, fontsize=18)\n",
    "    draw_rectangle(ax, box , 100,300, 100, 200, color='w', text=True)\n",
    "    ax.set_xlabel('X axis')\n",
    "    ax.set_ylabel('Y axis')\n",
    "    if i > 0:\n",
    "        ax.label_outer()\n",
    "    #ax.grid()"
   ]
  },
  {
   "cell_type": "markdown",
   "metadata": {},
   "source": [
    "There is no shift between the first and second exposure. This could be a problem."
   ]
  },
  {
   "cell_type": "markdown",
   "metadata": {},
   "source": [
    "### Zero correction  "
   ]
  },
  {
   "cell_type": "markdown",
   "metadata": {},
   "source": [
    "Before performing any combination of the sky flats we should correct from BIAS.\n",
    "We are using the master DARK obtained in the pevious example.\n",
    "Let use the second sky flat as example"
   ]
  },
  {
   "cell_type": "code",
   "execution_count": null,
   "metadata": {},
   "outputs": [],
   "source": [
    "dark_file = 'N1_master_dark.fits'\n",
    "dark_image = fits.getdata(dark_file)\n",
    "zimage = image[1] - dark_image"
   ]
  },
  {
   "cell_type": "code",
   "execution_count": null,
   "metadata": {},
   "outputs": [],
   "source": [
    "fig, axarr = plt.subplots(ncols=3, nrows=1, figsize=(14, 6))\n",
    "for i in range(0,3):\n",
    "    ax = axarr[i]\n",
    "    if i==0:\n",
    "        box = image[1]\n",
    "        label = files[1]\n",
    "        vmin,vmax = 10000,20000\n",
    "    if i==1:  \n",
    "        box = dark_image   \n",
    "        label = 'Dark'\n",
    "        vmin,vmax = 500,800\n",
    "    if i==2:  \n",
    "        box = zimage   \n",
    "        label = 'Dark corrected'\n",
    "        vmin,vmax = 10000,20000\n",
    "    ax.imshow(box, cmap='gray', vmin=vmin, vmax=vmax, norm=LogNorm())\n",
    "    ax.text(0.05, 0.05,label, ha='left', va='center', color='w', transform=ax.transAxes, fontsize=18)\n",
    "    ax.set_xlabel('X axis')\n",
    "    ax.set_ylabel('Y axis')\n",
    "    draw_rectangle(ax, box , 400, 700, 400, 700, color='k', text=True)\n",
    "    if i > 0:\n",
    "        ax.label_outer()"
   ]
  },
  {
   "cell_type": "markdown",
   "metadata": {},
   "source": [
    "The original and BIAS corrected imege looks similar but the pixels values are slightly lower. "
   ]
  },
  {
   "cell_type": "markdown",
   "metadata": {},
   "source": [
    "### Combining the Sky FLATS images"
   ]
  },
  {
   "cell_type": "markdown",
   "metadata": {},
   "source": [
    "A typical combination of the sky flats will have problems to get rid of the stars because of the small number of exposures. \n",
    "\n",
    "We can use a wise approach by detecting and masking the images of the stars in the individual frames before combining. \n",
    "\n",
    "See: https://photutils.readthedocs.io/en/stable/background.html"
   ]
  },
  {
   "cell_type": "code",
   "execution_count": null,
   "metadata": {},
   "outputs": [],
   "source": [
    "# Working with one of the images\n",
    "print('Original flat           median: ', np.median(image[1]))\n",
    "mean, median, std = sigma_clipped_stats(image[1], sigma=3.0)\n",
    "print('after sigma clipping    median: ', median, '   mean', round(mean,1), '   std', round(std,1))\n",
    "ximage = median_filter(image[1], 20)\n",
    "print('after median filter     median: ', np.median(ximage))"
   ]
  },
  {
   "cell_type": "code",
   "execution_count": null,
   "metadata": {},
   "outputs": [],
   "source": [
    "fig, axarr = plt.subplots(ncols=2, nrows=1, figsize=(12, 6))\n",
    "\n",
    "for i in range(2):\n",
    "    ax = axarr[i]\n",
    "    if i==0:\n",
    "        box = image[1][500:900, 400:800]\n",
    "        label = files[1]\n",
    "        vmin,vmax = 10000, 25000\n",
    "    if i==1:  \n",
    "        box = ximage[500:900, 400:800]  \n",
    "        label = 'median filtered'\n",
    "    vmin,vmax = 10000,25000\n",
    "    ax.imshow(box, cmap='gray', vmin=vmin, vmax=vmax, norm=LogNorm())\n",
    "    ax.text(0.05, 0.05,label, ha='left', va='center', color='w', transform=ax.transAxes, fontsize=18)\n",
    "    draw_rectangle(ax, box , 120,290, 100, 200, color='w', text=True)"
   ]
  },
  {
   "cell_type": "markdown",
   "metadata": {},
   "source": [
    "Even using a median filter of 20 pixels there are images of stars remaining."
   ]
  },
  {
   "cell_type": "markdown",
   "metadata": {
    "scrolled": true
   },
   "source": [
    "### Combination after masking the star images"
   ]
  },
  {
   "cell_type": "raw",
   "metadata": {},
   "source": [
    "We will use the rutines of DAOPHOT to locate the star images and remove them"
   ]
  },
  {
   "cell_type": "code",
   "execution_count": null,
   "metadata": {},
   "outputs": [],
   "source": [
    "daofind = DAOStarFinder(fwhm=10.0, threshold=5.*std)  \n",
    "sources = daofind(image[1] - median)  \n",
    "for col in sources.colnames:  \n",
    "     sources[col].info.format = '%.8g'  # for consistent table output\n",
    "print(sources)  "
   ]
  },
  {
   "cell_type": "markdown",
   "metadata": {},
   "source": [
    "With fwhm=10.0, threshold=5.*std  ``DAOStarFinder'' finds 45 images of stars.  \n",
    "We can display the sky flat with the detected sources marked."
   ]
  },
  {
   "cell_type": "code",
   "execution_count": null,
   "metadata": {},
   "outputs": [],
   "source": [
    "positions = np.transpose((sources['xcentroid'], sources['ycentroid']))\n",
    "apertures = CircularAperture(positions, r=20.)\n",
    "plt.figure(figsize=(8,8))\n",
    "plt.imshow(image[1], cmap='Greys', vmin=vmin, vmax=vmax, norm=LogNorm())\n",
    "apertures.plot(color='blue', lw=1.5, alpha=0.5)"
   ]
  },
  {
   "cell_type": "markdown",
   "metadata": {},
   "source": [
    "#### Masking Regions \n",
    "Regions of the input image can be masked by using the numpy  ``command ma.array''"
   ]
  },
  {
   "cell_type": "code",
   "execution_count": null,
   "metadata": {},
   "outputs": [],
   "source": [
    "masked_image = image[1]\n",
    "naxis2, naxis1 = masked_image.shape\n",
    "mask = np.zeros((naxis2, naxis1), dtype=bool)\n",
    "semiwidth = 10\n",
    "\n",
    "for i in range(len(positions)):\n",
    "    x, y = int(positions[i][0]), int(positions[i][1])\n",
    "    xmin = max(0, x - semiwidth)\n",
    "    xmax = min(naxis1, x + semiwidth)\n",
    "    ymin = max(0, y - semiwidth)\n",
    "    ymax = min(naxis2, y + semiwidth)\n",
    "    \n",
    "    #mask[x-10:x+10, y-10:y+10] = False\n",
    "    mask[ymin:ymax, xmin:xmax] = 1\n",
    "\n",
    "#masked_image = image[1]*mask\n",
    "masked_image = ma.array(image[1],mask=mask)"
   ]
  },
  {
   "cell_type": "markdown",
   "metadata": {},
   "source": [
    "We will show the original image, the mask applied and the resulting masked numpy array."
   ]
  },
  {
   "cell_type": "code",
   "execution_count": null,
   "metadata": {},
   "outputs": [],
   "source": [
    "fig, axarr = plt.subplots(ncols=3, nrows=1, figsize=(12, 6))\n",
    "\n",
    "for i in range(3):\n",
    "    ax = axarr[i]\n",
    "    if i==0:\n",
    "        box = image[1]  #[500:900, 400:800]\n",
    "        label = files[1]\n",
    "    if i==2:  \n",
    "        box = masked_image  #[500:900, 400:800]  \n",
    "        label = 'masked image'\n",
    "    if i==1:  \n",
    "        box = mask   #[500:900, 400:800]  \n",
    "        label = ''\n",
    "    vmin,vmax = 10000,25000\n",
    "    ax.imshow(box, cmap='gray', vmin=vmin, vmax=vmax, norm=LogNorm())\n",
    "    ax.text(0.05, 0.05,label, ha='left', va='center', color='w', transform=ax.transAxes, fontsize=18)"
   ]
  },
  {
   "cell_type": "raw",
   "metadata": {},
   "source": [
    "We will use the ``ccdproc´´ package to combine the FLATS."
   ]
  },
  {
   "cell_type": "code",
   "execution_count": null,
   "metadata": {},
   "outputs": [],
   "source": [
    "# We need to read again the files with the sky flats observations \n",
    "# to create CCDData objects\n",
    "# https://docs.astropy.org/en/stable/nddata/ccddata.html\n",
    "flats = []\n",
    "for file in files:\n",
    "    images = CCDData.read(directory+file, unit=\"adu\")\n",
    "    flats.append(images)\n",
    "dark_image = CCDData.read('N1_master_dark.fits', unit=\"adu\")"
   ]
  },
  {
   "cell_type": "markdown",
   "metadata": {},
   "source": [
    "Lets correct the flats from the BIAS signal"
   ]
  },
  {
   "cell_type": "code",
   "execution_count": null,
   "metadata": {},
   "outputs": [],
   "source": [
    "# Combiner is a class for combining CCDData objects.\n",
    "# https://ccdproc.readthedocs.io/en/latest/api/ccdproc.Combiner.html\n",
    "# The Combiner class is used to combine together CCDData objects \n",
    "# including the method for combining the data, rejecting outlying data, \n",
    "# and weighting used for combining frames.\n",
    "\n",
    "combiner = Combiner(flats)"
   ]
  },
  {
   "cell_type": "code",
   "execution_count": null,
   "metadata": {},
   "outputs": [],
   "source": [
    "for file in flats:\n",
    "    file = ccdproc.subtract_bias(file, dark_image)"
   ]
  },
  {
   "cell_type": "markdown",
   "metadata": {},
   "source": [
    "#### Masking stars in flats"
   ]
  },
  {
   "cell_type": "code",
   "execution_count": null,
   "metadata": {},
   "outputs": [],
   "source": [
    "x_flats = []      # masked Flats as numpy 2D array\n",
    "semiwidth = 15\n",
    "\n",
    "for i in range(len(files)):\n",
    "    mean, median, std = sigma_clipped_stats(flats[i], sigma=3.0)\n",
    "    daofind = DAOStarFinder(fwhm=10.0, threshold=5.*std)\n",
    "    sources = daofind(flats[i] - median)  \n",
    "    positions = np.transpose((sources['xcentroid'], sources['ycentroid']))\n",
    "    apertures = CircularAperture(positions, r=20.)\n",
    "    mask = np.zeros(flats[i].shape, dtype=bool)\n",
    "    for j in range(len(positions)):\n",
    "        x, y = int(positions[j][0]),int(positions[j][1])\n",
    "        xmin = max(0, x - semiwidth)\n",
    "        xmax = min(naxis1, x + semiwidth)\n",
    "        ymin = max(0, y - semiwidth)\n",
    "        ymax = min(naxis2, y + semiwidth)\n",
    "        mask[ymin:ymax, xmin:xmax] = 1        \n",
    "    x_flats.append(ma.array(flats[i],mask=mask))\n",
    "    print('flat ',i,'completed')"
   ]
  },
  {
   "cell_type": "code",
   "execution_count": null,
   "metadata": {},
   "outputs": [],
   "source": [
    "fig, axarr = plt.subplots(ncols=4, nrows=1, figsize=(14, 6))\n",
    "vmin,vmax = 1000, 50000\n",
    "for i in range(0,4):\n",
    "    ax = axarr[i]\n",
    "    box = x_flats[i][500:900,400:800]\n",
    "    ax.imshow(box, cmap='gray', vmin=vmin, vmax=vmax) #,norm=LogNorm())\n",
    "    ax.text(0.05, 0.95,files[i], ha='left', va='center', color='w', transform=ax.transAxes, fontsize=18)\n",
    "    draw_rectangle(ax, box , 100, 300, 100, 200, color='w', text=True)\n",
    "    ax.set_xlabel('X axis')\n",
    "    ax.set_ylabel('Y axis')\n",
    "    if i > 0:\n",
    "        ax.label_outer()"
   ]
  },
  {
   "cell_type": "code",
   "execution_count": null,
   "metadata": {},
   "outputs": [],
   "source": [
    "masked_flats = []     # masked Flats as numpy CCDData\n",
    "for i in range(len(flats)):\n",
    "    masked_flats.append(CCDData(x_flats[i], unit=\"adu\"))"
   ]
  },
  {
   "cell_type": "code",
   "execution_count": null,
   "metadata": {},
   "outputs": [],
   "source": [
    "# Combiner is a class for combining CCDData objects.\n",
    "# https://ccdproc.readthedocs.io/en/latest/api/ccdproc.Combiner.html\n",
    "# The Combiner class is used to combine together CCDData objects \n",
    "# including the method for combining the data, rejecting outlying data, \n",
    "# and weighting used for combining frames.\n",
    "\n",
    "combiner = Combiner(masked_flats)"
   ]
  },
  {
   "cell_type": "code",
   "execution_count": null,
   "metadata": {},
   "outputs": [],
   "source": [
    "# We will scale the Sky Flats acoording to the inverse of the median value. \n",
    "scale = []\n",
    "for file in masked_flats:\n",
    "    scale.append(1/ np.median(file))\n",
    "print(scale)"
   ]
  },
  {
   "cell_type": "code",
   "execution_count": null,
   "metadata": {},
   "outputs": [],
   "source": [
    "# ccdproc.combine\n",
    "master_flat = ccdproc.combine(masked_flats,method='median', scale=scale,sigma_clip=True, sigma_clip_low_thresh=5, sigma_clip_high_thresh=5,sigma_clip_func=np.ma.median, signma_clip_dev_func=mad_std)\n",
    "#combiner.scaling = scale\n",
    "#combiner.clip_extrema(nlow=1, nhigh=0)\n",
    "#master_flat2 = combiner.median_combine()"
   ]
  },
  {
   "cell_type": "markdown",
   "metadata": {},
   "source": [
    "Let display a region of one of the Sky Flats images and the master Sky FLAT"
   ]
  },
  {
   "cell_type": "code",
   "execution_count": null,
   "metadata": {},
   "outputs": [],
   "source": [
    "fig, axarr = plt.subplots(ncols=3, nrows=1, figsize=(14, 6))\n",
    "for i in range(3):\n",
    "    ax = axarr[i]\n",
    "    if i==0:\n",
    "        box = np.asarray(flats[1])#[500:900,400:800])\n",
    "        label = files[1]\n",
    "        vmin,vmax = 10000,25000\n",
    "    if i==1:  \n",
    "        box = np.asarray(master_flat)#[500:900,400:800])   # We need to convert CCDdata to np.array\n",
    "        label = 'master FLAT'\n",
    "        vmin,vmax = 0.8,1.2\n",
    "    if i==2:  \n",
    "        box = np.asarray(master_flat[500:900,400:800])   # We need to convert CCDdata to np.array\n",
    "        label = 'master flat zoom '\n",
    "        vmin,vmax = 0.8,1.2\n",
    "    ax.imshow(box, cmap='gray', vmin=vmin, vmax=vmax,norm=LogNorm())\n",
    "    ax.text(0.05, 0.05,label, ha='left', va='center', color='w',transform=ax.transAxes,fontsize=18)"
   ]
  },
  {
   "cell_type": "raw",
   "metadata": {},
   "source": [
    "The saturated image of the star in (600,800) that appear in the first two exposures has produced a flaw in the master sky flat. Lets normalize the flats to compare with the master flat"
   ]
  },
  {
   "cell_type": "code",
   "execution_count": null,
   "metadata": {},
   "outputs": [],
   "source": [
    "for i in range(len(flats)):\n",
    "    flats[i] = flats[i]/np.median(flats[i])"
   ]
  },
  {
   "cell_type": "code",
   "execution_count": null,
   "metadata": {},
   "outputs": [],
   "source": [
    "fig, axarr = plt.subplots(ncols=2, nrows=2, figsize=(12, 12))\n",
    "vmin,vmax = 0.8,1.2\n",
    "k=0\n",
    "for i in range(2):\n",
    "    for j in range(2):\n",
    "        ax = axarr[i,j]\n",
    "        if k==0:\n",
    "            box = flats[1][500:900,400:800]\n",
    "            label = files[0]\n",
    "        if k==1:\n",
    "            box = flats[2][500:900,400:800]\n",
    "            label = files[2]\n",
    "        if k==2:  \n",
    "            box = flats[3][500:900,400:800]   # We need to convert CCDdata to np.array\n",
    "            label = files[3]\n",
    "        if k==3:  \n",
    "            box = np.asarray(master_flat[500:900,400:800])   # We need to convert CCDdata to np.array\n",
    "            label = 'master FLAT'\n",
    "        k += 1\n",
    "        ax.imshow(box, cmap='gray', vmin=vmin, vmax=vmax,norm=LogNorm())\n",
    "        ax.text(0.05, 0.05,label, ha='left', va='center', color='k',transform=ax.transAxes,fontsize=18)\n",
    "        ax.grid(color='k')"
   ]
  },
  {
   "cell_type": "raw",
   "metadata": {},
   "source": [
    "The image ucmP_0021 has sky background (no star image) at the position of the bright saturated star that produces the flaw.\n",
    "We could replace this part of the master flat with the same region of the ucmP_0021 image (flats[3])"
   ]
  },
  {
   "cell_type": "code",
   "execution_count": null,
   "metadata": {},
   "outputs": [],
   "source": [
    "x_master_flat = np.asarray(master_flat).copy()\n",
    "x_master_flat[750:800,500:550]=np.asarray(flats[3][750:800,500:550])\n",
    "fig, axarr = plt.subplots(ncols=2, nrows=1, figsize=(12, 12))\n",
    "vmin,vmax = 0.8,1.2\n",
    "aperture = CircularAperture([120,280], r=50.)\n",
    "for i in range(2):\n",
    "    ax = axarr[i]\n",
    "    if i==0:\n",
    "        box = np.asarray(master_flat[500:900,400:800])\n",
    "        label = 'master  flat'\n",
    "    if i==1:  \n",
    "        box = np.asarray(x_master_flat[500:900,400:800])   # We need to convert CCDdata to np.array\n",
    "        label = 'master flat after make up'\n",
    "    ax.imshow(box, vmin=vmin, vmax=vmax,norm=LogNorm())\n",
    "    ax.text(0.05, 0.05,label, ha='left', va='center', color='k',transform=ax.transAxes,fontsize=18)\n",
    "    aperture.plot(color='red', lw=1.5, alpha=1)\n",
    "    ax.grid(color='k')"
   ]
  },
  {
   "cell_type": "markdown",
   "metadata": {},
   "source": [
    "#### Writing the resulting image as FITS file"
   ]
  },
  {
   "cell_type": "markdown",
   "metadata": {},
   "source": [
    "We can write the resulting file to a FITS file. We wish to maintain the information of the header (metadata) and also add some information "
   ]
  },
  {
   "cell_type": "code",
   "execution_count": null,
   "metadata": {},
   "outputs": [],
   "source": [
    "# Extract primary header from single dark file and copy into master_dark header\n",
    "HDUList_object = fits.open(directory+files[0])\n",
    "master_flat.header = HDUList_object[0].header"
   ]
  },
  {
   "cell_type": "code",
   "execution_count": null,
   "metadata": {},
   "outputs": [],
   "source": [
    "# Replace FILENAME keyword and add information\n",
    "master_flat.header['FILENAME'] = 'master_flat_R.fits' \n",
    "master_flat.header['HISTORY'] = 'super FLAT combining '+str(len(files))+'Sky Flats images'\n",
    "master_flat.header['HISTORY'] = 'FLATS images from '+str(files[0])+' to '+str(files[-1])"
   ]
  },
  {
   "cell_type": "raw",
   "metadata": {},
   "source": [
    "# NOTE: if your data is not a numpy array but a CCDData file use the expession to write into FITS file\n",
    "# x_master_flat.write('N1_master_flat_R.fits', overwrite='yes')"
   ]
  },
  {
   "cell_type": "code",
   "execution_count": null,
   "metadata": {},
   "outputs": [],
   "source": [
    "# Finally writte the image to a FITS file. An error occurs when the file already exits.\n",
    "fits.writeto('N1_master_flat_R.fits', x_master_flat, master_flat.header,overwrite='yes')"
   ]
  },
  {
   "cell_type": "code",
   "execution_count": null,
   "metadata": {},
   "outputs": [],
   "source": []
  }
 ],
 "metadata": {
  "kernelspec": {
   "display_name": "Python 3",
   "language": "python",
   "name": "python3"
  },
  "language_info": {
   "codemirror_mode": {
    "name": "ipython",
    "version": 3
   },
   "file_extension": ".py",
   "mimetype": "text/x-python",
   "name": "python",
   "nbconvert_exporter": "python",
   "pygments_lexer": "ipython3",
   "version": "3.7.7"
  }
 },
 "nbformat": 4,
 "nbformat_minor": 4
}
