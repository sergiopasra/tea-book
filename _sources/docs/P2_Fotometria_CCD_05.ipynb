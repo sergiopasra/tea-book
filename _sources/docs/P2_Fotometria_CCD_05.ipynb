{
 "cells": [
  {
   "cell_type": "markdown",
   "metadata": {},
   "source": [
    "# Alineamiento de imágenes\n",
    "Cuando no se dispone de astrometría en las imágenes necesitamos realizarla antes de comparar dos imágenes en diferentes bandas fotométricas de nuestras propias observaciones o descargadas de archivo. \n",
    "Se puede realizar con [``astroalign``](https://astroalign.readthedocs.io/en/latest/) que precisamente ha sido desarrollado para resolver este problema.\n",
    "\n",
    "<pre>\n",
    "Astroalign: A Python module for astronomical image registration. \n",
    "Beroiz, M., Cabral, J. B., and Sanchez, B. \n",
    "Astronomy and Computing, Volume 32, July 2020, 100384.\n",
    "</pre>\n",
    "\n",
    "El proceso de alinear (o registrar que es la palabra que se usa en fotografía) se suele realizar buscando imágenes de estrellas en el campo e identificando las mismas estrellas en las dos imágenes a alinear. Se busca entonces la transformación de una de las imágenes que dejaría a las estrellas en la misma posición que la imagen que tomamos como referencia. Finalmente se aplica la transformación que implica rotación y cambio de escala en el caso general. \n",
    "\n",
    "En el cuaderno de jupyter \"example_05_register_images\" se muestra un ejemplo donde se pretende alinear dos imágenes de una galaxia (M51) obtenidas en banda ancha B en diferentes épocas con el objetivo final de combinarlas para aumentar la relación señal/ruido.\n",
    "\n",
    "```{figure} /_static/lecture_specific/p2_fotometria/p2_07_aligning_1.png\n",
    "---\n",
    "width: 800px\n",
    "name: aligning-1-fig\n",
    "---\n",
    "Las dos imágenes de M51 a registrar. La de la derecha se tomará como referencia. \n",
    "```\n",
    "En la figura se observa la imagen tomada en 2019 a la izquierda y la de 2016 a la derecha. Se aprecia que hay un giro entre ambas aunque no se espera cambio de escala al estar tomadas con el mismo instrumento y chip CCD. \n",
    "\n",
    "Leemos los ficheros de las imágenes,"
   ]
  },
  {
   "cell_type": "code",
   "execution_count": null,
   "metadata": {},
   "outputs": [],
   "source": [
    "# Files of observations used in this example \n",
    "directory = 'FITS_files/'\n",
    "file_reference_image = directory+'afztUCM0070.fits'    #2016-04-28\n",
    "file_original_image  = directory+'fztucmP_0044.fits'   #2019-04-11"
   ]
  },
  {
   "cell_type": "code",
   "execution_count": null,
   "metadata": {},
   "outputs": [],
   "source": [
    "HDUList_object = fits.open(file_reference_image)\n",
    "reference_header  = HDUList_object[0].header\n",
    "reference_image   = HDUList_object[0].data\n",
    "print('reference image',reference_header['FILENAME'], reference_header['INSFLNAM'],\n",
    "      reference_header['DATE-OBS'],'    BITPIX:',reference_header['BITPIX'])\n",
    "HDUList_object  = fits.open(file_original_image)\n",
    "original_header = HDUList_object[0].header\n",
    "original_image  = HDUList_object[0].data\n",
    "print('image to align ',original_header['FILENAME'], original_header['INSFLNAM'],\n",
    "      original_header['DATE-OBS'],'  BITPIX:',original_header['BITPIX'])"
   ]
  },
  {
   "cell_type": "markdown",
   "metadata": {},
   "source": [
    "Usaremos ``astroalign`` que debe cargarse siguiendo las instrucciones en [https://cleanest.readthedocs.io/en/latest/installation.html ](https://cleanest.readthedocs.io/en/latest/installation.html)"
   ]
  },
  {
   "cell_type": "code",
   "execution_count": null,
   "metadata": {},
   "outputs": [],
   "source": [
    "import astroalign as aa "
   ]
  },
  {
   "cell_type": "markdown",
   "metadata": {},
   "source": [
    "Transformamos la imagen con esta utilidad"
   ]
  },
  {
   "cell_type": "code",
   "execution_count": null,
   "metadata": {},
   "outputs": [],
   "source": [
    "# To transform the image (align & rotate) using the reference image \n",
    "registered_image, footprint = aa.register(original, reference)"
   ]
  },
  {
   "cell_type": "markdown",
   "metadata": {},
   "source": [
    "```{figure} /_static/lecture_specific/p2_fotometria/p2_07_aligning_2.png\n",
    "---\n",
    "width: 800px\n",
    "name: aligning-2-fig\n",
    "---\n",
    "La imagen transformada coincide perfectamente con la que tomamos de referencia.\n",
    "```\n",
    "\n",
    "Podemos ver qué transformación se ha realizado,"
   ]
  },
  {
   "cell_type": "code",
   "execution_count": null,
   "metadata": {},
   "outputs": [],
   "source": [
    "p, (pos_img, pos_img_rot) = aa.find_transform(original, reference)\n",
    "print(\"Rotation: {:.2f} degrees\".format(p.rotation * 180.0 / np.pi))\n",
    "print(\"\\nScale factor: {:.2f}\".format(p.scale))\n",
    "print(\"\\nTranslation: (x, y) = ({:.2f}, {:.2f})\".format(*p.translation))\n",
    "print(\"\\nTranformation matrix:\\n{}\".format(p.params))\n",
    "print(\"\\nPoint correspondence:\")\n",
    "for (x1, y1), (x2, y2) in zip(pos_img, pos_img_rot):\n",
    "    print(\"({:.2f}, {:.2f}) in source --> ({:.2f}, {:.2f}) in target\"\n",
    "          .format(x1, y1, x2, y2))"
   ]
  },
  {
   "cell_type": "markdown",
   "metadata": {},
   "source": [
    "<pre>\n",
    "Rotation: 17.88 degrees\n",
    "Scale factor: 1.00\n",
    "Translation: (x, y) = (45.33, -284.58)\n",
    "Tranformation matrix:\n",
    "[[   0.95318451   -0.30753652   45.33333586]\n",
    " [   0.30753652    0.95318451 -284.58026185]\n",
    " [   0.            0.            1.        ]]\n",
    "\n",
    "Point correspondence:\n",
    "(222.70, 577.92) in source --> (79.88, 335.14) in target\n",
    "(666.64, 758.36) in source --> (447.69, 642.81) in target\n",
    "(315.09, 719.98) in source --> (124.39, 498.49) in target\n",
    "(764.40, 687.24) in source --> (562.19, 606.04) in target\n",
    "(400.82, 177.33) in source --> (373.03, 8.08) in target\n",
    "\n",
    "(115.49, 401.06) in source --> (31.76, 133.68) in target\n",
    "(655.55, 434.77) in source --> (537.20, 332.10) in target\n",
    "(362.49, 607.05) in source --> (204.21, 405.34) in target\n",
    "(400.54, 741.97) in source --> (199.16, 545.82) in target\n",
    "</pre>\n",
    "\n",
    "Como esperábamos el factor de escala es la unidad porque proceden de la misma configuración instrumental. En la transformación ha tenido que rotar un ángulo de 18 grados aproximadamente. Se muestra en el listado la matriz de transformación aplicada. Finalmente se listan las fuentes empleadas para realizar el ajuste.\n",
    "\n",
    "Podemos mostrar algunas de las estrellas identificadas (véanse los detalles en el cuaderno de jupyter)\n",
    "\n",
    "```{figure} /_static/lecture_specific/p2_fotometria/p2_07_aligning_3.png\n",
    "---\n",
    "width: 800px\n",
    "name: aligning-3-fig\n",
    "---\n",
    "Las estrellas usadas etiquetadas en colores para que sea fácil encontrarlas en cada una de las imagenes.\n",
    "```\n",
    "Y guardamos el resultado"
   ]
  },
  {
   "cell_type": "code",
   "execution_count": null,
   "metadata": {},
   "outputs": [],
   "source": [
    "# A new FITS file to contain the registered image is created \n",
    "hdu = fits.PrimaryHDU(registered_image)\n",
    "hdul = fits.HDUList([hdu])\n",
    "hdul.writeto('afztucmP_0044.fits') # A warning raises when the file already exits\n",
    "\n",
    "# We use the original image header \n",
    "update('afztucmP_0044.fits', registered_image, original_header)"
   ]
  }
 ],
 "metadata": {
  "jupytext": {
   "text_representation": {
    "extension": ".md",
    "format_name": "myst"
   }
  },
  "kernelspec": {
   "display_name": "Python 3",
   "language": "python",
   "name": "python3"
  },
  "source_map": [
   10,
   37,
   44,
   55,
   59,
   61,
   65,
   68,
   80,
   90,
   127
  ]
 },
 "nbformat": 4,
 "nbformat_minor": 4
}