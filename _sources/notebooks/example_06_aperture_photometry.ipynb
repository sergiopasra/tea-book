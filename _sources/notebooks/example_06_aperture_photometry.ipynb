{
 "cells": [
  {
   "cell_type": "markdown",
   "metadata": {},
   "source": [
    "# Example 6: Aperture photometry with Photutils"
   ]
  },
  {
   "cell_type": "markdown",
   "metadata": {},
   "source": [
    "Máster en Astrofísica UCM\n",
    "Técnicas Experimentales en Astrofísica\n",
    "\n",
    "Jaime Zamorano, Nicolás Cardiel and Sergio Pascual\n",
    "\n",
    "This notebook has reproduced parts of \n",
    "\n",
    "Photoutils Aperture Photometry \n",
    "    https://photutils.readthedocs.io/en/stable/aperture.html\n",
    "\n",
    "Photoutils Source Detection\n",
    "    https://photutils.readthedocs.io/en/stable/detection.html\n",
    " \n",
    "v2 2020/05/20\n",
    "v3 2021/01/22"
   ]
  },
  {
   "cell_type": "code",
   "execution_count": null,
   "metadata": {},
   "outputs": [],
   "source": [
    "import matplotlib\n",
    "%matplotlib inline\n",
    "import matplotlib.pyplot as plt\n",
    "from matplotlib.colors import LogNorm\n",
    "from matplotlib.patches import Rectangle\n",
    "\n",
    "from astropy.io import fits\n",
    "from astropy.stats import sigma_clip, sigma_clipped_stats, mad_std\n",
    "\n",
    "import ccdproc\n",
    "from ccdproc import CCDData, Combiner\n",
    "from ccdproc import median_filter\n",
    "\n",
    "import numpy as np\n",
    "#import numpy.ma as ma\n",
    "\n",
    "from photutils import DAOStarFinder\n",
    "from photutils import find_peaks\n",
    "from photutils import CircularAperture\n",
    "from photutils import CircularAnnulus\n",
    "from photutils import aperture_photometry"
   ]
  },
  {
   "cell_type": "code",
   "execution_count": null,
   "metadata": {},
   "outputs": [],
   "source": [
    "# Some style for better looking plots\n",
    "plt.rcParams['font.family'] = 'sans-serif'\n",
    "plt.rcParams['font.sans-serif'] = ['Verdana']\n",
    "plt.rcParams['font.size'] = 12\n",
    "plt.rcParams['font.size'] = 12\n",
    "plt.rcParams['lines.linewidth'] = 4.\n",
    "plt.rcParams['axes.labelsize'] = 'medium'\n",
    "plt.rcParams['grid.linewidth'] = 1.0\n",
    "plt.rcParams['grid.linestyle'] = '-'\n",
    "plt.rcParams['xtick.minor.size']=4\n",
    "plt.rcParams['xtick.major.size']=8\n",
    "plt.rcParams['ytick.minor.size']=4\n",
    "plt.rcParams['ytick.major.size']=8\n",
    "plt.rcParams['figure.figsize'] = 12,6\n",
    "plt.rcParams['figure.subplot.bottom'] = 0.15\n",
    "plt.rcParams['ytick.labelsize'] = 10\n",
    "plt.rcParams['xtick.labelsize'] = 10"
   ]
  },
  {
   "cell_type": "markdown",
   "metadata": {},
   "source": [
    "Reading and displaying the image data and a region to be used in the first part of the example"
   ]
  },
  {
   "cell_type": "code",
   "execution_count": null,
   "metadata": {},
   "outputs": [],
   "source": [
    "image = fits.getdata('./FITS_files/ucmP_0050.fits')\n",
    "#x1, x2, y1, y2 = 100, 500, 300, 700\n",
    "x1, x2, y1, y2 = 800, 1000, 800, 1000\n",
    "ximage = image[x1:x2, y1:y2]\n",
    "vmin,vmax = 1000,10000\n",
    "fig, axarr = plt.subplots(ncols=2, nrows=1, figsize=(14, 9))\n",
    "axarr[0].imshow(image, cmap='gray', vmin=vmin, vmax=vmax,norm=LogNorm())\n",
    "axarr[1].imshow(ximage, cmap='gray', vmin=vmin, vmax=vmax,norm=LogNorm())"
   ]
  },
  {
   "cell_type": "markdown",
   "metadata": {},
   "source": [
    "## Aperture photometry of some stars in the image"
   ]
  },
  {
   "cell_type": "markdown",
   "metadata": {},
   "source": [
    "Photutils also includes a find_peaks() function to find local peaks in an image that are above a specified threshold value. Peaks are the local maxima above a specified threshold that are separated by a specified minimum number of pixels."
   ]
  },
  {
   "cell_type": "code",
   "execution_count": null,
   "metadata": {},
   "outputs": [],
   "source": [
    "mean, median, std = sigma_clipped_stats(ximage, sigma=3.0)\n",
    "threshold = median + (10. * std)\n",
    "tbl = find_peaks(ximage, threshold, box_size=40)\n",
    "tbl['peak_value'].info.format = '%.8g'  # for consistent table output\n",
    "print(tbl[:10])  # print only the first 10 peaks"
   ]
  },
  {
   "cell_type": "markdown",
   "metadata": {},
   "source": [
    "Displaying the peaks found as circular apertures"
   ]
  },
  {
   "cell_type": "code",
   "execution_count": null,
   "metadata": {},
   "outputs": [],
   "source": [
    "radius = 10\n",
    "vmin, vmax = 3000, 6000\n",
    "positions = np.transpose((tbl['x_peak'], tbl['y_peak']))\n",
    "apertures = CircularAperture(positions, r=radius)\n",
    "plt.imshow(ximage, cmap='gray', vmin=vmin, vmax=vmax, norm=LogNorm())\n",
    "apertures.plot(color='#0547f9', lw=1.5)"
   ]
  },
  {
   "cell_type": "markdown",
   "metadata": {},
   "source": [
    "We are ready to perform a simple aperture photometry summing up all the counts inside the circular apertures centered in the sources found"
   ]
  },
  {
   "cell_type": "code",
   "execution_count": null,
   "metadata": {},
   "outputs": [],
   "source": [
    "phot_table = aperture_photometry(ximage, apertures)\n",
    "phot_table['aperture_sum'].info.format = '%.4g'  # for consistent table output\n",
    "print(phot_table)"
   ]
  },
  {
   "cell_type": "markdown",
   "metadata": {},
   "source": [
    "The sources can be added if their positions are known or estimated."
   ]
  },
  {
   "cell_type": "code",
   "execution_count": null,
   "metadata": {},
   "outputs": [],
   "source": [
    "positions_new = [(113, 150), (73, 140), (100, 125)]\n",
    "apertures_new = CircularAperture(positions_new, r=radius)\n",
    "plt.imshow(ximage, cmap='gray', vmin=vmin, vmax=vmax, norm=LogNorm())\n",
    "apertures.plot(color='#0547f9', lw=1.5)\n",
    "apertures_new.plot(color='red', lw=1.5)"
   ]
  },
  {
   "cell_type": "markdown",
   "metadata": {},
   "source": [
    "We have selected a position without any source to measure the sky background in this area."
   ]
  },
  {
   "cell_type": "code",
   "execution_count": null,
   "metadata": {},
   "outputs": [],
   "source": [
    "phot_table = aperture_photometry(ximage, apertures_new)\n",
    "phot_table['aperture_sum'].info.format = '%.4g'  # for consistent table output\n",
    "print(phot_table)"
   ]
  },
  {
   "cell_type": "markdown",
   "metadata": {},
   "source": [
    "Notice that the background should be subtracted from the raw counts to determine the net counts of the sources."
   ]
  },
  {
   "cell_type": "markdown",
   "metadata": {},
   "source": [
    "## Selecting several sources "
   ]
  },
  {
   "cell_type": "markdown",
   "metadata": {},
   "source": [
    "Let select more stars of the original image using DAOStarFinder. In order to avoid the central part of the image with both galaxies we will mask this region"
   ]
  },
  {
   "cell_type": "code",
   "execution_count": null,
   "metadata": {},
   "outputs": [],
   "source": [
    "# Region to be masked during DAOStarFinder searches\n",
    "mask = np.zeros(image.shape, dtype=bool)\n",
    "x1, x2, y1, y2= 400, 1000, 200, 1200\n",
    "mask[x1:x2, y1:y2] = True"
   ]
  },
  {
   "cell_type": "code",
   "execution_count": null,
   "metadata": {},
   "outputs": [],
   "source": [
    "plt.figure(figsize=(8, 8))\n",
    "plt.imshow(image, cmap='gray', vmin=vmin, vmax=vmax) #, norm=LogNorm())\n",
    "currentAxis = plt.gca()\n",
    "currentAxis.add_patch(Rectangle((y1,x1), (y2-y1), (x2-x1),\n",
    "                      alpha=0.4, facecolor='yellow'))\n",
    "plt.text(300,600,'area to be masked', fontsize=15)\n",
    "plt.text(300,700,'(no star searching here)', fontsize=15)"
   ]
  },
  {
   "cell_type": "code",
   "execution_count": null,
   "metadata": {},
   "outputs": [],
   "source": [
    "# only sources outside the mask region are found\n",
    "daofind = DAOStarFinder(fwhm=5.0, threshold=10.*std)  \n",
    "sources = daofind(image - median, mask=mask)  \n",
    "for col in sources.colnames:  \n",
    "     sources[col].info.format = '%.8g'  # for consistent table output\n",
    "print(sources) "
   ]
  },
  {
   "cell_type": "markdown",
   "metadata": {},
   "source": [
    "Let display the stars found "
   ]
  },
  {
   "cell_type": "code",
   "execution_count": null,
   "metadata": {},
   "outputs": [],
   "source": [
    "positions = np.transpose((sources['xcentroid'], sources['ycentroid']))\n",
    "positions = positions.round(decimals=2)\n",
    "#print(positions)\n",
    "apertures = CircularAperture(positions, r=10.)\n",
    "plt.figure(figsize=(8,8))\n",
    "plt.imshow(image, cmap='gray', vmin=vmin, vmax=vmax) #, norm=LogNorm())\n",
    "apertures.plot(color='red', lw=1.5, alpha=0.5)\n",
    "currentAxis = plt.gca()\n",
    "currentAxis.add_patch(Rectangle((y1,x1), (y2-y1), (x2-x1),\n",
    "                      alpha=0.1, facecolor='yellow'))"
   ]
  },
  {
   "cell_type": "markdown",
   "metadata": {},
   "source": [
    "### Simple aperture photometry on the detected sources"
   ]
  },
  {
   "cell_type": "code",
   "execution_count": null,
   "metadata": {},
   "outputs": [],
   "source": [
    "radius = 10\n",
    "aperture = CircularAperture(positions, r=radius)\n",
    "phot_table = aperture_photometry(image, aperture)\n",
    "phot_table['aperture_sum'].info.format = '%.4g'  # for consistent table output\n",
    "print(phot_table)"
   ]
  },
  {
   "cell_type": "markdown",
   "metadata": {},
   "source": [
    "The last row contents the total counts inside the aperture centered in the detected stars. These values are not corrected from the background. "
   ]
  },
  {
   "cell_type": "markdown",
   "metadata": {},
   "source": [
    "### Global Background Subtraction\n",
    "We can made a rougth estimate the background level using the median value for the whole image or better using a region without sources."
   ]
  },
  {
   "cell_type": "code",
   "execution_count": null,
   "metadata": {},
   "outputs": [],
   "source": [
    "median     = np.median(image)\n",
    "median_sky = np.median(image[0:200,800:1000])\n",
    "print('median', median, ' sky ', median_sky)"
   ]
  },
  {
   "cell_type": "code",
   "execution_count": null,
   "metadata": {},
   "outputs": [],
   "source": [
    "bkg = median_sky\n",
    "phot_table = aperture_photometry(image - bkg, aperture) \n",
    "phot_table['aperture_sum'].info.format = '%.4g'  # for consistent table output\n",
    "print(phot_table)"
   ]
  },
  {
   "cell_type": "markdown",
   "metadata": {},
   "source": [
    "It is posible to define several circular apertures and perform  "
   ]
  },
  {
   "cell_type": "code",
   "execution_count": null,
   "metadata": {},
   "outputs": [],
   "source": [
    "radii = [10., 15., 20.]\n",
    "apertures = [CircularAperture(positions, r=r) for r in radii]\n",
    "phot_table = aperture_photometry(image, apertures)\n",
    "for col in phot_table.colnames:\n",
    "     phot_table[col].info.format = '%.8g'  # for consistent table output\n",
    "print(phot_table)"
   ]
  },
  {
   "cell_type": "markdown",
   "metadata": {},
   "source": [
    "### Local Background Subtraction\n",
    "Classical aperture photometry uses a circular annulus around the star image to determine the background. We will select radius of 8 pixels for the aperture and a circular annulus of inner radius of 12 and outer radius of 20. "
   ]
  },
  {
   "cell_type": "code",
   "execution_count": null,
   "metadata": {},
   "outputs": [],
   "source": [
    "aperture = CircularAperture(positions, r=8)\n",
    "annulus_aperture = CircularAnnulus(positions, r_in=12., r_out=20.)\n",
    "plt.figure(figsize=(8,8))\n",
    "plt.imshow(image[0:300, 0:500], cmap='gray', vmin=vmin, vmax=vmax)\n",
    "aperture.plot(color='white', lw=1)\n",
    "annulus_aperture.plot(color='red', lw=1)"
   ]
  },
  {
   "cell_type": "code",
   "execution_count": null,
   "metadata": {},
   "outputs": [],
   "source": [
    "apers = [aperture, annulus_aperture]\n",
    "phot_table = aperture_photometry(image, apers)\n",
    "for col in phot_table.colnames:\n",
    "    phot_table[col].info.format = '%.8g'  # for consistent table output\n",
    "print(phot_table)"
   ]
  },
  {
   "cell_type": "markdown",
   "metadata": {},
   "source": [
    "The last two columns show the total number of counts inside the cicle and the circular annulus. \n",
    "The areas of the apertures are different and we should correct before substracting the background by scaling the results for the same area"
   ]
  },
  {
   "cell_type": "code",
   "execution_count": null,
   "metadata": {},
   "outputs": [],
   "source": [
    "print(aperture.area, annulus_aperture.area)"
   ]
  },
  {
   "cell_type": "code",
   "execution_count": null,
   "metadata": {},
   "outputs": [],
   "source": [
    "bkg_mean = phot_table['aperture_sum_1'] / annulus_aperture.area\n",
    "bkg_sum  = bkg_mean * aperture.area\n",
    "final_sum = phot_table['aperture_sum_0'] - bkg_sum\n",
    "phot_table['residual_aperture_sum'] = final_sum\n",
    "phot_table['residual_aperture_sum'].info.format = '%.8g'  # for consistent table output\n",
    "#print(phot_table['residual_aperture_sum'])  "
   ]
  },
  {
   "cell_type": "code",
   "execution_count": null,
   "metadata": {},
   "outputs": [],
   "source": [
    "for col in phot_table.colnames:\n",
    "    phot_table[col].info.format = '%.8g'  # for consistent table output\n",
    "print(phot_table)"
   ]
  },
  {
   "cell_type": "markdown",
   "metadata": {},
   "source": [
    "The last column shows the net counts obtained after substracting the scaled background"
   ]
  },
  {
   "cell_type": "code",
   "execution_count": null,
   "metadata": {},
   "outputs": [],
   "source": []
  }
 ],
 "metadata": {
  "kernelspec": {
   "display_name": "Python 3",
   "language": "python",
   "name": "python3"
  },
  "language_info": {
   "codemirror_mode": {
    "name": "ipython",
    "version": 3
   },
   "file_extension": ".py",
   "mimetype": "text/x-python",
   "name": "python",
   "nbconvert_exporter": "python",
   "pygments_lexer": "ipython3",
   "version": "3.7.7"
  }
 },
 "nbformat": 4,
 "nbformat_minor": 4
}
