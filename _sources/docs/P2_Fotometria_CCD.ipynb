{
 "cells": [
  {
   "cell_type": "markdown",
   "metadata": {},
   "source": [
    "# P2 Fotometría CCD\n",
    "\n",
    "## Campaña de observación \n",
    "Se realiza la reducción de una campaña de observación de objetos extensos realizada\n",
    "con el Nordic Optical Telescope (La Palma) en abril de 2008. Se empleó el espectrógrafo [Alhambra Faint Object Spectrograph and Camera](http://www.not.iac.es/instruments/alfosc/). En particular, se trata del proyecto Calibrating the [OII]158 micron line as a star formation rate tracer (PI: A. Gil de Paz; Observadores: Pablo G. Pérez González & Jaime Zamorano). Se muestran a continuación, con cierto detalle, los pasos necesarios para su reducción.\n",
    "\n",
    "```{figure} /_static/lecture_specific/p2_fotometria/p2_01_ALFOSC_plan.png\n",
    "---\n",
    "height: 400px\n",
    "name: alfosc-fig\n",
    "---\n",
    "Esquema de ALFOSC que es el espectrógrafo de objetos débiles usado ene sta campaña de observación. \n",
    "```\n",
    "\n",
    "### Información previa\n",
    "Es importante abrir el cuaderno de observación (logbook_NOT_2008.pdf) donde se encuentra la información necesaria sobre esta campaña de observación. En particular la secuencia de las observaciones. Se indica, por ejemplo, que los ficheros que se fueron grabando en un directorio un ordenador del NOT  /data/alfosc/ con nombres numerados consecutivamente. El primero sería entonces ALrd12001.fits donde Al viene de ALFOSC, r es el año, d el mes (abril), 12 el día y 001 el número de orden.  \n",
    "\n",
    "Los filtros empleados son \n",
    "<pre>\n",
    "FILTROS\n",
    "#74 BESSEL B\n",
    "#75 BESSEL V\n",
    "#76 BESSEL R\n",
    "#49 660.7 nm estrecho 661.5\n",
    "#78 658.0 nm          658.4\n",
    "</pre>\n",
    "\n",
    "### Descarga de los ficheros\n",
    "Los ficheros de las observaciones se encuentran disponibles en un ftp anónimo, y el cuaderno de observación (logbook), ubicado en el Campus Virtual de la asignatura. Las imágenes originales en el ftp de astrax /pub/users/jaz/NOT_2008_04_12-14/2008-04-14 tienen nombres como ALrd140129.fits y son ficheros FITS con extensión. Para facilitar la reducción en los directorios /pub/users/jaz/NOT_2008_04_12-14/N1 (primera noche) y /N2 (segunda noche) hemos renombrado los ficheros retirando algunos caracteres AL12146.fits y convertido a FITS sin extensión. Las observaciones también se pueden descargar de [http://guaix.fis.ucm.es/~jaz/master_TEA/observaciones_NOT_2008/N1/](http://guaix.fis.ucm.es/~jaz/master_TEA/observaciones_NOT_2008/N1/) \n",
    "\n",
    "Es aconsejable tener un árbol de directorios que permita en todo momento saber donde se encuentran los ficheros en sus dirferentes fases de porcesado. Como veremos conviene nombrar a los ficheros de manera que identifiquen su contenido y sean fácil recordar sus nombres.\n",
    "\n",
    "Recordemos que los comandos usuales de Linux para navegar por los directorios y explorar su contenido  son:\n",
    "<pre>\n",
    "$> cd ..\t\t# baja al directorio inferior\n",
    "$> cd -\t\t\t# vuelve al directorio anterior\n",
    "$> cd \t\t\t# nos situa de nuevo en /home/alumnos/\n",
    "$> pwd\t\t\t# nos informa del directorio actual\n",
    "$> ls\t\t\t# listado del contenido del directorio\n",
    "$> ls -la\t\t# listado con más información\n",
    "$> ls -lah\t\t# idem con tamaños de fichero  en kb y Mb\n",
    "$> ls -lart\t\t# reverse time listado no alfabético sino temporal\n",
    "\t\t\t\t# sirve para ver los últimos ficheros creados\n",
    "$> more filename \t# muestra el contenido del fichero filename\n",
    "$> head filename\t# muestra solo las primeras líneas de filename\n",
    "$> tail filename\t# muestra solo las últimas líneas de filename\n",
    "</pre>\n",
    "Otros comandos de Linux que vamos a usar son\n",
    "<pre>\n",
    "$> cp file1 file2\t# crea una copia del fichero file1 de nombre file2\n",
    "$> mv file2 file_2\t# renombra file2 a file_2\n",
    "</pre>\n",
    "\n",
    "\n",
    "### Inspección de las imágenes\n",
    "Antes de empezar la reducción propiamente dicha vamos explorar las cabeceras FITS de los ficheros y a visualizar alguna imagen. Para ello lo ideal es abrir DS9. La terminal gráfica DS9 permite cambiar la forma de visualización (tablas de color, zoom etc) con los menús desplegables y botones. Simplemente moviendo el cursor podemos saber en qué zona de la imagen estamos y su valor en cuentas. Hay que jugar un poco con los controles para ganar experiencia.\n",
    "\n",
    "```{figure} /_static/lecture_specific/p2_fotometria/p2_02_ds9_1.png\n",
    "---\n",
    "height: 400px\n",
    "name: ds9-1-fig\n",
    "---\n",
    "Imagen AL12102.fits cargada en DS9. Se ha hecho ``zoom`` para mostar la imagen completa y se ha modificado la forma de la ventana de DS9 para hacerla más cuadrada. \n",
    "```\n",
    "```{figure} /_static/lecture_specific/p2_fotometria/p2_02_ds9_2.png\n",
    "---\n",
    "height: 400px\n",
    "name: ds9-2-fig\n",
    "---\n",
    "Se ha marcado en verde una región que contiene la parte con señal de la imagen. Después recortaremos los que sobre. Para ello hemos usado ``region`` y hemos escogido que fuera tipo cuadrado (box). Luego hemos modificado su tamaño y posición.\n",
    "```\n",
    "\n",
    "\n",
    "```{figure} /_static/lecture_specific/p2_fotometria/p2_02_ds9_3.png\n",
    "---\n",
    "height: 400px\n",
    "name: ds9-3-fig\n",
    "---\n",
    "En el menu desplegable de  ``file`` de DS9 se ha seleccionado ``display header``. Se muestra la primera parte de la cabecera FITS. \n",
    "```\n",
    "\n",
    "Es importante inspeccionar la cabecera porque cada telescopio/instrumento escribe las cabeceras FITS de sus observaciones de forma un poco particular. En particular para los ``keyword`` de  [ALFOSC at NOT](http://www.not.iac.es/instruments/alfosc/) se escribe ``ALFLTID`` and  ``FBFLTID`` en las cabeceras en lugar de ``FILTER`` que suele ser el nombre de este keyword. La razón es que ALFOSC (espectrógrafo de objetos débiles) está diseñado de forma que posee dos ruedas de filtros (FASU) filterwheel A y filterwheel B. Los filtros se colocan en una u otra rueda dependiendo de su tamaño y/o anchura de la banda.  Más información en [NOT filters](http://www.not.iac.es/instruments/filters/).\n",
    "\n",
    "Los extremos están entre (3,52) en el lado izquierdo y (2101,2198) en el derecho. La información se suele encontrar en la cabecera FITS como biassec y trimsec. Esta última no aparece en la cabecera en este caso. Finalmente tomaremos \n",
    "<pre>\n",
    "BIASSEC= [3:52,1:2052]       TRIMSEC= [54:2100,1:2052]\n",
    "</pre>\n",
    "donde los números en los corchetes indican desde la columna 3 a la 52 es región de overscan que puede usarse para medida de BIAS y que desde 54 a 2100 (para todas las filas de la imagen) tenemos imagen útil. En realidad arriba y abajo (tenemos zonas sin señal debido en este caso a que el filtro era un poco más pequeño y reducía el campo de visión (FoV).\n",
    "\n",
    "```{figure} /_static/lecture_specific/p2_fotometria/p2_02_ds9_4.png\n",
    "---\n",
    "height: 400px\n",
    "name: ds9-4-fig\n",
    "---\n",
    "Detalle en la esquina inferior izquierda de DS9 mostrando el cursor justo en la frontera entre la parte oscura y la región con imagen. Se ha usado el ``zoom``. Los números arriba muestran la posición del cursor.\n",
    "```\n",
    "```{figure} /_static/lecture_specific/p2_fotometria/p2_02_ds9_5.png\n",
    "---\n",
    "height: 400px\n",
    "name: ds9-5-fig\n",
    "---\n",
    "Detalle en la esquina inferior derecha de DS9 mostrando el cursor justo en la frontera entre la parte oscura y la región con imagen.\n",
    "```\n",
    "\n",
    "\n",
    "\n",
    "\n",
    "## Reducción de las observaciones.\n",
    "Reduciremos a continuación la primera noche de observación. Los pasos seguidos son idénticos para la segunda noche pero se prefiere construir los master BIAS y master FLATs para cada noche y usarlos para las observaciones correspondientes.\n",
    "\n",
    "Estamos siguiendo en gran parte los pasos descritos en [CCD Data Reduction Guide](https://mwcraig.github.io/ccd-as-book/00-00-Preface.html) una guía muy completa escrita por Matt Craig and Lauren Chambers y editada por Lauren Glattly. En esa guía se dan detalles muy interesantes sobre cómo es una imagen CCD fabricando imágenes artificiales y procesándolas de diferentes maneras.\n",
    "\n",
    "Se han escrito cuadernos de Jupyter para cada paso y se muestran sólo partes de los mismos en este documento. Se usa en preferencia [ccdproc](https://ccdproc.readthedocs.io/en/latest/).  \"Ccdproc is is an Astropy affiliated package for basic data reductions of CCD images. It provides the essential tools for processing of CCD images in a framework that provides error propagation and bad pixel tracking throughout the reduction process.\" (© Copyright 2020, Steve Crawford, Matt Craig, and Michael Seifert.)\n",
    "\n",
    "### Creación de las listas de imágenes\n",
    "Para generar el BIAS maestro de la primera noche necesitamos combinar las observaciones de BIAS de esa noche. Por eso es comveniente crearse una lista que contenga sus nombres. análogamente desearíamos tener listas de los ficheros de FlatFileds o otras correspondientes a observaciones obtenidas con diferentes filtros, etc. \n",
    "\n",
    "Siguiendo las indicaciones en los documentos de ayuda de  [image management](https://ccdproc.readthedocs.io/en/latest/image_management.html) podemos generar listas usando [ImageFileCollection](https://ccdproc.readthedocs.io/en/latest/api/ccdproc.ImageFileCollection.html#ccdproc.ImageFileCollection).\n",
    "\n",
    "La primera lista sería la de todos los ficheros ya que queremos aplicarles a todos un recorte para quedarnos con la región útil. Esto no es estrictamente necesario pero es más bonito ver las imagenes recortadas y las estadísticas de las imágenes completas no incluyen esos valores oscuros similares al valor de BIAS. \n",
    "\n",
    "Podemos seleccionar alguno de los ``keywords`` pare luego seleccionar los ficheros de acuerdo a los valores de éstos o directamente usarlos todos (keywords='*')"
   ]
  },
  {
   "cell_type": "code",
   "execution_count": null,
   "metadata": {},
   "outputs": [],
   "source": [
    "from ccdproc import ImageFileCollection\n",
    "from ccdproc.utils.sample_directory import sample_directory_with_files\n",
    "directory='/Users/jzamorano/Desktop/NOT_2008/N1/'\n",
    "ic_all = ImageFileCollection(directory, keywords='*')\n",
    "print(ic_all.summary.colnames)"
   ]
  },
  {
   "cell_type": "code",
   "execution_count": null,
   "metadata": {},
   "outputs": [],
   "source": [
    "keys = ['imagetyp', 'object', 'filter', 'exptime']\n",
    "ic1 = ImageFileCollection(directory, keywords=keys) # only keep track of keys\n",
    "ic1.summary.colnames"
   ]
  },
  {
   "cell_type": "markdown",
   "metadata": {},
   "source": [
    "Desgraciadamente nuestros ficheros no siempre contienen relleno el keyword ``ccdtype`` que informa sobre el tipo de imagen y que nos facilitaría el trabajo ya que podríamos listas las imágenes de cada clase ('bias', 'object', 'flat'  ...) y tampoco ``filter`` así que creamos nuestra lista de keywords que usaremos en la selección."
   ]
  },
  {
   "cell_type": "code",
   "execution_count": null,
   "metadata": {},
   "outputs": [],
   "source": [
    "keys = ['OBJECT' , 'EXPTIME' , 'ALFLTID' , 'FAFLTID' , 'FBFLTID']\n",
    "ic1 = ImageFileCollection(directory, keywords=keys) # only keep track of keys\n",
    "ic1.summary.colnames"
   ]
  },
  {
   "cell_type": "markdown",
   "metadata": {},
   "source": [
    "Y podríamos seleccionar, por ejemplo, las observaciones con tiempo de exposición mayor que 600s"
   ]
  },
  {
   "cell_type": "code",
   "execution_count": null,
   "metadata": {},
   "outputs": [],
   "source": [
    "matches = (ic1.summary['EXPTIME'] > 600)\n",
    "my_files = ic1.summary['file'][matches]\n",
    "print(my_files)"
   ]
  },
  {
   "cell_type": "markdown",
   "metadata": {},
   "source": [
    "También se puede hacer de esta forma"
   ]
  },
  {
   "cell_type": "code",
   "execution_count": null,
   "metadata": {},
   "outputs": [],
   "source": [
    "some_files = ic1.files_filtered(FBFLTID=78, exptime=3.5)\n",
    "print(some_files)"
   ]
  },
  {
   "cell_type": "markdown",
   "metadata": {},
   "source": [
    "Por último tenemos un método para seleccionar ficheros que contengan una palabra dentro de un ``keyword``. Para la lista de imágenes de BIAS usaremos"
   ]
  },
  {
   "cell_type": "code",
   "execution_count": null,
   "metadata": {},
   "outputs": [],
   "source": [
    "bias_list = ic1.files_filtered(regex_match=True,imagetyp='bias|light')\n",
    "print(bias_list)"
   ]
  },
  {
   "cell_type": "markdown",
   "metadata": {},
   "source": [
    "Y gracias a este método podemos crear nuestras listas de modo inteligente buscando, por ejemplo, la palabra 'flat' en el descriptor ``object``."
   ]
  },
  {
   "cell_type": "code",
   "execution_count": null,
   "metadata": {},
   "outputs": [],
   "source": [
    "list_of_flats = ic1.files_filtered(regex_match=True,object='flat')\n",
    "print(list_of_flats)"
   ]
  },
  {
   "cell_type": "markdown",
   "metadata": {},
   "source": [
    "En cualquier caso siempre se puede acudir al cuaderno de observaciones y crear las listas a mano incluyendo los nombres de los ficheros"
   ]
  },
  {
   "cell_type": "code",
   "execution_count": null,
   "metadata": {},
   "outputs": [],
   "source": [
    "my_list = ['AL12011.fits' , 'AL12012.fits' , 'AL12013.fits']"
   ]
  },
  {
   "cell_type": "markdown",
   "metadata": {},
   "source": [
    "En el procesado que vamos a realizar se asume que los ficheros son similares y proceden de imágenes obtenidas con la misma instrumentación y en la misma campaña. Es importante detectar y retirar fichers de nuestro directorio que corresponden a imágenes de diferente tamaño, por ejemplo. Esto puede ocurrir si hemos estado tomando imágenes de prueba con una ventana recortada del CCD y se nos ha olvidado volver a la configuración de observación.\n",
    "\n",
    "Podemos mirar el cuaderno de observaciones y/o listar los tamaños de todas las imágenes para detectar algún problema."
   ]
  },
  {
   "cell_type": "code",
   "execution_count": null,
   "metadata": {},
   "outputs": [],
   "source": [
    "for i in range(len(filelist)):\n",
    "    HDUList_object = fits.open(filelist[i])\n",
    "    primary_header = HDUList_object[0].header\n",
    "    print(primary_header['FILENAME'],primary_header['OBJECT'],primary_header['NAXIS1'],primary_header['NAXIS2']"
   ]
  },
  {
   "cell_type": "markdown",
   "metadata": {},
   "source": [
    "<pre>\n",
    "...\n",
    "ALrd120060.fits Sky Flat evening 2198 2052\n",
    "ALrd120061.fits Sky Flat evening 2198 2052\n",
    "ALrd120062.fits Sky Flat evening 2198 2052\n",
    "ALrd120063.fits Sky Flat evening 800 800\n",
    "ALrd120064.fits HZ44 focusing 2198 2052\n",
    "ALrd120065.fits HZ44 focusing 2198 2052\n",
    "ALrd120066.fits HZ44 focusing 2198 2052\n",
    "...\n",
    "</pre>\n",
    "La imagen ALrd120063.fits 'Sky Flat evening' (que forma parte de una serie de enfoque) tiene dimensiones distintas: (800,800) por lo tanto hay que retirarla.\n",
    "\n",
    "<pre>\n",
    "$ rm ALrd120063.fits\n",
    "</pre>\n",
    "\n",
    "### Sustracción del overscan\n",
    "Se puede usar la región de ``overscan`` que representa bien la señal de DARK de la imagen para  restarla y corregirla de esta señal de BIAS + DARK. Para CCDs que no presentan señal de DARK apreciable el ``overscan`` representa la señal de BIAS. Esto ocurre en la mayoría de las cámaras profesionales refrigeradas. En otras cámaras la substracción del overscan mejoraría la reducción si hay pequeñas diferencias de BIAS entre exposiciones. Pero en el caso general esta señal ya la tenemos bien caracterizada en la imágenes de calibración de BIAS si el sistema tiene la temperatura bien estabilizada. Combinando esas imágenes podemos crear un master BIAS que restaremos a las imágenes de ciencia. Por lo tanto este paso no es estrictamente necesario y nos lo saltamos en este ejemplo.\n",
    "\n",
    "### Recorte de las imágenes\n",
    "Es importante recordar que python tiene una manera diferente de indexar las matrices (arrays) que FITS. Mientras that python empieza los índices en 0, FITS comienza en 1, y además el orden de los índices está cambiado: (FITS sigue la convención FORTRAN y python la de C). Descripción más completa en [indexing python and FITS](https://ccdproc.readthedocs.io/en/latest/reduction_toolbox.html#subtract-overscan-and-trim-images).\n",
    "\n",
    "Nuestras imágenes tienen dimensión (2198,2052) correspondiente a NAXIS = 2, NAXIS1 = 2198 y NAXIS2 = 2052. En notación FITS nuestro BIASSEC= [3:52,1:2052] lo que indica que las columnas entre 3 y 52 (52 incluido) contienen el overscan. En los corchetes aparece 1:2052 es decir que se tiene en cuenta todas las filas desde la primera 1 hasta la última 2052. Si leemos esta imagen FITS en una matriz de python el overscan sería img[0:2052,2:52] o de forma más compacta img[:,2:52] indicando todas las filas y entre las columnas 2 y 51.\n",
    "\n",
    "Esto es un poco lioso pero se puede atacar de diferentes formas. Pensando en modo python (que se recomienda) o en modo FITS. \n",
    "\n",
    "#### Aprendiendo a recortar\n",
    "##### recortar con python\n",
    "Después de mostar la imagen original con python comprobamos que tiene el mismo aspecto que cuando la visualizamos con DS9.  \n",
    "\n",
    "\n",
    "```{figure} /_static/lecture_specific/p2_fotometria/p2_02_ds9_6.png\n",
    "---\n",
    "width: 600px\n",
    "name: ds9-6-fig\n",
    "---\n",
    "Imagen AL12102.fits mostrada con DS9 (izquierda) y usando python (derecha). Se ha procurado usar los mismos cortes aunque son diferentes tablas de color .\n",
    "```\n",
    "Recortar un trozo de un array es fácil con python. Vamos a cortar para quedarnos con la esquina inferior izquierda,"
   ]
  },
  {
   "cell_type": "code",
   "execution_count": null,
   "metadata": {},
   "outputs": [],
   "source": [
    "# Trimming using python \n",
    "new_image = image[0:1000,0:1250]"
   ]
  },
  {
   "cell_type": "markdown",
   "metadata": {},
   "source": [
    "```{figure} /_static/lecture_specific/p2_fotometria/p2_03_trim_1.png\n",
    "---\n",
    "width: 600px\n",
    "name: trim-1-fig\n",
    "---\n",
    "Imagen original y recorte usando los comandos de python para seleccionar la zona inferior izquierda del array.\n",
    "```\n",
    "\n",
    "Usando DS9 de nuevo buscamos la región que vamos a recortar que resulta ser [20:-20,60:2100] en la convención de python. Estos valores no son críticos y, por ejemplo podríamos recortar un poco más pero no deseamos perder FoV. Entonces en python,"
   ]
  },
  {
   "cell_type": "code",
   "execution_count": null,
   "metadata": {},
   "outputs": [],
   "source": [
    "new_image = image[20:-20,60:2100]\n",
    "print(new_image.shape)"
   ]
  },
  {
   "cell_type": "markdown",
   "metadata": {},
   "source": [
    "De la imagen original de dimensión (2052,2198) hemos recortado una nueva imagen de prueba de  tamaño (2012,2040) porque le hemos retirado 20 filas arriba y otras 20 abajo y las primeras 60 columnas y desde la columna 2100 en adelante.\n",
    "\n",
    "\n",
    "```{figure} /_static/lecture_specific/p2_fotometria/p2_03_trim_2.png\n",
    "---\n",
    "width: 600px\n",
    "name: trim-2-fig\n",
    "---\n",
    "Imagen original y recortada usando los comandos de python para seleccionar la región de interés.\n",
    "```\n",
    "##### recortar con ccdproc trim_image\n",
    "ccdproc dispone de un comando para recorte de imágenes [trim_image](https://ccdproc.readthedocs.io/en/latest/api/ccdproc.trim_image.html#ccdproc.trim_image) que permite pasar los parámetros de la zona a recortar bien en modo FITS o en modo python. La ventaja del modo FITS es que el descriptor ``TRIM_SEC`` se encuentra en la mayoría de las cabeceras FITS y puede ser usado directamente sin necesidad de buscar cual es la zona de recorte."
   ]
  },
  {
   "cell_type": "code",
   "execution_count": null,
   "metadata": {},
   "outputs": [],
   "source": [
    "# Cargamos los paquetes necesarios\n",
    "from astropy import units as u\n",
    "from astropy.nddata import CCDData\n",
    "import ccdproc\n",
    "# Convertimos nuesto numpy array (image) en un objeto CCDData\n",
    "data_image = CCDData(image,unit=u.adu)"
   ]
  },
  {
   "cell_type": "code",
   "execution_count": null,
   "metadata": {},
   "outputs": [],
   "source": [
    "# recortamos al estilo FITS\n",
    "t_image_1 = ccdproc.trim_image(data_image,fits_section='[60:2099, 21:2032]')\n",
    "# y al estilo python:\n",
    "t_image_2 = ccdproc.trim_image(data_image[20:-20,60:2100])\n",
    "print(t_image_1.shape,t_image_2.shape)"
   ]
  },
  {
   "cell_type": "markdown",
   "metadata": {},
   "source": [
    "```{figure} /_static/lecture_specific/p2_fotometria/p2_03_trim_3.png\n",
    "---\n",
    "width: 600px\n",
    "name: trim-3-fig\n",
    "---\n",
    "Imagenes recortadas con el comando ```trim_image``` en los dos modos descritos llegando al mismo resultado.\n",
    "```\n",
    "Ahora podemos escribir el resultado como una imagen FITS pero queremos que conserve la cabecera del fichero original al que vamos a añadir información sobre el procesado que le hemos realizado. Por suerte el comando ``trim_image``conserva la cabecera original."
   ]
  },
  {
   "cell_type": "code",
   "execution_count": null,
   "metadata": {},
   "outputs": [],
   "source": [
    "# Replace FILENAME keyword and add information\n",
    "t_image_1.header['FILENAME']  = 't_ALrd120102.fits' \n",
    "t_image_1.header['TRIMIM']  = 'fits_section=[60:2099, 21:2032]' \n",
    "t_image_1.header['HISTORY'] = str(datetime.datetime.now())[0:18]+' astropy ccdproc trim_image'"
   ]
  },
  {
   "cell_type": "code",
   "execution_count": null,
   "metadata": {},
   "outputs": [],
   "source": [
    "t_image_1.write('dummy.fits',overwrite='yes')"
   ]
  },
  {
   "cell_type": "markdown",
   "metadata": {},
   "source": [
    "```{figure} /_static/lecture_specific/p2_fotometria/p2_03_trim_4.png\n",
    "---\n",
    "width: 400px\n",
    "name: trim-4-fig\n",
    "---\n",
    "Estas líneas se han añadido al final de la cabecera FITS de la imagen de prueba que hemos recortado dummy.fits.\n",
    "```\n",
    "\n",
    "#### Recortando nuestras imágenes\n",
    "Como vamos a usar ``ccdproc`` usaremos el método descrito anteriormente para recortar todas las imágenes de la primera noche de nuestra campaña.  \n",
    "Generamos la lista completa de imágenes simplemente explorando el directorio de los ficheros originales. Esto se hace con ayuda de utilidades de python de la siguiente manera,"
   ]
  },
  {
   "cell_type": "code",
   "execution_count": null,
   "metadata": {},
   "outputs": [],
   "source": [
    "directory='/Users/jzamorano/Desktop/NOT_2008/N1/'  # Change to your working directory path \n",
    "import os\n",
    "from glob import glob\n",
    "# os.path.join is a platform-independent way to join two directories\n",
    "globpath = os.path.join(directory, '*.fits')\n",
    "print(globpath)\n",
    "# glob searches through directories similar to the Unix shell\n",
    "filelist = sorted(glob(globpath))   # sort filelist alphabetically \n",
    "print(filelist[100:120])    # printing only from 10 to 20"
   ]
  },
  {
   "cell_type": "markdown",
   "metadata": {},
   "source": [
    "En la lista ``filelist`` tenemos almacenados los nombres de nuestros ficheros.  \n",
    "Ahora recorremos la lista (hay formas más exquisitas de hacerlo en python)   \n",
    "- efectuando el recorte de cada imagen,   \n",
    "- creando un nombre de fichero similar al descriptor FILENAME pero añadiéndole 't_' al principio para indicar que es el fichero recortado,   \n",
    "- escribiendo la información del procesado y cambiando el descriptor FILENAME,  \n",
    "- creando el fichero FITS."
   ]
  },
  {
   "cell_type": "code",
   "execution_count": null,
   "metadata": {},
   "outputs": [],
   "source": [
    "for i in range (len(filelist)):\n",
    "    image = CCDData.read(filelist[i], unit=\"adu\")\n",
    "    t_image = ccdproc.trim_image(image[20:-20,60:2100])\n",
    "    name_of_file = 't_'+ str(image.header['FILENAME'])\n",
    "    t_image.header['FILENAME']  = name_of_file\n",
    "    t_image.header['HISTORY'] = str(datetime.datetime.now())[0:18]+' astropy ccdproc trim_image'\n",
    "    t_image.header['HISTORY']  = 'trimming fits_section=[60:2099, 21:2032]' \n",
    "    print('writting '+name_of_file+ ' in '+directory)\n",
    "    t_image.write(directory+name_of_file,overwrite='yes')"
   ]
  },
  {
   "cell_type": "markdown",
   "metadata": {},
   "source": [
    "Los ficheros se han creado en el mismo directorio del que leimos las imágenes. La recomendación es dejarlos ahí y crear un subdirectorio para meter las imágenes originales. De esta forma nuestro directorio de trabajo sigue siendo el mismo y las imágenes originales siguen a nuestra disposición por si nos equivocamos en alguno de los pasos. Tendríamos entonces\n",
    "\n",
    "<pre>\n",
    "NOT_2008/N1                directorio de trabajo con los t_AL*.fits ficheros recortados\n",
    "NOT_2008/N1/0_originales   donde moveríamos los ficheros originales \n",
    "                           $> mkdir 0_originales\n",
    "                           $> mv AL*.fits originales/.\n",
    "</pre>\n",
    "\n",
    "\n",
    "### Generación del master BIAS\n",
    "Combinando los BIAS obtendremos un master_BIAS o master_DARK que será el que usemos en la correción de BIAS. Como veremos se consigue una imagen con menor dispersión y en la que desaparecen los píxeles de alta señal correspondientes a la llegada de rayos cósmicos mientras se lee el detector.\n",
    "\n",
    "Podemos empezar preparando la lista completa de ficheros en nuestro directorio de trabajo. De ella seleccionaremos luego los ficheros de BIAS de esa noche como hemos aprendido antes."
   ]
  },
  {
   "cell_type": "code",
   "execution_count": null,
   "metadata": {},
   "outputs": [],
   "source": [
    "import os\n",
    "from glob import glob\n",
    "directory='/Users/jzamorano/Desktop/NOT_2008/N1/'   # write here your working directory\n",
    "# os.path.join is a platform-independent way to join two directories\n",
    "globpath = os.path.join(directory, 't_*.fits')      # already trimmed files names begin with 't_'\n",
    "print(globpath)\n",
    "# glob searches through directories similar to the Unix shell\n",
    "filelist = sorted(glob(globpath))\n",
    "print(filelist[100:105])    # printing only from 10 to 20"
   ]
  },
  {
   "cell_type": "markdown",
   "metadata": {},
   "source": [
    "Nos preparamos para buscar los ficheros de BIAS de nuestra lista completa de imágenes"
   ]
  },
  {
   "cell_type": "code",
   "execution_count": null,
   "metadata": {},
   "outputs": [],
   "source": [
    "from ccdproc import ImageFileCollection\n",
    "from ccdproc.utils.sample_directory import sample_directory_with_files\n",
    "keys = ['imagetyp','OBJECT' , 'EXPTIME' , 'ALFLTID' , 'FAFLTID' , 'FBFLTID']\n",
    "ic1 = ImageFileCollection(directory, keywords=keys) # only keep track of keys\n",
    "ic1.summary.colnames\n",
    "print(keys)"
   ]
  },
  {
   "cell_type": "markdown",
   "metadata": {},
   "source": [
    "Seleccionamos los que tienen 'BIAS' en el descriptor ``imagetyp``"
   ]
  },
  {
   "cell_type": "code",
   "execution_count": null,
   "metadata": {},
   "outputs": [],
   "source": [
    "matches = (ic1.summary['imagetyp'] == 'BIAS') \n",
    "my_bias_files = ic1.summary['file'][matches]\n",
    "print(my_bias_files)"
   ]
  },
  {
   "cell_type": "markdown",
   "metadata": {},
   "source": [
    "Leemos los ficheros a objetos CCDData ya que queremos usar ``ccdproc``para combinarlos."
   ]
  },
  {
   "cell_type": "code",
   "execution_count": null,
   "metadata": {},
   "outputs": [],
   "source": [
    "image_bias = []\n",
    "for file in my_bias_files:\n",
    "    image_bias.append(CCDData.read(directory+file)) #, unit=\"adu\"))"
   ]
  },
  {
   "cell_type": "markdown",
   "metadata": {},
   "source": [
    "La recomendación es visualizarlos con DS9 para comprobar que son todos útiles y que no hay alguno con dimensiones distintas o algún otro problema. Podemos hacer un poco de estadística."
   ]
  },
  {
   "cell_type": "code",
   "execution_count": null,
   "metadata": {},
   "outputs": [],
   "source": [
    "print('Filename          Object        exp Mean std min  max')\n",
    "exposure = []\n",
    "for i in range(len(my_bias_files)):\n",
    "    print(image_bias[i].header['FILENAME'], \n",
    "          image_bias[i].header['OBJECT'], \n",
    "          image_bias[i].header['EXPTIME'], \n",
    "          int(np.mean(image_bias[i])), \n",
    "          int(np.std(image_bias[i])), \n",
    "          np.min(image_bias[i]), \n",
    "          np.max(image_bias[i]))"
   ]
  },
  {
   "cell_type": "markdown",
   "metadata": {},
   "source": [
    "<pre>\n",
    "Filename          Object        exp Mean std min  max\n",
    "t_ALrd120001.fits Bias afternoon 0.0 353 7 311 10680\n",
    "t_ALrd120002.fits Bias afternoon 0.0 355 8 313 10558\n",
    "t_ALrd120003.fits Bias afternoon 0.0 357 8 314 8746\n",
    "t_ALrd120004.fits Bias afternoon 0.0 358 5 312 5407\n",
    "t_ALrd120005.fits Bias afternoon 0.0 358 7 313 8782\n",
    "t_ALrd120006.fits Bias afternoon 0.0 358 5 317 4349\n",
    "t_ALrd120007.fits Bias afternoon 0.0 358 4 317 1631\n",
    "t_ALrd120008.fits Bias afternoon 0.0 358 10 317 10974\n",
    "t_ALrd120009.fits Bias afternoon 0.0 358 4 316 1518\n",
    "t_ALrd120010.fits Bias afternoon 0.0 358 6 319 7516\n",
    "</pre>\n",
    "\n",
    "Y también preparar unos histogramas para comprobar que son similares entre sí.  \n",
    "Para hacer el histograma se necesita \n",
    "- usar los datos del objeto ``CCDData``  image_bias[i].data\n",
    "- colapsar el array resultante a una dimensión con ``flatten()``  image_bias[i].data.flatten()  \n",
    "\n",
    "```{note}\n",
    "astropy dispone de una rutina de histograma más completa si se desea:  [astropy hist](https://docs.astropy.org/en/stable/api/astropy.visualization.hist.html#astropy.visualization.hist).  \n",
    "Esa rutina de histograma forma parte de [astropy Data Visualization](https://docs.astropy.org/en/stable/visualization/index.html#module-astropy.visualization)\n",
    "```"
   ]
  },
  {
   "cell_type": "code",
   "execution_count": null,
   "metadata": {},
   "outputs": [],
   "source": [
    "bins = np.arange(330, 380, 5)\n",
    "fig, axarr = plt.subplots(ncols=5, nrows=1, figsize=(12, 4))\n",
    "for i in range(0,5): #len(my_bias_files)):\n",
    "    ax = axarr[i]\n",
    "    ax.hist(image_bias[i].data.flatten(), alpha=0.8, bins=bins, label=i)\n",
    "    ax.grid()\n",
    "    ax.set_xticks([340,360,380])\n",
    "    ax.set_title('BIAS '+image_bias[i].header['FILENAME'][8:12])\n",
    "    if i > 0:\n",
    "        ax.label_outer()\n",
    "plt.xlim(330,380)\n",
    "\n",
    "fig, axarr = plt.subplots(ncols=5, nrows=1, figsize=(12, 4))\n",
    "for i in range(5,10): #len(my_bias_files)):\n",
    "    ax = axarr[i-5]\n",
    "    ax.hist(image_bias[i].data.flatten(), alpha=0.8, bins=bins, label=i)\n",
    "    ax.grid()\n",
    "    ax.set_xticks([340,360,380])\n",
    "    ax.set_title('BIAS '+image_bias[i].header['FILENAME'][8:12])\n",
    "    if i > 0:\n",
    "        ax.label_outer()\n",
    "plt.xlim(330,380)"
   ]
  },
  {
   "cell_type": "markdown",
   "metadata": {},
   "source": [
    "Hemos elegido representar entre valores cercanos al valor medio que encontramos antes\n",
    "\n",
    "\n",
    "```{figure} /_static/lecture_specific/p2_fotometria/p2_04_bias_1.png\n",
    "---\n",
    "width: 600px\n",
    "name: bias-1-fig\n",
    "---\n",
    "Histograma de las imágenes de BIAS correspondientes a la noche primera.\n",
    "```\n",
    "```{figure} /_static/lecture_specific/p2_fotometria/p2_04_bias_2.png\n",
    "---\n",
    "width: 600px\n",
    "name: bias-2-fig\n",
    "---\n",
    "Representación de las imágenes de BIAS usando los mismos cortes. Se aprecian pequeñas diferencias.\n",
    "```\n",
    "```{figure} /_static/lecture_specific/p2_fotometria/p2_04_bias_3.png\n",
    "---\n",
    "width: 600px\n",
    "name: bias-3-fig\n",
    "---\n",
    "Imagen del último BIAS de la serie de 10 y detalle del mismo en una región con impactos aparentes de rayos cósmicos. \n",
    "```\n",
    "Para combinar las imágenes de BIAS usaremos algunos paquetes de astropy"
   ]
  },
  {
   "cell_type": "code",
   "execution_count": null,
   "metadata": {},
   "outputs": [],
   "source": [
    "# Some astropy packages \n",
    "import ccdproc\n",
    "from ccdproc import CCDData, Combiner\n",
    "from astropy import stats\n",
    "from astropy.stats import sigma_clip, mad_std\n",
    "from astropy.stats import sigma_clipped_stats"
   ]
  },
  {
   "cell_type": "markdown",
   "metadata": {},
   "source": [
    "Para combinar imágenes ``astropy`` dispone de ``Combiner``"
   ]
  },
  {
   "cell_type": "code",
   "execution_count": null,
   "metadata": {},
   "outputs": [],
   "source": [
    "# Combiner is a class for combining CCDData objects.\n",
    "# https://ccdproc.readthedocs.io/en/latest/api/ccdproc.Combiner.html\n",
    "# The Combiner class is used to combine together CCDData objects \n",
    "# including the method for combining the data, rejecting outlying data, \n",
    "# and weighting used for combining frames.\n",
    "\n",
    "combiner = Combiner(image_bias)"
   ]
  },
  {
   "cell_type": "markdown",
   "metadata": {},
   "source": [
    "Antes de combinar podemos rechazar los valores altos que aparecen en los píxeles impactados por rayos cósmicos.  \n",
    "El master_dark se puede ahora crear con la combinación de nuestro gusto. Para 10 ficheros de BIAS las diferencias van a ser mínimas entre ``median_combine`` o ``mean_combine``. Puede leerse sobre este tema en: [CCD data reduction guide  Image combination](https://mwcraig.github.io/ccd-as-book/01-06-Image-combination.html)"
   ]
  },
  {
   "cell_type": "code",
   "execution_count": null,
   "metadata": {},
   "outputs": [],
   "source": [
    "# clipping all values over 800 to remove cosmic rays hits \n",
    "combiner.minmax_clipping(min_clip=None, max_clip=800)\n",
    "# median combine \n",
    "master_dark = combiner.median_combine()\n",
    "# median filter  \n",
    "master_dark_filtered = ccdproc.median_filter(master_dark, 3)"
   ]
  },
  {
   "cell_type": "markdown",
   "metadata": {},
   "source": [
    "```{figure} /_static/lecture_specific/p2_fotometria/p2_04_bias_4.png\n",
    "---\n",
    "width: 800px\n",
    "name: bias-4-fig\n",
    "---\n",
    "Detalles de y estadística (media y desviación estándar) de una imagen individual de BIAS y la combinación de mediana. La última imagen es el resultado de aplicar un filtro de mediana a éste último dark. La región amarilla presenta una estadística con mayor desviación debido a los impactos de rayos cósmicos pero en el master_dark este problema se arregla. Nótese que los píxeles de valor alto han desaparecido.\n",
    "```\n",
    "Copiamos la cabecera de uno de los BIAS y le añadimos información del procesado hasta llegar al master_dark. usamos como FILENAME 'N1_master_dark' que es un nombre más descriptivo."
   ]
  },
  {
   "cell_type": "code",
   "execution_count": null,
   "metadata": {},
   "outputs": [],
   "source": [
    "# Copy primary header from single dark file and copy into master_dark header\n",
    "master_dark.header = image_bias[0].header.copy()"
   ]
  },
  {
   "cell_type": "code",
   "execution_count": null,
   "metadata": {},
   "outputs": [],
   "source": [
    "# Replace FILENAME keyword and add information\n",
    "master_dark.header['HISTORY']  = 'super DARK combining '+ str(len(image_bias)) + ' BIAS images'\n",
    "master_dark.header['HISTORY']  =  str(datetime.datetime.now())[0:18]+' astropy median combine'\n",
    "master_dark.header['HISTORY']  = 'BIAS images from ' + str(image_bias[0].header['FILENAME'])+' to ' + str(image_bias[9].header['FILENAME'])\n",
    "master_dark.header['FILENAME'] = 'N1_master_dark' "
   ]
  },
  {
   "cell_type": "markdown",
   "metadata": {},
   "source": [
    "A continuación escribimos esta imagen como fichero FITS en el directorio de trabajo como 'zero_N1.fits'"
   ]
  },
  {
   "cell_type": "code",
   "execution_count": null,
   "metadata": {},
   "outputs": [],
   "source": [
    "master_dark.write(directory+'zero_N1.fits',overwrite='yes')"
   ]
  },
  {
   "cell_type": "markdown",
   "metadata": {},
   "source": [
    "```{figure} /_static/lecture_specific/p2_fotometria/p2_04_bias_5.png\n",
    "---\n",
    "width: 700px\n",
    "name: bias-5-fig\n",
    "---\n",
    "Estas tres líneas aparecen en el final de la cabecera del master_dark informando de cómo se ha preparado esta imagen. Se conservan las dos primeras líneas de HISTORY donde se apuntaba el recorte ('trimming') que habían sufrido anteriormente.\n",
    "```\n",
    "\n",
    "### Corrección de bias \n",
    "En este paso utilizaremos el master_DARK (o master_BIAS) para corregir todas las imágenes de este nivel de BIAS. No es necesario seleccionar por filtro empleado en este caso porque el nivel es independiente de la cantidad y tipo de luz que llegue al chip.\n",
    "\n",
    "Si hemos seguido los pasos anteriores nuestro master DARK se llama 'zero_N1.fits' y se encuentra en nuestro directorio de trabajo. En este directorio están también las imágenes recortadas."
   ]
  },
  {
   "cell_type": "code",
   "execution_count": null,
   "metadata": {},
   "outputs": [],
   "source": [
    "# reading master_bias from 'zero_N1.fits'\n",
    "filename = 'zero_N1.fits'\n",
    "master_bias = CCDData.read(directory+filename)"
   ]
  },
  {
   "cell_type": "markdown",
   "metadata": {},
   "source": [
    "Haremos una corrección de BIAS en dos imágenes como ejemplo para ver que el comando ccdproc_subtract_bias que usaremos luego es una simple resta de imágenes. Una de ellas es una observación de nuestro proyecto y la otra una imagen de calibración, uno de los BIAS individuales que usamos para construir el maaster BIAS."
   ]
  },
  {
   "cell_type": "code",
   "execution_count": null,
   "metadata": {},
   "outputs": [],
   "source": [
    "science = CCDData.read(filelist[102])    # file with a science observation\n",
    "onebias = CCDData.read(filelist[9])      # file with a single BIAS frame"
   ]
  },
  {
   "cell_type": "code",
   "execution_count": null,
   "metadata": {},
   "outputs": [],
   "source": [
    "# Statistics of the example images\n",
    "print('Filename          Object            exp  Mean std min  max')\n",
    "print(science.header['FILENAME'], science.header['OBJECT'], science.header['EXPTIME'], \n",
    "          int(np.mean(science)), int(np.std(science)), np.min(science), np.max(science))\n",
    "print(bias.header['FILENAME'], onebias.header['OBJECT'], onebias.header['EXPTIME'], \n",
    "          int(np.mean(onebias)), int(np.std(onebias)), np.min(onebias), np.max(onebias))"
   ]
  },
  {
   "cell_type": "markdown",
   "metadata": {},
   "source": [
    "<pre>\n",
    "Filename          Object            exp  Mean std min  max\n",
    "t_ALrd120103.fits GC4496A R 3x300s 300.0 6431 456 367 65535\n",
    "t_ALrd120010.fits Bias afternoon 0.0 358 6 319 7516\n",
    "</pre>\n",
    "La imagen de ciencia es la primera observación de una serie de tres observaciones de 300s de exposición de NGC4496A con el filtro R. Nótese que el observador puso 'GC4496A' en lugar de 'NGC4496A'. El valor máximo es de 65535 que resulta ser el número más alto que se puede reperesentar con números binarios de 16-bits (unsigned) y por lo tanto indica que hay algún píxel completamente saturado.  ( 65535 =  2^16 -1 )\n",
    "\n",
    "```{figure} /_static/lecture_specific/p2_fotometria/p2_04_bias_6.png\n",
    "---\n",
    "width: 700px\n",
    "name: bias-6-fig\n",
    "---\n",
    "Imágenes de prueba a las que vamos a restar el master BIAS. Los recuadros muestran el valor medio y la desviación estándar.\n",
    "```"
   ]
  },
  {
   "cell_type": "code",
   "execution_count": null,
   "metadata": {},
   "outputs": [],
   "source": [
    "# Corrección de BIAS usando numpy subtract\n",
    "onebias_minus_bias = np.subtract(onebias,master_bias)\n",
    "science_minus_bias = np.subtract(science,master_bias)"
   ]
  },
  {
   "cell_type": "markdown",
   "metadata": {},
   "source": [
    "```{figure} /_static/lecture_specific/p2_fotometria/p2_04_bias_7.png\n",
    "---\n",
    "width: 700px\n",
    "name: bias-7-fig\n",
    "---\n",
    "Las imágenes de prueba a las que hemos restado el master BIAS. Los recuadros muestran el valor medio y la desviación estándar. Como esperábamos la señal de un BIAS al que restamos un master BIAS se queda en cero y la desviación típica no cambia. En el caso de la imagen de ciencia tenemos el nivel reducido en unas 358 cuentas (el valor medio del master BIAS).\n",
    "```\n",
    "Corregir con el comando de ccdproc es muy sencillo y produce el mismo resultado."
   ]
  },
  {
   "cell_type": "code",
   "execution_count": null,
   "metadata": {},
   "outputs": [],
   "source": [
    "# Corrección de BIAS usando numpy subtract\n",
    "bias_subtracted_onebias = ccdproc.subtract_bias(onebias, master_bias)\n",
    "bias_subtracted_science = ccdproc.subtract_bias(science, master_bias)"
   ]
  },
  {
   "cell_type": "markdown",
   "metadata": {},
   "source": [
    "```{figure} /_static/lecture_specific/p2_fotometria/p2_04_bias_8.png\n",
    "---\n",
    "width: 700px\n",
    "name: bias-8-fig\n",
    "---\n",
    "Las imágenes de prueba a las que vamos hemos restado el master BIAS usando ccdproc.subtract_bias). El resultado es idéntico.\n",
    "```\n",
    "\n",
    "#### Corrigiendo todas las imágenes\n",
    "Este sencillo paso que haremos a continuación falla al llegar al fichero 't_ALrd120063.fits' ya que ésta es una imagen de menor tamaño. Esta observación es un enfoque del telescopio y no tiene utilidad científica. Por eso es conveniente mirar el cuaderno de observaciones. Por lo tanto la borramos.\n",
    "<pre>\n",
    "$ rm t_ALrd120063.fits\n",
    "</pre>\n",
    "\n",
    "ahora simplemente recorremos toda la lista de imágenes y para cada una de ellas efectuamos la substracción de BIAS, le cambiamos el nombre añadiendo una z (de 'zero corrected') y añadimos información con descriptores HISTORY."
   ]
  },
  {
   "cell_type": "code",
   "execution_count": null,
   "metadata": {},
   "outputs": [],
   "source": [
    "for i in range (len(filelist)):\n",
    "    image = CCDData.read(filelist[i]) #, unit=\"adu\")\n",
    "    z_image = ccdproc.subtract_bias(image,master_bias)\n",
    "    name_of_file = 'z'+ str(image.header['FILENAME'])\n",
    "    z_image.header['FILENAME']  = name_of_file\n",
    "    z_image.header['HISTORY']   = str(datetime.datetime.now())[0:18]+' astropy ccdproc substract_bias'\n",
    "    z_image.header['HISTORY']   = 'using NOT2008/N1/zero_N1.fits master BIAS' \n",
    "    print('writting '+name_of_file+ ' in '+directory)\n",
    "    z_image.write(directory+name_of_file,overwrite='yes')"
   ]
  },
  {
   "cell_type": "markdown",
   "metadata": {},
   "source": [
    "Si todo ha ido bien tendremos en el directorio de trabajo imágenes con nombre 'zt_ALrd120062.fits' por ejemplo y que en cuya cabecera FITS se puede leer la información de su procesado.\n",
    "\n",
    "```{figure} /_static/lecture_specific/p2_fotometria/p2_04_bias_9.png\n",
    "---\n",
    "width: 600px\n",
    "name: bias-9-fig\n",
    "---\n",
    "Estas líneas aparecen en el final de la cabecera de las imágenes corregidas de BIAS informando de cómo se ha procesado esta imagen. Se conservan las dos primeras líneas de HISTORY donde se apuntaba el recorte ('trimming') que habían sufrido anteriormente.\n",
    "```\n",
    "Los ficheros se han creado en el mismo directorio del que leimos las imágenes. La recomendación es dejarlos ahí y crear un subdirectorio para meter las imágenes recortadas (primer paso). De esta forma nuestro directorio de trabajo sigue siendo el mismo y las imágenes originales y recortadas siguen a nuestra disposición por si nos equivocamos en alguno de los pasos. Tendríamos entonces\n",
    "\n",
    "<pre>\n",
    "NOT_2008/N1                directorio de trabajo con los t_AL*.fits ficheros recortados\n",
    "NOT_2008/N1/0_originales   donde mantenemos los ficheros antes de procesado\n",
    "NOT_2008/N1/1_recortados   donde almacenaremos el resultado del primer paso \n",
    "                           $> mkdir 1_recortados\n",
    "                           $> mv t_AL*.fits 1_recortados/.\n",
    "</pre>\n",
    "\n",
    "Si hacemos un listado nuestro directorio de trabajo tendrá este aspecto:\n",
    "<pre>\n",
    "N1 jzamorano$ ls\n",
    "0_originales       zt_ALrd120011.fits zt_ALrd120024.fits zt_ALrd120037.fits zt_ALrd120050.fits\n",
    "1_recortados       zt_ALrd120012.fits zt_ALrd120025.fits zt_ALrd120038.fits zt_ALrd120051.fits\n",
    "zero_N1.fits       zt_ALrd120013.fits zt_ALrd120026.fits zt_ALrd120039.fits zt_ALrd120052.fits\n",
    "zt_ALrd120001.fits zt_ALrd120014.fits zt_ALrd120027.fits zt_ALrd120040.fits zt_ALrd120053.fits\n",
    "zt_ALrd120002.fits zt_ALrd120015.fits zt_ALrd120028.fits zt_ALrd120041.fits zt_ALrd120054.fits\n",
    "zt_ALrd120003.fits zt_ALrd120016.fits zt_ALrd120029.fits zt_ALrd120042.fits zt_ALrd120055.fits\n",
    "zt_ALrd120004.fits zt_ALrd120017.fits zt_ALrd120030.fits zt_ALrd120043.fits zt_ALrd120056.fits\n",
    "zt_ALrd120005.fits zt_ALrd120018.fits zt_ALrd120031.fits zt_ALrd120044.fits zt_ALrd120057.fits\n",
    "zt_ALrd120006.fits zt_ALrd120019.fits zt_ALrd120032.fits zt_ALrd120045.fits zt_ALrd120058.fits\n",
    "zt_ALrd120007.fits zt_ALrd120020.fits zt_ALrd120033.fits zt_ALrd120046.fits zt_ALrd120059.fits\n",
    "...\n",
    "</pre>\n",
    "\n",
    "### Generación de un máster flat field por filtro\n",
    "El FlatField representa la respuesta espacial del CCD y necesitamos determinarlo bien ya que se aplicará a todas las imágenes para corregir este efecto. Normalmente se obtienen FlatFields de cúpula y FlatField de cielo. En el primer caso tenemos la ventaja de disponer del tiempo que sea necesario ya que se trata de iluminar la cúpula con lámparas y tomar imágenes. Los FlatField de cielo se toman en los crepúsculos apuntando el telescopio a regiones libres de estrellas brillantes (Blank Fields). No siempre es fácil conseguirlos ya que el tiempo es limitado y las condiciones de luz varían muy rápidamente. Recordemos que deben tomarse para cada filtro de los que se estén empleando. En primera aproximación, se prefiere FlatField de cielo ya que reproduce mejor el color del cielo pero si no son de calidad suficiente o no se dispone de ellos se usan los de cúpula. \n",
    "\n",
    "Veamos de cuantos FlatField disponemos y si son de calidad suficiente. Para buscamos en el resultado los ficheros correspondientes a FlatFields. Ya vimos que esta información aparece en el nombre del objeto observado ``object`` pero no en el descriptor ``ccdtype`` como es lo habitual. Puede usarse también el cuaderno de observaciones para comprobar. Usamos Image.Collection que ya aprendimos a usar antes."
   ]
  },
  {
   "cell_type": "code",
   "execution_count": null,
   "metadata": {},
   "outputs": [],
   "source": [
    "keys = ['imagetyp','OBJECT' , 'EXPTIME' , 'ALFLTID' , 'FAFLTID' , 'FBFLTID']\n",
    "ic1 = ImageFileCollection(directory, keywords=keys) # only keep track of keys\n",
    "ic1.summary.colnames\n",
    "print(keys)"
   ]
  },
  {
   "cell_type": "markdown",
   "metadata": {},
   "source": [
    "<pre>\n",
    "['imagetyp', 'OBJECT', 'EXPTIME', 'ALFLTID', 'FAFLTID', 'FBFLTID']\n",
    "</pre>"
   ]
  },
  {
   "cell_type": "code",
   "execution_count": null,
   "metadata": {},
   "outputs": [],
   "source": [
    "list_of_flats = ic1.files_filtered(regex_match=True,object='flat')\n",
    "print(list_of_flats)"
   ]
  },
  {
   "cell_type": "markdown",
   "metadata": {},
   "source": [
    "<pre>\n",
    "['zt_ALrd120011.fits' 'zt_ALrd120012.fits' 'zt_ALrd120013.fits'\n",
    " 'zt_ALrd120014.fits' 'zt_ALrd120015.fits' 'zt_ALrd120016.fits'\n",
    " 'zt_ALrd120017.fits' 'zt_ALrd120018.fits' 'zt_ALrd120019.fits'\n",
    " 'zt_ALrd120020.fits' 'zt_ALrd120021.fits' 'zt_ALrd120022.fits'\n",
    " 'zt_ALrd120023.fits' 'zt_ALrd120024.fits' 'zt_ALrd120025.fits'\n",
    "...\n",
    " 'zt_ALrd120056.fits' 'zt_ALrd120057.fits' 'zt_ALrd120058.fits'\n",
    " 'zt_ALrd120059.fits' 'zt_ALrd120060.fits' 'zt_ALrd120061.fits'\n",
    " 'zt_ALrd120062.fits']\n",
    "</pre>\n",
    "\n",
    "O mejor todavía listamos los ficheros, sus nombres, filtros y tiempo de exposición. La identificación de los filtros de las observaciones con filtros de banda ancha aparece en 'ALFLTID' y las correspondientes a banda estrecha (que se colocan en FASU B) en  'FBFLTID'"
   ]
  },
  {
   "cell_type": "code",
   "execution_count": null,
   "metadata": {},
   "outputs": [],
   "source": [
    "for i in range(len(list_of_flats)):\n",
    "    HDUList_object = fits.open(directory+list_of_flats[i])\n",
    "    primary_header = HDUList_object[0].header\n",
    "    print(primary_header['FILENAME'],primary_header['OBJECT'],primary_header['exptime']\n",
    "          ,primary_header['ALFLTID'],primary_header['FBFLTID'])"
   ]
  },
  {
   "cell_type": "markdown",
   "metadata": {},
   "source": [
    "<pre>\n",
    "zt_ALrd120011.fits Dome Flat R 1.0 76 0\n",
    "zt_ALrd120012.fits Dome Flat R 1.0 76 0\n",
    "zt_ALrd120013.fits Dome Flat R 1.0 76 0\n",
    "zt_ALrd120014.fits Dome Flat R 1.0 76 0\n",
    "...\n",
    "zt_ALrd120049.fits Sky Flat evening 11.0 0 78\n",
    "zt_ALrd120050.fits Sky Flat evening 17.0 0 78\n",
    "zt_ALrd120051.fits Sky Flat evening 18.0 0 49\n",
    "zt_ALrd120052.fits Sky Flat evening 27.0 0 49\n",
    "zt_ALrd120053.fits Sky Flat evening 43.0 0 49\n",
    "zt_ALrd120054.fits Sky Flat evening 10.0 0 49\n",
    "...\n",
    "zt_ALrd120059.fits Sky Flat evening 4.9 76 0\n",
    "zt_ALrd120060.fits Sky Flat evening 7.0 76 0\n",
    "zt_ALrd120061.fits Sky Flat evening 10.0 76 0\n",
    "zt_ALrd120062.fits Sky Flat evening 15.0 76 0\n",
    "</pre>\n",
    "\n",
    "Con esta información y la del cuaderno de observación tenemos una tabla completa donde ya anticipa algunos problemas de exceso de cuentas o filtro girado. Como siempre visualizarlo con DS9 ayuda a salir de dudas.\n",
    "\n",
    "\n",
    "<pre>\n",
    "zt_AL12011-ztAL12020   Dome Flat R       1s \n",
    "zt_AL12021             Dome Flat NB#78   10s   9 kcuentas\n",
    "zt_AL12022             Dome Flat NB#49   30s  39 kc demasiado alto\n",
    "zt_AL12023-zt_AL12032  Dome Flat NB#78   30s  24\n",
    "zt_AL12033-zt_AL12042  Dome Flat NB#49   20s  no valen (filtro girado)\n",
    "zt_AL12043             Dome Flat NB#49   10s  filtro en posición correcta\n",
    "\n",
    "zt_AL12044             Sky Flat NB#78    0.1s   3 kc\n",
    "zt_AL12045             Sky Flat NB#78    1.2s  11 kc\n",
    "zt_AL12046             Sky Flat NB#78    3.5s  27 kc\n",
    "zt_AL12047             Sky Flat NB#78    5.0s  30 kc\n",
    "zt_AL12048             Sky Flat NB#78    7.5s  29 kc\n",
    "zt_AL12049             Sky Flat NB#78     11s  32 kc\n",
    "zt_AL12050             Sky Flat NB#78     17s  31 kc\n",
    "zt_AL12051             Sky Flat NB#49     18s  30 kc\n",
    "zt_AL12052             Sky Flat NB#49     27s  30 kc\n",
    "zt_AL12053             Sky Flat NB#49     43s  28 kc a otro blank field\n",
    "zt_AL12054             Sky Flat NB#49     10s  18 kc\n",
    "zt_AL12055             Sky Flat NB#49     22s  24 kc\n",
    "zt_AL12056             Sky Flat NB#49     33s  24 kc\n",
    "\n",
    "zt_AL12057             Sky Flat #76      2.5s  26 kc   Filtro R de Bessel\n",
    "zt_AL12058             Sky Flat #76      3.3s  24 kc\n",
    "zt_AL12059             Sky Flat #76      4.9s  27 kc\n",
    "zt_AL12060             Sky Flat #76      7.0s  27 kc\n",
    "zt_AL12061             Sky Flat #76       10s  28 kc\n",
    "zt_AL12062             Sky Flat #76       15s  27 kc\n",
    "</pre>\n",
    "\n",
    "\n",
    "```{figure} /_static/lecture_specific/p2_fotometria/p2_05_flats_1.png\n",
    "---\n",
    "width: 600px\n",
    "name: flats-1-fig\n",
    "---\n",
    "Imágenes de flats zt_ALrd120033 y zt_ALrd120043. La primera muestra el filtro descolocado en la rueda de filtros. Toda la serie con ese problema debe descartarse. Los observadores se dieron cuenta al final de la serie de 10 flats y se puedo corregir el problema.\n",
    "```\n",
    "\n",
    "Se aprenden varias cosas con esta tabla construida con el cuaderno de observaciones: (a) Se ha buscado que los FlatField tengan alrededor de 30 kc para que, siendo un nivel alto, estemos seguros de estar en el régimen lineal del CCD; (b) Los filtros estrechos se han observado antes que el filtro ancho ya que en la puesta de sol cada vez tenemos menos luz disponible y (c) se ha conseguido un buen registro de FlatFields de cielo con un nivel de cuentas adecuado. Para el cálculo de los tiempos de exposición se usaron las tablas que aparecen en Tyson et al. (1993) AJ 105,1206. Los valores de señal en cada imagen se pueden obtener realizando estadística para comprobar que coinciden con lo anotado en el cuaderno de observaciones.\n",
    "\n",
    "En nuestro caso tenemos tres filtros empleados y un número reducido de imágenes y mejor que hacer un procedimiento automático trae cuenta generar directamente las listas de ficheros correspondientes a FLATS de cada banda fotométrica. así que tras la inspección de las imágenes decidimos incluir en las listas los ficheros"
   ]
  },
  {
   "cell_type": "code",
   "execution_count": null,
   "metadata": {},
   "outputs": [],
   "source": [
    "FF_list_78 = ['120044' , '120045' , '120046' , '120047'\n",
    "            , '120048' , '120049' , '120050']\n",
    "FF_list_49 = ['120051' , '120052' , '120053' \n",
    "            , '120054' , '120055' , '120056']\n",
    "FF_list_76 = ['120057' , '120058' , '120059' \n",
    "            , '120060' , '120061' , '120062']"
   ]
  },
  {
   "cell_type": "markdown",
   "metadata": {},
   "source": [
    "donde para ahorrarnos ecribir sólo hemos puesto parte del nombre. Así 120044 corresponde al fichero ALrd120044.fits.\n",
    "\n",
    "Leemos los ficheros correspondientes a cada filtro"
   ]
  },
  {
   "cell_type": "code",
   "execution_count": null,
   "metadata": {},
   "outputs": [],
   "source": [
    "image_flats_78 = []\n",
    "for file in FF_list_78:\n",
    "    image_flats_78.append(CCDData.read(directory+'zt_ALrd'+file+'.fits')) \n",
    "image_flats_49 = []\n",
    "for file in FF_list_49:\n",
    "    image_flats_49.append(CCDData.read(directory+'zt_ALrd'+file+'.fits')) \n",
    "image_flats_76 = []\n",
    "for file in FF_list_76:\n",
    "    image_flats_76.append(CCDData.read(directory+'zt_ALrd'+file+'.fits')) "
   ]
  },
  {
   "cell_type": "markdown",
   "metadata": {},
   "source": [
    "para poder trabajar con ellos. De momento es interesante visualizarlos y hacer un poco de estadística. No queremos usar una imagen con poca señal para combinar con otras de mejor calidad porque seguramente estropearemos el resultado.\n",
    "\n",
    "```{figure} /_static/lecture_specific/p2_fotometria/p2_05_flats_2.png\n",
    "---\n",
    "width: 800px\n",
    "name: flats-2-fig\n",
    "---\n",
    "Se muestran seis de los Flats correspondientes al filtro estrecho #78 tomadas consecutivamente en el crepúsculo vespertino. \n",
    "```\n",
    "El oscurecimiento del cielo es muy rápido y la cantidad de luz disponible es cada vez menor por lo que los observadores deben aumentar el tiempo de exposición en cada toma para lograr imágenes con al señal adecuada. En este caso se pretendía obtener unas 30 mil cuentas y se fue aumentando la exposición al principio hasta llegar a ese valor y se eligió el tiempo de las siguientes tomas para mantenerlo en ese nivel.\n",
    "\n",
    "Como los dos primeros FLATs tienen menos cuentas podríamos retirarlos de la combinación. Desde luego el primero con 3000 cuentas frente a 30000 hay que retirarlo. Como tenemos suficientes retiramos los dos primeros"
   ]
  },
  {
   "cell_type": "code",
   "execution_count": null,
   "metadata": {},
   "outputs": [],
   "source": [
    "#FF_list_78 = ['120044' , '120045' , '120046' , '120047'\n",
    "#            , '120048' , '120049' , '120050']\n",
    "FF_list_78 = ['120046' , '120047', '120048' , '120049' , '120050']"
   ]
  },
  {
   "cell_type": "markdown",
   "metadata": {},
   "source": [
    "```{figure} /_static/lecture_specific/p2_fotometria/p2_05_flats_3.png\n",
    "---\n",
    "width: 800px\n",
    "name: flats-3-fig\n",
    "---\n",
    "Se muestran dos de los Flats correspondientes al filtro ancho #76 (filtro R de Bessel) tomadas consecutivamente en el crepúsculo vespertino. \n",
    "```\n",
    "En este caso las observaciones con filtro ancho (más señal que en los estrechos) se realizaron al final del crepúsculo cuando ya estaba el cielo más oscuro. En estas dos últimas tomas se aprecia la imagen de una estrella. Los apuntados del telescopio para Flats de cielo se hacen a zonas 'libres de estrellas' ('Blank fields') para evitar en lo posible que suceda esto. Además entre cada toma se mueve un poco el telescopio para que las posibles imágenes de estrellas aparezcan en diferentes lugares del detector. \n",
    "\n",
    "Agrupamos los ficheros correspondientes a los FLats de cada filtro en un ``combiner``."
   ]
  },
  {
   "cell_type": "code",
   "execution_count": null,
   "metadata": {},
   "outputs": [],
   "source": [
    "combiner_49 = Combiner(image_flats_49)\n",
    "combiner_76 = Combiner(image_flats_76)\n",
    "combiner_78 = Combiner(image_flats_78)"
   ]
  },
  {
   "cell_type": "markdown",
   "metadata": {},
   "source": [
    "y combinamos para cada filtro"
   ]
  },
  {
   "cell_type": "code",
   "execution_count": null,
   "metadata": {},
   "outputs": [],
   "source": [
    "# median combine \n",
    "master_flat_76 = combiner_76.median_combine()\n",
    "master_flat_78 = combiner_78.median_combine()\n",
    "master_flat_49 = combiner_49.median_combine()"
   ]
  },
  {
   "cell_type": "markdown",
   "metadata": {},
   "source": [
    "```{figure} /_static/lecture_specific/p2_fotometria/p2_05_flats_4.png\n",
    "---\n",
    "width: 800px\n",
    "name: flats-4-fig\n",
    "---\n",
    "Se muestran un flat del filtro ancho donde aparece al imagen de una estrella y la combinación de  los flats donde desaparece esa estrella. \n",
    "```\n",
    "\n",
    "El master FLAT presenta una degradación del número de cuentas hacia los bordes que puede ser en parte debido a viñeteo. La corrección con estos FLATS permitirá corregir este efecto.\n",
    "\n",
    "Antes de procesar las imágenes de ciencia vamos a comprobar que la rutina ``ccdproc.flat_correct`` divide por un FLAT normalizado. Si no fuere así tendríamos que normalizar el master FLAT. La división por una imagen con valores \n",
    "cercanos a la unidad permite mantener el nivel aproximado de cuentas que es muy útil para calcular la relación señal ruido. Usamos la imagen 102"
   ]
  },
  {
   "cell_type": "code",
   "execution_count": null,
   "metadata": {},
   "outputs": [],
   "source": [
    "image = CCDData.read(filelist[102])\n",
    "print(image.header['object'],'  filter: ',image.header['ALFLTID'])"
   ]
  },
  {
   "cell_type": "markdown",
   "metadata": {},
   "source": [
    "<pre>\n",
    "GC4496A R 3x300s   filter:  76\n",
    "</pre>\n",
    "\n",
    "y la procesamos para corregir de FLAT"
   ]
  },
  {
   "cell_type": "code",
   "execution_count": null,
   "metadata": {},
   "outputs": [],
   "source": [
    "reduced_image = ccdproc.flat_correct(image, master_flat_76)"
   ]
  },
  {
   "cell_type": "markdown",
   "metadata": {},
   "source": [
    "Si las mostramos juntas comprobamos que tienen niveles parecidos.\n",
    "\n",
    "```{figure} /_static/lecture_specific/p2_fotometria/p2_05_flats_5.png\n",
    "---\n",
    "width: 800px\n",
    "name: flats-5-fig\n",
    "---\n",
    "Se muestran una imagen de ciencia y la misma una vez corre¡gida de FLAT.\n",
    "```\n",
    "\n",
    "```{figure} /_static/lecture_specific/p2_fotometria/p2_05_flats_6.png\n",
    "---\n",
    "width: 800px\n",
    "name: flats-6-fig\n",
    "---\n",
    "Detalle en la esquina inferior izquierda de las imágenes de la figura anterior.\n",
    "```\n",
    "\n",
    "```{figure} /_static/lecture_specific/p2_fotometria/p2_05_flats_7.png\n",
    "---\n",
    "width: 800px\n",
    "name: flats-7-fig\n",
    "---\n",
    "Los tres master FLAT correspondientes a los tres filtros empleados en al noche 1.\n",
    "```\n",
    "```{figure} /_static/lecture_specific/p2_fotometria/p2_05_flats_8.png\n",
    "---\n",
    "width: 800px\n",
    "name: flats-8-fig\n",
    "---\n",
    "Los tres master FLAT correspondientes a los tres filtros empleados en al noche 1 mostrados en DS9 con otra tabla de color.\n",
    "```\n",
    "\n",
    "Finalmente, para los tres master FLAT,"
   ]
  },
  {
   "cell_type": "code",
   "execution_count": null,
   "metadata": {},
   "outputs": [],
   "source": [
    "master_flat_49.header = image_flats_49[0].header.copy()\n",
    "master_flat_49.header['HISTORY']  = 'super FLAT combining '+ str(len(image_flats_49)) + ' FLATS images'\n",
    "master_flat_49.header['HISTORY']  =  str(datetime.datetime.now())[0:18]+' astropy median combine'\n",
    "master_flat_49.header['HISTORY']  = 'FLATS images from ' + str(image_flats_49[0].header['FILENAME'])+' to ' + str(image_flats_49[-1].header['FILENAME'])\n",
    "\n",
    "master_flat_49.header['FILENAME'] = 'N1_master_flat_49' \n",
    "\n",
    "master_flat_49.write(directory+'flat_N1_49.fits',overwrite='yes')"
   ]
  },
  {
   "cell_type": "markdown",
   "metadata": {},
   "source": [
    "### Corrigiendo de variación espacial de sensibilidad \n",
    "Ya estamos preparados para corregir de Flat Field ('Flat Fielding') todas las imágenes que interesen. Recordemos que debemos aplicar el Flat Field correspondiente a cada filtro. Entonces la primera tarea es hacer una lista con las imágenes que queremos procesar en este paso. No tiene sentido corregir BIAS o FLATs de Flat Field, por ejemplo."
   ]
  },
  {
   "cell_type": "code",
   "execution_count": null,
   "metadata": {},
   "outputs": [],
   "source": [
    "from ccdproc import ImageFileCollection\n",
    "from ccdproc.utils.sample_directory import sample_directory_with_files\n",
    "\n",
    "directory='/Users/jzamorano/Desktop/NOT_2008/N1/'   # change the path to your working directory"
   ]
  },
  {
   "cell_type": "code",
   "execution_count": null,
   "metadata": {},
   "outputs": [],
   "source": [
    "keys = ['OBJECT' , 'EXPTIME' , 'ALFLTID' , 'FAFLTID' , 'FBFLTID']\n",
    "ic1 = ImageFileCollection(directory, keywords=keys) # only keep track of keys\n",
    "ic1.summary.colnames"
   ]
  },
  {
   "cell_type": "markdown",
   "metadata": {},
   "source": [
    "Seleccionamos todas las imágenes obtenidas con el filtro con id=78"
   ]
  },
  {
   "cell_type": "code",
   "execution_count": null,
   "metadata": {},
   "outputs": [],
   "source": [
    "matches = (ic1.summary['FBFLTID'] == 78)\n",
    "sci_list_78 = ic1.summary['file'][matches]\n",
    "print(sci_list_78)"
   ]
  },
  {
   "cell_type": "markdown",
   "metadata": {},
   "source": [
    "<pre>\n",
    "      file       \n",
    "   flat_N1_78.fits\n",
    "zt_ALrd120021.fits\n",
    "zt_ALrd120023.fits\n",
    "zt_ALrd120024.fits\n",
    "---------\n",
    "zt_ALrd120119.fits\n",
    "zt_ALrd120120.fits\n",
    "zt_ALrd120121.fits\n",
    "zt_ALrd120122.fits\n",
    "Length = 36 rows\n",
    "</pre>"
   ]
  },
  {
   "cell_type": "code",
   "execution_count": null,
   "metadata": {},
   "outputs": [],
   "source": [
    "sci_images_78 = []\n",
    "for file in sci_list_78:\n",
    "    sci_images_78.append(CCDData.read(directory+file))"
   ]
  },
  {
   "cell_type": "markdown",
   "metadata": {},
   "source": [
    "Y listamos la información de algunos descriptores"
   ]
  },
  {
   "cell_type": "code",
   "execution_count": null,
   "metadata": {},
   "outputs": [],
   "source": [
    "print('Filename          Object        exp Mean std min  max')\n",
    "exposure = []\n",
    "for i in range(len(sci_list_78)):\n",
    "    print(i,sci_images_78[i].header['FILENAME'], \n",
    "          sci_images_78[i].header['OBJECT'], \n",
    "          sci_images_78[i].header['EXPTIME'], \n",
    "          int(np.mean(sci_images_78[i])), \n",
    "          int(np.std(sci_images_78[i])), \n",
    "          np.min(sci_images_78[i]), \n",
    "          np.max(sci_images_78[i]))"
   ]
  },
  {
   "cell_type": "markdown",
   "metadata": {},
   "source": [
    "<pre>\n",
    "Filename            Object            exp Mean  std  min  max\n",
    "0 N1_master_flat_78  Sky Flat evening 0.1 22789 8116 32.5 32932.0\n",
    "1 zt_ALrd120021.fits Dome Flat NB#78 10.0 6753 2509 -8.5 16666.0\n",
    "2 zt_ALrd120023.fits Dome Flat NB#78 30.0 20303 7538 11.5 29560.5\n",
    "3 zt_ALrd120024.fits Dome Flat NB#78 30.0 20363 7560 11.5 29627.0\n",
    "4 zt_ALrd120025.fits Dome Flat NB#78 30.0 20356 7557 21.5 29766.0\n",
    "5 zt_ALrd120026.fits Dome Flat NB#78 30.0 20313 7541 20.5 29711.0\n",
    "6 zt_ALrd120027.fits Dome Flat NB#78 30.0 20242 7514 16.5 33439.5\n",
    "7 zt_ALrd120028.fits Dome Flat NB#78 30.0 20229 7509 16.5 41590.0\n",
    "8 zt_ALrd120029.fits Dome Flat NB#78 30.0 20227 7509 27.5 30235.5\n",
    "9 zt_ALrd120030.fits Dome Flat NB#78 30.0 20333 7548 16.5 37827.5\n",
    "10 zt_ALrd120031.fits Dome Flat NB#78 30.0 20320 7543 12.5 29711.5\n",
    "11 zt_ALrd120032.fits Dome Flat NB#78 30.0 20320 7543 16.5 31909.0\n",
    "12 zt_ALrd120044.fits Sky Flat evening 0.1 2693 962 -29.0 6723.0\n",
    "13 zt_ALrd120045.fits Sky Flat evening 1.199 8912 3405 13.5 65182.0\n",
    "14 zt_ALrd120046.fits Sky Flat evening 3.5 20878 7435 32.5 34683.5\n",
    "15 zt_ALrd120047.fits Sky Flat evening 5.0 22790 8114 27.5 32932.0\n",
    "16 zt_ALrd120048.fits Sky Flat evening 7.5 24451 8705 46.5 35316.0\n",
    "17 zt_ALrd120049.fits Sky Flat evening 11.0 23964 8531 33.5 39714.0\n",
    "18 zt_ALrd120050.fits Sky Flat evening 17.0 23630 8412 34.5 34251.5\n",
    "19 zt_ALrd120067.fits HZ44 focusing 30.0 11 11 -44.5 9684.5\n",
    "20 zt_ALrd120068.fits HZ44 focusing 30.0 11 12 -45.0 7712.5\n",
    "21 zt_ALrd120073.fits HZ44 focusing 20.0 9 8 -37.0 3707.5\n",
    "22 zt_ALrd120074.fits HZ44 focusing 20.0 9 8 -40.0 3870.0\n",
    "23 zt_ALrd120079.fits HZ44 #79 50.0 10 26 -43.5 9088.5\n",
    "24 zt_ALrd120083.fits BD+75d325 #78 30.0 12 80 -35.5 44488.0\n",
    "25 zt_ALrd120087.fits Feige34 #78 40.0 9 27 -47.5 15274.5\n",
    "26 zt_ALrd120098.fits C3982 #78 3x900s 900.0 140 74 -50.0 12259.5\n",
    "27 zt_ALrd120099.fits C3982 #78 3x900s 900.0 339 131 -47.0 16072.5\n",
    "28 zt_ALrd120100.fits C3982 #78 3x900s 900.0 204 93 -48.0 19197.0\n",
    "29 zt_ALrd120113.fits C4941 #78 3x900s 900.0 119 223 -45.0 65179.5\n",
    "30 zt_ALrd120114.fits C4941 #78 3x900s 900.0 116 186 -45.5 65179.5\n",
    "31 zt_ALrd120115.fits C4941 #78 3x900s 900.0 77 196 -50.0 65181.5\n",
    "32 zt_ALrd120119.fits C5363 #78 3x900s 900.0 50 159 -46.0 65179.0\n",
    "33 zt_ALrd120120.fits C5363 #78 3x900s 900.0 49 157 -47.5 65179.5\n",
    "34 zt_ALrd120121.fits C5363 #78 3x900s 900.0 52 162 -50.5 65180.0\n",
    "35 zt_ALrd120122.fits C5363 #78 3x900s 180.0 11 31 -46.5 48333.0\n",
    "</pre>\n",
    "\n",
    "Al imprimir colocando el número de orden me es más fácil seleccionar. Antes de sci_list_78[19] son imágenes de Flat Field y desde sci_list_78[26] en adelante son observaciones de un GRB (Gamma Ray Burst) que una alerta nos obligó a realizar y parar nuestro proyecto. Por lo tanto"
   ]
  },
  {
   "cell_type": "code",
   "execution_count": null,
   "metadata": {},
   "outputs": [],
   "source": [
    "sci_list_78 = sci_list_78[19:25]\n",
    "print(sci_list_78)"
   ]
  },
  {
   "cell_type": "markdown",
   "metadata": {},
   "source": [
    "<pre>\n",
    "   file       \n",
    "------------------\n",
    "zt_ALrd120067.fits\n",
    "zt_ALrd120068.fits\n",
    "zt_ALrd120073.fits\n",
    "zt_ALrd120074.fits\n",
    "zt_ALrd120079.fits\n",
    "zt_ALrd120083.fits\n",
    "</pre>\n",
    "\n",
    "Y ahora corregimos de Flat Field esas imágenes y las grabamos en nuestro directorio añadiéndole información de esta parte del procesado. En el nombre le añadimos una 'f'."
   ]
  },
  {
   "cell_type": "code",
   "execution_count": null,
   "metadata": {},
   "outputs": [],
   "source": [
    "for file in sci_list_78:\n",
    "    image = CCDData.read(directory+file)\n",
    "    f_image = ccdproc.flat_correct(image,master_flat_78)\n",
    "    name_of_file = 'f'+ str(image.header['FILENAME'])\n",
    "    f_image.header['FILENAME']  = name_of_file\n",
    "    f_image.header['HISTORY']   = str(datetime.datetime.now())[0:18]+' astropy ccdproc flat_correct '\n",
    "    f_image.header['HISTORY']   = 'using NOT2008/N1/master_flat_78.fits master FLAT' \n",
    "    print('writting '+name_of_file+ ' in '+directory)\n",
    "    f_image.write(directory+name_of_file,overwrite='yes')"
   ]
  },
  {
   "cell_type": "markdown",
   "metadata": {},
   "source": [
    "```{figure} /_static/lecture_specific/p2_fotometria/p2_05_flats_9.png\n",
    "---\n",
    "width: 500px\n",
    "name: flats-9-fig\n",
    "---\n",
    "Las líneas del final de la cabecera de las imágenes corregidas tienen información del procesado hasta ahora.\n",
    "```\n",
    "\n",
    "\n",
    "\n",
    "### Procesado de las imágenes de estándares de flujo y científicas\n",
    "Sustracción de bias, corrección de flat field (aplicando a cada imagen el obtenido con el mismo filtro).\n",
    "### Eliminación de rayos cósmicos\n",
    "mediante combinación de 3 o más imágenes similares (de existir), lo que precisa alineamiento previo, o limpieza individual mediante proceso semi-interactivo con el programa cleanest.\n",
    "\n",
    "### Calibración astrométrica\n",
    "Para ello se utilizará [Astrometry.net](http://astrometry.net/) y las herramientas disponibles en [AstrOmatic.net](15http://www.astromatic.net/).\n",
    "\n",
    "### Calibración fotométrica\n",
    "Determinación de las constantes instrumentales y coeficientes de extinción para cada noche."
   ]
  }
 ],
 "metadata": {
  "jupytext": {
   "text_representation": {
    "extension": ".md",
    "format_name": "myst"
   }
  },
  "kernelspec": {
   "display_name": "Python 3",
   "language": "python",
   "name": "python3"
  },
  "source_map": [
   10,
   134,
   142,
   146,
   151,
   155,
   159,
   163,
   166,
   169,
   173,
   176,
   179,
   182,
   186,
   188,
   194,
   199,
   241,
   244,
   256,
   259,
   274,
   283,
   289,
   300,
   306,
   308,
   322,
   332,
   341,
   351,
   367,
   377,
   380,
   387,
   389,
   393,
   396,
   400,
   403,
   414,
   440,
   463,
   491,
   498,
   500,
   508,
   512,
   519,
   530,
   534,
   540,
   542,
   544,
   559,
   563,
   566,
   570,
   577,
   593,
   597,
   607,
   611,
   628,
   638,
   679,
   684,
   690,
   693,
   708,
   714,
   780,
   787,
   792,
   802,
   817,
   821,
   834,
   838,
   841,
   846,
   862,
   865,
   872,
   874,
   910,
   919,
   924,
   931,
   935,
   938,
   942,
   959,
   963,
   967,
   978,
   1021,
   1024,
   1038,
   1048
  ]
 },
 "nbformat": 4,
 "nbformat_minor": 4
}