{
 "cells": [
  {
   "cell_type": "markdown",
   "metadata": {},
   "source": [
    "# ccdproc-06:   Flatfielding\n",
    "\n",
    "## Overview\n",
    "1. Using master FLAT to correct from spatial variation of sensitivity all the images"
   ]
  },
  {
   "cell_type": "markdown",
   "metadata": {},
   "source": [
    "<pre>\n",
    "Máster en Astrofísica UCM  -- Técnicas Experimentales en Astrofísica  \n",
    "Jaime Zamorano, Nicolás Cardiel and Sergio Pascual\n",
    "\n",
    "This notebook has reproduced parts of the the astropy ccdproc docs: \n",
    "https://ccdproc.readthedocs.io/en/latest/reduction_toolbox.html\n",
    "\n",
    "Version 1.0 2021/01/16  \n",
    "Version 1.0 2021/01/18\n",
    "</pre>"
   ]
  },
  {
   "cell_type": "markdown",
   "metadata": {},
   "source": [
    "Note that the ``astropy`` package should be installed. In this sense, have a look to the\n",
    "astropy installation description: https://docs.astropy.org/en/stable/install.html."
   ]
  },
  {
   "cell_type": "code",
   "execution_count": null,
   "metadata": {},
   "outputs": [],
   "source": [
    "from pylab import *\n",
    "import matplotlib\n",
    "%matplotlib inline\n",
    "import matplotlib.pyplot as plt\n",
    "import matplotlib.mlab as ml\n",
    "import numpy as np\n",
    "from mpl_toolkits.axes_grid1 import make_axes_locatable\n",
    "from astropy.io import fits\n",
    "from astropy import units as u\n",
    "from astropy.nddata import CCDData\n",
    "import ccdproc"
   ]
  },
  {
   "cell_type": "code",
   "execution_count": null,
   "metadata": {},
   "outputs": [],
   "source": [
    "plt.style.use('./tea.mplstyle')   # Some parameters for nicer graphs"
   ]
  },
  {
   "cell_type": "markdown",
   "metadata": {},
   "source": [
    "### Working with images in a directory\n",
    "We will use the files of the first night of observations at NOT (Nordic Optical Telescope) 2008 that can be downloaded from   ftp://astrax.fis.ucm.es/pub/users/jaz/NOT_2008_04_12-14/N1/\n",
    "or \n",
    "http://guaix.fis.ucm.es/~jaz/master_TEA/observaciones_NOT_2008/N1/\n",
    "\n",
    "``directory`` should point to the working directory.  \n"
   ]
  },
  {
   "cell_type": "code",
   "execution_count": null,
   "metadata": {},
   "outputs": [],
   "source": [
    "directory='N1/'   # change the path to your working directory"
   ]
  },
  {
   "cell_type": "markdown",
   "metadata": {},
   "source": [
    "At this step we have already created a combination of FLAT frames with the result of a several master FLATs (one for each filter used) that we called flat_N1_49.fits, flat_N1_76.fits and flat_N1_78.fits. This file should be in our working directory that also contents the trimmed images.  "
   ]
  },
  {
   "cell_type": "code",
   "execution_count": null,
   "metadata": {},
   "outputs": [],
   "source": [
    "from ccdproc import ImageFileCollection\n",
    "from ccdproc.utils.sample_directory import sample_directory_with_files"
   ]
  },
  {
   "cell_type": "markdown",
   "metadata": {},
   "source": [
    "Let\\'s create a list containing all the FITS files in that directory.  \n",
    "We asume that the images were already trimmed and BIAS corrected and their names begin with 'zt_' (see previous notebooks 'ccdproc_02' and 'ccdproc_03')"
   ]
  },
  {
   "cell_type": "code",
   "execution_count": null,
   "metadata": {},
   "outputs": [],
   "source": [
    "import os\n",
    "from glob import glob\n",
    "# os.path.join is a platform-independent way to join two directories\n",
    "globpath = os.path.join(directory, 'zt_*.fits')\n",
    "print(globpath)\n",
    "# glob searches through directories similar to the Unix shell\n",
    "filelist = sorted(glob(globpath))\n",
    "print(filelist[100:105])    # printing only from 10 to 20"
   ]
  },
  {
   "cell_type": "markdown",
   "metadata": {},
   "source": [
    "### Reading the master  FLATs files "
   ]
  },
  {
   "cell_type": "code",
   "execution_count": null,
   "metadata": {},
   "outputs": [],
   "source": [
    "master_flat_49 = CCDData.read(directory+'flat_N1_49.fits')\n",
    "master_flat_76 = CCDData.read(directory+'flat_N1_76.fits')\n",
    "master_flat_78 = CCDData.read(directory+'flat_N1_78.fits')"
   ]
  },
  {
   "cell_type": "markdown",
   "metadata": {},
   "source": [
    "## Correcting all files from FLAT"
   ]
  },
  {
   "cell_type": "markdown",
   "metadata": {},
   "source": [
    "### Using ccdproc_correct_flat"
   ]
  },
  {
   "cell_type": "code",
   "execution_count": null,
   "metadata": {},
   "outputs": [],
   "source": [
    "keys = ['OBJECT' , 'EXPTIME' , 'ALFLTID' , 'FAFLTID' , 'FBFLTID']\n",
    "ic1 = ImageFileCollection(directory, keywords=keys) # only keep track of keys\n",
    "ic1.summary.colnames"
   ]
  },
  {
   "cell_type": "code",
   "execution_count": null,
   "metadata": {},
   "outputs": [],
   "source": [
    "matches = (ic1.summary['FBFLTID'] == 78)\n",
    "sci_list_78 = ic1.summary['file'][matches]\n",
    "print(sci_list_78)"
   ]
  },
  {
   "cell_type": "code",
   "execution_count": null,
   "metadata": {},
   "outputs": [],
   "source": [
    "sci_images_78 = []\n",
    "for file in sci_list_78:\n",
    "    sci_images_78.append(CCDData.read(directory+file)) "
   ]
  },
  {
   "cell_type": "code",
   "execution_count": null,
   "metadata": {},
   "outputs": [],
   "source": [
    "print('Filename          Object        exp Mean std min  max')\n",
    "exposure = []\n",
    "for i in range(len(sci_list_78)):\n",
    "    print(i,sci_images_78[i].header['FILENAME'], \n",
    "          sci_images_78[i].header['OBJECT'], \n",
    "          sci_images_78[i].header['EXPTIME'], \n",
    "          int(np.mean(sci_images_78[i])), \n",
    "          int(np.std(sci_images_78[i])), \n",
    "          np.min(sci_images_78[i]), \n",
    "          np.max(sci_images_78[i]))"
   ]
  },
  {
   "cell_type": "code",
   "execution_count": null,
   "metadata": {},
   "outputs": [],
   "source": [
    "print(sci_list_78[19:26])   # interesting sci images in filter #78"
   ]
  },
  {
   "cell_type": "code",
   "execution_count": null,
   "metadata": {},
   "outputs": [],
   "source": [
    "sci_list_78 = sci_list_78[19:26]\n",
    "print(sci_list_78)"
   ]
  },
  {
   "cell_type": "code",
   "execution_count": null,
   "metadata": {},
   "outputs": [],
   "source": [
    "for file in sci_list_78:\n",
    "    image = CCDData.read(directory+file)\n",
    "    f_image = ccdproc.flat_correct(image,master_flat_78)\n",
    "    name_of_file = 'f'+ str(image.header['FILENAME'])\n",
    "    f_image.header['FILENAME']  = name_of_file\n",
    "    f_image.header['HISTORY']   = str(datetime.datetime.now())[0:18]+' astropy ccdproc flat_correct '\n",
    "    f_image.header['HISTORY']   = 'using NOT2008/N1/master_flat_78.fits master FLAT' \n",
    "    print('writting '+name_of_file+ ' in '+directory)\n",
    "    f_image.write(directory+name_of_file,overwrite='yes')"
   ]
  },
  {
   "cell_type": "code",
   "execution_count": null,
   "metadata": {},
   "outputs": [],
   "source": [
    "matches = (ic1.summary['ALFLTID'] == 76)\n",
    "sci_list_76 = ic1.summary['file'][matches]\n",
    "print(sci_list_76)"
   ]
  },
  {
   "cell_type": "code",
   "execution_count": null,
   "metadata": {},
   "outputs": [],
   "source": [
    "sci_images_76 = []\n",
    "for file in sci_list_76:\n",
    "    sci_images_76.append(CCDData.read(directory+file)) "
   ]
  },
  {
   "cell_type": "code",
   "execution_count": null,
   "metadata": {},
   "outputs": [],
   "source": [
    "print('Filename          Object        exp Mean std min  max')\n",
    "exposure = []\n",
    "for i in range(len(sci_list_76)):\n",
    "    print(i,sci_images_76[i].header['FILENAME'], \n",
    "          sci_images_76[i].header['OBJECT'], \n",
    "          sci_images_76[i].header['EXPTIME'], \n",
    "          int(np.mean(sci_images_76[i])), \n",
    "          int(np.std(sci_images_76[i])), \n",
    "          np.min(sci_images_76[i]), \n",
    "          np.max(sci_images_76[i]))"
   ]
  },
  {
   "cell_type": "code",
   "execution_count": null,
   "metadata": {},
   "outputs": [],
   "source": [
    "print(sci_list_76[17:41])   # interesting sci images in filter #76"
   ]
  },
  {
   "cell_type": "code",
   "execution_count": null,
   "metadata": {},
   "outputs": [],
   "source": [
    "sci_list_76 = sci_list_76[17:41]\n",
    "print(sci_list_76)"
   ]
  },
  {
   "cell_type": "code",
   "execution_count": null,
   "metadata": {},
   "outputs": [],
   "source": [
    "for file in sci_list_76:\n",
    "    image = CCDData.read(directory+file)\n",
    "    f_image = ccdproc.flat_correct(image,master_flat_76)\n",
    "    name_of_file = 'f'+ str(image.header['FILENAME'])\n",
    "    f_image.header['FILENAME']  = name_of_file\n",
    "    f_image.header['HISTORY']   = str(datetime.datetime.now())[0:18]+' astropy ccdproc flat_correct '\n",
    "    f_image.header['HISTORY']   = 'using NOT2008/N1/master_flat_76.fits master FLAT' \n",
    "    print('writting '+name_of_file+ ' in '+directory)\n",
    "    f_image.write(directory+name_of_file,overwrite='yes')"
   ]
  },
  {
   "cell_type": "code",
   "execution_count": null,
   "metadata": {},
   "outputs": [],
   "source": [
    "matches = (ic1.summary['FBFLTID'] == 49)\n",
    "sci_list_49 = ic1.summary['file'][matches]\n",
    "print(sci_list_49)"
   ]
  },
  {
   "cell_type": "code",
   "execution_count": null,
   "metadata": {},
   "outputs": [],
   "source": [
    "sci_images_49 = []\n",
    "for file in sci_list_49:\n",
    "    sci_images_49.append(CCDData.read(directory+file)) "
   ]
  },
  {
   "cell_type": "code",
   "execution_count": null,
   "metadata": {},
   "outputs": [],
   "source": [
    "print('Filename          Object        exp Mean std min  max')\n",
    "exposure = []\n",
    "for i in range(len(sci_list_49)):\n",
    "    print(i,sci_images_49[i].header['FILENAME'], \n",
    "          sci_images_49[i].header['OBJECT'], \n",
    "          sci_images_49[i].header['EXPTIME'], \n",
    "          int(np.mean(sci_images_49[i])), \n",
    "          int(np.std(sci_images_49[i])), \n",
    "          np.min(sci_images_49[i]), \n",
    "          np.max(sci_images_49[i]))"
   ]
  },
  {
   "cell_type": "code",
   "execution_count": null,
   "metadata": {},
   "outputs": [],
   "source": [
    "print(sci_list_49[19:27])   # interesting sci images in filter #76"
   ]
  },
  {
   "cell_type": "code",
   "execution_count": null,
   "metadata": {},
   "outputs": [],
   "source": [
    "sci_list_49 = sci_list_49[19:27]\n",
    "print(sci_list_49)"
   ]
  },
  {
   "cell_type": "code",
   "execution_count": null,
   "metadata": {},
   "outputs": [],
   "source": [
    "for file in sci_list_49:\n",
    "    image = CCDData.read(directory+file)\n",
    "    f_image = ccdproc.flat_correct(image,master_flat_49)\n",
    "    name_of_file = 'f'+ str(image.header['FILENAME'])\n",
    "    f_image.header['FILENAME']  = name_of_file\n",
    "    f_image.header['HISTORY']   = str(datetime.datetime.now())[0:18]+' astropy ccdproc flat_correct '\n",
    "    f_image.header['HISTORY']   = 'using NOT2008/N1/master_flat_49.fits master FLAT' \n",
    "    print('writting '+name_of_file+ ' in '+directory)\n",
    "    f_image.write(directory+name_of_file,overwrite='yes')"
   ]
  },
  {
   "cell_type": "code",
   "execution_count": null,
   "metadata": {},
   "outputs": [],
   "source": []
  }
 ],
 "metadata": {
  "kernelspec": {
   "display_name": "Python 3",
   "language": "python",
   "name": "python3"
  },
  "language_info": {
   "codemirror_mode": {
    "name": "ipython",
    "version": 3
   },
   "file_extension": ".py",
   "mimetype": "text/x-python",
   "name": "python",
   "nbconvert_exporter": "python",
   "pygments_lexer": "ipython3",
   "version": "3.7.7"
  }
 },
 "nbformat": 4,
 "nbformat_minor": 4
}
