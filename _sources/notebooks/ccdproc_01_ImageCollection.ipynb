{
 "cells": [
  {
   "cell_type": "markdown",
   "metadata": {},
   "source": [
    "# ccdproc-01:   Classify images  \n",
    "\n",
    "## Overview\n",
    "1. Start CCD reduction using ccdproc\n",
    "2. Creating lists of images \n",
    "3. Examples"
   ]
  },
  {
   "cell_type": "markdown",
   "metadata": {},
   "source": [
    "<pre>\n",
    "Máster en Astrofísica UCM  -- Técnicas Experimentales en Astrofísica  \n",
    "Jaime Zamorano, Nicolás Cardiel and Sergio Pascual\n",
    "\n",
    "This notebook has reproduced parts of the the astropy ccdproc docs: \n",
    "https://ccdproc.readthedocs.io/en/latest/image_management.html\n",
    "\n",
    "Version 1.0 2021/01/11  \n",
    "Version 3.0 2021/01/25 Downlaiding the images in another notebook  \n",
    "\n",
    "</pre>"
   ]
  },
  {
   "cell_type": "markdown",
   "metadata": {},
   "source": [
    "Note that the ``astropy`` package should be installed. In this sense, have a look to the\n",
    "astropy installation description: https://docs.astropy.org/en/stable/install.html."
   ]
  },
  {
   "cell_type": "code",
   "execution_count": null,
   "metadata": {},
   "outputs": [],
   "source": [
    "from astropy.io import fits\n",
    "import matplotlib\n",
    "import matplotlib.pyplot as plt\n",
    "import numpy as np\n",
    "from mpl_toolkits.axes_grid1 import make_axes_locatable"
   ]
  },
  {
   "cell_type": "code",
   "execution_count": null,
   "metadata": {},
   "outputs": [],
   "source": [
    "plt.style.use('./tea.mplstyle')    # Some parameters for nicer graphs"
   ]
  },
  {
   "cell_type": "markdown",
   "metadata": {},
   "source": [
    "### Working with images in a directory\n",
    "We will use the files of the first night of observations at NOT (Nordic Optical Telescope) 2008 that can be downloaded from   ftp://astrax.fis.ucm.es/pub/users/jaz/NOT_2008_04_12-14/N1/\n",
    "or \n",
    "http://guaix.fis.ucm.es/~jaz/master_TEA/observaciones_NOT_2008/N1/\n",
    "\n",
    "``directory`` should point to the directory with the downloaded images"
   ]
  },
  {
   "cell_type": "code",
   "execution_count": null,
   "metadata": {},
   "outputs": [],
   "source": [
    "directory='N1/'"
   ]
  },
  {
   "cell_type": "markdown",
   "metadata": {},
   "source": [
    "Let\\'s create a list containing all the FITS files in that directory "
   ]
  },
  {
   "cell_type": "code",
   "execution_count": null,
   "metadata": {},
   "outputs": [],
   "source": [
    "# only works in notebooks\n",
    "# we can pass the python variable to shell\n",
    "filelist = !ls $directory/*.fits"
   ]
  },
  {
   "cell_type": "code",
   "execution_count": null,
   "metadata": {},
   "outputs": [],
   "source": [
    "from pathlib import Path\n",
    "p = Path(directory)\n",
    "filelist = list(sorted(p.glob('*.fits')))\n",
    "print(filelist[10:20])    # printing only from 10 to 20"
   ]
  },
  {
   "cell_type": "markdown",
   "metadata": {},
   "source": [
    "Let\\'s open one of the files to explore the HEADER keywords"
   ]
  },
  {
   "cell_type": "code",
   "execution_count": null,
   "metadata": {},
   "outputs": [],
   "source": [
    "HDUList_object = fits.open(filelist[102])\n",
    "HDUList_object.info()"
   ]
  },
  {
   "cell_type": "code",
   "execution_count": null,
   "metadata": {},
   "outputs": [],
   "source": [
    "primary_HDU = HDUList_object[0]"
   ]
  },
  {
   "cell_type": "code",
   "execution_count": null,
   "metadata": {},
   "outputs": [],
   "source": [
    "# Extract primary header\n",
    "primary_header = primary_HDU.header\n",
    "\n",
    "# Index header object with keyword name and print value\n",
    "print(primary_header['FILENAME'],primary_header['OBJECT'])"
   ]
  },
  {
   "cell_type": "code",
   "execution_count": null,
   "metadata": {},
   "outputs": [],
   "source": [
    "for key in primary_header:\n",
    "    print('{:8} = {}'.format(key, primary_header[key]))"
   ]
  },
  {
   "cell_type": "markdown",
   "metadata": {},
   "source": [
    "Each telescope/instrument has differences in the ``keyword``names.  \n",
    "For [ALFOSC at NOT](http://www.not.iac.es/instruments/alfosc/) instead of ``FILTER`` they write ``ALFLTID`` and  ``FBFLTID``  in the header. ALFOSC has  filterwheel A and filterwheel B and the filters should be mounted in one of the two depending of size and/or band width. More info at [NOT filters](http://www.not.iac.es/instruments/filters/)"
   ]
  },
  {
   "cell_type": "markdown",
   "metadata": {},
   "source": [
    "Let\\'s display this file"
   ]
  },
  {
   "cell_type": "code",
   "execution_count": null,
   "metadata": {},
   "outputs": [],
   "source": [
    "image_data = primary_HDU.data\n",
    "print(type(image_data))\n",
    "print(image_data.shape)"
   ]
  },
  {
   "cell_type": "code",
   "execution_count": null,
   "metadata": {},
   "outputs": [],
   "source": [
    "naxis2, naxis1 = image_data.shape\n",
    "\n",
    "fig, ax = plt.subplots(ncols=1, nrows=1, figsize=(10, 10))\n",
    "img = ax.imshow(image_data, cmap='gray', origin='lower',vmin=5000,vmax=8000)\n",
    "ax.set_xlabel('X axis')\n",
    "ax.set_ylabel('Y axis')\n",
    "divider = make_axes_locatable(ax)\n",
    "cax = divider.append_axes(\"right\", size=\"5%\", pad=0.05)\n",
    "fig.colorbar(img, cax=cax, label='Number of counts')\n",
    "ax.grid()"
   ]
  },
  {
   "cell_type": "code",
   "execution_count": null,
   "metadata": {},
   "outputs": [],
   "source": [
    "HDUList_object.close()"
   ]
  },
  {
   "cell_type": "markdown",
   "metadata": {},
   "source": [
    "This is the first of three 300s exposures of NGC4496 with the R filter.    \n",
    "The external parts of the chip (2052 x 2198) are black, i.e. no signal. according with the header information the region reserved for dark signal is BIASSEC  = [3:52,1:2052] but there is also a region at right. We will remove these regions by trimming the image. It is better to use ``DS9`` to select the region of interest. "
   ]
  },
  {
   "cell_type": "markdown",
   "metadata": {},
   "source": [
    "### Looking for files with different size"
   ]
  },
  {
   "cell_type": "markdown",
   "metadata": {},
   "source": [
    "There are some auxiliary observations that were saved as FITS files. For instance those for focusing the telescope. There is no problem in processing them but there will be problems if there is an image with different size."
   ]
  },
  {
   "cell_type": "code",
   "execution_count": null,
   "metadata": {},
   "outputs": [],
   "source": [
    "for fname in filelist:\n",
    "    with fits.open(fname) as HDUList_object:\n",
    "        primary_header = HDUList_object[0].header\n",
    "        print(primary_header['FILENAME'],primary_header['OBJECT'],primary_header['NAXIS1'],primary_header['NAXIS2'])"
   ]
  },
  {
   "cell_type": "markdown",
   "metadata": {},
   "source": [
    "The image number 63 is different with size 800,800. It is better to remove it to avoid problems during the processing.\n",
    "ALrd120062.fits Sky Flat evening 2198 2052\n",
    "ALrd120063.fits Sky Flat evening 800 800\n",
    "ALrd120064.fits HZ44 focusing 2198 2052"
   ]
  },
  {
   "cell_type": "markdown",
   "metadata": {},
   "source": [
    "### Selecting files by type and filter  \n",
    "We wish to create lists containing the BIAS files to build the master BIAS or those scientific files taken with the same filter to apply the corresponding Flat Field, to name two examples."
   ]
  },
  {
   "cell_type": "code",
   "execution_count": null,
   "metadata": {},
   "outputs": [],
   "source": [
    "from ccdproc import ImageFileCollection\n",
    "from ccdproc.utils.sample_directory import sample_directory_with_files\n",
    "directory = 'N1'\n",
    "ic_all = ImageFileCollection(directory, keywords='*')\n",
    "print(ic_all.summary.colnames)"
   ]
  },
  {
   "cell_type": "markdown",
   "metadata": {},
   "source": [
    "Selecting the keywords to be used in classifying the files  \n",
    "ALFLTID =                   76 / ALFOSC filter wheel. NOT filter number  \n",
    "FAFLTID =                    0 / FASU filter wheel 1/A NOT filter number        FBFLTID =                    0 / FASU filter wheel 2/B NOT filter number   "
   ]
  },
  {
   "cell_type": "code",
   "execution_count": null,
   "metadata": {},
   "outputs": [],
   "source": [
    "keys = ['OBJECT' , 'EXPTIME' , 'ALFLTID' , 'FAFLTID' , 'FBFLTID']\n",
    "ic1 = ImageFileCollection(directory, keywords=keys) # only keep track of keys\n",
    "ic1.summary.colnames"
   ]
  },
  {
   "cell_type": "code",
   "execution_count": null,
   "metadata": {},
   "outputs": [],
   "source": [
    "# matches = (ic1.summary['filter'] == 'R') & (ic1.summary['exposure'] < 15)\n",
    "#matches = (ic1.summary['imagetyp'] == 'BIAS') \n",
    "#matches = (ic1.summary['FBFLTID'] == 78)\n",
    "matches = (ic1.summary['EXPTIME'] > 600)\n",
    "my_files = ic1.summary['file'][matches]\n",
    "print(my_files)"
   ]
  },
  {
   "cell_type": "code",
   "execution_count": null,
   "metadata": {},
   "outputs": [],
   "source": [
    "my_files = ic1.files_filtered(FBFLTID=78, exptime=3.5)\n",
    "#my_files = ic1.files_filtered(exptime=15)\n",
    "print(my_files)"
   ]
  },
  {
   "cell_type": "code",
   "execution_count": null,
   "metadata": {},
   "outputs": [],
   "source": [
    "bias_list = ic1.files_filtered(regex_match=True,imagetyp='bias|light')\n",
    "print(bias_list)"
   ]
  },
  {
   "cell_type": "code",
   "execution_count": null,
   "metadata": {},
   "outputs": [],
   "source": [
    "list_of_flats = ic1.files_filtered(regex_match=True,object='flat')\n",
    "print(list_of_flats)"
   ]
  }
 ],
 "metadata": {
  "kernelspec": {
   "display_name": "Python 3",
   "language": "python",
   "name": "python3"
  },
  "language_info": {
   "codemirror_mode": {
    "name": "ipython",
    "version": 3
   },
   "file_extension": ".py",
   "mimetype": "text/x-python",
   "name": "python",
   "nbconvert_exporter": "python",
   "pygments_lexer": "ipython3",
   "version": "3.7.7"
  }
 },
 "nbformat": 4,
 "nbformat_minor": 4
}
