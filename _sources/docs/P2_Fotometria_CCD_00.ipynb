{
 "cells": [
  {
   "cell_type": "markdown",
   "metadata": {},
   "source": [
    "# Práctica 2     Fotometría CCD\n",
    "\n",
    "Reduciremos a continuación la primera noche de observación. Los pasos seguidos son idénticos para la segunda noche pero se prefiere construir los master BIAS y master FLATs para cada noche y usarlos para las observaciones correspondientes.\n",
    "\n",
    "Estamos siguiendo en gran parte los pasos descritos en CCD Data Reduction Guide una guía muy completa escrita por Matt Craig and Lauren Chambers y editada por Lauren Glattly. En esa guía se dan detalles muy interesantes sobre cómo es una imagen CCD fabricando imágenes artificiales y procesándolas de diferentes maneras.\n",
    "\n",
    "Se han escrito cuadernos de Jupyter para cada paso y se muestran sólo partes de los mismos en este documento. Se usa en preferencia ccdproc. “Ccdproc is is an Astropy affiliated package for basic data reductions of CCD images. It provides the essential tools for processing of CCD images in a framework that provides error propagation and bad pixel tracking throughout the reduction process.” (© Copyright 2020, Steve Crawford, Matt Craig, and Michael Seifert.)\n",
    "\n",
    "\n",
    "\n",
    "\n",
    "```{toctree}\n",
    ":hidden:\n",
    ":titlesonly:\n",
    "\n",
    "\n",
    "P2_Fotometria_CCD_01\n",
    "P2_Fotometria_CCD_02\n",
    "P2_Fotometria_CCD_03\n",
    "P2_Fotometria_CCD_04\n",
    "P2_Fotometria_CCD_05\n",
    "P2_Fotometria_CCD_06\n",
    "P2_Fotometria_CCD_07\n",
    "```"
   ]
  }
 ],
 "metadata": {
  "jupytext": {
   "text_representation": {
    "extension": ".md",
    "format_name": "myst"
   }
  },
  "kernelspec": {
   "display_name": "Python 3",
   "language": "python",
   "name": "python3"
  },
  "language_info": {
   "codemirror_mode": {
    "name": "ipython",
    "version": 3
   },
   "file_extension": ".py",
   "mimetype": "text/x-python",
   "name": "python",
   "nbconvert_exporter": "python",
   "pygments_lexer": "ipython3",
   "version": "3.9.1"
  },
  "source_map": [
   10
  ]
 },
 "nbformat": 4,
 "nbformat_minor": 4
}