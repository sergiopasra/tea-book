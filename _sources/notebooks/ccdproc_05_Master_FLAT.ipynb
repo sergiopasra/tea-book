{
 "cells": [
  {
   "cell_type": "markdown",
   "metadata": {},
   "source": [
    "# ccdproc-05:   Master FLAT\n",
    "\n",
    "## Overview\n",
    "1. Build a list of FLAT image files\n",
    "2. Select by filter\n",
    "3. Display and statistics\n",
    "4. Combine to obtain master FLAT for each filter"
   ]
  },
  {
   "cell_type": "markdown",
   "metadata": {},
   "source": [
    "<pre>\n",
    "Máster en Astrofísica UCM  -- Técnicas Experimentales en Astrofísica  \n",
    "Jaime Zamorano, Nicolás Cardiel and Sergio Pascual\n",
    "\n",
    "This notebook has reproduced parts of the the astropy ccdproc docs: \n",
    "https://ccdproc.readthedocs.io/en/latest/reduction_toolbox.html#subtract-bias-and-dark\n",
    "\n",
    "Version 1.0 2021/01/15  \n",
    "Version 1.0 2021/01/18\n",
    "</pre>"
   ]
  },
  {
   "cell_type": "markdown",
   "metadata": {},
   "source": [
    "Note that the ``astropy`` package should be installed. In this sense, have a look to the\n",
    "astropy installation description: https://docs.astropy.org/en/stable/install.html."
   ]
  },
  {
   "cell_type": "code",
   "execution_count": null,
   "metadata": {},
   "outputs": [],
   "source": [
    "from pylab import *\n",
    "import matplotlib\n",
    "%matplotlib inline\n",
    "import matplotlib.pyplot as plt\n",
    "import matplotlib.mlab as ml\n",
    "import numpy as np\n",
    "from mpl_toolkits.axes_grid1 import make_axes_locatable\n",
    "from astropy.io import fits\n",
    "from astropy import units as u\n",
    "from astropy.nddata import CCDData\n",
    "import ccdproc"
   ]
  },
  {
   "cell_type": "code",
   "execution_count": null,
   "metadata": {},
   "outputs": [],
   "source": [
    "plt.style.use('./tea.mplstyle')   # Some parameters for nicer graphs"
   ]
  },
  {
   "cell_type": "markdown",
   "metadata": {},
   "source": [
    "### Working with images in a directory\n",
    "We will use the files of the first night of observations at NOT (Nordic Optical Telescope) 2008 that can be downloaded from   ftp://astrax.fis.ucm.es/pub/users/jaz/NOT_2008_04_12-14/N1/\n",
    "or \n",
    "http://guaix.fis.ucm.es/~jaz/master_TEA/observaciones_NOT_2008/N1/\n",
    "\n",
    "``directory`` should point to the working directory.  \n"
   ]
  },
  {
   "cell_type": "code",
   "execution_count": null,
   "metadata": {},
   "outputs": [],
   "source": [
    "directory='N1/'   # change to the path of your own working directory"
   ]
  },
  {
   "cell_type": "code",
   "execution_count": null,
   "metadata": {},
   "outputs": [],
   "source": [
    "print(directory)"
   ]
  },
  {
   "cell_type": "markdown",
   "metadata": {},
   "source": [
    "Let\\'s create a list containing all the FITS files in that directory.  \n",
    "We asume that the images were already trimmed and their names begin with 'zt_' (see previous notebook 'ccdproc_02' 'ccdproc_03' 'ccdproc_04')"
   ]
  },
  {
   "cell_type": "code",
   "execution_count": null,
   "metadata": {},
   "outputs": [],
   "source": [
    "import os\n",
    "from glob import glob\n",
    "# os.path.join is a platform-independent way to join two directories\n",
    "globpath = os.path.join(directory, 'zt_*.fits')\n",
    "print(globpath)\n",
    "# glob searches through directories similar to the Unix shell\n",
    "filelist = sorted(glob(globpath))\n",
    "print(filelist[10:15])    # printing only from 10 to 20"
   ]
  },
  {
   "cell_type": "markdown",
   "metadata": {},
   "source": [
    "### Selecting FLATS files "
   ]
  },
  {
   "cell_type": "markdown",
   "metadata": {},
   "source": [
    "See previous notebook ccdproc_01_ImageCollection"
   ]
  },
  {
   "cell_type": "code",
   "execution_count": null,
   "metadata": {},
   "outputs": [],
   "source": [
    "from ccdproc import ImageFileCollection\n",
    "from ccdproc.utils.sample_directory import sample_directory_with_files"
   ]
  },
  {
   "cell_type": "code",
   "execution_count": null,
   "metadata": {},
   "outputs": [],
   "source": [
    "keys = ['imagetyp','OBJECT' , 'EXPTIME' , 'ALFLTID' , 'FAFLTID' , 'FBFLTID']\n",
    "ic1 = ImageFileCollection(directory, keywords=keys) # only keep track of keys\n",
    "ic1.summary.colnames"
   ]
  },
  {
   "cell_type": "code",
   "execution_count": null,
   "metadata": {},
   "outputs": [],
   "source": [
    "print(keys)"
   ]
  },
  {
   "cell_type": "code",
   "execution_count": null,
   "metadata": {},
   "outputs": [],
   "source": [
    "list_of_flats = ic1.files_filtered(regex_match=True,object='flat')\n",
    "print(list_of_flats)"
   ]
  },
  {
   "cell_type": "code",
   "execution_count": null,
   "metadata": {},
   "outputs": [],
   "source": [
    "for i in range(len(list_of_flats)):\n",
    "    HDUList_object = fits.open(directory+list_of_flats[i])\n",
    "    primary_header = HDUList_object[0].header\n",
    "    print(primary_header['FILENAME'],primary_header['OBJECT'],primary_header['exptime']\n",
    "          ,primary_header['ALFLTID'],primary_header['FBFLTID'])"
   ]
  },
  {
   "cell_type": "markdown",
   "metadata": {},
   "source": [
    "The broad band filters are located in 'ALFLTID' while the narrow band are in the FASU B 'FBFLTID'"
   ]
  },
  {
   "cell_type": "markdown",
   "metadata": {},
   "source": [
    "### Statistics and display"
   ]
  },
  {
   "cell_type": "markdown",
   "metadata": {},
   "source": [
    "#### Reading the files"
   ]
  },
  {
   "cell_type": "code",
   "execution_count": null,
   "metadata": {},
   "outputs": [],
   "source": [
    "image_flats = []\n",
    "for file in list_of_flats:\n",
    "    image_flats.append(CCDData.read(directory+file)) #, unit=\"adu\"))"
   ]
  },
  {
   "cell_type": "markdown",
   "metadata": {},
   "source": [
    "#### Analysing the images data"
   ]
  },
  {
   "cell_type": "code",
   "execution_count": null,
   "metadata": {},
   "outputs": [],
   "source": [
    "print('Filename          Object        exp Mean std min  max')\n",
    "exposure = []\n",
    "for i in range(len(list_of_flats)):\n",
    "    print(image_flats[i].header['FILENAME'], \n",
    "          image_flats[i].header['OBJECT'], \n",
    "          image_flats[i].header['EXPTIME'], \n",
    "          int(np.mean(image_flats[i])), \n",
    "          int(np.std(image_flats[i])), \n",
    "          np.min(image_flats[i]), \n",
    "          np.max(image_flats[i]))"
   ]
  },
  {
   "cell_type": "markdown",
   "metadata": {},
   "source": [
    "#### Building list of flats files for each filter"
   ]
  },
  {
   "cell_type": "markdown",
   "metadata": {},
   "source": [
    "With the information in the logbook and after inspecting the files we can prepare lists os FLATS for each filter."
   ]
  },
  {
   "cell_type": "code",
   "execution_count": null,
   "metadata": {},
   "outputs": [],
   "source": [
    "FF_list_78 = ['120044' , '120045' , '120046' , '120047'\n",
    "            , '120048' , '120049' , '120050']\n",
    "FF_list_49 = ['120051' , '120052' , '120053' \n",
    "            , '120054' , '120055' , '120056']\n",
    "FF_list_76 = ['120057' , '120058' , '120059' \n",
    "            , '120060' , '120061' , '120062']"
   ]
  },
  {
   "cell_type": "markdown",
   "metadata": {},
   "source": [
    "#### Display of files"
   ]
  },
  {
   "cell_type": "code",
   "execution_count": null,
   "metadata": {},
   "outputs": [],
   "source": [
    "image_flats_78 = []\n",
    "for file in FF_list_78:\n",
    "    image_flats_78.append(CCDData.read(directory+'zt_ALrd'+file+'.fits')) \n",
    "image_flats_49 = []\n",
    "for file in FF_list_49:\n",
    "    image_flats_49.append(CCDData.read(directory+'zt_ALrd'+file+'.fits')) \n",
    "image_flats_76 = []\n",
    "for file in FF_list_76:\n",
    "    image_flats_76.append(CCDData.read(directory+'zt_ALrd'+file+'.fits')) "
   ]
  },
  {
   "cell_type": "code",
   "execution_count": null,
   "metadata": {},
   "outputs": [],
   "source": [
    "# auxiliary function to display a rectangle and compute mean value within it\n",
    "def draw_rectangle(ax, image_data, x1, x2, y1, y2, color, text=False):\n",
    "    ax.plot((x1, x1), (y1, y2), color, lw=1)\n",
    "    ax.plot((x2, x2), (y1, y2), color, lw=1)\n",
    "    ax.plot((x1, x2), (y1, y1), color, lw=1)\n",
    "    ax.plot((x1, x2), (y2, y2), color, lw=1)\n",
    "    if text:\n",
    "        media = image_data[y1:y2,x1:x2].mean()\n",
    "        std   = image_data[y1:y2,x1:x2].std()\n",
    "        ax.text((x1+x2)/2, y1+(y2-y1)/8, str(int(media)), \n",
    "                ha='center', va='center', color=color, fontsize=12)        \n",
    "        ax.text((x1+x2)/2, y2-(y2-y1)/8, str(round(std,1)), \n",
    "                ha='center', va='top', color=color, fontsize=12)\n",
    "    return media, std"
   ]
  },
  {
   "cell_type": "code",
   "execution_count": null,
   "metadata": {},
   "outputs": [],
   "source": [
    "vmin,vmax = 0,50000\n",
    "i = 0\n",
    "fig = plt.figure(figsize=(12, 12))\n",
    "for i in range(len(FF_list_49)):\n",
    "        ax = plt.subplot(3,3,i+1)\n",
    "        img = ax.imshow(image_flats_49[i], cmap='gray', origin='low',vmin=vmin,vmax=vmax)\n",
    "        #ax.set_xlabel('X axis')\n",
    "        #ax.set_ylabel('Y axis')\n",
    "        ax.set_xticks([])\n",
    "        ax.set_yticks([])\n",
    "        draw_rectangle(ax, image_flats_49[i].data, 700, 1200, 500, 1000, color='r',text=True)\n",
    "        ax.text(800, 50, image_flats_49[i].header['FILENAME'][7:-5], fontsize=15, color='w')\n",
    "        ax.text(400,1800,'FLAT filter #49', fontsize=15, color='y')\n",
    "        ax.text(100, 1400, image_flats_49[i].header['DATE-OBS'], fontsize=15, color='r')\n",
    "        ax.text(400, 1200, 'exposure= '+ str(image_flats_49[i].header['exptime']) +'s', fontsize=15, color='r')\n",
    "        \n",
    "        divider = make_axes_locatable(ax)\n",
    "        cax = divider.append_axes(\"right\", size=\"5%\", pad=0.05)\n",
    "        fig.colorbar(img, cax=cax) #, label='Number of counts')\n",
    "        ax.grid()\n",
    "        i = i + 1"
   ]
  },
  {
   "cell_type": "code",
   "execution_count": null,
   "metadata": {},
   "outputs": [],
   "source": [
    "vmin,vmax = 0,50000\n",
    "i = 0\n",
    "fig = plt.figure(figsize=(12, 16))\n",
    "for i in range(len(FF_list_76)):\n",
    "        ax = plt.subplot(3,2,i+1)\n",
    "        img = ax.imshow(image_flats_76[i], cmap='gray', origin='low',vmin=vmin,vmax=vmax)\n",
    "        #ax.set_xlabel('X axis')\n",
    "        #ax.set_ylabel('Y axis')\n",
    "        ax.set_xticks([])\n",
    "        ax.set_yticks([])\n",
    "        draw_rectangle(ax, image_flats_78[i].data, 700, 1200, 500, 1000, color='r',text=True)\n",
    "        ax.text(800, 50, image_flats_76[i].header['FILENAME'][7:-5], fontsize=15, color='w')\n",
    "        ax.text(400,1800,'FLAT filter #76', fontsize=15, color='y')\n",
    "        ax.text(100, 1400, image_flats_76[i].header['DATE-OBS'], fontsize=15, color='r')\n",
    "        ax.text(400, 1200, 'exposure= '+ str(image_flats_76[i].header['exptime']) +'s', fontsize=15, color='r')\n",
    "        divider = make_axes_locatable(ax)\n",
    "        cax = divider.append_axes(\"right\", size=\"5%\", pad=0.05)\n",
    "        fig.colorbar(img, cax=cax) #, label='Number of counts')\n",
    "        ax.grid()\n",
    "        i = i + 1"
   ]
  },
  {
   "cell_type": "code",
   "execution_count": null,
   "metadata": {},
   "outputs": [],
   "source": [
    "vmin,vmax = 0,40000\n",
    "i = 0\n",
    "fig = plt.figure(figsize=(14, 12))\n",
    "for i in range(len(FF_list_78)):\n",
    "        ax = plt.subplot(3,3,i+1)\n",
    "        img = ax.imshow(image_flats_78[i], cmap='gray', origin='low',vmin=vmin,vmax=vmax)\n",
    "        #ax.set_xlabel('X axis')\n",
    "        #ax.set_ylabel('Y axis')\n",
    "        ax.set_xticks([])\n",
    "        ax.set_yticks([])\n",
    "        draw_rectangle(ax, image_flats_78[i].data, 700, 1200, 500, 1000, color='r',text=True)\n",
    "        #draw_rectangle(ax, image_flats_78[i].data, 1000, 1500, 1000, 1500, color='y',text=True)\n",
    "        ax.text(800, 50, image_flats_78[i].header['FILENAME'][7:-5], fontsize=15, color='w')\n",
    "        ax.text(400,1800,'FLAT filter #78', fontsize=15, color='y')\n",
    "        ax.text(100, 1400, image_flats_78[i].header['DATE-OBS'], fontsize=15, color='r')\n",
    "        ax.text(400, 1200, 'exposure= '+ str(image_flats_78[i].header['exptime']) +'s', fontsize=15, color='r')\n",
    "\n",
    "        divider = make_axes_locatable(ax)\n",
    "        cax = divider.append_axes(\"right\", size=\"5%\", pad=0.05)\n",
    "        fig.colorbar(img, cax=cax) #, label='Number of counts')\n",
    "        ax.grid()\n",
    "        i = i + 1"
   ]
  },
  {
   "cell_type": "markdown",
   "metadata": {},
   "source": [
    "The first two files has lower counts and we can choose to remove them from the combination to create the master FLAT."
   ]
  },
  {
   "cell_type": "code",
   "execution_count": null,
   "metadata": {},
   "outputs": [],
   "source": [
    "#FF_list_78 = ['120044' , '120045' , '120046' , '120047', '120048' , '120049' , '120050']\n",
    "FF_list_78 = ['120046' , '120047', '120048' , '120049' , '120050']"
   ]
  },
  {
   "cell_type": "markdown",
   "metadata": {},
   "source": [
    "### Combining the FLATS images"
   ]
  },
  {
   "cell_type": "markdown",
   "metadata": {},
   "source": [
    "The FLAT correction should be made using a combined FLAT image (master FLAT) using multiple observations. The combination will get rid of the high values produced by the cosmic rays and also of posible images of stars. We will use the ccdproc package."
   ]
  },
  {
   "cell_type": "code",
   "execution_count": null,
   "metadata": {},
   "outputs": [],
   "source": [
    "# Some astropy packages \n",
    "import ccdproc\n",
    "from ccdproc import CCDData, Combiner\n",
    "from astropy import stats\n",
    "from astropy.stats import sigma_clip, mad_std\n",
    "from astropy.stats import sigma_clipped_stats"
   ]
  },
  {
   "cell_type": "code",
   "execution_count": null,
   "metadata": {},
   "outputs": [],
   "source": [
    "# Combiner is a class for combining CCDData objects.\n",
    "# https://ccdproc.readthedocs.io/en/latest/api/ccdproc.Combiner.html\n",
    "# The Combiner class is used to combine together CCDData objects \n",
    "# including the method for combining the data, rejecting outlying data, \n",
    "# and weighting used for combining frames.\n",
    "\n",
    "combiner_49 = Combiner(image_flats_49)\n",
    "combiner_76 = Combiner(image_flats_76)\n",
    "combiner_78 = Combiner(image_flats_78)"
   ]
  },
  {
   "cell_type": "code",
   "execution_count": null,
   "metadata": {},
   "outputs": [],
   "source": [
    "# clipping all values over 800 to remove cosmic rays hits \n",
    "#combiner_76.minmax_clipping(min_clip=None, max_clip=38000)\n",
    "# median combine \n",
    "master_flat_76 = combiner_76.median_combine()\n",
    "master_flat_78 = combiner_78.median_combine()\n",
    "master_flat_49 = combiner_49.median_combine()\n",
    "# median filter  \n",
    "# master_flat_49_filtered = ccdproc.median_filter(master_flat_49, 3)\n",
    "# master_flat_76_filtered = ccdproc.median_filter(master_flat_76, 3)"
   ]
  },
  {
   "cell_type": "markdown",
   "metadata": {},
   "source": [
    "Let display a region of one of the FLAT images and the master FLAT"
   ]
  },
  {
   "cell_type": "code",
   "execution_count": null,
   "metadata": {},
   "outputs": [],
   "source": [
    "from matplotlib.colors import LogNorm\n",
    "fig, axarr = plt.subplots(ncols=2, nrows=1, figsize=(12, 6))\n",
    "for i in range(2):\n",
    "    ax = axarr[i]\n",
    "    if i == 0:\n",
    "        box = image_flats_76[5].data\n",
    "        label = 'Flat number 6'\n",
    "    if i == 1:  \n",
    "        box = master_flat_76.data # We need to convert CCDdata to np.array\n",
    "        label = 'master Flat'\n",
    "    img = ax.imshow(box, cmap='gray', origin='low', vmin=25000, vmax=29000) #,norm=LogNorm())\n",
    "    ax.text(0.95, 0.05,label, ha='right', va='center', color='y',\n",
    "            transform=ax.transAxes, fontsize=18)\n",
    "    ax.set_xticks([])\n",
    "    ax.set_yticks([])\n",
    "    draw_rectangle(ax, box, 700, 1200, 700, 1200, color='r',text=True)\n",
    "    divider = make_axes_locatable(ax)\n",
    "    cax = divider.append_axes(\"right\", size=\"5%\", pad=0.05)\n",
    "    fig.colorbar(img, cax=cax)\n",
    "    "
   ]
  },
  {
   "cell_type": "markdown",
   "metadata": {},
   "source": [
    "### Normalizing the FLATS"
   ]
  },
  {
   "cell_type": "markdown",
   "metadata": {},
   "source": [
    "Since we will divide all the files by their corresponding FLAT, it is convinient to normalize the master FLAT. The mean value of the normalized FLAT is around 1 and the division will not alter the level of the images. We do not need to worry about since the flat is scaled by the mean of master_flat by the ccdproc.flat_correct procedure.\n",
    "\n",
    "Let us chack that this is the true using one science image taken with  filter #76"
   ]
  },
  {
   "cell_type": "code",
   "execution_count": null,
   "metadata": {},
   "outputs": [],
   "source": [
    "image = CCDData.read(filelist[102])\n",
    "print(image.header['object'],'  filter: ',image.header['ALFLTID'])"
   ]
  },
  {
   "cell_type": "code",
   "execution_count": null,
   "metadata": {},
   "outputs": [],
   "source": [
    "reduced_image = ccdproc.flat_correct(image, master_flat_76)"
   ]
  },
  {
   "cell_type": "code",
   "execution_count": null,
   "metadata": {},
   "outputs": [],
   "source": [
    "fig, axarr = plt.subplots(ncols=2, nrows=1, figsize=(12, 6))\n",
    "for i in range(2):\n",
    "    ax = axarr[i]\n",
    "    if i == 0:\n",
    "        box = image.data\n",
    "        label = 'original science image'\n",
    "    if i == 1:  \n",
    "        box = reduced_image.data # We need to convert CCDdata to np.array\n",
    "        label = 'after flat fielding'\n",
    "    img = ax.imshow(box, cmap='gray', origin='low', vmin=1300, vmax=1800) #,norm=LogNorm())\n",
    "    ax.text(0.95, 0.05,label, ha='right', va='center', color='y',\n",
    "            transform=ax.transAxes, fontsize=18)\n",
    "    ax.set_xticks([])\n",
    "    ax.set_yticks([])\n",
    "    draw_rectangle(ax, box, 700, 1200, 700, 1200, color='r',text=True)\n",
    "    divider = make_axes_locatable(ax)\n",
    "    cax = divider.append_axes(\"right\", size=\"5%\", pad=0.05)\n",
    "    fig.colorbar(img, cax=cax)\n",
    "    "
   ]
  },
  {
   "cell_type": "code",
   "execution_count": null,
   "metadata": {},
   "outputs": [],
   "source": [
    "fig, axarr = plt.subplots(ncols=2, nrows=1, figsize=(12, 6))\n",
    "for i in range(2):\n",
    "    ax = axarr[i]\n",
    "    if i == 0:\n",
    "        box = image.data[0:1000,0:1000]\n",
    "        label = 'original science image'\n",
    "    if i == 1:  \n",
    "        box = reduced_image.data[0:1000,0:1000] # We need to convert CCDdata to np.array\n",
    "        label = 'after flat fielding'\n",
    "    img = ax.imshow(box, cmap='gray', origin='low', vmin=1300, vmax=1500) #,norm=LogNorm())\n",
    "    ax.text(0.95, 0.05,label, ha='right', va='center', color='y',\n",
    "            transform=ax.transAxes, fontsize=18)\n",
    "    ax.set_xticks([])\n",
    "    ax.set_yticks([])\n",
    "    draw_rectangle(ax, box, 200, 800, 200, 800, color='r',text=True)\n",
    "    divider = make_axes_locatable(ax)\n",
    "    cax = divider.append_axes(\"right\", size=\"5%\", pad=0.05)\n",
    "    fig.colorbar(img, cax=cax)\n",
    "    "
   ]
  },
  {
   "cell_type": "code",
   "execution_count": null,
   "metadata": {},
   "outputs": [],
   "source": [
    "fig, axarr = plt.subplots(ncols=3, nrows=1, figsize=(14, 6))\n",
    "for i in range(3):\n",
    "    ax = axarr[i]\n",
    "    if i == 0:\n",
    "        box = master_flat_49\n",
    "        label = 'master_flat_49'\n",
    "    if i == 1:  \n",
    "        box = master_flat_76 \n",
    "        label = 'master_flat_76'\n",
    "    if i == 2:  \n",
    "        box = master_flat_78 \n",
    "        label = 'master_flat_78'                \n",
    "    img = ax.imshow(box, cmap='gray', origin='low', vmin=20000, vmax=35000) #,norm=LogNorm())\n",
    "    ax.text(0.95, 0.05,label, ha='right', va='center', color='y',\n",
    "            transform=ax.transAxes, fontsize=18)\n",
    "    ax.set_xticks([])\n",
    "    ax.set_yticks([])\n",
    "    draw_rectangle(ax, box.data, 500, 1200, 500, 1200, color='w',text=True)\n",
    "    divider = make_axes_locatable(ax)\n",
    "    cax = divider.append_axes(\"right\", size=\"5%\", pad=0.05)\n",
    "    fig.colorbar(img, cax=cax)\n",
    "    "
   ]
  },
  {
   "cell_type": "markdown",
   "metadata": {},
   "source": [
    "#### Writting the Master FLATs"
   ]
  },
  {
   "cell_type": "code",
   "execution_count": null,
   "metadata": {},
   "outputs": [],
   "source": [
    "# Copy primary header from single dark file and copy into master_dark header\n",
    "master_flat_49.header = image_flats_49[0].header.copy()\n",
    "master_flat_76.header = image_flats_76[0].header.copy()\n",
    "master_flat_78.header = image_flats_78[0].header.copy()"
   ]
  },
  {
   "cell_type": "code",
   "execution_count": null,
   "metadata": {},
   "outputs": [],
   "source": [
    "# Replace FILENAME keyword and add information\n",
    "master_flat_49.header['HISTORY']  = 'super FLAT combining '+ str(len(image_flats_49)) + ' FLATS images'\n",
    "master_flat_49.header['HISTORY']  =  str(datetime.datetime.now())[0:18]+' astropy median combine'\n",
    "master_flat_49.header['HISTORY']  = 'FLATS images from ' + str(image_flats_49[0].header['FILENAME'])+' to ' + str(image_flats_49[-1].header['FILENAME'])\n",
    "master_flat_49.header['FILENAME'] = 'N1_master_flat_49' \n",
    "master_flat_76.header['HISTORY']  = 'super FLAT combining '+ str(len(image_flats_76)) + ' FLATS images'\n",
    "master_flat_76.header['HISTORY']  =  str(datetime.datetime.now())[0:18]+' astropy median combine'\n",
    "master_flat_76.header['HISTORY']  = 'FLATS images from ' + str(image_flats_76[0].header['FILENAME'])+' to ' + str(image_flats_76[-1].header['FILENAME'])\n",
    "master_flat_76.header['FILENAME'] = 'N1_master_flat_76' \n",
    "master_flat_78.header['HISTORY']  = 'super FLAT combining '+ str(len(image_flats_78)) + ' FLATS images'\n",
    "master_flat_78.header['HISTORY']  =  str(datetime.datetime.now())[0:18]+' astropy median combine'\n",
    "master_flat_78.header['HISTORY']  = 'FLATS images from ' + str(image_flats_78[0].header['FILENAME'])+' to ' + str(image_flats_78[-1].header['FILENAME'])\n",
    "master_flat_78.header['FILENAME'] = 'N1_master_flat_78' "
   ]
  },
  {
   "cell_type": "code",
   "execution_count": null,
   "metadata": {},
   "outputs": [],
   "source": [
    "master_flat_49.write(directory+'flat_N1_49.fits',overwrite='yes')\n",
    "master_flat_76.write(directory+'flat_N1_76.fits',overwrite='yes')\n",
    "master_flat_78.write(directory+'flat_N1_78.fits',overwrite='yes')"
   ]
  },
  {
   "cell_type": "code",
   "execution_count": null,
   "metadata": {},
   "outputs": [],
   "source": []
  }
 ],
 "metadata": {
  "kernelspec": {
   "display_name": "Python 3",
   "language": "python",
   "name": "python3"
  },
  "language_info": {
   "codemirror_mode": {
    "name": "ipython",
    "version": 3
   },
   "file_extension": ".py",
   "mimetype": "text/x-python",
   "name": "python",
   "nbconvert_exporter": "python",
   "pygments_lexer": "ipython3",
   "version": "3.7.7"
  }
 },
 "nbformat": 4,
 "nbformat_minor": 4
}
