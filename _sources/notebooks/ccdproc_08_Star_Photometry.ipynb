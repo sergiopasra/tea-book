{
 "cells": [
  {
   "cell_type": "markdown",
   "metadata": {},
   "source": [
    "## ccdproc-08: Photometry of stars "
   ]
  },
  {
   "cell_type": "raw",
   "metadata": {},
   "source": [
    "<pre> Máster en Astrofísica UCM -- Técnicas Experimentales en Astrofísica\n",
    "Jaime Zamorano, Nicolás Cardiel and Sergio pascual\n",
    "\n",
    "This notebook has reproduced parts of\n",
    "Photoutils Aperture Photometry https://photutils.readthedocs.io/en/stable/aperture.html\n",
    "Photoutils Source Detection https://photutils.readthedocs.io/en/stable/detection.html\n",
    "\n",
    "v1  2020/01/21 to be completed\n",
    "\n",
    "</pre>"
   ]
  },
  {
   "cell_type": "markdown",
   "metadata": {},
   "source": [
    "Note that the ``astropy`` package should be installed. In this sense, have a look to the\n",
    "astropy installation description: https://docs.astropy.org/en/stable/install.html.\n",
    "We are also using ``ccdproc`` package."
   ]
  },
  {
   "cell_type": "code",
   "execution_count": null,
   "metadata": {},
   "outputs": [],
   "source": [
    "from astropy.io import fits\n",
    "import matplotlib\n",
    "%matplotlib inline\n",
    "import matplotlib.pyplot as plt\n",
    "from matplotlib.colors import LogNorm\n",
    "import numpy as np\n",
    "from mpl_toolkits.axes_grid1 import make_axes_locatable\n",
    "from ccdproc import CCDData, Combiner"
   ]
  },
  {
   "cell_type": "code",
   "execution_count": null,
   "metadata": {},
   "outputs": [],
   "source": [
    "plt.style.use('./tea.mplstyle')   # Some parameters for nicer graphs"
   ]
  },
  {
   "cell_type": "code",
   "execution_count": null,
   "metadata": {},
   "outputs": [],
   "source": [
    "# auxiliary function to display a rectangle and compute mean value within it\n",
    "def draw_rectangle(ax, image_data, x1, x2, y1, y2, color, text=False):\n",
    "    ax.plot((x1, x1), (y1, y2), color, lw=1)\n",
    "    ax.plot((x2, x2), (y1, y2), color, lw=1)\n",
    "    ax.plot((x1, x2), (y1, y1), color, lw=1)\n",
    "    ax.plot((x1, x2), (y2, y2), color, lw=1)\n",
    "    if text:\n",
    "        media = image_data[y1:y2,x1:x2].mean()\n",
    "        std   = image_data[y1:y2,x1:x2].std()\n",
    "        ax.text((x1+x2)/2, y1+(y2-y1)/8, str(int(media)), \n",
    "                ha='center', va='center', color=color, fontsize=12)        \n",
    "        ax.text((x1+x2)/2, y2-(y2-y1)/8, str(round(std,1)), \n",
    "                ha='center', va='top', color=color, fontsize=12)\n",
    "    return media, std"
   ]
  },
  {
   "cell_type": "markdown",
   "metadata": {},
   "source": [
    "### Opening the FITS files to be combined"
   ]
  },
  {
   "cell_type": "markdown",
   "metadata": {},
   "source": [
    "**List of files to be combined**\n",
    "\n",
    "These are three consecutive images of NGC4941 in R band taken with ALFOSC at NOT 2008"
   ]
  },
  {
   "cell_type": "code",
   "execution_count": null,
   "metadata": {},
   "outputs": [],
   "source": [
    "#directory='NOT_2008_N1/'\n",
    "directory='N1/'\n",
    "files = ['120077','120078','120079']       # fzt_ALrd+files[i]"
   ]
  },
  {
   "cell_type": "markdown",
   "metadata": {},
   "source": [
    "Opening the FITS files and putting the data into a list of numpy 2-D arrays."
   ]
  },
  {
   "cell_type": "code",
   "execution_count": null,
   "metadata": {},
   "outputs": [],
   "source": [
    "image = []\n",
    "for i in range(len(files)):\n",
    "    image.append(fits.open(directory+'fzt_ALrd'+str(files[i])+'.fits')[0])\n",
    "for i in range(len(files)):\n",
    "#print(image[0].info())\n",
    "#print(image[0].header)\n",
    "    print(image[i].header['FILENAME'],image[i].header['OBJECT'],image[i].header['EXPTIME'])"
   ]
  },
  {
   "cell_type": "markdown",
   "metadata": {},
   "source": [
    " The first two files are observations of 5s exposure in R band and the third is a longer exposure in a narrow filter. (Browse observation loogbook) "
   ]
  },
  {
   "cell_type": "markdown",
   "metadata": {},
   "source": [
    "### Display the images \n",
    "Let display the images with the same background and foreground limit values."
   ]
  },
  {
   "cell_type": "code",
   "execution_count": null,
   "metadata": {},
   "outputs": [],
   "source": [
    "sky_mean , std = [] , []\n",
    "vmin = 10 \n",
    "vmax = 1200\n",
    "fig, axarr = plt.subplots(ncols=3, nrows=1, figsize=(14, 12))\n",
    "for n in range(3):\n",
    "    ax = axarr[n]\n",
    "    ax.imshow(image[n].data, cmap='gray', origin='lower',vmin=vmin, vmax=vmax,norm=LogNorm())\n",
    "    ax.text(200,100,image[n].header['FILENAME'],fontsize=15,color=\"w\")\n",
    "    ax.set_xlabel('X axis')\n",
    "    mean_n,std_n = draw_rectangle(ax, image[n].data, 100, 500, 1500, 1900, color='w',text=True)\n",
    "    print(n,int(mean_n),int(std_n))\n",
    "    sky_mean.append(mean_n)\n",
    "    std.append(std_n)\n",
    "    ax.grid()\n",
    "    "
   ]
  },
  {
   "cell_type": "markdown",
   "metadata": {},
   "source": [
    "We should check using a star chart that HZ44 is the star in the middle of the frame.  \n",
    "Look for the HZ44 in SIMBAD and ALADIN."
   ]
  },
  {
   "cell_type": "code",
   "execution_count": null,
   "metadata": {},
   "outputs": [],
   "source": [
    "## Aperture photometry with Photutils"
   ]
  },
  {
   "cell_type": "code",
   "execution_count": null,
   "metadata": {},
   "outputs": [],
   "source": [
    "from photutils import DAOStarFinder\n",
    "from photutils import find_peaks\n",
    "from photutils import CircularAperture\n",
    "from photutils import CircularAnnulus\n",
    "from photutils import aperture_photometry\n",
    "\n",
    "from astropy.stats import sigma_clip, sigma_clipped_stats, mad_std"
   ]
  },
  {
   "cell_type": "markdown",
   "metadata": {},
   "source": [
    "### Locating the stars"
   ]
  },
  {
   "cell_type": "markdown",
   "metadata": {},
   "source": [
    "We can pass the position of the star to be measured but Photutils also includes a find_peaks() function to find local peaks in an image that are above a specified threshold value. Peaks are the local maxima above a specified threshold that are separated by a specified minimum number of pixels. \n",
    "\n",
    "Let´s use the first image "
   ]
  },
  {
   "cell_type": "code",
   "execution_count": null,
   "metadata": {},
   "outputs": [],
   "source": [
    "ximage = image[0].data\n",
    "mean, median, std = sigma_clipped_stats(ximage, sigma=3.0)\n",
    "threshold = median + (500. * std)\n",
    "tbl = find_peaks(ximage, threshold, box_size=40)\n",
    "tbl['peak_value'].info.format = '%.8g'  # for consistent table output\n",
    "print(tbl[:10])  # print only the first 10 peaks"
   ]
  },
  {
   "cell_type": "markdown",
   "metadata": {},
   "source": [
    "Displaying the peaks found with a circular red mark."
   ]
  },
  {
   "cell_type": "code",
   "execution_count": null,
   "metadata": {},
   "outputs": [],
   "source": [
    "fig = plt.figure(figsize=(9, 9))\n",
    "radius = 30\n",
    "vmin, vmax = 10, 1200\n",
    "positions = np.transpose((tbl['x_peak'], tbl['y_peak']))\n",
    "apertures = CircularAperture(positions, r=radius)\n",
    "plt.imshow(ximage, cmap='gray', origin='lower',vmin=vmin, vmax=vmax , norm=LogNorm())\n",
    "plt.grid()\n",
    "apertures.plot(color='red', lw=1.5)"
   ]
  },
  {
   "cell_type": "raw",
   "metadata": {},
   "source": [
    "We are ready to perform a simple aperture photometry summing up all the counts inside the circular apertures centered in the sources found. Our target star (HZ44) is that found in (1022 , 964)"
   ]
  },
  {
   "cell_type": "code",
   "execution_count": null,
   "metadata": {},
   "outputs": [],
   "source": [
    "phot_table = aperture_photometry(ximage, apertures)\n",
    "phot_table['aperture_sum'].info.format = '%.4g'  # for consistent table output\n",
    "print(phot_table)"
   ]
  },
  {
   "cell_type": "markdown",
   "metadata": {},
   "source": [
    "The sources can be added if their positions are known or estimated."
   ]
  },
  {
   "cell_type": "code",
   "execution_count": null,
   "metadata": {},
   "outputs": [],
   "source": [
    "positions_new = [(560, 440), (1000, 750), (800, 1000)]"
   ]
  },
  {
   "cell_type": "code",
   "execution_count": null,
   "metadata": {},
   "outputs": [],
   "source": [
    "fig = plt.figure(figsize=(9, 9))\n",
    "radius = 30\n",
    "vmin, vmax = 10, 1200\n",
    "positions = np.transpose((tbl['x_peak'], tbl['y_peak']))\n",
    "apertures = CircularAperture(positions, r=radius)\n",
    "plt.imshow(ximage, cmap='gray', origin='lower',vmin=vmin, vmax=vmax , norm=LogNorm())\n",
    "plt.grid()\n",
    "apertures.plot(color='red', lw=1.5)\n",
    "\n",
    "apertures_new = CircularAperture(positions_new, r=radius)\n",
    "apertures_new.plot(color='yellow', lw=1.5)"
   ]
  },
  {
   "cell_type": "markdown",
   "metadata": {},
   "source": [
    "We have selected two positions without any source to measure the sky background near HZ44."
   ]
  },
  {
   "cell_type": "code",
   "execution_count": null,
   "metadata": {},
   "outputs": [],
   "source": [
    "phot_table = aperture_photometry(ximage, apertures_new)\n",
    "phot_table['aperture_sum'].info.format = '%.4g'  # for consistent table output\n",
    "print(phot_table)"
   ]
  },
  {
   "cell_type": "markdown",
   "metadata": {},
   "source": [
    "The background (last two positions) have values around 1.0E5 counts inside the aperture of radius 30 pixels."
   ]
  },
  {
   "cell_type": "markdown",
   "metadata": {},
   "source": [
    "### Global Background Subtraction\n",
    "We can made a rougth estimate the background level using the median value for the whole image or better using a region without sources."
   ]
  },
  {
   "cell_type": "code",
   "execution_count": null,
   "metadata": {},
   "outputs": [],
   "source": [
    "median     = np.median(ximage)\n",
    "median_sky = np.median(ximage[1000:1250,250:500])\n",
    "print('median', median, ' sky ', median_sky)"
   ]
  },
  {
   "cell_type": "code",
   "execution_count": null,
   "metadata": {},
   "outputs": [],
   "source": [
    "bkg = median_sky\n",
    "phot_table = aperture_photometry(ximage - bkg, apertures) \n",
    "phot_table['aperture_sum'].info.format = '%.4g'  # for consistent table output\n",
    "print(phot_table)"
   ]
  },
  {
   "cell_type": "markdown",
   "metadata": {},
   "source": [
    " Total flux   1022.0   964.0    1.467e+06  (counts) inside aperture with radius 30 pix   \n",
    " Net flux     1022.0   964.0    1.368e+06   after substracting the estimated background"
   ]
  },
  {
   "cell_type": "markdown",
   "metadata": {},
   "source": [
    "### Measuring in several apertures "
   ]
  },
  {
   "cell_type": "markdown",
   "metadata": {},
   "source": [
    "It is posible to define several circular apertures and perform photometry in them.   \n",
    "Let's use the HZ44 position."
   ]
  },
  {
   "cell_type": "code",
   "execution_count": null,
   "metadata": {},
   "outputs": [],
   "source": [
    "print(apertures)\n",
    "HZ44_pos = positions[1]\n",
    "print(HZ44_pos)"
   ]
  },
  {
   "cell_type": "code",
   "execution_count": null,
   "metadata": {},
   "outputs": [],
   "source": [
    "radii = [10., 20., 30., 40.]\n",
    "apertures = [CircularAperture(HZ44_pos, r=r) for r in radii]\n",
    "phot_table = aperture_photometry(ximage, apertures)\n",
    "for col in phot_table.colnames:\n",
    "     phot_table[col].info.format = '%.5g'  # for consistent table output\n",
    "print(phot_table)"
   ]
  },
  {
   "cell_type": "markdown",
   "metadata": {},
   "source": [
    "## Local Background Subtraction\n",
    "Classical aperture photometry uses a circular annulus around the star image to determine the background. We will select radius of 8 pixels for the aperture and a circular annulus of inner radius of 12 and outer radius of 20. "
   ]
  },
  {
   "cell_type": "code",
   "execution_count": null,
   "metadata": {},
   "outputs": [],
   "source": [
    "aperture = CircularAperture(HZ44_pos, r=30)\n",
    "annulus_aperture = CircularAnnulus(HZ44_pos, r_in=50., r_out=70.)\n",
    "plt.figure(figsize=(14,9))\n",
    "plt.imshow(ximage, cmap='gray', origin='lower', vmin=vmin, vmax=vmax , norm=LogNorm())\n",
    "aperture.plot(color='yellow', lw=1)\n",
    "annulus_aperture.plot(color='red', lw=1)"
   ]
  },
  {
   "cell_type": "code",
   "execution_count": null,
   "metadata": {},
   "outputs": [],
   "source": [
    "apers = [aperture, annulus_aperture]\n",
    "phot_table = aperture_photometry(ximage, apers)\n",
    "for col in phot_table.colnames:\n",
    "    phot_table[col].info.format = '%.8g'  # for consistent table output\n",
    "print(phot_table)"
   ]
  },
  {
   "cell_type": "markdown",
   "metadata": {},
   "source": [
    "The last two columns show the total number of counts inside the cicle and the circular annulus. The areas of the apertures are different and we should correct before substracting the background by scaling the results for the same area"
   ]
  },
  {
   "cell_type": "code",
   "execution_count": null,
   "metadata": {},
   "outputs": [],
   "source": [
    "print(aperture.area, annulus_aperture.area)"
   ]
  },
  {
   "cell_type": "code",
   "execution_count": null,
   "metadata": {},
   "outputs": [],
   "source": [
    "bkg_mean = phot_table['aperture_sum_1'] / annulus_aperture.area\n",
    "bkg_sum  = bkg_mean * aperture.area\n",
    "final_sum = phot_table['aperture_sum_0'] - bkg_sum\n",
    "phot_table['residual_aperture_sum'] = final_sum\n",
    "phot_table['residual_aperture_sum'].info.format = '%.8g'  # for consistent table output\n",
    "print(phot_table['residual_aperture_sum'])  "
   ]
  },
  {
   "cell_type": "code",
   "execution_count": null,
   "metadata": {},
   "outputs": [],
   "source": [
    "for col in phot_table.colnames:\n",
    "    phot_table[col].info.format = '%.8g'  # for consistent table output\n",
    "print(phot_table)"
   ]
  },
  {
   "cell_type": "markdown",
   "metadata": {},
   "source": [
    "The last column shows the net counts obtained after substracting the scaled background"
   ]
  },
  {
   "cell_type": "markdown",
   "metadata": {},
   "source": [
    "Let's repeat for the second file"
   ]
  },
  {
   "cell_type": "code",
   "execution_count": null,
   "metadata": {},
   "outputs": [],
   "source": [
    "ximage = image[1].data\n",
    "mean, median, std = sigma_clipped_stats(ximage, sigma=3.0)\n",
    "threshold = median + (500. * std)\n",
    "tbl = find_peaks(ximage, threshold, box_size=40)\n",
    "tbl['peak_value'].info.format = '%.8g'  # for consistent table output\n",
    "print(tbl[:10])  # print only the first 10 peaks"
   ]
  },
  {
   "cell_type": "code",
   "execution_count": null,
   "metadata": {},
   "outputs": [],
   "source": [
    "positions = np.transpose((tbl['x_peak'], tbl['y_peak']))\n",
    "apertures = CircularAperture(positions, r=radius)"
   ]
  },
  {
   "cell_type": "code",
   "execution_count": null,
   "metadata": {},
   "outputs": [],
   "source": [
    "print(apertures)\n",
    "HZ44_pos = positions[3]\n",
    "print(HZ44_pos)"
   ]
  },
  {
   "cell_type": "code",
   "execution_count": null,
   "metadata": {},
   "outputs": [],
   "source": [
    "aperture = CircularAperture(HZ44_pos, r=30)\n",
    "annulus_aperture = CircularAnnulus(HZ44_pos, r_in=50., r_out=70.)\n",
    "plt.figure(figsize=(9,9))\n",
    "plt.imshow(ximage, cmap='gray', origin='lower', vmin=vmin, vmax=vmax , norm=LogNorm())\n",
    "aperture.plot(color='yellow', lw=1)\n",
    "annulus_aperture.plot(color='red', lw=1)"
   ]
  },
  {
   "cell_type": "code",
   "execution_count": null,
   "metadata": {},
   "outputs": [],
   "source": [
    "apers = [aperture, annulus_aperture]\n",
    "phot_table = aperture_photometry(ximage, apers)\n",
    "for col in phot_table.colnames:\n",
    "    phot_table[col].info.format = '%.8g'  # for consistent table output\n",
    "print(phot_table)"
   ]
  },
  {
   "cell_type": "code",
   "execution_count": null,
   "metadata": {},
   "outputs": [],
   "source": [
    "print(aperture.area, annulus_aperture.area)"
   ]
  },
  {
   "cell_type": "code",
   "execution_count": null,
   "metadata": {},
   "outputs": [],
   "source": [
    "bkg_mean = phot_table['aperture_sum_1'] / annulus_aperture.area\n",
    "bkg_sum  = bkg_mean * aperture.area\n",
    "final_sum = phot_table['aperture_sum_0'] - bkg_sum\n",
    "phot_table['residual_aperture_sum'] = final_sum\n",
    "phot_table['residual_aperture_sum'].info.format = '%.8g'  # for consistent table output\n",
    "print(phot_table['residual_aperture_sum'])  "
   ]
  },
  {
   "cell_type": "code",
   "execution_count": null,
   "metadata": {},
   "outputs": [],
   "source": [
    "for col in phot_table.colnames:\n",
    "    phot_table[col].info.format = '%.8g'  # for consistent table output\n",
    "print(phot_table)"
   ]
  },
  {
   "cell_type": "markdown",
   "metadata": {},
   "source": [
    "This can be compared with our first HZ44 observation\n",
    " id xcenter ycenter aperture_sum_0 aperture_sum_1 residual_aperture_sum\n",
    "      pix     pix                                                      \n",
    "--- ------- ------- -------------- -------------- ---------------------\n",
    "  1    1022     964      1466526.3      273523.19             1363955.1\n",
    "  \n",
    "fzt_ALrd120077.fits HZ44 R 5.0    1363955.1 c / 5s = 272791.02 c/s\n",
    "fzt_ALrd120078.fits HZ44 R 5.0    1380058   c / 5s = 276011.6  c/s "
   ]
  }
 ],
 "metadata": {
  "kernelspec": {
   "display_name": "Python 3",
   "language": "python",
   "name": "python3"
  },
  "language_info": {
   "codemirror_mode": {
    "name": "ipython",
    "version": 3
   },
   "file_extension": ".py",
   "mimetype": "text/x-python",
   "name": "python",
   "nbconvert_exporter": "python",
   "pygments_lexer": "ipython3",
   "version": "3.7.7"
  }
 },
 "nbformat": 4,
 "nbformat_minor": 4
}
