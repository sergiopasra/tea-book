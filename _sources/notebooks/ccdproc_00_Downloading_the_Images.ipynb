{
 "cells": [
  {
   "cell_type": "markdown",
   "metadata": {},
   "source": [
    "# ccdproc-00:   Download images  \n",
    "\n",
    "## Overview\n",
    "1. Create working directory \n",
    "2. Downloading the images "
   ]
  },
  {
   "cell_type": "markdown",
   "metadata": {},
   "source": [
    "<pre>\n",
    "Máster en Astrofísica UCM  -- Técnicas Experimentales en Astrofísica  \n",
    "Jaime Zamorano, Nicolás Cardiel and Sergio Pascual\n",
    "\n",
    "This notebook has reproduced parts of the the astropy ccdproc docs: \n",
    "https://ccdproc.readthedocs.io/en/latest/image_management.html\n",
    "\n",
    "Version 1.0 2021/01/18 \n",
    "Version 2.0 2021/01/25  using Sergio's presciptions\n",
    "</pre>"
   ]
  },
  {
   "cell_type": "markdown",
   "metadata": {},
   "source": [
    "Note that the ``astropy`` package should be installed. In this sense, have a look to the\n",
    "astropy installation description: https://docs.astropy.org/en/stable/install.html."
   ]
  },
  {
   "cell_type": "markdown",
   "metadata": {},
   "source": [
    "### Working directory\n",
    "We will use the files of the first night of observations at NOT (Nordic Optical Telescope) 2008 that can be downloaded from   ftp://astrax.fis.ucm.es/pub/users/jaz/NOT_2008_04_12-14/N1/\n",
    "or \n",
    "http://guaix.fis.ucm.es/~jaz/master_TEA/observaciones_NOT_2008/N1/\n",
    " \n",
    "We show here a simple procedure to create a directory called NOT_2008_N1 to be used as working directory, to download the compressed tar file and to put the files into the working directory.  \n",
    "\n",
    "If the directory is already made (for instance using linux commands from terminal) you can skip this step.  "
   ]
  },
  {
   "cell_type": "code",
   "execution_count": null,
   "metadata": {},
   "outputs": [],
   "source": [
    "directory = 'N1'\n",
    "dirname = 'N1'"
   ]
  },
  {
   "cell_type": "code",
   "execution_count": null,
   "metadata": {},
   "outputs": [],
   "source": [
    "# Version simple\n",
    "# solo descarga si es necesario\n",
    "#!curl -C -  -O ftp://astrax.fis.ucm.es/pub/users/jaz/NOT_2008_04_12-14/NOT_20080412_N1.tar.gz"
   ]
  },
  {
   "cell_type": "code",
   "execution_count": null,
   "metadata": {},
   "outputs": [],
   "source": [
    "# Simple version\n",
    "#!curl -O ftp://astrax.fis.ucm.es/pub/users/jaz/NOT_2008_04_12-14/NOT_20080412_N1.tar.gz\n",
    "!mkdir -p directory\n",
    "!tar -zxf NOT_20080412_N1.tar.gz --strip-components=1 -C directory\n",
    "# o bien\n",
    "#!tar -x -f NOT_20080412_N1.tar.gz -a --strip-components=1 -C $directory"
   ]
  },
  {
   "cell_type": "code",
   "execution_count": null,
   "metadata": {},
   "outputs": [],
   "source": [
    "%%bash\n",
    "# In this version, downloading is performed if the tar file is not present\n",
    "TARBALL=NOT_20080412_N1.tar.gz\n",
    "DIR=N1\n",
    "URI=ftp://astrax.fis.ucm.es/pub/users/jaz/NOT_2008_04_12-14/\"$TARBALL\"\n",
    "if [ ! -f \"$TARBALL\" ]; then\n",
    "    echo \"$TARBALL does not exist, download\"\n",
    "    curl -C -  -O \"$URI\"\n",
    "fi\n",
    "if  [ ! -d \"$DIR\" ]; then\n",
    "    mkdir -p $DIR\n",
    "    tar -x -f NOT_20080412_N1.tar.gz -a --strip-components=1 -C $DIR\n",
    "fi"
   ]
  }
 ],
 "metadata": {
  "kernelspec": {
   "display_name": "Python 3",
   "language": "python",
   "name": "python3"
  },
  "language_info": {
   "codemirror_mode": {
    "name": "ipython",
    "version": 3
   },
   "file_extension": ".py",
   "mimetype": "text/x-python",
   "name": "python",
   "nbconvert_exporter": "python",
   "pygments_lexer": "ipython3",
   "version": "3.7.7"
  }
 },
 "nbformat": 4,
 "nbformat_minor": 4
}
