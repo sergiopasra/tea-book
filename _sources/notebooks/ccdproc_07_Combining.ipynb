{
 "cells": [
  {
   "cell_type": "markdown",
   "metadata": {},
   "source": [
    "## ccdproc-07: Combining single observations "
   ]
  },
  {
   "cell_type": "markdown",
   "metadata": {},
   "source": [
    "<pre> Máster en Astrofísica UCM -- Técnicas Experimentales en Astrofísica\n",
    "Jaime Zamorano, Nicolás Cardiel and Sergio Pascual\n",
    "\n",
    "v0  2020/05/12 to be completed\n",
    "v1  2021/01/18 from example_04_combining_images_v1.ipynb but using NOT2008 observations\n",
    "\n",
    "</pre>"
   ]
  },
  {
   "cell_type": "markdown",
   "metadata": {},
   "source": [
    "Note that the ``astropy`` package should be installed. In this sense, have a look to the\n",
    "astropy installation description: https://docs.astropy.org/en/stable/install.html.\n",
    "We are also using ``ccdproc`` package."
   ]
  },
  {
   "cell_type": "code",
   "execution_count": null,
   "metadata": {},
   "outputs": [],
   "source": [
    "from astropy.io import fits\n",
    "import matplotlib\n",
    "%matplotlib inline\n",
    "import matplotlib.pyplot as plt\n",
    "from matplotlib.colors import LogNorm\n",
    "import numpy as np\n",
    "from mpl_toolkits.axes_grid1 import make_axes_locatable\n",
    "from ccdproc import CCDData, Combiner"
   ]
  },
  {
   "cell_type": "code",
   "execution_count": null,
   "metadata": {},
   "outputs": [],
   "source": [
    "plt.style.use('./tea.mplstyle')   # Some parameters for nicer graphs"
   ]
  },
  {
   "cell_type": "code",
   "execution_count": null,
   "metadata": {},
   "outputs": [],
   "source": [
    "# auxiliary function to display a rectangle and compute mean value within it\n",
    "def draw_rectangle(ax, image_data, x1, x2, y1, y2, color, text=False):\n",
    "    ax.plot((x1, x1), (y1, y2), color, lw=1)\n",
    "    ax.plot((x2, x2), (y1, y2), color, lw=1)\n",
    "    ax.plot((x1, x2), (y1, y1), color, lw=1)\n",
    "    ax.plot((x1, x2), (y2, y2), color, lw=1)\n",
    "    if text:\n",
    "        media = image_data[y1:y2,x1:x2].mean()\n",
    "        std   = image_data[y1:y2,x1:x2].std()\n",
    "        ax.text((x1+x2)/2, y1+(y2-y1)/8, str(int(media)), \n",
    "                ha='center', va='center', color=color, fontsize=12)        \n",
    "        ax.text((x1+x2)/2, y2-(y2-y1)/8, str(round(std,1)), \n",
    "                ha='center', va='top', color=color, fontsize=12)\n",
    "    return media, std"
   ]
  },
  {
   "cell_type": "markdown",
   "metadata": {},
   "source": [
    "### Opening the FITS files to be combined"
   ]
  },
  {
   "cell_type": "markdown",
   "metadata": {},
   "source": [
    "**List of files to be combined**\n",
    "\n",
    "These are three consecutive images of NGC4941 in R band taken with ALFOSC at NOT 2008"
   ]
  },
  {
   "cell_type": "code",
   "execution_count": null,
   "metadata": {},
   "outputs": [],
   "source": [
    "directory='N1/'\n",
    "#directory='/Users/jzamorano/Desktop/NOT_2008/N1/'\n",
    "files = ['120110','120111','120112']       # fzt_ALrd+files[i]"
   ]
  },
  {
   "cell_type": "markdown",
   "metadata": {},
   "source": [
    "Opening the FITS files and putting the data into a list of numpy 2-D arrays."
   ]
  },
  {
   "cell_type": "code",
   "execution_count": null,
   "metadata": {},
   "outputs": [],
   "source": [
    "image = []\n",
    "for i in range(len(files)):\n",
    "    image.append(fits.open(directory+'fzt_ALrd'+str(files[i])+'.fits')[0])\n",
    "for i in range(len(files)):\n",
    "#print(image[0].info())\n",
    "#print(image[0].header)\n",
    "    print(image[i].header['FILENAME'],image[i].header['OBJECT'],image[i].header['EXPTIME'])"
   ]
  },
  {
   "cell_type": "markdown",
   "metadata": {},
   "source": [
    "### Analysing the images data"
   ]
  },
  {
   "cell_type": "markdown",
   "metadata": {},
   "source": [
    "Let us get some basic statistics about our images"
   ]
  },
  {
   "cell_type": "markdown",
   "metadata": {},
   "source": [
    "#### Plotting a histogram"
   ]
  },
  {
   "cell_type": "markdown",
   "metadata": {},
   "source": [
    "To make a histogram with ``matplotlib.pyplot.hist()``, we need to cast the data from a 2-D to array to something one dimensional.\n",
    "In this case, we are am using ``ndarray.flatten()`` to return a 1-D numpy array."
   ]
  },
  {
   "cell_type": "code",
   "execution_count": null,
   "metadata": {},
   "outputs": [],
   "source": [
    "plt.xlim(800,2500)\n",
    "bins = np.arange(800,2500,50)\n",
    "for i in range(3):\n",
    "    plt.hist(image[i].data.flatten(), alpha=0.6, bins=bins,label=i)\n",
    "plt.legend()\n",
    "plt.show()"
   ]
  },
  {
   "cell_type": "markdown",
   "metadata": {},
   "source": [
    " One of the files (the first observation) has more signal than the next ones. "
   ]
  },
  {
   "cell_type": "markdown",
   "metadata": {},
   "source": [
    "### Display the images using frame coords (pixels)  \n",
    "Let display the images with the same background and foreground limit values."
   ]
  },
  {
   "cell_type": "code",
   "execution_count": null,
   "metadata": {},
   "outputs": [],
   "source": [
    "sky_mean , std = [] , []\n",
    "fig, axarr = plt.subplots(ncols=3, nrows=1, figsize=(12, 12))\n",
    "for n in range(3):\n",
    "    ax = axarr[n]\n",
    "    ax.imshow(image[n].data, cmap='gray', origin='lower',vmin=1000, vmax=5000,norm=LogNorm())\n",
    "    ax.text(200,200,n,fontsize=15,color=\"w\")\n",
    "    ax.set_xlabel('X axis')\n",
    "    mean_n,std_n = draw_rectangle(ax, image[n].data, 100, 500, 1500, 1900, color='w',text=True)\n",
    "    print(n,int(mean_n),int(std_n))\n",
    "    sky_mean.append(mean_n)\n",
    "    std.append(std_n)\n",
    "    ax.grid()\n",
    "    "
   ]
  },
  {
   "cell_type": "markdown",
   "metadata": {},
   "source": [
    "There are differences in sky background, but also un the telescope pointing. A small offset was applied before each observation.  "
   ]
  },
  {
   "cell_type": "markdown",
   "metadata": {},
   "source": [
    "### Display the images using WCS coordinates (RA & DEC)  \n",
    "Let display the images using the astrometry information of the headers "
   ]
  },
  {
   "cell_type": "code",
   "execution_count": null,
   "metadata": {},
   "outputs": [],
   "source": [
    "from astropy.wcs import WCS"
   ]
  },
  {
   "cell_type": "code",
   "execution_count": null,
   "metadata": {},
   "outputs": [],
   "source": [
    "fig = plt.subplots(figsize=(14, 12))\n",
    "for n in range(3):\n",
    "    ax1 = plt.subplot(1,3,n+1, projection=WCS(headers[n]))\n",
    "    ax1.imshow(image[n].data, origin='lower', vmin=1000., vmax=5000.)\n",
    "    ax1.coords['ra'].set_axislabel('Right Ascension')\n",
    "    ax1.coords['dec'].set_axislabel('Declination')\n",
    "    plt.grid(color='w')\n",
    "    ax1.set_title(headers[n]['FILENAME'])"
   ]
  },
  {
   "cell_type": "code",
   "execution_count": null,
   "metadata": {},
   "outputs": [],
   "source": [
    "Using WCS coordinates the images are aligned."
   ]
  },
  {
   "cell_type": "markdown",
   "metadata": {},
   "source": [
    "### Using ``reproject```"
   ]
  },
  {
   "cell_type": "markdown",
   "metadata": {},
   "source": [
    "We will use ``reproject``  \n",
    "https://reproject.readthedocs.io/en/stable/ \n",
    "\"The reproject package implements image reprojection (resampling) methods for astronomical images and more generally n-dimensional data. These assume that the WCS information contained in the data are correct.\""
   ]
  },
  {
   "cell_type": "code",
   "execution_count": null,
   "metadata": {},
   "outputs": [],
   "source": [
    "from reproject import reproject_interp"
   ]
  },
  {
   "cell_type": "code",
   "execution_count": null,
   "metadata": {},
   "outputs": [],
   "source": [
    "n_image_1, footprint = reproject_interp(image[1], image[0].header)\n",
    "n_image_2, footprint = reproject_interp(image[2], image[0].header)"
   ]
  },
  {
   "cell_type": "code",
   "execution_count": null,
   "metadata": {},
   "outputs": [],
   "source": [
    "fig = plt.subplots(figsize=(14, 12))\n",
    "\n",
    "ax1 = plt.subplot(1,3,1, projection=WCS(headers[0]))\n",
    "ax1.imshow(image[0].data, origin='lower', vmin=1000., vmax=5000.)\n",
    "ax1.coords['ra'].set_axislabel('Right Ascension')\n",
    "ax1.coords['dec'].set_axislabel('Declination')\n",
    "plt.grid(color='w')\n",
    "ax1.set_title(headers[0]['FILENAME'])\n",
    "\n",
    "ax1 = plt.subplot(1,3,2, projection=WCS(headers[0]))\n",
    "ax1.imshow(n_image_1, origin='lower', vmin=1000., vmax=5000.)\n",
    "ax1.coords['ra'].set_axislabel('Right Ascension')\n",
    "ax1.coords['dec'].set_axislabel('Declination')\n",
    "plt.grid(color='w')\n",
    "ax1.set_title(headers[1]['FILENAME'])\n",
    "\n",
    "ax1 = plt.subplot(1,3,3, projection=WCS(headers[0]))\n",
    "ax1.imshow(n_image_2, origin='lower', vmin=1000., vmax=5000.)\n",
    "ax1.coords['ra'].set_axislabel('Right Ascension')\n",
    "ax1.coords['dec'].set_axislabel('Declination')\n",
    "plt.grid(color='w')\n",
    "ax1.set_title(headers[1]['FILENAME'])"
   ]
  },
  {
   "cell_type": "markdown",
   "metadata": {},
   "source": [
    "The white stripes of the second (at left) and third images (left and top)are the area of the sky in the FoV of the first observation and not covered in that observations."
   ]
  },
  {
   "cell_type": "code",
   "execution_count": null,
   "metadata": {},
   "outputs": [],
   "source": [
    "nimage_1 = image[1].copy()\n",
    "nimage_1.data = n_image_1\n",
    "nimage_1.header = image[0].header\n",
    "nimage_1.header['FILENAME'] = 'nfzt_ALrd120111.fits' \n",
    "nimage_1.header['HISTORY'] = 'projected to fzt_ALrd120111.fits'\n",
    "nimage_1.writeto(directory+'nfzt_ALrd120111.fits',overwrite='yes')"
   ]
  },
  {
   "cell_type": "code",
   "execution_count": null,
   "metadata": {},
   "outputs": [],
   "source": [
    "nimage_2 = image[2].copy()\n",
    "nimage_2.data = n_image_2\n",
    "nimage_2.header = image[0].header\n",
    "nimage_2.header['FILENAME'] = 'nfzt_ALrd120112.fits' \n",
    "nimage_2.header['HISTORY'] = 'projected to fzt_ALrd120110.fits'\n",
    "nimage_2.writeto(directory+'nfzt_ALrd120112.fits',overwrite='yes')"
   ]
  },
  {
   "cell_type": "markdown",
   "metadata": {},
   "source": [
    "### Combining the individual images"
   ]
  },
  {
   "cell_type": "markdown",
   "metadata": {},
   "source": [
    "We can read the FITS files created as CCDDAta objects to create the ``Combiner``"
   ]
  },
  {
   "cell_type": "code",
   "execution_count": null,
   "metadata": {},
   "outputs": [],
   "source": [
    "ccd = []\n",
    "ccd.append(CCDData.read(directory+'fzt_ALrd120110.fits')) \n",
    "ccd.append(CCDData.read(directory+'nfzt_ALrd120111.fits',unit='adu')) \n",
    "ccd.append(CCDData.read(directory+'nfzt_ALrd120112.fits')) "
   ]
  },
  {
   "cell_type": "code",
   "execution_count": null,
   "metadata": {},
   "outputs": [],
   "source": [
    "sky_mean , std = [] , []\n",
    "fig, axarr = plt.subplots(ncols=3, nrows=1, figsize=(12, 12))\n",
    "for n in range(3):\n",
    "    ax = axarr[n]\n",
    "    ax.imshow(ccd[n].data, cmap='gray', origin='lower',vmin=1000, vmax=5000,norm=LogNorm())\n",
    "    ax.text(200,200,n,fontsize=15,color=\"w\")\n",
    "    ax.set_xlabel('X axis')\n",
    "    mean_n,std_n = draw_rectangle(ax, ccd[n].data, 100, 500, 1500, 1900, color='w',text=True)\n",
    "    print(n,int(mean_n),int(std_n))\n",
    "    sky_mean.append(mean_n)\n",
    "    std.append(std_n)\n",
    "    ax.grid()\n",
    "    "
   ]
  },
  {
   "cell_type": "markdown",
   "metadata": {},
   "source": [
    "The images are aligned. Let zoom in for a detailed view. "
   ]
  },
  {
   "cell_type": "code",
   "execution_count": null,
   "metadata": {},
   "outputs": [],
   "source": [
    "sky_mean , std = [] , []\n",
    "fig, axarr = plt.subplots(ncols=3, nrows=1, figsize=(12, 12))\n",
    "for n in range(3):\n",
    "    ax = axarr[n]\n",
    "    ax.imshow(ccd[n].data[900:1450,950:1300], cmap='gray', origin='lower',vmin=1300, vmax=2000,norm=LogNorm())\n",
    "    ax.minorticks_on()\n",
    "    ax.grid(True,which='major',color='w',linestyle='-',lw=0.5)\n",
    "    ax.grid(True,which='minor',color='w',linestyle='--',lw=0.2)\n",
    "    "
   ]
  },
  {
   "cell_type": "markdown",
   "metadata": {},
   "source": [
    "The alignnement is not perfect probably because the astrometry was made on the fly during the observations.\n",
    "\n",
    "As the images have different signal we must scale the signal to combine the individual images\n",
    "https://ccdproc.readthedocs.io/en/latest/api/ccdproc.Combiner.html#ccdproc.Combiner.scaling\n",
    "\n",
    "We will use a part of the images with signal to avoid the empty pixels qith nan values"
   ]
  },
  {
   "cell_type": "code",
   "execution_count": null,
   "metadata": {},
   "outputs": [],
   "source": [
    "combiner = Combiner(ccd)\n",
    "scaling_func = lambda arr: 1400/np.ma.average(arr[500:1000,1500:2000])\n",
    "combiner.scaling = scaling_func "
   ]
  },
  {
   "cell_type": "code",
   "execution_count": null,
   "metadata": {},
   "outputs": [],
   "source": [
    "print(combiner.scaling)"
   ]
  },
  {
   "cell_type": "code",
   "execution_count": null,
   "metadata": {},
   "outputs": [],
   "source": [
    "# median combine \n",
    "combined_image_average_scaled = combiner.average_combine()\n",
    "# median combine \n",
    "combined_image_median = combiner.median_combine()"
   ]
  },
  {
   "cell_type": "code",
   "execution_count": null,
   "metadata": {},
   "outputs": [],
   "source": [
    "fig = plt.figure(figsize=(14, 12))\n",
    "ax0 = fig.add_subplot(131)\n",
    "box = combined_image_average_scaled.data\n",
    "img = ax0.imshow(box, cmap='gray', origin='lower',vmin=1300, vmax=2000,norm=LogNorm())\n",
    "ax0.grid(color='w')\n",
    "ax1 = fig.add_subplot(132)\n",
    "box = combined_image_average_scaled.data[1200:1500,1000:1300]\n",
    "img = ax1.imshow(box, cmap='gray', origin='lower',vmin=1300, vmax=2000,norm=LogNorm())\n",
    "ax1.grid(color='w')\n",
    "ax2 = fig.add_subplot(133)\n",
    "box = ccd[0].data[1200:1500,1000:1300]\n",
    "img = ax2.imshow(box, cmap='gray', origin='lower',vmin=1300, vmax=2000,norm=LogNorm())\n",
    "ax2.grid(color='w')"
   ]
  },
  {
   "cell_type": "markdown",
   "metadata": {},
   "source": [
    "### Writing the resulting file"
   ]
  },
  {
   "cell_type": "markdown",
   "metadata": {},
   "source": [
    "We can use the ``writeto`` method to save the new file. \n",
    "Note that ``writeto`` will close the new file for you."
   ]
  },
  {
   "cell_type": "code",
   "execution_count": null,
   "metadata": {},
   "outputs": [],
   "source": [
    "# Extract primary header from single file and copy into new combined file header\n",
    "HDUList_object = ccd[0].header\n",
    "combined_image_median.header = HDUList_object"
   ]
  },
  {
   "cell_type": "code",
   "execution_count": null,
   "metadata": {},
   "outputs": [],
   "source": [
    "# Replace FILENAME keyword and add information\n",
    "combined_image_median.header['FILENAME'] = 'dummy.fits' \n",
    "combined_image_median.header['HISTORY'] = 'median combining '+ str(len(files)) + 'images'\n",
    "combined_image_median.header['HISTORY'] = 'fztALrd120110 nfzt_ALrd120111 nfzt_ALrd120112'\n"
   ]
  },
  {
   "cell_type": "code",
   "execution_count": null,
   "metadata": {},
   "outputs": [],
   "source": [
    "# Finally writte the image to a FITS file. \n",
    "# An error occurs when the file already exits (use overwrite='yes' to avoid the error)\n",
    "combined_image_median.write(directory+'dummy.fits',overwrite='yes')"
   ]
  },
  {
   "cell_type": "code",
   "execution_count": null,
   "metadata": {},
   "outputs": [],
   "source": []
  }
 ],
 "metadata": {
  "kernelspec": {
   "display_name": "Python 3",
   "language": "python",
   "name": "python3"
  },
  "language_info": {
   "codemirror_mode": {
    "name": "ipython",
    "version": 3
   },
   "file_extension": ".py",
   "mimetype": "text/x-python",
   "name": "python",
   "nbconvert_exporter": "python",
   "pygments_lexer": "ipython3",
   "version": "3.7.7"
  }
 },
 "nbformat": 4,
 "nbformat_minor": 4
}
