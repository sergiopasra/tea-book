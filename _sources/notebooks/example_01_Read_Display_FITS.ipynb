{
 "cells": [
  {
   "cell_type": "markdown",
   "metadata": {},
   "source": [
    "## Example 1:   Reading and displaying an image  \n",
    "\n",
    "Contents:\n",
    "How to read and display a FITS file.  \n",
    "Also in this tutorial: rotating images, histograms, obtaining slices, ... "
   ]
  },
  {
   "cell_type": "markdown",
   "metadata": {},
   "source": [
    "<pre>\n",
    "Máster en Astrofísica UCM  -- Técnicas Experimentales en Astrofísica  \n",
    "Jaime Zamorano and Nicolás Cardiel\n",
    "\n",
    "This notebook has reproduced parts of the STAK project notebooks:\n",
    "\n",
    "  - https://stak-notebooks.readthedocs.io/en/latest/index.html\n",
    "  - https://readthedocs.org/projects/stak-notebooks/downloads/pdf/latest/\n",
    "and the astropy tutorials: http://learn.astropy.org/FITS-images.html (by Lia R. Corrales)\n",
    "\n",
    "Version 2.0 2020/05/06  \n",
    "Version 3.0 2021/01/10  almost ready for 2020/21\n",
    "</pre>"
   ]
  },
  {
   "cell_type": "markdown",
   "metadata": {},
   "source": [
    "Note that the ``astropy`` package should be installed. In this sense, have a look to the\n",
    "astropy installation description: https://docs.astropy.org/en/stable/install.html."
   ]
  },
  {
   "cell_type": "code",
   "execution_count": null,
   "metadata": {},
   "outputs": [],
   "source": [
    "from astropy.io import fits\n",
    "from pylab import *\n",
    "import matplotlib\n",
    "%matplotlib inline\n",
    "import matplotlib.pyplot as plt\n",
    "import matplotlib.mlab as ml\n",
    "import numpy as np\n",
    "from mpl_toolkits.axes_grid1 import make_axes_locatable"
   ]
  },
  {
   "cell_type": "code",
   "execution_count": null,
   "metadata": {},
   "outputs": [],
   "source": [
    "# Some parameters for nicer graphs\n",
    "matplotlib.rcParams['text.usetex']=False\n",
    "rcParams['font.family'] = 'sans-serif'\n",
    "rcParams['font.sans-serif'] = ['Verdana']\n",
    "rcParams['font.size'] = 12.\n",
    "rcParams['lines.linewidth'] = 4.\n",
    "rcParams['axes.labelsize'] = 'large'\n",
    "rcParams['grid.linewidth'] = 1.0\n",
    "rcParams['grid.linestyle'] = ':'"
   ]
  },
  {
   "cell_type": "markdown",
   "metadata": {},
   "source": [
    "### Opening FITS files and loading the image data"
   ]
  },
  {
   "cell_type": "code",
   "execution_count": null,
   "metadata": {},
   "outputs": [],
   "source": [
    "directory = './FITS_files/'\n",
    "filename  = 'ucmP_0054.fits'\n",
    "M51_file = directory + filename"
   ]
  },
  {
   "cell_type": "markdown",
   "metadata": {},
   "source": [
    "Below we will open the FITS file. You can open the file in various modes, for this example we will open in update mode. The default mode is read only."
   ]
  },
  {
   "cell_type": "code",
   "execution_count": null,
   "metadata": {},
   "outputs": [],
   "source": [
    "# Open the FITS file with Astropy\n",
    "# using the default readonly mode\n",
    "HDUList_object = fits.open(M51_file)"
   ]
  },
  {
   "cell_type": "markdown",
   "metadata": {},
   "source": [
    "Next we will show the info print out for this HDUList object using the ``info()`` method."
   ]
  },
  {
   "cell_type": "code",
   "execution_count": null,
   "metadata": {},
   "outputs": [],
   "source": [
    "# HDUList info call\n",
    "HDUList_object.info()"
   ]
  },
  {
   "cell_type": "markdown",
   "metadata": {},
   "source": [
    "Now we will extract the primary header into the variable ``primary_header``. Note that since the index sequence that identifies a particular extension number starts at zero, the first extension is number 0. The ``primary_header`` object works as a Python dictionary, i.e., you can access any FITS keyword by its keyname (in this case the use of uppercase or lowercase characters is not relevant)."
   ]
  },
  {
   "cell_type": "code",
   "execution_count": null,
   "metadata": {},
   "outputs": [],
   "source": [
    "# Extract primary header\n",
    "primary_header = HDUList_object[0].header\n",
    "\n",
    "# Index header object with keyword name and print value\n",
    "print(primary_header['FILENAME'])"
   ]
  },
  {
   "cell_type": "code",
   "execution_count": null,
   "metadata": {},
   "outputs": [],
   "source": [
    "print(primary_header['EXPTIME'])"
   ]
  },
  {
   "cell_type": "markdown",
   "metadata": {},
   "source": [
    "Let browse the whole header contents (iterating through the different keywords):"
   ]
  },
  {
   "cell_type": "code",
   "execution_count": null,
   "metadata": {},
   "outputs": [],
   "source": [
    "for key in primary_header:\n",
    "    print('{:8} = {}'.format(key, primary_header[key]))"
   ]
  },
  {
   "cell_type": "markdown",
   "metadata": {},
   "source": [
    "Next we extract the image data into a variable called ``image_data``."
   ]
  },
  {
   "cell_type": "code",
   "execution_count": null,
   "metadata": {},
   "outputs": [],
   "source": [
    "# Extract image data\n",
    "image_data = HDUList_object[0].data\n",
    "print(image_data)"
   ]
  },
  {
   "cell_type": "markdown",
   "metadata": {},
   "source": [
    "You data is now stored as a 2-D numpy array. \n",
    "\n",
    "Want to know the dimensions of the image? Just look at the shape of the array."
   ]
  },
  {
   "cell_type": "code",
   "execution_count": null,
   "metadata": {},
   "outputs": [],
   "source": [
    "print(type(image_data))\n",
    "print(image_data.shape)"
   ]
  },
  {
   "cell_type": "markdown",
   "metadata": {},
   "source": [
    "At this point, we can just close the FITS file. \n",
    "We have stored everything we wanted to a variable."
   ]
  },
  {
   "cell_type": "code",
   "execution_count": null,
   "metadata": {},
   "outputs": [],
   "source": [
    "HDUList_object.close()"
   ]
  },
  {
   "cell_type": "markdown",
   "metadata": {},
   "source": [
    "If you don't need to examine the FITS header, you can call ``fits.getdata`` to bypass the previous steps."
   ]
  },
  {
   "cell_type": "code",
   "execution_count": null,
   "metadata": {},
   "outputs": [],
   "source": [
    "image_data = fits.getdata(M51_file)\n",
    "print(type(image_data))\n",
    "print(image_data.shape)"
   ]
  },
  {
   "cell_type": "markdown",
   "metadata": {},
   "source": [
    "### Viewing the image data and getting basic statistics"
   ]
  },
  {
   "cell_type": "code",
   "execution_count": null,
   "metadata": {},
   "outputs": [],
   "source": [
    "naxis2, naxis1 = image_data.shape\n",
    "\n",
    "fig, ax = plt.subplots(ncols=1, nrows=1, figsize=(10, 10))\n",
    "img = ax.imshow(image_data, cmap='gray', origin='low')\n",
    "ax.set_xlabel('X axis')\n",
    "ax.set_ylabel('Y axis')\n",
    "divider = make_axes_locatable(ax)\n",
    "cax = divider.append_axes(\"right\", size=\"5%\", pad=0.05)\n",
    "fig.colorbar(img, cax=cax, label='Number of counts')\n",
    "ax.grid()"
   ]
  },
  {
   "cell_type": "markdown",
   "metadata": {},
   "source": [
    "Let us get some basic statistics about our image"
   ]
  },
  {
   "cell_type": "code",
   "execution_count": null,
   "metadata": {},
   "outputs": [],
   "source": [
    "print('Min:', np.min(image_data))\n",
    "print('Max:', np.max(image_data))\n",
    "print('Mean:', np.mean(image_data))\n",
    "print('Stdev:', np.std(image_data))"
   ]
  },
  {
   "cell_type": "markdown",
   "metadata": {},
   "source": [
    "### Plotting a histogram"
   ]
  },
  {
   "cell_type": "markdown",
   "metadata": {},
   "source": [
    "To make a histogram with ``matplotlib.pyplot.hist()``, we need to cast the data from a 2-D array into a 1-D array. In this case, we are using the ``ndarray.flatten()`` to return the 1-D numpy array."
   ]
  },
  {
   "cell_type": "code",
   "execution_count": null,
   "metadata": {},
   "outputs": [],
   "source": [
    "print(image_data.shape)\n",
    "print(type(image_data.flatten()))\n",
    "print(image_data.flatten().shape)"
   ]
  },
  {
   "cell_type": "code",
   "execution_count": null,
   "metadata": {},
   "outputs": [],
   "source": [
    "NBINS = 100\n",
    "fig, ax = plt.subplots(ncols=1, nrows=1, figsize=(10, 6))\n",
    "histogram = ax.hist(image_data.flatten(), NBINS)\n",
    "ax.set_xlabel('Number of counts')\n",
    "ax.set_ylabel('Number of pixels')\n",
    "ax.set_title('Image: {}'.format(filename))\n",
    "#ax.set_title('Image: ' + filename)"
   ]
  },
  {
   "cell_type": "markdown",
   "metadata": {},
   "source": [
    "The histogram shows that most of the pixels values are below 10000.\n",
    "Let us plot the histogram with better detail."
   ]
  },
  {
   "cell_type": "code",
   "execution_count": null,
   "metadata": {},
   "outputs": [],
   "source": [
    "# Note that axarray will be an array (with two values, one for each histogram)\n",
    "fig, axarr = plt.subplots(ncols=2, nrows=1, figsize=(10, 5))\n",
    "\n",
    "for i in range(2):\n",
    "    ax = axarr[i]\n",
    "    \n",
    "    if i == 0:\n",
    "        ax.set_xlim([0, 10000])\n",
    "    else:\n",
    "        ax.set_xlim([40000, 66000])\n",
    "        ax.set_ylim([0, 100])\n",
    "    ax.set_xlabel('Number of counts')\n",
    "    ax.set_ylabel('Number of pixels')\n",
    "                     \n",
    "    h = ax.hist(image_data.flatten(), NBINS)\n",
    "\n",
    "plt.suptitle('Image: {}'.format(M51_file))"
   ]
  },
  {
   "cell_type": "markdown",
   "metadata": {},
   "source": [
    "It is evident that there are a few saturated pixels (values over $2^{16}-1 = 65535$ counts), and also pixels with values above $50000$ counts that are probably out of the linear regime of the CCD. "
   ]
  },
  {
   "cell_type": "markdown",
   "metadata": {},
   "source": [
    "We can display the image with a better looking aspect adding ``vmin`` and ``vmax`` parameters to the ``imshow()`` function."
   ]
  },
  {
   "cell_type": "code",
   "execution_count": null,
   "metadata": {},
   "outputs": [],
   "source": [
    "fig, ax = plt.subplots(ncols=1, nrows=1, figsize=(10, 10))\n",
    "img = ax.imshow(image_data, cmap='gray', vmin=1000, vmax=6000)\n",
    "ax.set_xlabel('X axis')\n",
    "ax.set_ylabel('Y axis')\n",
    "ax.set_title('Image: {}'.format(filename))\n",
    "divider = make_axes_locatable(ax)\n",
    "cax = divider.append_axes(\"right\", size=\"5%\", pad=0.05)\n",
    "fig.colorbar(img, cax=cax, label='Number of counts')\n",
    "ax.grid()"
   ]
  },
  {
   "cell_type": "markdown",
   "metadata": {},
   "source": [
    "If you want to use a logarithmic color scale load the ``LogNorm`` object from matplotlib."
   ]
  },
  {
   "cell_type": "code",
   "execution_count": null,
   "metadata": {},
   "outputs": [],
   "source": [
    "from matplotlib.colors import LogNorm"
   ]
  },
  {
   "cell_type": "markdown",
   "metadata": {},
   "source": [
    "Let's compare the use of ``LogNorm`` (left image) with the default linear scaling (right image)."
   ]
  },
  {
   "cell_type": "code",
   "execution_count": null,
   "metadata": {},
   "outputs": [],
   "source": [
    "fig, axarr = plt.subplots(ncols=2, nrows=1, figsize=(10, 4))\n",
    "for i in range(2):\n",
    "    if i == 0:\n",
    "        norm = LogNorm()\n",
    "        subtitle = '(using LogNorm scaling)'\n",
    "    else:\n",
    "        norm = None\n",
    "        subtitle = '(using a linear scaling)'\n",
    "    ax = axarr[i]\n",
    "    img = ax.imshow(image_data, cmap='gray', vmin=1000, vmax=6000, norm=norm)\n",
    "    ax.set_xlabel('X axis')\n",
    "    ax.set_ylabel('Y axis')\n",
    "    ax.set_title('Image: {}\\n{}'.format(filename, subtitle))\n",
    "    divider = make_axes_locatable(ax)\n",
    "    cax = divider.append_axes(\"right\", size=\"5%\", pad=0.05)\n",
    "    fig.colorbar(img, cax=cax)\n",
    "    ax.grid()"
   ]
  },
  {
   "cell_type": "markdown",
   "metadata": {},
   "source": [
    "### Differences in syntax between IRAF and Python"
   ]
  },
  {
   "cell_type": "markdown",
   "metadata": {},
   "source": [
    "#### x versus y\n",
    "When working with images (2-dimensional) arrays, IRAF has the index order ``[x, y]``. \n",
    "In Python’s Numpy package, the order is reversed: ``[y, x]``."
   ]
  },
  {
   "cell_type": "code",
   "execution_count": null,
   "metadata": {},
   "outputs": [],
   "source": [
    "# auxiliary function to display a rectangle and compute mean value within it\n",
    "def draw_rectangle(ax, x1, x2, y1, y2, display_mean=False):\n",
    "    ax.plot((x1, x1), (y1, y2), 'y-', lw=1)\n",
    "    ax.plot((x2, x2), (y1, y2), 'y-', lw=1)\n",
    "    ax.plot((x1, x2), (y1, y1), 'y-', lw=1)\n",
    "    ax.plot((x1, x2), (y2, y2), 'y-', lw=1)\n",
    "    if display_mean:\n",
    "        media = image_data[y1:y2,x1:x2].mean()\n",
    "        ax.text((x1+x2)/2, y1, str(int(media)), \n",
    "                ha='center', va='bottom', color='y', fontsize=12)"
   ]
  },
  {
   "cell_type": "code",
   "execution_count": null,
   "metadata": {},
   "outputs": [],
   "source": [
    "fig, ax = plt.subplots(ncols=1, nrows=1, figsize=(10, 10))\n",
    "img = ax.imshow(image_data, cmap='gray', vmin=1000, vmax=6000)\n",
    "ax.set_xlabel('X axis')\n",
    "ax.set_ylabel('Y axis')\n",
    "ax.set_title('Image: {}'.format(filename))\n",
    "divider = make_axes_locatable(ax)\n",
    "cax = divider.append_axes(\"right\", size=\"5%\", pad=0.05)\n",
    "fig.colorbar(img, cax=cax, label='Number of counts')\n",
    "\n",
    "# make use of the auxiliary image previously defined\n",
    "draw_rectangle(ax, 850, 1150, 1000, 1200, display_mean=True)\n",
    "draw_rectangle(ax, 850, 1150, 500, 800, display_mean=True)"
   ]
  },
  {
   "cell_type": "markdown",
   "metadata": {},
   "source": [
    "#### index 0\n",
    "\n",
    "Note for IRAF users:  \n",
    "IRAF indexes begin at 1 whereas Python arrays start at zero. \n",
    "So to pull out the first element of a 1-dimensional array \n",
    "you would use ``array[0]``. To pull out the lower left corner \n",
    "of a 2-dimensional array you would use ``array[0,0]``."
   ]
  },
  {
   "cell_type": "code",
   "execution_count": null,
   "metadata": {},
   "outputs": [],
   "source": [
    "x1, x2, y1, y2 = 850, 1150, 500, 800\n",
    "companion_galaxy = image_data[y1:y2,x1:x2]\n",
    "plt.imshow(companion_galaxy, cmap='gray', vmin=1000,vmax=6000)"
   ]
  },
  {
   "cell_type": "markdown",
   "metadata": {},
   "source": [
    "### Slicing\n",
    "\n",
    "Slicing in IRAF and IDL is inclusive for the right side of the slice. \n",
    "In Python the right side of the slice is exclusive. \n",
    "For example, if you end a slice with the 4th index, ``array[0:4]``, \n",
    "the fourth index element (actually the 5th element in the array since index begins at 0) will not be included in the slice."
   ]
  },
  {
   "cell_type": "markdown",
   "metadata": {},
   "source": [
    "Let us create and plot a transversal cut along the center of the galaxies."
   ]
  },
  {
   "cell_type": "code",
   "execution_count": null,
   "metadata": {},
   "outputs": [],
   "source": [
    "fig, ax = plt.subplots(ncols=1, nrows=1, figsize=(10, 10))\n",
    "img = ax.imshow(image_data, cmap='gray', vmin=1000, vmax=6000)\n",
    "ax.set_xlabel('X axis')\n",
    "ax.set_ylabel('Y axis')\n",
    "ax.set_title('Image: {}'.format(filename))\n",
    "divider = make_axes_locatable(ax)\n",
    "cax = divider.append_axes(\"right\", size=\"5%\", pad=0.05)\n",
    "fig.colorbar(img, cax=cax, label='Number of counts')\n",
    "\n",
    "x1, x2, y1, y2 = 100,1200,600,650\n",
    "draw_rectangle(ax, x1, x2, y1, y2)"
   ]
  },
  {
   "cell_type": "code",
   "execution_count": null,
   "metadata": {},
   "outputs": [],
   "source": [
    "box_1 = image_data[y1:y2,:]\n",
    "print(box_1.shape)\n",
    "cross_x = box_1.sum(axis=0)\n",
    "print(cross_x.shape)\n",
    "crosss_x = np.divide(cross_x, box_1.shape[0])"
   ]
  },
  {
   "cell_type": "code",
   "execution_count": null,
   "metadata": {},
   "outputs": [],
   "source": [
    "fig, ax = plt.subplots(ncols=1, nrows=1, figsize=(10, 8))\n",
    "ax.plot(cross_x)\n",
    "ax.set_xlabel('x axis')\n",
    "ax.set_ylabel('Number of counts')"
   ]
  },
  {
   "cell_type": "code",
   "execution_count": null,
   "metadata": {},
   "outputs": [],
   "source": [
    "fig, ax = plt.subplots(ncols=1, nrows=1, figsize=(10, 10))\n",
    "img = ax.imshow(image_data, cmap='gray', vmin=1000, vmax=6000)\n",
    "ax.set_xlabel('X axis')\n",
    "ax.set_ylabel('Y axis')\n",
    "ax.set_title('Image: {}'.format(filename))\n",
    "divider = make_axes_locatable(ax)\n",
    "cax = divider.append_axes(\"right\", size=\"5%\", pad=0.05)\n",
    "fig.colorbar(img, cax=cax, label='Number of counts')\n",
    "\n",
    "x1, x2, y1, y2 = 470, 520, 0, 1300\n",
    "draw_rectangle(ax, x1, x2, y1, y2)"
   ]
  },
  {
   "cell_type": "code",
   "execution_count": null,
   "metadata": {},
   "outputs": [],
   "source": [
    "box_2 = image_data[:,x1:x2]\n",
    "print(box_2.shape)\n",
    "cross_y = box_2.sum(axis=1)\n",
    "print(cross_y.shape)\n",
    "corte_y = np.divide(cross_y,box_2.shape[0])"
   ]
  },
  {
   "cell_type": "code",
   "execution_count": null,
   "metadata": {},
   "outputs": [],
   "source": [
    "fig, ax = plt.subplots(ncols=1, nrows=1, figsize=(10, 8))\n",
    "ax.plot(cross_y)\n",
    "ax.set_xlabel('y axis')\n",
    "ax.set_ylabel('Number of counts')"
   ]
  },
  {
   "cell_type": "markdown",
   "metadata": {},
   "source": [
    "### Matplotlib image origin\n",
    "\n",
    "The default origin location for matplotlib plots (a common Python plotting library) will be in the upper-left. To change this to the lower left (common for images) you can use the ``origin=lower`` parameter in the ``imshow`` call as follows: ``plt.imshow(..., origin='lower')``."
   ]
  },
  {
   "cell_type": "code",
   "execution_count": null,
   "metadata": {},
   "outputs": [],
   "source": [
    "fig, axarr = plt.subplots(ncols=2, nrows=1, figsize=(10, 4))\n",
    "for i in range(2):\n",
    "    if i == 0:\n",
    "        origin = 'upper'\n",
    "        subtitle = '(default origin)'\n",
    "    else:\n",
    "        origin = 'lower'\n",
    "        subtitle = '(origin set to lower)'\n",
    "    ax = axarr[i]\n",
    "    img = ax.imshow(image_data, cmap='gray', vmin=1000, vmax=6000, \n",
    "                    origin=origin, norm=LogNorm())\n",
    "    ax.set_xlabel('X axis')\n",
    "    ax.set_ylabel('Y axis')\n",
    "    ax.set_title('Image: {}\\n{}'.format(filename, subtitle))\n",
    "    divider = make_axes_locatable(ax)\n",
    "    cax = divider.append_axes(\"right\", size=\"5%\", pad=0.05)\n",
    "    fig.colorbar(img, cax=cax)\n",
    "    ax.grid()"
   ]
  },
  {
   "cell_type": "markdown",
   "metadata": {},
   "source": [
    "As any 2-d numpy array the images can be rotated to any angle"
   ]
  },
  {
   "cell_type": "code",
   "execution_count": null,
   "metadata": {},
   "outputs": [],
   "source": [
    "from scipy.ndimage import rotate"
   ]
  },
  {
   "cell_type": "code",
   "execution_count": null,
   "metadata": {},
   "outputs": [],
   "source": [
    "image_data_PA30 = rotate(image_data, 30, axes=(1,0))\n",
    "\n",
    "fig, axarr = plt.subplots(ncols=2, nrows=1, figsize=(10, 4))\n",
    "for i in range(2):\n",
    "    ax = axarr[i]\n",
    "    if i == 0:\n",
    "        image = image_data\n",
    "        subtitle = '(original image)'\n",
    "        ax.set_xlabel('X axis')\n",
    "        ax.set_ylabel('Y axis')\n",
    "    else:\n",
    "        image = image_data_PA30\n",
    "        subtitle = '(image rotated 30 deg.)'\n",
    "        ax.set_xlabel('new X axis')\n",
    "        ax.set_ylabel('new Y axis')\n",
    "        \n",
    "    img = ax.imshow(image, cmap='gray', vmin=1000, vmax=6000, norm=LogNorm())\n",
    "    ax.set_title('Image: {}\\n{}'.format(filename, subtitle))\n",
    "    divider = make_axes_locatable(ax)\n",
    "    cax = divider.append_axes(\"right\", size=\"5%\", pad=0.05)\n",
    "    fig.colorbar(img, cax=cax)\n",
    "    ax.grid()"
   ]
  },
  {
   "cell_type": "code",
   "execution_count": null,
   "metadata": {},
   "outputs": [],
   "source": []
  }
 ],
 "metadata": {
  "kernelspec": {
   "display_name": "Python 3",
   "language": "python",
   "name": "python3"
  },
  "language_info": {
   "codemirror_mode": {
    "name": "ipython",
    "version": 3
   },
   "file_extension": ".py",
   "mimetype": "text/x-python",
   "name": "python",
   "nbconvert_exporter": "python",
   "pygments_lexer": "ipython3",
   "version": "3.7.7"
  }
 },
 "nbformat": 4,
 "nbformat_minor": 4
}
