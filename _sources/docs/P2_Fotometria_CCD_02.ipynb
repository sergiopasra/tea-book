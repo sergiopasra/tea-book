{
 "cells": [
  {
   "cell_type": "markdown",
   "metadata": {},
   "source": [
    "# Correción de BIAS \n",
    "\n",
    "## Generación del master BIAS\n",
    "Combinando los BIAS obtendremos un master_BIAS o master_DARK que será el que usemos en la correción de BIAS. Como veremos se consigue una imagen con menor dispersión y en la que desaparecen los píxeles de alta señal correspondientes a la llegada de rayos cósmicos mientras se lee el detector.\n",
    "\n",
    "Podemos empezar preparando la lista completa de ficheros en nuestro directorio de trabajo. De ella seleccionaremos luego los ficheros de BIAS de esa noche como hemos aprendido antes."
   ]
  },
  {
   "cell_type": "code",
   "execution_count": null,
   "metadata": {},
   "outputs": [],
   "source": [
    "import os\n",
    "from glob import glob\n",
    "directory='/Users/jzamorano/Desktop/NOT_2008/N1/'   # write here your working directory\n",
    "# os.path.join is a platform-independent way to join two directories\n",
    "globpath = os.path.join(directory, 't_*.fits')      # already trimmed files names begin with 't_'\n",
    "print(globpath)\n",
    "# glob searches through directories similar to the Unix shell\n",
    "filelist = sorted(glob(globpath))\n",
    "print(filelist[100:105])    # printing only from 10 to 20"
   ]
  },
  {
   "cell_type": "markdown",
   "metadata": {},
   "source": [
    "Nos preparamos para buscar los ficheros de BIAS de nuestra lista completa de imágenes"
   ]
  },
  {
   "cell_type": "code",
   "execution_count": null,
   "metadata": {},
   "outputs": [],
   "source": [
    "from ccdproc import ImageFileCollection\n",
    "from ccdproc.utils.sample_directory import sample_directory_with_files\n",
    "keys = ['imagetyp','OBJECT' , 'EXPTIME' , 'ALFLTID' , 'FAFLTID' , 'FBFLTID']\n",
    "ic1 = ImageFileCollection(directory, keywords=keys) # only keep track of keys\n",
    "ic1.summary.colnames\n",
    "print(keys)"
   ]
  },
  {
   "cell_type": "markdown",
   "metadata": {},
   "source": [
    "Seleccionamos los que tienen 'BIAS' en el descriptor ``imagetyp``"
   ]
  },
  {
   "cell_type": "code",
   "execution_count": null,
   "metadata": {},
   "outputs": [],
   "source": [
    "matches = (ic1.summary['imagetyp'] == 'BIAS') \n",
    "my_bias_files = ic1.summary['file'][matches]\n",
    "print(my_bias_files)"
   ]
  },
  {
   "cell_type": "markdown",
   "metadata": {},
   "source": [
    "Leemos los ficheros a objetos CCDData ya que queremos usar ``ccdproc``para combinarlos."
   ]
  },
  {
   "cell_type": "code",
   "execution_count": null,
   "metadata": {},
   "outputs": [],
   "source": [
    "image_bias = []\n",
    "for file in my_bias_files:\n",
    "    image_bias.append(CCDData.read(directory+file)) #, unit=\"adu\"))"
   ]
  },
  {
   "cell_type": "markdown",
   "metadata": {},
   "source": [
    "La recomendación es visualizarlos con DS9 para comprobar que son todos útiles y que no hay alguno con dimensiones distintas o algún otro problema. Podemos hacer un poco de estadística."
   ]
  },
  {
   "cell_type": "code",
   "execution_count": null,
   "metadata": {},
   "outputs": [],
   "source": [
    "print('Filename          Object        exp Mean std min  max')\n",
    "exposure = []\n",
    "for i in range(len(my_bias_files)):\n",
    "    print(image_bias[i].header['FILENAME'], \n",
    "          image_bias[i].header['OBJECT'], \n",
    "          image_bias[i].header['EXPTIME'], \n",
    "          int(np.mean(image_bias[i])), \n",
    "          int(np.std(image_bias[i])), \n",
    "          np.min(image_bias[i]), \n",
    "          np.max(image_bias[i]))"
   ]
  },
  {
   "cell_type": "markdown",
   "metadata": {},
   "source": [
    "<pre>\n",
    "Filename          Object        exp Mean std min  max\n",
    "t_ALrd120001.fits Bias afternoon 0.0 353 7 311 10680\n",
    "t_ALrd120002.fits Bias afternoon 0.0 355 8 313 10558\n",
    "t_ALrd120003.fits Bias afternoon 0.0 357 8 314 8746\n",
    "t_ALrd120004.fits Bias afternoon 0.0 358 5 312 5407\n",
    "t_ALrd120005.fits Bias afternoon 0.0 358 7 313 8782\n",
    "t_ALrd120006.fits Bias afternoon 0.0 358 5 317 4349\n",
    "t_ALrd120007.fits Bias afternoon 0.0 358 4 317 1631\n",
    "t_ALrd120008.fits Bias afternoon 0.0 358 10 317 10974\n",
    "t_ALrd120009.fits Bias afternoon 0.0 358 4 316 1518\n",
    "t_ALrd120010.fits Bias afternoon 0.0 358 6 319 7516\n",
    "</pre>\n",
    "\n",
    "Y también preparar unos histogramas para comprobar que son similares entre sí.  \n",
    "Para hacer el histograma se necesita \n",
    "- usar los datos del objeto ``CCDData``  image_bias[i].data\n",
    "- colapsar el array resultante a una dimensión con ``flatten()``  image_bias[i].data.flatten()  \n",
    "\n",
    "```{note}\n",
    "astropy dispone de una rutina de histograma más completa si se desea:  [astropy hist](https://docs.astropy.org/en/stable/api/astropy.visualization.hist.html#astropy.visualization.hist).  \n",
    "Esa rutina de histograma forma parte de [astropy Data Visualization](https://docs.astropy.org/en/stable/visualization/index.html#module-astropy.visualization)\n",
    "```"
   ]
  },
  {
   "cell_type": "code",
   "execution_count": null,
   "metadata": {},
   "outputs": [],
   "source": [
    "bins = np.arange(330, 380, 5)\n",
    "fig, axarr = plt.subplots(ncols=5, nrows=1, figsize=(12, 4))\n",
    "for i in range(0,5): #len(my_bias_files)):\n",
    "    ax = axarr[i]\n",
    "    ax.hist(image_bias[i].data.flatten(), alpha=0.8, bins=bins, label=i)\n",
    "    ax.grid()\n",
    "    ax.set_xticks([340,360,380])\n",
    "    ax.set_title('BIAS '+image_bias[i].header['FILENAME'][8:12])\n",
    "    if i > 0:\n",
    "        ax.label_outer()\n",
    "plt.xlim(330,380)\n",
    "\n",
    "fig, axarr = plt.subplots(ncols=5, nrows=1, figsize=(12, 4))\n",
    "for i in range(5,10): #len(my_bias_files)):\n",
    "    ax = axarr[i-5]\n",
    "    ax.hist(image_bias[i].data.flatten(), alpha=0.8, bins=bins, label=i)\n",
    "    ax.grid()\n",
    "    ax.set_xticks([340,360,380])\n",
    "    ax.set_title('BIAS '+image_bias[i].header['FILENAME'][8:12])\n",
    "    if i > 0:\n",
    "        ax.label_outer()\n",
    "plt.xlim(330,380)"
   ]
  },
  {
   "cell_type": "markdown",
   "metadata": {},
   "source": [
    "Hemos elegido representar entre valores cercanos al valor medio que encontramos antes\n",
    "\n",
    "\n",
    "```{figure} /_static/lecture_specific/p2_fotometria/p2_04_bias_1.png\n",
    "---\n",
    "width: 600px\n",
    "name: bias-1-fig\n",
    "---\n",
    "Histograma de las imágenes de BIAS correspondientes a la noche primera.\n",
    "```\n",
    "```{figure} /_static/lecture_specific/p2_fotometria/p2_04_bias_2.png\n",
    "---\n",
    "width: 600px\n",
    "name: bias-2-fig\n",
    "---\n",
    "Representación de las imágenes de BIAS usando los mismos cortes. Se aprecian pequeñas diferencias.\n",
    "```\n",
    "```{figure} /_static/lecture_specific/p2_fotometria/p2_04_bias_3.png\n",
    "---\n",
    "width: 600px\n",
    "name: bias-3-fig\n",
    "---\n",
    "Imagen del último BIAS de la serie de 10 y detalle del mismo en una región con impactos aparentes de rayos cósmicos. \n",
    "```\n",
    "Para combinar las imágenes de BIAS usaremos algunos paquetes de astropy"
   ]
  },
  {
   "cell_type": "code",
   "execution_count": null,
   "metadata": {},
   "outputs": [],
   "source": [
    "# Some astropy packages \n",
    "import ccdproc\n",
    "from ccdproc import CCDData, Combiner\n",
    "from astropy import stats\n",
    "from astropy.stats import sigma_clip, mad_std\n",
    "from astropy.stats import sigma_clipped_stats"
   ]
  },
  {
   "cell_type": "markdown",
   "metadata": {},
   "source": [
    "Para combinar imágenes ``astropy`` dispone de ``Combiner``"
   ]
  },
  {
   "cell_type": "code",
   "execution_count": null,
   "metadata": {},
   "outputs": [],
   "source": [
    "# Combiner is a class for combining CCDData objects.\n",
    "# https://ccdproc.readthedocs.io/en/latest/api/ccdproc.Combiner.html\n",
    "# The Combiner class is used to combine together CCDData objects \n",
    "# including the method for combining the data, rejecting outlying data, \n",
    "# and weighting used for combining frames.\n",
    "\n",
    "combiner = Combiner(image_bias)"
   ]
  },
  {
   "cell_type": "markdown",
   "metadata": {},
   "source": [
    "Antes de combinar podemos rechazar los valores altos que aparecen en los píxeles impactados por rayos cósmicos.  \n",
    "El master_dark se puede ahora crear con la combinación de nuestro gusto. Para 10 ficheros de BIAS las diferencias van a ser mínimas entre ``median_combine`` o ``mean_combine``. Puede leerse sobre este tema en: [CCD data reduction guide  Image combination](https://mwcraig.github.io/ccd-as-book/01-06-Image-combination.html)"
   ]
  },
  {
   "cell_type": "code",
   "execution_count": null,
   "metadata": {},
   "outputs": [],
   "source": [
    "# clipping all values over 800 to remove cosmic rays hits \n",
    "combiner.minmax_clipping(min_clip=None, max_clip=800)\n",
    "# median combine \n",
    "master_dark = combiner.median_combine()\n",
    "# median filter  \n",
    "master_dark_filtered = ccdproc.median_filter(master_dark, 3)"
   ]
  },
  {
   "cell_type": "markdown",
   "metadata": {},
   "source": [
    "```{figure} /_static/lecture_specific/p2_fotometria/p2_04_bias_4.png\n",
    "---\n",
    "width: 800px\n",
    "name: bias-4-fig\n",
    "---\n",
    "Detalles de y estadística (media y desviación estándar) de una imagen individual de BIAS y la combinación de mediana. La última imagen es el resultado de aplicar un filtro de mediana a éste último dark. La región amarilla presenta una estadística con mayor desviación debido a los impactos de rayos cósmicos pero en el master_dark este problema se arregla. Nótese que los píxeles de valor alto han desaparecido.\n",
    "```\n",
    "Copiamos la cabecera de uno de los BIAS y le añadimos información del procesado hasta llegar al master_dark. usamos como FILENAME 'N1_master_dark' que es un nombre más descriptivo."
   ]
  },
  {
   "cell_type": "code",
   "execution_count": null,
   "metadata": {},
   "outputs": [],
   "source": [
    "# Copy primary header from single dark file and copy into master_dark header\n",
    "master_dark.header = image_bias[0].header.copy()"
   ]
  },
  {
   "cell_type": "code",
   "execution_count": null,
   "metadata": {},
   "outputs": [],
   "source": [
    "# Replace FILENAME keyword and add information\n",
    "master_dark.header['HISTORY']  = 'super DARK combining '+ str(len(image_bias)) + ' BIAS images'\n",
    "master_dark.header['HISTORY']  =  str(datetime.datetime.now())[0:18]+' astropy median combine'\n",
    "master_dark.header['HISTORY']  = 'BIAS images from ' + str(image_bias[0].header['FILENAME'])+' to ' + str(image_bias[9].header['FILENAME'])\n",
    "master_dark.header['FILENAME'] = 'N1_master_dark' "
   ]
  },
  {
   "cell_type": "markdown",
   "metadata": {},
   "source": [
    "A continuación escribimos esta imagen como fichero FITS en el directorio de trabajo como 'zero_N1.fits'"
   ]
  },
  {
   "cell_type": "code",
   "execution_count": null,
   "metadata": {},
   "outputs": [],
   "source": [
    "master_dark.write(directory+'zero_N1.fits',overwrite='yes')"
   ]
  },
  {
   "cell_type": "markdown",
   "metadata": {},
   "source": [
    "```{figure} /_static/lecture_specific/p2_fotometria/p2_04_bias_5.png\n",
    "---\n",
    "width: 700px\n",
    "name: bias-5-fig\n",
    "---\n",
    "Estas tres líneas aparecen en el final de la cabecera del master_dark informando de cómo se ha preparado esta imagen. Se conservan las dos primeras líneas de HISTORY donde se apuntaba el recorte ('trimming') que habían sufrido anteriormente.\n",
    "```\n",
    "\n",
    "## Corrección de bias \n",
    "En este paso utilizaremos el master_DARK (o master_BIAS) para corregir todas las imágenes de este nivel de BIAS. No es necesario seleccionar por filtro empleado en este caso porque el nivel es independiente de la cantidad y tipo de luz que llegue al chip.\n",
    "\n",
    "Si hemos seguido los pasos anteriores nuestro master DARK se llama 'zero_N1.fits' y se encuentra en nuestro directorio de trabajo. En este directorio están también las imágenes recortadas."
   ]
  },
  {
   "cell_type": "code",
   "execution_count": null,
   "metadata": {},
   "outputs": [],
   "source": [
    "# reading master_bias from 'zero_N1.fits'\n",
    "filename = 'zero_N1.fits'\n",
    "master_bias = CCDData.read(directory+filename)"
   ]
  },
  {
   "cell_type": "markdown",
   "metadata": {},
   "source": [
    "Haremos una corrección de BIAS en dos imágenes como ejemplo para ver que el comando ccdproc_subtract_bias que usaremos luego es una simple resta de imágenes. Una de ellas es una observación de nuestro proyecto y la otra una imagen de calibración, uno de los BIAS individuales que usamos para construir el maaster BIAS."
   ]
  },
  {
   "cell_type": "code",
   "execution_count": null,
   "metadata": {},
   "outputs": [],
   "source": [
    "science = CCDData.read(filelist[102])    # file with a science observation\n",
    "onebias = CCDData.read(filelist[9])      # file with a single BIAS frame"
   ]
  },
  {
   "cell_type": "code",
   "execution_count": null,
   "metadata": {},
   "outputs": [],
   "source": [
    "# Statistics of the example images\n",
    "print('Filename          Object            exp  Mean std min  max')\n",
    "print(science.header['FILENAME'], science.header['OBJECT'], science.header['EXPTIME'], \n",
    "          int(np.mean(science)), int(np.std(science)), np.min(science), np.max(science))\n",
    "print(bias.header['FILENAME'], onebias.header['OBJECT'], onebias.header['EXPTIME'], \n",
    "          int(np.mean(onebias)), int(np.std(onebias)), np.min(onebias), np.max(onebias))"
   ]
  },
  {
   "cell_type": "markdown",
   "metadata": {},
   "source": [
    "<pre>\n",
    "Filename          Object            exp  Mean std min  max\n",
    "t_ALrd120103.fits GC4496A R 3x300s 300.0 6431 456 367 65535\n",
    "t_ALrd120010.fits Bias afternoon 0.0 358 6 319 7516\n",
    "</pre>\n",
    "La imagen de ciencia es la primera observación de una serie de tres observaciones de 300s de exposición de NGC4496A con el filtro R. Nótese que el observador puso 'GC4496A' en lugar de 'NGC4496A'. El valor máximo es de 65535 que resulta ser el número más alto que se puede reperesentar con números binarios de 16-bits (unsigned) y por lo tanto indica que hay algún píxel completamente saturado.  ( 65535 =  2^16 -1 )\n",
    "\n",
    "```{figure} /_static/lecture_specific/p2_fotometria/p2_04_bias_6.png\n",
    "---\n",
    "width: 700px\n",
    "name: bias-6-fig\n",
    "---\n",
    "Imágenes de prueba a las que vamos a restar el master BIAS. Los recuadros muestran el valor medio y la desviación estándar.\n",
    "```"
   ]
  },
  {
   "cell_type": "code",
   "execution_count": null,
   "metadata": {},
   "outputs": [],
   "source": [
    "# Corrección de BIAS usando numpy subtract\n",
    "onebias_minus_bias = np.subtract(onebias,master_bias)\n",
    "science_minus_bias = np.subtract(science,master_bias)"
   ]
  },
  {
   "cell_type": "markdown",
   "metadata": {},
   "source": [
    "```{figure} /_static/lecture_specific/p2_fotometria/p2_04_bias_7.png\n",
    "---\n",
    "width: 700px\n",
    "name: bias-7-fig\n",
    "---\n",
    "Las imágenes de prueba a las que hemos restado el master BIAS. Los recuadros muestran el valor medio y la desviación estándar. Como esperábamos la señal de un BIAS al que restamos un master BIAS se queda en cero y la desviación típica no cambia. En el caso de la imagen de ciencia tenemos el nivel reducido en unas 358 cuentas (el valor medio del master BIAS).\n",
    "```\n",
    "Corregir con el comando de ccdproc es muy sencillo y produce el mismo resultado."
   ]
  },
  {
   "cell_type": "code",
   "execution_count": null,
   "metadata": {},
   "outputs": [],
   "source": [
    "# Corrección de BIAS usando numpy subtract\n",
    "bias_subtracted_onebias = ccdproc.subtract_bias(onebias, master_bias)\n",
    "bias_subtracted_science = ccdproc.subtract_bias(science, master_bias)"
   ]
  },
  {
   "cell_type": "markdown",
   "metadata": {},
   "source": [
    "```{figure} /_static/lecture_specific/p2_fotometria/p2_04_bias_8.png\n",
    "---\n",
    "width: 700px\n",
    "name: bias-8-fig\n",
    "---\n",
    "Las imágenes de prueba a las que vamos hemos restado el master BIAS usando ccdproc.subtract_bias). El resultado es idéntico.\n",
    "```\n",
    "\n",
    "## Corrigiendo todas las imágenes\n",
    "Este sencillo paso que haremos a continuación falla al llegar al fichero 't_ALrd120063.fits' ya que ésta es una imagen de menor tamaño. Esta observación es un enfoque del telescopio y no tiene utilidad científica. Por eso es conveniente mirar el cuaderno de observaciones. Por lo tanto la borramos.\n",
    "<pre>\n",
    "$ rm t_ALrd120063.fits\n",
    "</pre>\n",
    "\n",
    "ahora simplemente recorremos toda la lista de imágenes y para cada una de ellas efectuamos la substracción de BIAS, le cambiamos el nombre añadiendo una z (de 'zero corrected') y añadimos información con descriptores HISTORY."
   ]
  },
  {
   "cell_type": "code",
   "execution_count": null,
   "metadata": {},
   "outputs": [],
   "source": [
    "for i in range (len(filelist)):\n",
    "    image = CCDData.read(filelist[i]) #, unit=\"adu\")\n",
    "    z_image = ccdproc.subtract_bias(image,master_bias)\n",
    "    name_of_file = 'z'+ str(image.header['FILENAME'])\n",
    "    z_image.header['FILENAME']  = name_of_file\n",
    "    z_image.header['HISTORY']   = str(datetime.datetime.now())[0:18]+' astropy ccdproc substract_bias'\n",
    "    z_image.header['HISTORY']   = 'using NOT2008/N1/zero_N1.fits master BIAS' \n",
    "    print('writting '+name_of_file+ ' in '+directory)\n",
    "    z_image.write(directory+name_of_file,overwrite='yes')"
   ]
  },
  {
   "cell_type": "markdown",
   "metadata": {},
   "source": [
    "Si todo ha ido bien tendremos en el directorio de trabajo imágenes con nombre 'zt_ALrd120062.fits' por ejemplo y que en cuya cabecera FITS se puede leer la información de su procesado.\n",
    "\n",
    "```{figure} /_static/lecture_specific/p2_fotometria/p2_04_bias_9.png\n",
    "---\n",
    "width: 600px\n",
    "name: bias-9-fig\n",
    "---\n",
    "Estas líneas aparecen en el final de la cabecera de las imágenes corregidas de BIAS informando de cómo se ha procesado esta imagen. Se conservan las dos primeras líneas de HISTORY donde se apuntaba el recorte ('trimming') que habían sufrido anteriormente.\n",
    "```\n",
    "Los ficheros se han creado en el mismo directorio del que leimos las imágenes. La recomendación es dejarlos ahí y crear un subdirectorio para meter las imágenes recortadas (primer paso). De esta forma nuestro directorio de trabajo sigue siendo el mismo y las imágenes originales y recortadas siguen a nuestra disposición por si nos equivocamos en alguno de los pasos. Tendríamos entonces\n",
    "\n",
    "<pre>\n",
    "NOT_2008/N1                directorio de trabajo con los t_AL*.fits ficheros recortados\n",
    "NOT_2008/N1/0_originales   donde mantenemos los ficheros antes de procesado\n",
    "NOT_2008/N1/1_recortados   donde almacenaremos el resultado del primer paso \n",
    "                           $> mkdir 1_recortados\n",
    "                           $> mv t_AL*.fits 1_recortados/.\n",
    "</pre>\n",
    "\n",
    "Si hacemos un listado nuestro directorio de trabajo tendrá este aspecto:\n",
    "<pre>\n",
    "N1 jzamorano$ ls\n",
    "0_originales       zt_ALrd120011.fits zt_ALrd120024.fits zt_ALrd120037.fits zt_ALrd120050.fits\n",
    "1_recortados       zt_ALrd120012.fits zt_ALrd120025.fits zt_ALrd120038.fits zt_ALrd120051.fits\n",
    "zero_N1.fits       zt_ALrd120013.fits zt_ALrd120026.fits zt_ALrd120039.fits zt_ALrd120052.fits\n",
    "zt_ALrd120001.fits zt_ALrd120014.fits zt_ALrd120027.fits zt_ALrd120040.fits zt_ALrd120053.fits\n",
    "zt_ALrd120002.fits zt_ALrd120015.fits zt_ALrd120028.fits zt_ALrd120041.fits zt_ALrd120054.fits\n",
    "zt_ALrd120003.fits zt_ALrd120016.fits zt_ALrd120029.fits zt_ALrd120042.fits zt_ALrd120055.fits\n",
    "zt_ALrd120004.fits zt_ALrd120017.fits zt_ALrd120030.fits zt_ALrd120043.fits zt_ALrd120056.fits\n",
    "zt_ALrd120005.fits zt_ALrd120018.fits zt_ALrd120031.fits zt_ALrd120044.fits zt_ALrd120057.fits\n",
    "zt_ALrd120006.fits zt_ALrd120019.fits zt_ALrd120032.fits zt_ALrd120045.fits zt_ALrd120058.fits\n",
    "zt_ALrd120007.fits zt_ALrd120020.fits zt_ALrd120033.fits zt_ALrd120046.fits zt_ALrd120059.fits\n",
    "...\n",
    "</pre>"
   ]
  }
 ],
 "metadata": {
  "jupytext": {
   "text_representation": {
    "extension": ".md",
    "format_name": "myst"
   }
  },
  "kernelspec": {
   "display_name": "Python 3",
   "language": "python",
   "name": "python3"
  },
  "source_map": [
   10,
   19,
   29,
   32,
   39,
   41,
   45,
   48,
   52,
   55,
   66,
   92,
   115,
   143,
   150,
   152,
   160,
   164,
   171,
   182,
   186,
   192,
   194,
   196,
   211,
   215,
   218,
   222,
   229,
   245,
   249,
   259,
   263,
   280,
   290
  ]
 },
 "nbformat": 4,
 "nbformat_minor": 4
}