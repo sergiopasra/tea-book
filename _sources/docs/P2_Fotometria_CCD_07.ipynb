{
 "cells": [
  {
   "cell_type": "markdown",
   "metadata": {},
   "source": [
    "# Pasos finales  \n",
    "\n",
    "\n",
    "\n",
    "## Calibración fotométrica\n",
    "Determinación de las constantes instrumentales y coeficientes de extinción para cada noche.\n",
    "\n",
    "\n",
    "## Calibración astrométrica\n",
    "Para ello se utilizará [Astrometry.net](http://astrometry.net/) y las herramientas disponibles en [AstrOmatic.net](http://www.astromatic.net/).\n",
    "\n",
    "## Eliminación de rayos cósmicos\n",
    "Los rayos cósmicos se eliminan mediante combinación de 3 o más imágenes similares (de existir), lo que precisa alineamiento previo. También, en caso necesario, se puede realizar una limpieza individual mediante proceso semi-interactivo con el programa [cleanest](https://cleanest.readthedocs.io/en/latest/)."
   ]
  }
 ],
 "metadata": {
  "jupytext": {
   "text_representation": {
    "extension": ".md",
    "format_name": "myst"
   }
  },
  "kernelspec": {
   "display_name": "Python 3",
   "language": "python",
   "name": "python3"
  },
  "language_info": {
   "codemirror_mode": {
    "name": "ipython",
    "version": 3
   },
   "file_extension": ".py",
   "mimetype": "text/x-python",
   "name": "python",
   "nbconvert_exporter": "python",
   "pygments_lexer": "ipython3",
   "version": "3.9.1"
  },
  "source_map": [
   10
  ]
 },
 "nbformat": 4,
 "nbformat_minor": 4
}