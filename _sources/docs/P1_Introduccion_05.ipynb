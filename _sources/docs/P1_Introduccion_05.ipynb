{
 "cells": [
  {
   "cell_type": "markdown",
   "metadata": {},
   "source": [
    "#  Cuaderno de observaciones\n",
    "El acceso a las grandes instalaciones se realiza mediante llamada de propuestas que posteriormente son evaluadas por un panel. Los diferentes proyectos se ordenan según su calificación y se asigna tiempo de observación a las propuestas mejor valoradas hasta que se acaba el tiempo. Esto ocurre con los telescopios profesionales en los que dependiendo de las necesidades de los grupos solicitantes aparecen factores de sobrepetición.  \n",
    "Para acoplar los proyectos con tiempo asignado se recorta a veces la cantidad de tiempo solicitado. El resultado es que si se consigue acceso a un telescopio se dispone de un tiempo corto para llevar a cabo el proyecto. Por eso es muy importante planificar bien las observaciones para llevarlas acabo de forma eficiente, sin pérdidas de tiempo. A la hora de observar se sigue esta agenda previa que deberá ser modificada o no de acuerdo a las condiciones meteorológicas y/o a los resultados que se vayan obteniendo.  \n",
    "Para la observación en sí misma lo ideal es que haya, al menos, dos personas observando. La de mayor experiencia puede llevar el peso de la observación al principio mientras la otra, por ejemplo un estudiante de doctorado, va cogiendo confianza. Lo normal es que la doctoranda acabe liderando la observación.  \n",
    "Antiguamente era usual llevar un cuaderno de observaciones ('logbook') donde se anotaban cada una de las instrucciones que se recibían de los astrónomos de apoyo, los parámetros de los ajustes de los instrumentos como la configuración instrumental y cada una de las exposiciones. También se anotan las observaciones para encontrar el mejor foco, las incidencias o fallos en las observaciones como por ejemplo saturación de estrellas estándar que ayudan a decidir tiempos de exposición del mismo objeto en la siguiente noche, el número de cuentas en los Flat Field, condiciones atmosféricas y seeing, por ejemplo. Parte de esta información aparece en las cabeceras FITS de los ficheros como el tiempo de exposición o la hora de la observación, pero muchos otros no. Los cuadernos de observación ayudan a la hora de la reducción cuando, por ejemplo, se ha nombrado mal el objeto observado\n",
    "\n",
    " ```{figure} /_static/lecture_specific/p1_intro/intro_04_logbook_1.png\n",
    "---\n",
    "width: 500px\n",
    "name: logbook_1-fig\n",
    "---\n",
    "Del cuaderno de observaciones de NOT 2008 que se emplea en la práctica de reducción de observaciones de imagen. El cuaderno completo se encuentra en el campus virtual. Se ha escrito en cada línea una observación indicando el número de orden (seguramente las últimas cifras del fichero), el objeto, el tiempo de exposición, el filtro, la hora (en TU) y en algún caso la sec(z) o masa de aire. También se leen algunos comentarios. \n",
    "```\n",
    " ```{figure} /_static/lecture_specific/p1_intro/intro_04_logbook_2.png\n",
    "---\n",
    "width: 500px\n",
    "name: logbook_2-fig\n",
    "---\n",
    "Del cuaderno de observaciones de la campaña del INT de mayo de 1997 que se emplea en la práctica de reducción de espectroscopía de rendija larga. El cuaderno completo se encuentra en el campus virtual. En este caso se anota también el ángulo de posición (PA). En la parte baja de esta hoja se pegó una impresión de la imagen espectroscópica indicando la orientación de la rendija.\n",
    "```\n",
    "Estos métodos de cuaderno de observaciones de la 'vieja escuela' están dando paso a la edición de un fichero de anotaciones en un ordenador. No es lo mismo, desde luego."
   ]
  }
 ],
 "metadata": {
  "jupytext": {
   "text_representation": {
    "extension": ".md",
    "format_name": "myst"
   }
  },
  "kernelspec": {
   "display_name": "Python 3",
   "language": "python",
   "name": "python3"
  },
  "language_info": {
   "codemirror_mode": {
    "name": "ipython",
    "version": 3
   },
   "file_extension": ".py",
   "mimetype": "text/x-python",
   "name": "python",
   "nbconvert_exporter": "python",
   "pygments_lexer": "ipython3",
   "version": "3.9.1"
  },
  "source_map": [
   10
  ]
 },
 "nbformat": 4,
 "nbformat_minor": 4
}