{
 "cells": [
  {
   "cell_type": "markdown",
   "metadata": {},
   "source": [
    "# Example 2: Master DARK "
   ]
  },
  {
   "cell_type": "markdown",
   "metadata": {},
   "source": [
    "<pre>Máster en Astrofísica UCM  -- Técnicas Experimentales en Astrofísica\n",
    "Jaime Zamorano and Nicolás Cardiel\n",
    "\n",
    "This notebook has reproduced parts of the STAK project notebook:\n",
    " - https://stak-notebooks.readthedocs.io/en/latest/index.html \n",
    "and the astropy tutorials: http://learn.astropy.org/FITS-images.html (by Lia R. Corrales)\n",
    "\n",
    "v2  2020/05/12  \n",
    "v3  2021/01/10  almost ready for 2020/21 \n",
    "</pre>"
   ]
  },
  {
   "cell_type": "markdown",
   "metadata": {},
   "source": [
    "Note that the ``astropy`` package should be installed. In this sense, have a look to the\n",
    "astropy installation description: https://docs.astropy.org/en/stable/install.html.\n",
    "We are also using ``ccdproc`` package: https://ccdproc.readthedocs.io/en/latest/."
   ]
  },
  {
   "cell_type": "code",
   "execution_count": null,
   "metadata": {},
   "outputs": [],
   "source": [
    "from astropy.io import fits\n",
    "import matplotlib\n",
    "%matplotlib inline\n",
    "import matplotlib.pyplot as plt\n",
    "from matplotlib.colors import LogNorm\n",
    "import numpy as np\n",
    "from mpl_toolkits.axes_grid1 import make_axes_locatable"
   ]
  },
  {
   "cell_type": "code",
   "execution_count": null,
   "metadata": {},
   "outputs": [],
   "source": [
    "# Some style for better looking plots\n",
    "matplotlib.rcParams['text.usetex']=False\n",
    "plt.rcParams['font.family'] = 'sans-serif'\n",
    "plt.rcParams['font.sans-serif'] = ['Verdana']\n",
    "plt.rcParams['font.size'] = 12\n",
    "plt.rcParams['font.size'] = 12\n",
    "plt.rcParams['lines.linewidth'] = 4.\n",
    "plt.rcParams['axes.labelsize'] = 'medium'\n",
    "plt.rcParams['grid.linewidth'] = 1.0\n",
    "plt.rcParams['grid.linestyle'] = '-'\n",
    "plt.rcParams['xtick.minor.size']=4\n",
    "plt.rcParams['xtick.major.size']=8\n",
    "plt.rcParams['ytick.minor.size']=4\n",
    "plt.rcParams['ytick.major.size']=8\n",
    "plt.rcParams['figure.figsize'] = 12,6\n",
    "plt.rcParams['figure.subplot.bottom'] = 0.15\n",
    "plt.rcParams['ytick.labelsize'] = 10\n",
    "plt.rcParams['xtick.labelsize'] = 10"
   ]
  },
  {
   "cell_type": "markdown",
   "metadata": {},
   "source": [
    "### Opening the FITS files of DARK observations"
   ]
  },
  {
   "cell_type": "markdown",
   "metadata": {},
   "source": [
    "List of files to be combined\n",
    "\n",
    "We are using the observations at Calar Alto with CAFOS of 2019/05/10 and 2019/05/11 performed by the students of Master in Astrofísica UCM"
   ]
  },
  {
   "cell_type": "code",
   "execution_count": null,
   "metadata": {},
   "outputs": [],
   "source": [
    "# Files of DARK observations\n",
    "url = 'http://guaix.fis.ucm.es/~ncl/TecExpAstro_2019-2020/'\n",
    "directory = url + 'FITS_files/'\n",
    "files = ['N1_ucmP_0017.fits',\n",
    "         'N1_ucmP_0018.fits',\n",
    "         'N1_ucmP_0019.fits',\n",
    "         'N1_ucmP_0020.fits',\n",
    "         'N1_ucmP_0021.fits']"
   ]
  },
  {
   "cell_type": "markdown",
   "metadata": {},
   "source": [
    "Oppening the FITS files and putting the data into a list of numpy 2-D arrays."
   ]
  },
  {
   "cell_type": "code",
   "execution_count": null,
   "metadata": {},
   "outputs": [],
   "source": [
    "image = []\n",
    "for i in range(len(files)):\n",
    "    image.append(fits.getdata(directory+files[i]))\n",
    "# If you need to browse the header\n",
    "# fits.getheader(directory+files[0])"
   ]
  },
  {
   "cell_type": "markdown",
   "metadata": {},
   "source": [
    "Each image is now stored as a 2-D numpy arrays inside a list. \n",
    "Want to know the dimensions of the image? Just look at the shape of the array."
   ]
  },
  {
   "cell_type": "code",
   "execution_count": null,
   "metadata": {},
   "outputs": [],
   "source": [
    "print(type(image[0]))\n",
    "print(image[1].shape)\n",
    "print((image[2].shape)[0])\n",
    "print((image[3].shape)[1])"
   ]
  },
  {
   "cell_type": "markdown",
   "metadata": {},
   "source": [
    "### Analysing the images data"
   ]
  },
  {
   "cell_type": "markdown",
   "metadata": {},
   "source": [
    "Let us get some basic statistics about our images"
   ]
  },
  {
   "cell_type": "code",
   "execution_count": null,
   "metadata": {},
   "outputs": [],
   "source": [
    "print('Filename & Object  exp Mean std min  max')\n",
    "exposure = []\n",
    "for i in range(len(files)):\n",
    "    header = fits.getheader(directory+files[i])\n",
    "    exposure.append(header['EXPTIME'])\n",
    "    print(header['FILENAME'], \n",
    "          header['OBJECT'], \n",
    "          header['EXPTIME'], \n",
    "          int(np.mean(image[i])), \n",
    "          int(np.std(image[i])), \n",
    "          np.min(image[i]), \n",
    "          np.max(image[i])\n",
    "    )"
   ]
  },
  {
   "cell_type": "markdown",
   "metadata": {},
   "source": [
    "The five files have similar mean values. The maximum values are the results of cosmic rays impacts during the CCD readout."
   ]
  },
  {
   "cell_type": "markdown",
   "metadata": {},
   "source": [
    "### Plotting histograms to compare data"
   ]
  },
  {
   "cell_type": "markdown",
   "metadata": {},
   "source": [
    "To make a histogram with ``matplotlib.pyplot.hist()``, we need to cast the data from a 2-D to array to something one dimensional. In this case, we are using ``ndarray.flatten()`` to return a 1-D numpy array."
   ]
  },
  {
   "cell_type": "code",
   "execution_count": null,
   "metadata": {},
   "outputs": [],
   "source": [
    "bins = np.arange(630, 710, 5)\n",
    "fig, axarr = plt.subplots(ncols=5, nrows=1, figsize=(12, 4))\n",
    "for i in range(len(files)):\n",
    "    ax = axarr[i]\n",
    "    ax.hist(image[i].flatten(), alpha=0.2, bins=bins, label=i)\n",
    "    ax.grid()\n",
    "    ax.set_xticks([630,650,670,690])\n",
    "    ax.set_title(files[i][8:12])\n",
    "    if i > 0:\n",
    "        ax.label_outer()\n",
    "plt.xlim(630,710)"
   ]
  },
  {
   "cell_type": "markdown",
   "metadata": {},
   "source": [
    "The histograms looks similar as expected.\n",
    "Let display two of the four images."
   ]
  },
  {
   "cell_type": "markdown",
   "metadata": {},
   "source": [
    "### Displaying the images"
   ]
  },
  {
   "cell_type": "code",
   "execution_count": null,
   "metadata": {},
   "outputs": [],
   "source": [
    "fig, axarr = plt.subplots(ncols=2, nrows=1, figsize=(12, 6))\n",
    "for i in range(0,2):\n",
    "    ax = axarr[i]\n",
    "    ax.imshow(image[i], cmap='gray', vmin=650, vmax=700, norm=LogNorm())\n",
    "    ax.text(600, 100, files[i], fontsize=15, color='w')\n",
    "    ax.set_xlabel('X axis')\n",
    "    ax.set_ylabel('Y axis')\n",
    "    ax.grid()"
   ]
  },
  {
   "cell_type": "markdown",
   "metadata": {},
   "source": [
    "And now a region in the right lower corner to show some pixels with high values (cosmic rays hits)"
   ]
  },
  {
   "cell_type": "code",
   "execution_count": null,
   "metadata": {},
   "outputs": [],
   "source": [
    "fig, axarr = plt.subplots(ncols=2, nrows=1, figsize=(12, 6))\n",
    "for i in range(0,2):\n",
    "    ax = axarr[i]\n",
    "    ax.imshow(image[i][-300:,-300:], cmap='gray', vmin=650, vmax=700, norm=LogNorm())\n",
    "    ax.text(0.05, 0.95, files[i], ha='left', va='center', color='w', \n",
    "            transform=ax.transAxes, fontsize=18)\n",
    "    ax.set_xlabel('X axis')\n",
    "    ax.set_ylabel('Y axis')\n",
    "    ax.grid()"
   ]
  },
  {
   "cell_type": "markdown",
   "metadata": {},
   "source": [
    "Lets perform some statistics on the images using a fuction similar to that of example 1\n",
    "In this case we add the standard deviation."
   ]
  },
  {
   "cell_type": "code",
   "execution_count": null,
   "metadata": {},
   "outputs": [],
   "source": [
    "# auxiliary function to display a rectangle and compute mean value within it\n",
    "def draw_rectangle(ax, image_data, x1, x2, y1, y2, color, text=False):\n",
    "    ax.plot((x1, x1), (y1, y2), color, lw=1)\n",
    "    ax.plot((x2, x2), (y1, y2), color, lw=1)\n",
    "    ax.plot((x1, x2), (y1, y1), color, lw=1)\n",
    "    ax.plot((x1, x2), (y2, y2), color, lw=1)\n",
    "    if text:\n",
    "        media = image_data[y1:y2,x1:x2].mean()\n",
    "        std   = image_data[y1:y2,x1:x2].std()\n",
    "        ax.text((x1+x2)/2, y1+(y2-y1)/8, str(int(media)), \n",
    "                ha='center', va='top', color=color, fontsize=15)        \n",
    "        ax.text((x1+x2)/2, y2, str(round(std,1)), \n",
    "                ha='center', va='bottom', color=color, fontsize=15)\n",
    "    return media, std"
   ]
  },
  {
   "cell_type": "markdown",
   "metadata": {},
   "source": [
    "We are zooming and displaying only a portion of the images: the lower right corner region. "
   ]
  },
  {
   "cell_type": "code",
   "execution_count": null,
   "metadata": {},
   "outputs": [],
   "source": [
    "fig, axarr = plt.subplots(ncols=2, nrows=1, figsize=(12, 6))\n",
    "for i in range(0,2):\n",
    "    ax = axarr[i]\n",
    "    box = image[i][-300:,-300:]\n",
    "    ax.imshow(box, cmap='gray', vmin=650, vmax=700,norm=LogNorm())\n",
    "    ax.text(0.05, 0.05,files[i], ha='left', va='center', color='w',\n",
    "            transform=ax.transAxes, fontsize=18)\n",
    "    ax.set_xlabel('X axis')\n",
    "    ax.set_ylabel('Y axis')\n",
    "    draw_rectangle(ax, box , 20, 70, 200, 250, color='w',text=True)\n",
    "    draw_rectangle(ax, box , 100, 150, 20, 70, color='w',text=True)\n",
    "    draw_rectangle(ax, box , 120, 170, 120, 170, color='k',text=True)"
   ]
  },
  {
   "cell_type": "markdown",
   "metadata": {},
   "source": [
    "It is interesting to compare the statistics in regions without cosmic rays with values around 671 (standard deviation = 10) and those with one or two hits with higher standard deviation."
   ]
  },
  {
   "cell_type": "markdown",
   "metadata": {},
   "source": [
    "### Combining the DARK images"
   ]
  },
  {
   "cell_type": "markdown",
   "metadata": {},
   "source": [
    "The DARK correction should be made using a combined DARK image (master DARK) using multiple observations. The combination will get rid of the high values produced by the cosmic rays.\n",
    "We will use the ``ccdproc`` package."
   ]
  },
  {
   "cell_type": "code",
   "execution_count": null,
   "metadata": {},
   "outputs": [],
   "source": [
    "# Some astropy packages \n",
    "import ccdproc\n",
    "from ccdproc import CCDData, Combiner\n",
    "from astropy import stats\n",
    "from astropy.stats import sigma_clip, mad_std\n",
    "from astropy.stats import sigma_clipped_stats"
   ]
  },
  {
   "cell_type": "code",
   "execution_count": null,
   "metadata": {},
   "outputs": [],
   "source": [
    "# We need to read again the files with the dark observations to create CCDData objects\n",
    "# https://docs.astropy.org/en/stable/nddata/ccddata.html\n",
    "darks = []\n",
    "for file in files:\n",
    "    images = CCDData.read(directory+file, unit=\"adu\")\n",
    "    darks.append(images)"
   ]
  },
  {
   "cell_type": "code",
   "execution_count": null,
   "metadata": {},
   "outputs": [],
   "source": [
    "# Combiner is a class for combining CCDData objects.\n",
    "# https://ccdproc.readthedocs.io/en/latest/api/ccdproc.Combiner.html\n",
    "# The Combiner class is used to combine together CCDData objects \n",
    "# including the method for combining the data, rejecting outlying data, \n",
    "# and weighting used for combining frames.\n",
    "\n",
    "combiner = Combiner(darks)"
   ]
  },
  {
   "cell_type": "code",
   "execution_count": null,
   "metadata": {},
   "outputs": [],
   "source": [
    "# clipping all values over 800 to remove cosmic rays hits \n",
    "combiner.minmax_clipping(min_clip=None, max_clip=800)\n",
    "# median combine \n",
    "master_dark = combiner.median_combine()\n",
    "# median filter  \n",
    "master_dark_filtered = ccdproc.median_filter(master_dark, 3)"
   ]
  },
  {
   "cell_type": "markdown",
   "metadata": {},
   "source": [
    "Let display a region of one of the DARK images and the master DARK"
   ]
  },
  {
   "cell_type": "code",
   "execution_count": null,
   "metadata": {},
   "outputs": [],
   "source": [
    "fig, axarr = plt.subplots(ncols=3, nrows=1, figsize=(12, 6))\n",
    "for i in range(3):\n",
    "    ax = axarr[i]\n",
    "    if i==0:\n",
    "        box = image[0][-300:,-300:]\n",
    "        label = files[0]\n",
    "    if i==1:  \n",
    "        box = np.asarray(master_dark[-300:,-300:])   # We need to convert CCDdata to np.array\n",
    "        label = 'master DARK'\n",
    "    if i == 2:\n",
    "        box = np.asarray(master_dark_filtered[-300:,-300:])\n",
    "        label = 'filtered master Dark'\n",
    "    ax.imshow(box, cmap='gray', vmin=650, vmax=700,norm=LogNorm())\n",
    "    ax.text(0.05, 0.05,label, ha='left', va='center', color='w',\n",
    "            transform=ax.transAxes, fontsize=18)\n",
    "    draw_rectangle(ax, box , 20, 90, 180, 250, color='w',text=True)\n",
    "    draw_rectangle(ax, box , 90, 160, 20, 90, color='y',text=True)\n",
    "    draw_rectangle(ax, box , 120, 190, 120, 190, color='k',text=True)"
   ]
  },
  {
   "cell_type": "markdown",
   "metadata": {},
   "source": [
    "The cosmic ray hits in the yellow rectangle for the single DARK exposure has disappeared in the master DARK. The standard deviations of the master DARK is also lower that those of the single exposure. The third panel shows a filtered master DARK.   "
   ]
  },
  {
   "cell_type": "markdown",
   "metadata": {},
   "source": [
    "### Writing the resulting image as FITS file"
   ]
  },
  {
   "cell_type": "markdown",
   "metadata": {},
   "source": [
    "We can write the resulting CCDdata file to a FITS file. We wish to maintain the information of the header (metadata) and also add some information "
   ]
  },
  {
   "cell_type": "code",
   "execution_count": null,
   "metadata": {},
   "outputs": [],
   "source": [
    "# Extract primary header from single dark file and copy into master_dark header\n",
    "HDUList_object = fits.open(directory+files[0])\n",
    "master_dark.header = HDUList_object[0].header"
   ]
  },
  {
   "cell_type": "code",
   "execution_count": null,
   "metadata": {},
   "outputs": [],
   "source": [
    "# Replace FILENAME keyword and add information\n",
    "master_dark.header['FILENAME'] = 'N1_master_dark.fits' \n",
    "master_dark.header['HISTORY'] = 'super DARK combining '+ str(len(files)) + 'DARK images'\n",
    "master_dark.header['HISTORY'] = 'DARK images from ' + str(files[0])+' to ' + str(files[-1])"
   ]
  },
  {
   "cell_type": "code",
   "execution_count": null,
   "metadata": {},
   "outputs": [],
   "source": [
    "# Finally writte the image to a FITS file. \n",
    "# An error occurs when the file already exits (use overwrite='yes' to avoid the error)\n",
    "master_dark.write('N1_master_dark.fits',overwrite='yes')"
   ]
  },
  {
   "cell_type": "code",
   "execution_count": null,
   "metadata": {},
   "outputs": [],
   "source": []
  }
 ],
 "metadata": {
  "kernelspec": {
   "display_name": "Python 3",
   "language": "python",
   "name": "python3"
  },
  "language_info": {
   "codemirror_mode": {
    "name": "ipython",
    "version": 3
   },
   "file_extension": ".py",
   "mimetype": "text/x-python",
   "name": "python",
   "nbconvert_exporter": "python",
   "pygments_lexer": "ipython3",
   "version": "3.7.7"
  }
 },
 "nbformat": 4,
 "nbformat_minor": 4
}
