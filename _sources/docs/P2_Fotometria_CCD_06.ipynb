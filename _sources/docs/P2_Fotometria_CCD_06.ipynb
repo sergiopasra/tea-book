{
 "cells": [
  {
   "cell_type": "markdown",
   "metadata": {},
   "source": [
    "# Fotometría de las estrellas estándar\n",
    "La observación de estrellas estándar tiene como objetivo tener referencias en flujo que nos permitan pasar de cuentas/s a flujo. El primer paso de la calibración es medir precisamente cuanta señal (cuentas/s) tenemos en las imágenes de las estrellas. Para ello usamos las imágenes calibradas con la reducción de los pasos anteriores.\n",
    "\n",
    "## Fotometría con Photutils\n",
    "\n",
    "Hagamos un ejemplo con las tres primeras observaciones de la serie de la primera noche de observación (NOT_2008). Mirando el cuaderno de observaciones vemos que son imágenes de HZ44 en banda R y en una banda estrecha."
   ]
  },
  {
   "cell_type": "code",
   "execution_count": null,
   "metadata": {},
   "outputs": [],
   "source": [
    "directory='NOT_2008_N1/'\n",
    "files = ['120077','120078','120079']       # fzt_ALrd+files[i]"
   ]
  },
  {
   "cell_type": "code",
   "execution_count": null,
   "metadata": {},
   "outputs": [],
   "source": [
    "image = []\n",
    "for i in range(len(files)):\n",
    "    image.append(fits.open(directory+'fzt_ALrd'+str(files[i])+'.fits')[0])\n",
    "for i in range(len(files)):\n",
    "    print(image[i].header['FILENAME'],image[i].header['OBJECT'],image[i].header['EXPTIME'])"
   ]
  },
  {
   "cell_type": "markdown",
   "metadata": {},
   "source": [
    "<pre>\n",
    "fzt_ALrd120077.fits HZ44 R 5.0\n",
    "fzt_ALrd120078.fits HZ44 R 5.0\n",
    "fzt_ALrd120079.fits HZ44 #79 50.0\n",
    "</pre>\n",
    "\n",
    "```{figure} /_static/lecture_specific/p2_fotometria/p2_08_star_phot_1.png\n",
    "---\n",
    "width: 800px\n",
    "name: star-phot-1-fig\n",
    "---\n",
    "Las tres primeras observaciones de estrellas estándar.\n",
    "```\n",
    "Podemos buscar HZ44 en [SIMBAD](http://simbad.u-strasbg.fr/simbad/sim-id?Ident=HZ44) que nos ofrece una pantalla de [ALADIN](http://simbad.u-strasbg.fr/simbad/sim-id?Ident=HZ44) cuyo campo de visión (muy estrecho al principio) puede ser ampliado. Reconocemos fácilmente el campo y de esa forma comprobamos que nuestra estrella estándar es precisamente la del centro de nuestra imagen.\n",
    "\n",
    "```{figure} /_static/lecture_specific/p2_fotometria/p2_08_star_phot_2.png\n",
    "---\n",
    "width: 400px\n",
    "name: star-phot-2-fig\n",
    "---\n",
    "El campo centrado en HZ44 buscado en SIMBAD y mostrado con ALADIN.\n",
    "```\n",
    "Este comprobación es necesaria ya que aunque apuntemos el telescopio a la estrella estandar con las coordenadas de catálogo, alguna estrella tiene un movimiento propio grande y su imagen no aparece en el centro.\n",
    "\n",
    "Es interesante apreciar que necesitamos exposiciones más largas en el filtro estrecho ya que la banda de paso es menor.\n",
    "\n",
    "### Localizando las posiciones de las estrellas \n",
    "Podemos buscar las coordenadas de la estrella usando ``find_peaks()`` una función de ``Photutils`` para encontrar máximos locales en una imagen. Hay que definir un nivel de umbral y la función devuelve la posición de las imágenes con píxeles con valores por encima de ese valor. La función es inteligente para encontrar fuentes separadas y no listar varias posiciones para el mismo objeto. \n",
    "\n",
    "Tomemos la primera imagen como ejemplo y usemos la función con un umbral muy alto porque sólo queremos detectar las estrellas muy brillantes del campo. Lo hemos construido con la mediana + 500 veces la desviación estándar."
   ]
  },
  {
   "cell_type": "code",
   "execution_count": null,
   "metadata": {},
   "outputs": [],
   "source": [
    "ximage = image[0].data\n",
    "mean, median, std = sigma_clipped_stats(ximage, sigma=3.0)\n",
    "threshold = median + (500. * std)\n",
    "tbl = find_peaks(ximage, threshold, box_size=40)\n",
    "tbl['peak_value'].info.format = '%.8g'  # for consistent table output\n",
    "print(tbl[:10])  # print only the first 10 peaks"
   ]
  },
  {
   "cell_type": "markdown",
   "metadata": {},
   "source": [
    "<pre>\n",
    "x_peak y_peak peak_value\n",
    "------ ------ ----------\n",
    "   378    434  5473.2654\n",
    "  1022    964  10068.373\n",
    "  1462   1112  18964.459\n",
    "  1797   1282  4085.3169\n",
    "</pre>\n",
    "\n",
    "De las cuatro fuentes detectadas la nuestra HZ44 es la que está más en el centro de la imagen, es decir la segunda.\n",
    "\n",
    "Mostramos otra vez la imagen y las aperturas sobre ella. Estas aperturas se han fabricado en las posiciones de los máximos encontrados por ``find_peaks`` y con un radio de 30 píxeles."
   ]
  },
  {
   "cell_type": "code",
   "execution_count": null,
   "metadata": {},
   "outputs": [],
   "source": [
    "fig = plt.figure(figsize=(9, 9))\n",
    "radius = 30\n",
    "vmin, vmax = 10, 1200\n",
    "positions = np.transpose((tbl['x_peak'], tbl['y_peak']))\n",
    "apertures = CircularAperture(positions, r=radius)\n",
    "plt.imshow(ximage, cmap='gray', origin='lower',vmin=vmin, vmax=vmax , norm=LogNorm())\n",
    "plt.grid()\n",
    "apertures.plot(color='red', lw=1.5)"
   ]
  },
  {
   "cell_type": "markdown",
   "metadata": {},
   "source": [
    "```{figure} /_static/lecture_specific/p2_fotometria/p2_08_star_phot_3.png\n",
    "---\n",
    "width: 500px\n",
    "name: star-phot-3-fig\n",
    "---\n",
    "Las aperturas de 30 píxeles de radio centradas en las posiciones encontradas por ``find_peaks``.\n",
    "```\n",
    "#### Midiendo en las aperturas\n",
    "Podemos realizar ya la medida de flujo (en cuentas) en esas aperturas"
   ]
  },
  {
   "cell_type": "code",
   "execution_count": null,
   "metadata": {},
   "outputs": [],
   "source": [
    "phot_table = aperture_photometry(ximage, apertures)\n",
    "phot_table['aperture_sum'].info.format = '%.4g'  # for consistent table output\n",
    "print(phot_table)"
   ]
  },
  {
   "cell_type": "markdown",
   "metadata": {},
   "source": [
    "<pre>\n",
    "id xcenter ycenter aperture_sum\n",
    "      pix     pix               \n",
    "--- ------- ------- ------------\n",
    "  1   378.0   434.0    8.854e+05\n",
    "  2  1022.0   964.0    1.467e+06\n",
    "  3  1462.0  1112.0    2.401e+06\n",
    "  4  1797.0  1282.0    5.808e+05\n",
    "</pre>\n",
    "Es decir que el flujo en la apertura centrada en nuestra estrella HZ44 (la segunda en esta tabla) es de 1.467e+06 cuentas. Claro la mayor parte son de la estrella pero hay una contribución del fondo de cielo que debemos restar.\n",
    "\n",
    "### Estimación del fondo de cielo\n",
    "Una manera sería usar aperturas similares cercanas a la imagen de la estrella en regones libres de otras fuentes. Podemos hacer un listado de posiciones y aperturas de forma manual. Por ejemplo en otra estrella y en dos zonas libres cerca de la estrella problema que servirían para determinar fondo de cielo."
   ]
  },
  {
   "cell_type": "code",
   "execution_count": null,
   "metadata": {},
   "outputs": [],
   "source": [
    "positions_new = [(560, 440), (1000, 750), (800, 1000)]"
   ]
  },
  {
   "cell_type": "code",
   "execution_count": null,
   "metadata": {},
   "outputs": [],
   "source": [
    "fig = plt.figure(figsize=(9, 9))\n",
    "radius = 30\n",
    "vmin, vmax = 10, 1200\n",
    "positions = np.transpose((tbl['x_peak'], tbl['y_peak']))\n",
    "apertures = CircularAperture(positions, r=radius)\n",
    "plt.imshow(ximage, cmap='gray', origin='lower',vmin=vmin, vmax=vmax , norm=LogNorm())\n",
    "plt.grid()\n",
    "apertures.plot(color='red', lw=1.5)\n",
    "apertures_new = CircularAperture(positions_new, r=radius)\n",
    "apertures_new.plot(color='yellow', lw=1.5)"
   ]
  },
  {
   "cell_type": "markdown",
   "metadata": {},
   "source": [
    "```{figure} /_static/lecture_specific/p2_fotometria/p2_08_star_phot_4.png\n",
    "---\n",
    "width: 500px\n",
    "name: star-phot-4-fig\n",
    "---\n",
    "Las aperturas de 30 píxeles de radio centradas en las posicones encontradas por ``find_peaks`` y las añadidas manualmente.\n",
    "```"
   ]
  },
  {
   "cell_type": "code",
   "execution_count": null,
   "metadata": {},
   "outputs": [],
   "source": [
    "phot_table = aperture_photometry(ximage, apertures_new)\n",
    "phot_table['aperture_sum'].info.format = '%.4g'  # for consistent table output\n",
    "print(phot_table)"
   ]
  },
  {
   "cell_type": "markdown",
   "metadata": {},
   "source": [
    "<pre>\n",
    "id xcenter ycenter aperture_sum\n",
    "      pix     pix               \n",
    "--- ------- ------- ------------\n",
    "  1   560.0   440.0    5.519e+05\n",
    "  2  1000.0   750.0    1.008e+05\n",
    "  3   800.0  1000.0    9.981e+04\n",
    "</pre>\n",
    "\n",
    "El fondo de cielo es de unas 100000 cuentas. Entonces las cuentas netas de HZ44 serían 1.467e+06 - 1e+05 = 1.367e+06 cuentas.\n",
    "\n",
    "Otra forma de determinar el fondo de cielo de forma global es usar la mediana de la imagen completa o mejor de una zona libre de objetos cerca de nuestra estrella."
   ]
  },
  {
   "cell_type": "code",
   "execution_count": null,
   "metadata": {},
   "outputs": [],
   "source": [
    "median     = np.median(ximage)\n",
    "median_sky = np.median(ximage[1000:1250,250:500])\n",
    "print('median', median, ' sky ', median_sky)"
   ]
  },
  {
   "cell_type": "markdown",
   "metadata": {},
   "source": [
    "<pre>\n",
    "median 35.73486368629405  sky  34.7267088174489\n",
    "</pre>\n",
    "Unas 34.7 cuentas/pixel aproximadamente. Podemos usar esta estimación del fondo de cielo para determinar las cuentas netas de HZ44."
   ]
  },
  {
   "cell_type": "code",
   "execution_count": null,
   "metadata": {},
   "outputs": [],
   "source": [
    "bkg = median_sky\n",
    "phot_table = aperture_photometry(ximage - bkg, apertures) \n",
    "phot_table['aperture_sum'].info.format = '%.4g'  # for consistent table output\n",
    "print(phot_table)"
   ]
  },
  {
   "cell_type": "markdown",
   "metadata": {},
   "source": [
    "<pre>\n",
    "id xcenter ycenter aperture_sum\n",
    "      pix     pix               \n",
    "--- ------- ------- ------------\n",
    "  1   378.0   434.0    7.872e+05\n",
    "  2  1022.0   964.0    1.368e+06\n",
    "  3  1462.0  1112.0    2.302e+06\n",
    "  4  1797.0  1282.0    4.826e+05\n",
    "  </pre>\n",
    "  \n",
    "  Y llegamos a un valor parecido al de antes 1.368e+06 cuentas netas.\n",
    "\n",
    "### Usando múltiples aperturas\n",
    "Es posible definir varias aperturas centradas en la misma posición. Tradicionalmente se usaba este método para lograr el valor asintótico de las cuentas según vamos aumentando el radio.\n",
    "\n",
    "Podemos hacer un ejemplo usando cuatro aperturas centradas en HZ44. Nos aseguramos de que es la segunda en esta lista"
   ]
  },
  {
   "cell_type": "code",
   "execution_count": null,
   "metadata": {},
   "outputs": [],
   "source": [
    "print(apertures)\n",
    "HZ44_pos = positions[1]\n",
    "print(HZ44_pos)"
   ]
  },
  {
   "cell_type": "markdown",
   "metadata": {},
   "source": [
    "<pre>\n",
    "Aperture: CircularAperture\n",
    "positions: [[ 378.,  434.],\n",
    "            [1022.,  964.],\n",
    "            [1462., 1112.],\n",
    "            [1797., 1282.]]\n",
    "r: 30.0\n",
    "[1022  964]\n",
    "</pre>"
   ]
  },
  {
   "cell_type": "code",
   "execution_count": null,
   "metadata": {},
   "outputs": [],
   "source": [
    "radii = [10., 20., 30., 40.]\n",
    "apertures = [CircularAperture(HZ44_pos, r=r) for r in radii]\n",
    "phot_table = aperture_photometry(ximage, apertures)\n",
    "for col in phot_table.colnames:\n",
    "     phot_table[col].info.format = '%.5g'  # for consistent table output\n",
    "print(phot_table)"
   ]
  },
  {
   "cell_type": "markdown",
   "metadata": {},
   "source": [
    "<pre>\n",
    "id xcenter ycenter aperture_sum_0 aperture_sum_1 aperture_sum_2 aperture_sum_3\n",
    "      pix     pix                                                              \n",
    "--- ------- ------- -------------- -------------- -------------- --------------\n",
    "  1    1022     964     1.0696e+06      1.364e+06     1.4665e+06      1.559e+06\n",
    "</pre>\n",
    "Nuestra tabla sólo tiene una fila porque hemos decidido medir sólo una estrella.\n",
    "\n",
    "### Local Background Subtraction\n",
    "La fotometría de apertura suele usar una estimación del fondo de cielo en un anillo circular cerca de la estrella pero lo suficientemente alejado para mo incluir las alas de la imagen. Por ejemplo usamos una apertura de 30 píxeles para medir el flujo de la estrella (en bruto) y un anillo de radios interior y exterior de 50 y 70 píxeles para estimar el fondo de cielo."
   ]
  },
  {
   "cell_type": "code",
   "execution_count": null,
   "metadata": {},
   "outputs": [],
   "source": [
    "aperture = CircularAperture(HZ44_pos, r=30)\n",
    "annulus_aperture = CircularAnnulus(HZ44_pos, r_in=50., r_out=70.)\n",
    "plt.figure(figsize=(14,9))\n",
    "plt.imshow(ximage, cmap='gray', origin='lower', vmin=vmin, vmax=vmax , norm=LogNorm())\n",
    "aperture.plot(color='yellow', lw=1)\n",
    "annulus_aperture.plot(color='red', lw=1)"
   ]
  },
  {
   "cell_type": "markdown",
   "metadata": {},
   "source": [
    "```{figure} /_static/lecture_specific/p2_fotometria/p2_08_star_phot_5.png\n",
    "---\n",
    "width: 500px\n",
    "name: star-phot-5-fig\n",
    "---\n",
    "Apertura y anillo centrado en HZ44 para medir el flujo y estimar el fondo de cielo.\n",
    "```"
   ]
  },
  {
   "cell_type": "code",
   "execution_count": null,
   "metadata": {},
   "outputs": [],
   "source": [
    "apers = [aperture, annulus_aperture]\n",
    "phot_table = aperture_photometry(ximage, apers)\n",
    "for col in phot_table.colnames:\n",
    "    phot_table[col].info.format = '%.8g'  # for consistent table output\n",
    "print(phot_table)"
   ]
  },
  {
   "cell_type": "markdown",
   "metadata": {},
   "source": [
    "<pre>\n",
    "id xcenter ycenter aperture_sum_0 aperture_sum_1\n",
    "      pix     pix                                \n",
    "--- ------- ------- -------------- --------------\n",
    "  1    1022     964      1466526.3      273523.19\n",
    "</pre>\n",
    "Hemos elegido aperturas que tienen diferente área y por lo tanto no podemos restar directamente. Debemos escalar el fondo de cielo a una apertura como la que usamos para medir la estrella."
   ]
  },
  {
   "cell_type": "code",
   "execution_count": null,
   "metadata": {},
   "outputs": [],
   "source": [
    "print(aperture.area, annulus_aperture.area)"
   ]
  },
  {
   "cell_type": "markdown",
   "metadata": {},
   "source": [
    "<pre>\n",
    "2827.4333882308138 7539.822368615503\n",
    "</pre>"
   ]
  },
  {
   "cell_type": "code",
   "execution_count": null,
   "metadata": {},
   "outputs": [],
   "source": [
    "bkg_mean = phot_table['aperture_sum_1'] / annulus_aperture.area\n",
    "bkg_sum  = bkg_mean * aperture.area\n",
    "final_sum = phot_table['aperture_sum_0'] - bkg_sum\n",
    "phot_table['residual_aperture_sum'] = final_sum\n",
    "phot_table['residual_aperture_sum'].info.format = '%.8g'  \n",
    "print(phot_table['residual_aperture_sum'])  "
   ]
  },
  {
   "cell_type": "markdown",
   "metadata": {},
   "source": [
    "<pre>\n",
    "residual_aperture_sum\n",
    "            1363955.1\n",
    "</pre>\n",
    "\n",
    "Nótese que hemos generado una columna más en la tabla 'residual_aperture_sum' con el valor neto de cuentas."
   ]
  },
  {
   "cell_type": "code",
   "execution_count": null,
   "metadata": {},
   "outputs": [],
   "source": [
    "for col in phot_table.colnames:\n",
    "    phot_table[col].info.format = '%.8g'  # for consistent table output\n",
    "print(phot_table)"
   ]
  },
  {
   "cell_type": "markdown",
   "metadata": {},
   "source": [
    "<pre>\n",
    "id xcenter ycenter aperture_sum_0 aperture_sum_1 residual_aperture_sum\n",
    "      pix     pix                                                      \n",
    "--- ------- ------- -------------- -------------- ---------------------\n",
    "  1    1022     964      1466526.3      273523.19             1363955.1\n",
    "</pre>\n",
    "La última columna tiene en flujo neto en cuentas que es igual al que hemos encontrado antes con otro tipo de estimaciones del fondo de cielo.\n",
    "\n",
    "Podemos repetir el proceso para la segunda observación de HZ44 para verlo de forma más compacta."
   ]
  },
  {
   "cell_type": "code",
   "execution_count": null,
   "metadata": {},
   "outputs": [],
   "source": [
    "ximage = image[1].data\n",
    "mean, median, std = sigma_clipped_stats(ximage, sigma=3.0)\n",
    "threshold = median + (500. * std)\n",
    "tbl = find_peaks(ximage, threshold, box_size=40)\n",
    "tbl['peak_value'].info.format = '%.8g'  # for consistent table output\n",
    "print(tbl[:10])  # print only the first 10 peaks"
   ]
  },
  {
   "cell_type": "markdown",
   "metadata": {},
   "source": [
    "<pre>\n",
    "x_peak y_peak peak_value\n",
    "------ ------ ----------\n",
    "  1354    158  5152.9339\n",
    "   377    433  12810.798\n",
    "   558    440  7772.4841\n",
    "  1021    962  25675.776\n",
    "  1462   1111  39351.295\n",
    "  1796   1281  8302.7578\n",
    "</pre>"
   ]
  },
  {
   "cell_type": "code",
   "execution_count": null,
   "metadata": {},
   "outputs": [],
   "source": [
    "positions = np.transpose((tbl['x_peak'], tbl['y_peak']))\n",
    "apertures = CircularAperture(positions, r=radius)\n",
    "\n",
    "print(apertures)\n",
    "HZ44_pos = positions[3]\n",
    "print(HZ44_pos)"
   ]
  },
  {
   "cell_type": "markdown",
   "metadata": {},
   "source": [
    "<pre>\n",
    "Aperture: CircularAperture\n",
    "positions: [[1354.,  158.],\n",
    "            [ 377.,  433.],\n",
    "            [ 558.,  440.],\n",
    "            [1021.,  962.],\n",
    "            [1462., 1111.],\n",
    "            [1796., 1281.]]\n",
    "r: 30.0\n",
    "[1021  962]\n",
    "</pre>"
   ]
  },
  {
   "cell_type": "code",
   "execution_count": null,
   "metadata": {},
   "outputs": [],
   "source": [
    "aperture = CircularAperture(HZ44_pos, r=30)\n",
    "annulus_aperture = CircularAnnulus(HZ44_pos, r_in=50., r_out=70.)\n",
    "\n",
    "apers = [aperture, annulus_aperture]\n",
    "\n",
    "phot_table = aperture_photometry(ximage, apers)\n",
    "for col in phot_table.colnames:\n",
    "    phot_table[col].info.format = '%.8g'  # for consistent table output\n",
    "print(phot_table)"
   ]
  },
  {
   "cell_type": "markdown",
   "metadata": {},
   "source": [
    "<pre>\n",
    " id xcenter ycenter aperture_sum_0 aperture_sum_1\n",
    "      pix     pix                                \n",
    "--- ------- ------- -------------- --------------\n",
    "  1    1021     962      1483541.9      275957.24\n",
    "</pre>"
   ]
  },
  {
   "cell_type": "code",
   "execution_count": null,
   "metadata": {},
   "outputs": [],
   "source": [
    "bkg_mean = phot_table['aperture_sum_1'] / annulus_aperture.area\n",
    "bkg_sum  = bkg_mean * aperture.area\n",
    "final_sum = phot_table['aperture_sum_0'] - bkg_sum\n",
    "phot_table['residual_aperture_sum'] = final_sum\n",
    "\n",
    "for col in phot_table.colnames:\n",
    "    phot_table[col].info.format = '%.8g'  # for consistent table output\n",
    "print(phot_table)"
   ]
  },
  {
   "cell_type": "markdown",
   "metadata": {},
   "source": [
    "<pre>\n",
    "id xcenter ycenter aperture_sum_0 aperture_sum_1 residual_aperture_sum\n",
    "      pix     pix                                                      \n",
    "--- ------- ------- -------------- -------------- ---------------------\n",
    "  1    1021     962      1483541.9      275957.24               1380058\n",
    "</pre>\n",
    "\n",
    "Que es un valor similar al encontrado en la primera observación de HZ44\n",
    "\n",
    "<pre>\n",
    " id xcenter ycenter aperture_sum_0 aperture_sum_1 residual_aperture_sum\n",
    "      pix     pix                                                      \n",
    "--- ------- ------- -------------- -------------- ---------------------\n",
    "  1    1022     964      1466526.3      273523.19             1363955.1\n",
    "</pre>\n",
    "\n",
    "Resumiendo\n",
    "<pre>\n",
    "fzt_ALrd120077.fits HZ44 R 5.0    1363955.1 c / 5s = 272791.02 c/s  \n",
    "fzt_ALrd120078.fits HZ44 R 5.0    1380058   c / 5s = 276011.6  c/s \n",
    "</pre>\n",
    "\n",
    "\n",
    "## Fotometría con DS9\n",
    "DS9 permite hacer una medida de flujos dentro de regiones que pueden ser creadas del tamaño que queramos y centradas en nuestros puntos de interés. La creación de regiones es sencilla simplemente pinchando con el cursor en el lugar que queramos. En el menú se puede cambiar la forma geométrica de la región. Además con un doble click sobre la región obtenemos la información de sus parámetros que puede editarse para cambiarlos a nuestra elección. Es fácil cuando se ha hecho una vez. \n",
    "\n",
    "En el ejemplo que mostramos se ha cargado la imagen fzt_ALrd120077.fits y se han creado tres regines circulares del mismo radio (40 píxeles) \n",
    "\n",
    "\n",
    "```{figure} /_static/lecture_specific/p2_fotometria/p2_09_ds9_phot_1.png\n",
    "---\n",
    "width: 500px\n",
    "name: ds9-phot-1-fig\n",
    "---\n",
    "Captura de DS9 con tres regiones circulares de 40 píxeles de radio creadas para medir el flujo de HZ44 y de fondo de cielo adyacente.\n",
    "```\n",
    "Con el menú de análisis podemos mostrar la estadística de esas regiones.\n",
    "\n",
    "```{figure} /_static/lecture_specific/p2_fotometria/p2_09_ds9_phot_2.png\n",
    "---\n",
    "width: 700px\n",
    "name: ds9-phot-2-fig\n",
    "---\n",
    "Estadística de suma de cuentas en las regiones mostradas en la figura anterior.\n",
    "```\n",
    "<pre>\n",
    " reg   net_counts     error     area          pixeles\n",
    "---- ------------ ---------  ---------       ---------\n",
    "   1  1558695.609  1248.477  65098080000.00    5023\n",
    "   2   179693.232   423.902  65214720000.00    5032 \n",
    "   3   183289.369   428.123  65136960000.00    5026 \n",
    "</pre>\n",
    "\n",
    "Si se selecciona en las opciones de \"region\" al cear o modificar una region te proporciona la estadística como vemos en la siguiente captura.\n",
    "\n",
    "\n",
    "```{figure} /_static/lecture_specific/p2_fotometria/p2_09_ds9_phot_3.png\n",
    "---\n",
    "width: 800px\n",
    "name: ds9-phot-3-fig\n",
    "---\n",
    "Menú desplegado de \"region\" para mostrar la opción de auto estadística y pantallas con las estadísticas generadas al modificar las regiones.\n",
    "```\n",
    "Para la región centrada en HZ44 tenemos, por ejemplo,\n",
    "\n",
    "<pre>\n",
    "center=1189.5206 1199.5732\n",
    "image\n",
    "\n",
    "reg  sum     error     area      surf_bri      surf_err\n",
    "                       (pix**2)  (sum/pix**2)  (sum/pix**2)\n",
    "1  179693.23 423.90239 5032      35.710102     0.084241333\n",
    "\n",
    "reg sum     npix  mean      median    min       max        var       stddev    rms \n",
    "1 179693.23 5032  35.710102 35.52132  6.2430902 82.270042  62.149973 7.8835254 36.569951\n",
    "</pre>\n",
    "\n",
    "Es decir 179693.23 cuentas en cielo en un área de 5032 pixeles lo que supone 35.7 cuentas/pixel. Y para la apertura centrada en la estrella.\n",
    "\n",
    "<pre>\n",
    "center=1024.0151 964.87335\n",
    "image\n",
    "\n",
    "reg  sum     error     area      surf_bri      surf_err\n",
    "                       (pix**2)  (sum/pix**2)  (sum/pix**2)\n",
    "1  1558695.6 1248.4773 5023      310.31169     0.24855212\n",
    "reg sum     npix  mean      median    min       max        var       stddev    rms \n",
    "1 1558695.6 5023  310.31169 53.757399 12.027513 10068.373 1006073.9 1003.0324 1049.9368\n",
    "</pre>\n",
    "\n",
    "Ahora la estadística de cuentas/pixel no nos sirve de mucho como tamòco la varianza o la desviación estándard ya que hay mucha variación en esa apertura. Pero sí es interesante ver que el máximo de cuentas en la estrella es de 10068 o sea que la imagen no está saturada. \n",
    "\n",
    "Resumiendo tenemos 1558695.6 cuentas brutas (estrella + cielo) y 179693.23 cuentas en el cielo. Luego el flujo neto de HZ44 en esta observación es 1558695.6 - 179693.23 = 1379002.37 cuentas en 5s de observación que es un valor similar al que encontramos con ``Photutils``\n",
    "\n",
    "<pre>\n",
    "fzt_ALrd120077.fits HZ44 R 5.0    Photutils  1363955.1  c / 5s = 272791.02 c/s    \n",
    "fzt_ALrd120077.fits HZ44 R 5.0    DS9        1379002.37 c / 5s = 275800.5 c/s\n",
    "</pre>"
   ]
  }
 ],
 "metadata": {
  "jupytext": {
   "text_representation": {
    "extension": ".md",
    "format_name": "myst"
   }
  },
  "kernelspec": {
   "display_name": "Python 3",
   "language": "python",
   "name": "python3"
  },
  "source_map": [
   10,
   20,
   26,
   32,
   66,
   73,
   87,
   96,
   108,
   112,
   127,
   131,
   142,
   152,
   156,
   170,
   174,
   180,
   185,
   204,
   208,
   219,
   226,
   239,
   246,
   256,
   262,
   271,
   273,
   278,
   285,
   293,
   297,
   309,
   316,
   328,
   335,
   348,
   358,
   366,
   375
  ]
 },
 "nbformat": 4,
 "nbformat_minor": 4
}