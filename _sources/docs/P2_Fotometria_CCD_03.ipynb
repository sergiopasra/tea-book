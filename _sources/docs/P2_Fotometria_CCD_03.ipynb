{
 "cells": [
  {
   "cell_type": "markdown",
   "metadata": {},
   "source": [
    "# Correción de Flat Field \n",
    "\n",
    "\n",
    "## Generación de un máster flat field por filtro\n",
    "El FlatField representa la respuesta espacial del CCD y necesitamos determinarlo bien ya que se aplicará a todas las imágenes para corregir este efecto. Normalmente se obtienen FlatFields de cúpula y FlatField de cielo. En el primer caso tenemos la ventaja de disponer del tiempo que sea necesario ya que se trata de iluminar la cúpula con lámparas y tomar imágenes. Los FlatField de cielo se toman en los crepúsculos apuntando el telescopio a regiones libres de estrellas brillantes (Blank Fields). No siempre es fácil conseguirlos ya que el tiempo es limitado y las condiciones de luz varían muy rápidamente. Recordemos que deben tomarse para cada filtro de los que se estén empleando. En primera aproximación, se prefiere FlatField de cielo ya que reproduce mejor el color del cielo pero si no son de calidad suficiente o no se dispone de ellos se usan los de cúpula. \n",
    "\n",
    "Veamos de cuantos FlatField disponemos y si son de calidad suficiente. Para buscamos en el resultado los ficheros correspondientes a FlatFields. Ya vimos que esta información aparece en el nombre del objeto observado ``object`` pero no en el descriptor ``ccdtype`` como es lo habitual. Puede usarse también el cuaderno de observaciones para comprobar. Usamos Image.Collection que ya aprendimos a usar antes."
   ]
  },
  {
   "cell_type": "code",
   "execution_count": null,
   "metadata": {},
   "outputs": [],
   "source": [
    "keys = ['imagetyp','OBJECT' , 'EXPTIME' , 'ALFLTID' , 'FAFLTID' , 'FBFLTID']\n",
    "ic1 = ImageFileCollection(directory, keywords=keys) # only keep track of keys\n",
    "ic1.summary.colnames\n",
    "print(keys)"
   ]
  },
  {
   "cell_type": "markdown",
   "metadata": {},
   "source": [
    "<pre>\n",
    "['imagetyp', 'OBJECT', 'EXPTIME', 'ALFLTID', 'FAFLTID', 'FBFLTID']\n",
    "</pre>"
   ]
  },
  {
   "cell_type": "code",
   "execution_count": null,
   "metadata": {},
   "outputs": [],
   "source": [
    "list_of_flats = ic1.files_filtered(regex_match=True,object='flat')\n",
    "print(list_of_flats)"
   ]
  },
  {
   "cell_type": "markdown",
   "metadata": {},
   "source": [
    "<pre>\n",
    "['zt_ALrd120011.fits' 'zt_ALrd120012.fits' 'zt_ALrd120013.fits'\n",
    " 'zt_ALrd120014.fits' 'zt_ALrd120015.fits' 'zt_ALrd120016.fits'\n",
    " 'zt_ALrd120017.fits' 'zt_ALrd120018.fits' 'zt_ALrd120019.fits'\n",
    " 'zt_ALrd120020.fits' 'zt_ALrd120021.fits' 'zt_ALrd120022.fits'\n",
    " 'zt_ALrd120023.fits' 'zt_ALrd120024.fits' 'zt_ALrd120025.fits'\n",
    "...\n",
    " 'zt_ALrd120056.fits' 'zt_ALrd120057.fits' 'zt_ALrd120058.fits'\n",
    " 'zt_ALrd120059.fits' 'zt_ALrd120060.fits' 'zt_ALrd120061.fits'\n",
    " 'zt_ALrd120062.fits']\n",
    "</pre>\n",
    "\n",
    "O mejor todavía listamos los ficheros, sus nombres, filtros y tiempo de exposición. La identificación de los filtros de las observaciones con filtros de banda ancha aparece en 'ALFLTID' y las correspondientes a banda estrecha (que se colocan en FASU B) en  'FBFLTID'"
   ]
  },
  {
   "cell_type": "code",
   "execution_count": null,
   "metadata": {},
   "outputs": [],
   "source": [
    "for i in range(len(list_of_flats)):\n",
    "    HDUList_object = fits.open(directory+list_of_flats[i])\n",
    "    primary_header = HDUList_object[0].header\n",
    "    print(primary_header['FILENAME'],primary_header['OBJECT'],primary_header['exptime']\n",
    "          ,primary_header['ALFLTID'],primary_header['FBFLTID'])"
   ]
  },
  {
   "cell_type": "markdown",
   "metadata": {},
   "source": [
    "<pre>\n",
    "zt_ALrd120011.fits Dome Flat R 1.0 76 0\n",
    "zt_ALrd120012.fits Dome Flat R 1.0 76 0\n",
    "zt_ALrd120013.fits Dome Flat R 1.0 76 0\n",
    "zt_ALrd120014.fits Dome Flat R 1.0 76 0\n",
    "...\n",
    "zt_ALrd120049.fits Sky Flat evening 11.0 0 78\n",
    "zt_ALrd120050.fits Sky Flat evening 17.0 0 78\n",
    "zt_ALrd120051.fits Sky Flat evening 18.0 0 49\n",
    "zt_ALrd120052.fits Sky Flat evening 27.0 0 49\n",
    "zt_ALrd120053.fits Sky Flat evening 43.0 0 49\n",
    "zt_ALrd120054.fits Sky Flat evening 10.0 0 49\n",
    "...\n",
    "zt_ALrd120059.fits Sky Flat evening 4.9 76 0\n",
    "zt_ALrd120060.fits Sky Flat evening 7.0 76 0\n",
    "zt_ALrd120061.fits Sky Flat evening 10.0 76 0\n",
    "zt_ALrd120062.fits Sky Flat evening 15.0 76 0\n",
    "</pre>\n",
    "\n",
    "Con esta información y la del cuaderno de observación tenemos una tabla completa donde ya anticipa algunos problemas de exceso de cuentas o filtro girado. Como siempre visualizarlo con DS9 ayuda a salir de dudas.\n",
    "\n",
    "\n",
    "<pre>\n",
    "zt_AL12011-ztAL12020   Dome Flat R       1s \n",
    "zt_AL12021             Dome Flat NB#78   10s   9 kcuentas\n",
    "zt_AL12022             Dome Flat NB#49   30s  39 kc demasiado alto\n",
    "zt_AL12023-zt_AL12032  Dome Flat NB#78   30s  24\n",
    "zt_AL12033-zt_AL12042  Dome Flat NB#49   20s  no valen (filtro girado)\n",
    "zt_AL12043             Dome Flat NB#49   10s  filtro en posición correcta\n",
    "\n",
    "zt_AL12044             Sky Flat NB#78    0.1s   3 kc\n",
    "zt_AL12045             Sky Flat NB#78    1.2s  11 kc\n",
    "zt_AL12046             Sky Flat NB#78    3.5s  27 kc\n",
    "zt_AL12047             Sky Flat NB#78    5.0s  30 kc\n",
    "zt_AL12048             Sky Flat NB#78    7.5s  29 kc\n",
    "zt_AL12049             Sky Flat NB#78     11s  32 kc\n",
    "zt_AL12050             Sky Flat NB#78     17s  31 kc\n",
    "zt_AL12051             Sky Flat NB#49     18s  30 kc\n",
    "zt_AL12052             Sky Flat NB#49     27s  30 kc\n",
    "zt_AL12053             Sky Flat NB#49     43s  28 kc a otro blank field\n",
    "zt_AL12054             Sky Flat NB#49     10s  18 kc\n",
    "zt_AL12055             Sky Flat NB#49     22s  24 kc\n",
    "zt_AL12056             Sky Flat NB#49     33s  24 kc\n",
    "\n",
    "zt_AL12057             Sky Flat #76      2.5s  26 kc   Filtro R de Bessel\n",
    "zt_AL12058             Sky Flat #76      3.3s  24 kc\n",
    "zt_AL12059             Sky Flat #76      4.9s  27 kc\n",
    "zt_AL12060             Sky Flat #76      7.0s  27 kc\n",
    "zt_AL12061             Sky Flat #76       10s  28 kc\n",
    "zt_AL12062             Sky Flat #76       15s  27 kc\n",
    "</pre>\n",
    "\n",
    "\n",
    "```{figure} /_static/lecture_specific/p2_fotometria/p2_05_flats_1.png\n",
    "---\n",
    "width: 600px\n",
    "name: flats-1-fig\n",
    "---\n",
    "Imágenes de flats zt_ALrd120033 y zt_ALrd120043. La primera muestra el filtro descolocado en la rueda de filtros. Toda la serie con ese problema debe descartarse. Los observadores se dieron cuenta al final de la serie de 10 flats y se puedo corregir el problema.\n",
    "```\n",
    "\n",
    "Se aprenden varias cosas con esta tabla construida con el cuaderno de observaciones: (a) Se ha buscado que los FlatField tengan alrededor de 30 kc para que, siendo un nivel alto, estemos seguros de estar en el régimen lineal del CCD; (b) Los filtros estrechos se han observado antes que el filtro ancho ya que en la puesta de sol cada vez tenemos menos luz disponible y (c) se ha conseguido un buen registro de FlatFields de cielo con un nivel de cuentas adecuado. Para el cálculo de los tiempos de exposición se usaron las tablas que aparecen en Tyson et al. (1993) AJ 105,1206. Los valores de señal en cada imagen se pueden obtener realizando estadística para comprobar que coinciden con lo anotado en el cuaderno de observaciones.\n",
    "\n",
    "En nuestro caso tenemos tres filtros empleados y un número reducido de imágenes y mejor que hacer un procedimiento automático trae cuenta generar directamente las listas de ficheros correspondientes a FLATS de cada banda fotométrica. así que tras la inspección de las imágenes decidimos incluir en las listas los ficheros"
   ]
  },
  {
   "cell_type": "code",
   "execution_count": null,
   "metadata": {},
   "outputs": [],
   "source": [
    "FF_list_78 = ['120044' , '120045' , '120046' , '120047'\n",
    "            , '120048' , '120049' , '120050']\n",
    "FF_list_49 = ['120051' , '120052' , '120053' \n",
    "            , '120054' , '120055' , '120056']\n",
    "FF_list_76 = ['120057' , '120058' , '120059' \n",
    "            , '120060' , '120061' , '120062']"
   ]
  },
  {
   "cell_type": "markdown",
   "metadata": {},
   "source": [
    "donde para ahorrarnos ecribir sólo hemos puesto parte del nombre. Así 120044 corresponde al fichero ALrd120044.fits.\n",
    "\n",
    "Leemos los ficheros correspondientes a cada filtro"
   ]
  },
  {
   "cell_type": "code",
   "execution_count": null,
   "metadata": {},
   "outputs": [],
   "source": [
    "image_flats_78 = []\n",
    "for file in FF_list_78:\n",
    "    image_flats_78.append(CCDData.read(directory+'zt_ALrd'+file+'.fits')) \n",
    "image_flats_49 = []\n",
    "for file in FF_list_49:\n",
    "    image_flats_49.append(CCDData.read(directory+'zt_ALrd'+file+'.fits')) \n",
    "image_flats_76 = []\n",
    "for file in FF_list_76:\n",
    "    image_flats_76.append(CCDData.read(directory+'zt_ALrd'+file+'.fits')) "
   ]
  },
  {
   "cell_type": "markdown",
   "metadata": {},
   "source": [
    "para poder trabajar con ellos. De momento es interesante visualizarlos y hacer un poco de estadística. No queremos usar una imagen con poca señal para combinar con otras de mejor calidad porque seguramente estropearemos el resultado.\n",
    "\n",
    "```{figure} /_static/lecture_specific/p2_fotometria/p2_05_flats_2.png\n",
    "---\n",
    "width: 800px\n",
    "name: flats-2-fig\n",
    "---\n",
    "Se muestran seis de los Flats correspondientes al filtro estrecho #78 tomadas consecutivamente en el crepúsculo vespertino. \n",
    "```\n",
    "El oscurecimiento del cielo es muy rápido y la cantidad de luz disponible es cada vez menor por lo que los observadores deben aumentar el tiempo de exposición en cada toma para lograr imágenes con al señal adecuada. En este caso se pretendía obtener unas 30 mil cuentas y se fue aumentando la exposición al principio hasta llegar a ese valor y se eligió el tiempo de las siguientes tomas para mantenerlo en ese nivel.\n",
    "\n",
    "Como los dos primeros FLATs tienen menos cuentas podríamos retirarlos de la combinación. Desde luego el primero con 3000 cuentas frente a 30000 hay que retirarlo. Como tenemos suficientes retiramos los dos primeros"
   ]
  },
  {
   "cell_type": "code",
   "execution_count": null,
   "metadata": {},
   "outputs": [],
   "source": [
    "#FF_list_78 = ['120044' , '120045' , '120046' , '120047'\n",
    "#            , '120048' , '120049' , '120050']\n",
    "FF_list_78 = ['120046' , '120047', '120048' , '120049' , '120050']"
   ]
  },
  {
   "cell_type": "markdown",
   "metadata": {},
   "source": [
    "```{figure} /_static/lecture_specific/p2_fotometria/p2_05_flats_3.png\n",
    "---\n",
    "width: 800px\n",
    "name: flats-3-fig\n",
    "---\n",
    "Se muestran dos de los Flats correspondientes al filtro ancho #76 (filtro R de Bessel) tomadas consecutivamente en el crepúsculo vespertino. \n",
    "```\n",
    "En este caso las observaciones con filtro ancho (más señal que en los estrechos) se realizaron al final del crepúsculo cuando ya estaba el cielo más oscuro. En estas dos últimas tomas se aprecia la imagen de una estrella. Los apuntados del telescopio para Flats de cielo se hacen a zonas 'libres de estrellas' ('Blank fields') para evitar en lo posible que suceda esto. Además entre cada toma se mueve un poco el telescopio para que las posibles imágenes de estrellas aparezcan en diferentes lugares del detector. \n",
    "\n",
    "Agrupamos los ficheros correspondientes a los FLats de cada filtro en un ``combiner``."
   ]
  },
  {
   "cell_type": "code",
   "execution_count": null,
   "metadata": {},
   "outputs": [],
   "source": [
    "combiner_49 = Combiner(image_flats_49)\n",
    "combiner_76 = Combiner(image_flats_76)\n",
    "combiner_78 = Combiner(image_flats_78)"
   ]
  },
  {
   "cell_type": "markdown",
   "metadata": {},
   "source": [
    "y combinamos para cada filtro"
   ]
  },
  {
   "cell_type": "code",
   "execution_count": null,
   "metadata": {},
   "outputs": [],
   "source": [
    "# median combine \n",
    "master_flat_76 = combiner_76.median_combine()\n",
    "master_flat_78 = combiner_78.median_combine()\n",
    "master_flat_49 = combiner_49.median_combine()"
   ]
  },
  {
   "cell_type": "markdown",
   "metadata": {},
   "source": [
    "```{figure} /_static/lecture_specific/p2_fotometria/p2_05_flats_4.png\n",
    "---\n",
    "width: 800px\n",
    "name: flats-4-fig\n",
    "---\n",
    "Se muestran un flat del filtro ancho donde aparece al imagen de una estrella y la combinación de  los flats donde desaparece esa estrella. \n",
    "```\n",
    "\n",
    "El master FLAT presenta una degradación del número de cuentas hacia los bordes que puede ser en parte debido a viñeteo. La corrección con estos FLATS permitirá corregir este efecto.\n",
    "\n",
    "Antes de procesar las imágenes de ciencia vamos a comprobar que la rutina ``ccdproc.flat_correct`` divide por un FLAT normalizado. Si no fuere así tendríamos que normalizar el master FLAT. La división por una imagen con valores \n",
    "cercanos a la unidad permite mantener el nivel aproximado de cuentas que es muy útil para calcular la relación señal ruido. Usamos la imagen 102"
   ]
  },
  {
   "cell_type": "code",
   "execution_count": null,
   "metadata": {},
   "outputs": [],
   "source": [
    "image = CCDData.read(filelist[102])\n",
    "print(image.header['object'],'  filter: ',image.header['ALFLTID'])"
   ]
  },
  {
   "cell_type": "markdown",
   "metadata": {},
   "source": [
    "<pre>\n",
    "GC4496A R 3x300s   filter:  76\n",
    "</pre>\n",
    "\n",
    "y la procesamos para corregir de FLAT"
   ]
  },
  {
   "cell_type": "code",
   "execution_count": null,
   "metadata": {},
   "outputs": [],
   "source": [
    "reduced_image = ccdproc.flat_correct(image, master_flat_76)"
   ]
  },
  {
   "cell_type": "markdown",
   "metadata": {},
   "source": [
    "Si las mostramos juntas comprobamos que tienen niveles parecidos.\n",
    "\n",
    "```{figure} /_static/lecture_specific/p2_fotometria/p2_05_flats_5.png\n",
    "---\n",
    "width: 800px\n",
    "name: flats-5-fig\n",
    "---\n",
    "Se muestran una imagen de ciencia y la misma una vez corre¡gida de FLAT.\n",
    "```\n",
    "\n",
    "```{figure} /_static/lecture_specific/p2_fotometria/p2_05_flats_6.png\n",
    "---\n",
    "width: 800px\n",
    "name: flats-6-fig\n",
    "---\n",
    "Detalle en la esquina inferior izquierda de las imágenes de la figura anterior.\n",
    "```\n",
    "\n",
    "```{figure} /_static/lecture_specific/p2_fotometria/p2_05_flats_7.png\n",
    "---\n",
    "width: 800px\n",
    "name: flats-7-fig\n",
    "---\n",
    "Los tres master FLAT correspondientes a los tres filtros empleados en al noche 1.\n",
    "```\n",
    "```{figure} /_static/lecture_specific/p2_fotometria/p2_05_flats_8.png\n",
    "---\n",
    "width: 800px\n",
    "name: flats-8-fig\n",
    "---\n",
    "Los tres master FLAT correspondientes a los tres filtros empleados en al noche 1 mostrados en DS9 con otra tabla de color.\n",
    "```\n",
    "\n",
    "Finalmente, para los tres master FLAT,"
   ]
  },
  {
   "cell_type": "code",
   "execution_count": null,
   "metadata": {},
   "outputs": [],
   "source": [
    "master_flat_49.header = image_flats_49[0].header.copy()\n",
    "master_flat_49.header['HISTORY']  = 'super FLAT combining '+ str(len(image_flats_49)) + ' FLATS images'\n",
    "master_flat_49.header['HISTORY']  =  str(datetime.datetime.now())[0:18]+' astropy median combine'\n",
    "master_flat_49.header['HISTORY']  = 'FLATS images from ' + str(image_flats_49[0].header['FILENAME'])+' to ' + str(image_flats_49[-1].header['FILENAME'])\n",
    "\n",
    "master_flat_49.header['FILENAME'] = 'N1_master_flat_49' \n",
    "\n",
    "master_flat_49.write(directory+'flat_N1_49.fits',overwrite='yes')"
   ]
  },
  {
   "cell_type": "markdown",
   "metadata": {},
   "source": [
    "## Corrigiendo de variación espacial de sensibilidad \n",
    "Ya estamos preparados para corregir de Flat Field ('Flat Fielding') todas las imágenes que interesen. Recordemos que debemos aplicar el Flat Field correspondiente a cada filtro. Entonces la primera tarea es hacer una lista con las imágenes que queremos procesar en este paso. No tiene sentido corregir BIAS o FLATs de Flat Field, por ejemplo."
   ]
  },
  {
   "cell_type": "code",
   "execution_count": null,
   "metadata": {},
   "outputs": [],
   "source": [
    "from ccdproc import ImageFileCollection\n",
    "from ccdproc.utils.sample_directory import sample_directory_with_files\n",
    "\n",
    "directory='/Users/jzamorano/Desktop/NOT_2008/N1/'   # change the path to your working directory"
   ]
  },
  {
   "cell_type": "code",
   "execution_count": null,
   "metadata": {},
   "outputs": [],
   "source": [
    "keys = ['OBJECT' , 'EXPTIME' , 'ALFLTID' , 'FAFLTID' , 'FBFLTID']\n",
    "ic1 = ImageFileCollection(directory, keywords=keys) # only keep track of keys\n",
    "ic1.summary.colnames"
   ]
  },
  {
   "cell_type": "markdown",
   "metadata": {},
   "source": [
    "Seleccionamos todas las imágenes obtenidas con el filtro con id=78"
   ]
  },
  {
   "cell_type": "code",
   "execution_count": null,
   "metadata": {},
   "outputs": [],
   "source": [
    "matches = (ic1.summary['FBFLTID'] == 78)\n",
    "sci_list_78 = ic1.summary['file'][matches]\n",
    "print(sci_list_78)"
   ]
  },
  {
   "cell_type": "markdown",
   "metadata": {},
   "source": [
    "<pre>\n",
    "      file       \n",
    "   flat_N1_78.fits\n",
    "zt_ALrd120021.fits\n",
    "zt_ALrd120023.fits\n",
    "zt_ALrd120024.fits\n",
    "......\n",
    "zt_ALrd120119.fits\n",
    "zt_ALrd120120.fits\n",
    "zt_ALrd120121.fits\n",
    "zt_ALrd120122.fits\n",
    "Length = 36 rows\n",
    "</pre>"
   ]
  },
  {
   "cell_type": "code",
   "execution_count": null,
   "metadata": {},
   "outputs": [],
   "source": [
    "sci_images_78 = []\n",
    "for file in sci_list_78:\n",
    "    sci_images_78.append(CCDData.read(directory+file))"
   ]
  },
  {
   "cell_type": "markdown",
   "metadata": {},
   "source": [
    "Y listamos la información de algunos descriptores"
   ]
  },
  {
   "cell_type": "code",
   "execution_count": null,
   "metadata": {},
   "outputs": [],
   "source": [
    "print('Filename          Object        exp Mean std min  max')\n",
    "exposure = []\n",
    "for i in range(len(sci_list_78)):\n",
    "    print(i,sci_images_78[i].header['FILENAME'], \n",
    "          sci_images_78[i].header['OBJECT'], \n",
    "          sci_images_78[i].header['EXPTIME'], \n",
    "          int(np.mean(sci_images_78[i])), \n",
    "          int(np.std(sci_images_78[i])), \n",
    "          np.min(sci_images_78[i]), \n",
    "          np.max(sci_images_78[i]))"
   ]
  },
  {
   "cell_type": "markdown",
   "metadata": {},
   "source": [
    "<pre>\n",
    "Filename            Object            exp Mean  std  min  max\n",
    "0 N1_master_flat_78  Sky Flat evening 0.1 22789 8116 32.5 32932.0\n",
    "1 zt_ALrd120021.fits Dome Flat NB#78 10.0 6753 2509 -8.5 16666.0\n",
    "2 zt_ALrd120023.fits Dome Flat NB#78 30.0 20303 7538 11.5 29560.5\n",
    "3 zt_ALrd120024.fits Dome Flat NB#78 30.0 20363 7560 11.5 29627.0\n",
    "4 zt_ALrd120025.fits Dome Flat NB#78 30.0 20356 7557 21.5 29766.0\n",
    "5 zt_ALrd120026.fits Dome Flat NB#78 30.0 20313 7541 20.5 29711.0\n",
    "6 zt_ALrd120027.fits Dome Flat NB#78 30.0 20242 7514 16.5 33439.5\n",
    "7 zt_ALrd120028.fits Dome Flat NB#78 30.0 20229 7509 16.5 41590.0\n",
    "8 zt_ALrd120029.fits Dome Flat NB#78 30.0 20227 7509 27.5 30235.5\n",
    "9 zt_ALrd120030.fits Dome Flat NB#78 30.0 20333 7548 16.5 37827.5\n",
    "10 zt_ALrd120031.fits Dome Flat NB#78 30.0 20320 7543 12.5 29711.5\n",
    "11 zt_ALrd120032.fits Dome Flat NB#78 30.0 20320 7543 16.5 31909.0\n",
    "12 zt_ALrd120044.fits Sky Flat evening 0.1 2693 962 -29.0 6723.0\n",
    "13 zt_ALrd120045.fits Sky Flat evening 1.199 8912 3405 13.5 65182.0\n",
    "14 zt_ALrd120046.fits Sky Flat evening 3.5 20878 7435 32.5 34683.5\n",
    "15 zt_ALrd120047.fits Sky Flat evening 5.0 22790 8114 27.5 32932.0\n",
    "16 zt_ALrd120048.fits Sky Flat evening 7.5 24451 8705 46.5 35316.0\n",
    "17 zt_ALrd120049.fits Sky Flat evening 11.0 23964 8531 33.5 39714.0\n",
    "18 zt_ALrd120050.fits Sky Flat evening 17.0 23630 8412 34.5 34251.5\n",
    "19 zt_ALrd120067.fits HZ44 focusing 30.0 11 11 -44.5 9684.5\n",
    "20 zt_ALrd120068.fits HZ44 focusing 30.0 11 12 -45.0 7712.5\n",
    "21 zt_ALrd120073.fits HZ44 focusing 20.0 9 8 -37.0 3707.5\n",
    "22 zt_ALrd120074.fits HZ44 focusing 20.0 9 8 -40.0 3870.0\n",
    "23 zt_ALrd120079.fits HZ44 #79 50.0 10 26 -43.5 9088.5\n",
    "24 zt_ALrd120083.fits BD+75d325 #78 30.0 12 80 -35.5 44488.0\n",
    "25 zt_ALrd120087.fits Feige34 #78 40.0 9 27 -47.5 15274.5\n",
    "26 zt_ALrd120098.fits C3982 #78 3x900s 900.0 140 74 -50.0 12259.5\n",
    "27 zt_ALrd120099.fits C3982 #78 3x900s 900.0 339 131 -47.0 16072.5\n",
    "28 zt_ALrd120100.fits C3982 #78 3x900s 900.0 204 93 -48.0 19197.0\n",
    "29 zt_ALrd120113.fits C4941 #78 3x900s 900.0 119 223 -45.0 65179.5\n",
    "30 zt_ALrd120114.fits C4941 #78 3x900s 900.0 116 186 -45.5 65179.5\n",
    "31 zt_ALrd120115.fits C4941 #78 3x900s 900.0 77 196 -50.0 65181.5\n",
    "32 zt_ALrd120119.fits C5363 #78 3x900s 900.0 50 159 -46.0 65179.0\n",
    "33 zt_ALrd120120.fits C5363 #78 3x900s 900.0 49 157 -47.5 65179.5\n",
    "34 zt_ALrd120121.fits C5363 #78 3x900s 900.0 52 162 -50.5 65180.0\n",
    "35 zt_ALrd120122.fits C5363 #78 3x900s 180.0 11 31 -46.5 48333.0\n",
    "</pre>\n",
    "\n",
    "Al imprimir colocando el número de orden me es más fácil seleccionar. Antes de sci_list_78[19] son imágenes de Flat Field y desde sci_list_78[26] en adelante son observaciones de un GRB (Gamma Ray Burst) que una alerta nos obligó a realizar y parar nuestro proyecto. Por lo tanto"
   ]
  },
  {
   "cell_type": "code",
   "execution_count": null,
   "metadata": {},
   "outputs": [],
   "source": [
    "sci_list_78 = sci_list_78[19:26]\n",
    "print(sci_list_78)"
   ]
  },
  {
   "cell_type": "markdown",
   "metadata": {},
   "source": [
    "<pre>\n",
    "   file       \n",
    "zt_ALrd120067.fits\n",
    "zt_ALrd120068.fits\n",
    "zt_ALrd120073.fits\n",
    "zt_ALrd120074.fits\n",
    "zt_ALrd120079.fits\n",
    "zt_ALrd120083.fits\n",
    "zt_ALrd120087.fits\n",
    "</pre>\n",
    "\n",
    "Y ahora corregimos de Flat Field esas imágenes y las grabamos en nuestro directorio añadiéndole información de esta parte del procesado. En el nombre le añadimos una 'f'."
   ]
  },
  {
   "cell_type": "code",
   "execution_count": null,
   "metadata": {},
   "outputs": [],
   "source": [
    "for file in sci_list_78:\n",
    "    image = CCDData.read(directory+file)\n",
    "    f_image = ccdproc.flat_correct(image,master_flat_78)\n",
    "    name_of_file = 'f'+ str(image.header['FILENAME'])\n",
    "    f_image.header['FILENAME']  = name_of_file\n",
    "    f_image.header['HISTORY']   = str(datetime.datetime.now())[0:18]+' astropy ccdproc flat_correct '\n",
    "    f_image.header['HISTORY']   = 'using NOT2008/N1/master_flat_78.fits master FLAT' \n",
    "    print('writting '+name_of_file+ ' in '+directory)\n",
    "    f_image.write(directory+name_of_file,overwrite='yes')"
   ]
  },
  {
   "cell_type": "markdown",
   "metadata": {},
   "source": [
    "```{figure} /_static/lecture_specific/p2_fotometria/p2_05_flats_9.png\n",
    "---\n",
    "width: 500px\n",
    "name: flats-9-fig\n",
    "---\n",
    "Las líneas del final de la cabecera de las imágenes corregidas tienen información del procesado hasta ahora, incluyendo el recorte, la substracción del BIAS y la corrección de Flat Field.\n",
    "```\n",
    "\n",
    "Análogamente para los otros filtros,"
   ]
  },
  {
   "cell_type": "code",
   "execution_count": null,
   "metadata": {},
   "outputs": [],
   "source": [
    "matches = (ic1.summary['FBFLTID'] == 49)\n",
    "sci_list_49 = ic1.summary['file'][matches]\n",
    "print(sci_list_49)\n",
    "sci_list_49 = sci_list_49[19:27]\n",
    "print(sci_list_49)"
   ]
  },
  {
   "cell_type": "code",
   "execution_count": null,
   "metadata": {},
   "outputs": [],
   "source": [
    "for file in sci_list_49:\n",
    "    image = CCDData.read(directory+file)\n",
    "    f_image = ccdproc.flat_correct(image,master_flat_49)\n",
    "    name_of_file = 'f'+ str(image.header['FILENAME'])\n",
    "    f_image.header['FILENAME']  = name_of_file\n",
    "    f_image.header['HISTORY']   = str(datetime.datetime.now())[0:18]+' astropy ccdproc flat_correct '\n",
    "    f_image.header['HISTORY']   = 'using NOT2008/N1/master_flat_49.fits master FLAT' \n",
    "    print('writting '+name_of_file+ ' in '+directory)\n",
    "    f_image.write(directory+name_of_file,overwrite='yes')"
   ]
  },
  {
   "cell_type": "code",
   "execution_count": null,
   "metadata": {},
   "outputs": [],
   "source": [
    "matches = (ic1.summary['ALFLTID'] == 76)\n",
    "sci_list_76 = ic1.summary['file'][matches]\n",
    "print(sci_list_76)\n",
    "sci_list_76 = sci_list_76[17:41]\n",
    "print(sci_list_76)"
   ]
  },
  {
   "cell_type": "code",
   "execution_count": null,
   "metadata": {},
   "outputs": [],
   "source": [
    "for file in sci_list_76:\n",
    "    image = CCDData.read(directory+file)\n",
    "    f_image = ccdproc.flat_correct(image,master_flat_76)\n",
    "    name_of_file = 'f'+ str(image.header['FILENAME'])\n",
    "    f_image.header['FILENAME']  = name_of_file\n",
    "    f_image.header['HISTORY']   = str(datetime.datetime.now())[0:18]+' astropy ccdproc flat_correct '\n",
    "    f_image.header['HISTORY']   = 'using NOT2008/N1/master_flat_76.fits master FLAT' \n",
    "    print('writting '+name_of_file+ ' in '+directory)\n",
    "    f_image.write(directory+name_of_file,overwrite='yes')"
   ]
  },
  {
   "cell_type": "markdown",
   "metadata": {},
   "source": [
    "Una vez acabado este paso despejamos el directorio de trabajo moviendo los ficheros recortados y corregidos de BIAS (\"zt_*\") a un subdirectorio auxiliar que llamamos 2_corregidos_bias.\n",
    "\n",
    "<pre>\n",
    "N1 $> mkdir 2_corregidos_bias\n",
    "N1 $> mv zt_* 2_corregidos_bias\n",
    "</pre>\n",
    "\n",
    "quedando nuestro directorio de trabajo,\n",
    "<pre>\n",
    "N1 $ ls\n",
    "0_originales        fzt_ALrd120070.fits fzt_ALrd120081.fits fzt_ALrd120091.fits fzt_ALrd120111.fits\n",
    "1_recortados        fzt_ALrd120071.fits fzt_ALrd120082.fits fzt_ALrd120095.fits fzt_ALrd120112.fits\n",
    "2_corregidos_bias   fzt_ALrd120072.fits fzt_ALrd120083.fits fzt_ALrd120096.fits fzt_ALrd120116.fits\n",
    "flat_N1_49.fits     fzt_ALrd120073.fits fzt_ALrd120084.fits fzt_ALrd120097.fits fzt_ALrd120117.fits\n",
    "flat_N1_76.fits     fzt_ALrd120074.fits fzt_ALrd120085.fits fzt_ALrd120102.fits fzt_ALrd120118.fits\n",
    "flat_N1_78.fits     fzt_ALrd120075.fits fzt_ALrd120086.fits fzt_ALrd120103.fits zero_N1.fits\n",
    "fzt_ALrd120066.fits fzt_ALrd120077.fits fzt_ALrd120087.fits fzt_ALrd120104.fits\n",
    "fzt_ALrd120067.fits fzt_ALrd120078.fits fzt_ALrd120088.fits fzt_ALrd120105.fits\n",
    "fzt_ALrd120068.fits fzt_ALrd120079.fits fzt_ALrd120089.fits fzt_ALrd120106.fits\n",
    "fzt_ALrd120069.fits fzt_ALrd120080.fits fzt_ALrd120090.fits fzt_ALrd120110.fits\n",
    "</pre>\n",
    "\n",
    "\n",
    "Podemos y denbemos ver el resultado del procesado por si hay algún error muy evidente. \n",
    "\n",
    "```{figure} /_static/lecture_specific/p2_fotometria/p2_05_flats_10.png\n",
    "---\n",
    "width: 800px\n",
    "name: flats-10-fig\n",
    "---\n",
    "Flat field en el filtro #76, una imagen original y la misma imagen corregida. Se han corregido efectos aparentes en la variación espacial de la sensibilidad y se nota que el fondo se ha aplanado.\n",
    "```"
   ]
  }
 ],
 "metadata": {
  "jupytext": {
   "text_representation": {
    "extension": ".md",
    "format_name": "myst"
   }
  },
  "kernelspec": {
   "display_name": "Python 3",
   "language": "python",
   "name": "python3"
  },
  "source_map": [
   10,
   21,
   26,
   32,
   35,
   50,
   56,
   122,
   129,
   134,
   144,
   159,
   163,
   176,
   180,
   183,
   188,
   204,
   207,
   214,
   216,
   252,
   261,
   266,
   273,
   277,
   280,
   284,
   302,
   306,
   310,
   321,
   365,
   368,
   382,
   392,
   404,
   412,
   424,
   432,
   442
  ]
 },
 "nbformat": 4,
 "nbformat_minor": 4
}