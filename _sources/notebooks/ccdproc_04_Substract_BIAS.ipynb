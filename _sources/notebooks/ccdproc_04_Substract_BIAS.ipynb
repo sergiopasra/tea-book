{
 "cells": [
  {
   "cell_type": "markdown",
   "metadata": {},
   "source": [
    "# ccdproc-04:   BIAS correction\n",
    "\n",
    "## Overview\n",
    "1. Manually substract BIAS \n",
    "2. Analysing the results\n",
    "3. Using master BIAS to correct from BIAS all the images"
   ]
  },
  {
   "cell_type": "markdown",
   "metadata": {},
   "source": [
    "<pre>\n",
    "Máster en Astrofísica UCM  -- Técnicas Experimentales en Astrofísica  \n",
    "Jaime Zamorano, Nicolás Cardiel and Sergio Pascual\n",
    "\n",
    "This notebook has reproduced parts of the the astropy ccdproc docs: \n",
    "https://ccdproc.readthedocs.io/en/latest/reduction_toolbox.html#subtract-bias-and-dark\n",
    "\n",
    "Version 1.0 2021/01/15 \n",
    "Version 2.0 2021/01/18\n",
    "</pre>"
   ]
  },
  {
   "cell_type": "markdown",
   "metadata": {},
   "source": [
    "Note that the ``astropy`` package should be installed. In this sense, have a look to the\n",
    "astropy installation description: https://docs.astropy.org/en/stable/install.html."
   ]
  },
  {
   "cell_type": "code",
   "execution_count": null,
   "metadata": {},
   "outputs": [],
   "source": [
    "from pylab import *\n",
    "import matplotlib\n",
    "%matplotlib inline\n",
    "import matplotlib.pyplot as plt\n",
    "import matplotlib.mlab as ml\n",
    "import numpy as np\n",
    "from mpl_toolkits.axes_grid1 import make_axes_locatable\n",
    "from astropy.io import fits\n",
    "from astropy import units as u\n",
    "from astropy.nddata import CCDData\n",
    "import ccdproc"
   ]
  },
  {
   "cell_type": "code",
   "execution_count": null,
   "metadata": {},
   "outputs": [],
   "source": [
    "plt.style.use('./tea.mplstyle')   # Some parameters for nicer graphs"
   ]
  },
  {
   "cell_type": "markdown",
   "metadata": {},
   "source": [
    "### Working with images in a directory\n",
    "We will use the files of the first night of observations at NOT (Nordic Optical Telescope) 2008 that can be downloaded from   ftp://astrax.fis.ucm.es/pub/users/jaz/NOT_2008_04_12-14/N1/\n",
    "or \n",
    "http://guaix.fis.ucm.es/~jaz/master_TEA/observaciones_NOT_2008/N1/\n",
    "\n",
    "``directory`` should point to the working directory.  \n"
   ]
  },
  {
   "cell_type": "markdown",
   "metadata": {},
   "source": [
    "At this step we have already created a combination of BIAS frames with the result of a master DARK that we called zero_N1.fits. This file should be in our working directory that also contents the trimmed images.  "
   ]
  },
  {
   "cell_type": "code",
   "execution_count": null,
   "metadata": {},
   "outputs": [],
   "source": [
    "directory='N1/'   # change the path to your working directory"
   ]
  },
  {
   "cell_type": "markdown",
   "metadata": {},
   "source": [
    "Let\\'s create a list containing all the FITS files in that directory.  \n",
    "We asume that the images were already trimmed and their names begin with 't_' (see previous notebooks 'ccdproc_02' and 'ccdproc_03')"
   ]
  },
  {
   "cell_type": "code",
   "execution_count": null,
   "metadata": {},
   "outputs": [],
   "source": [
    "import os\n",
    "from glob import glob\n",
    "# os.path.join is a platform-independent way to join two directories\n",
    "globpath = os.path.join(directory, 't_*.fits')\n",
    "print(globpath)\n",
    "# glob searches through directories similar to the Unix shell\n",
    "filelist = sorted(glob(globpath))\n",
    "print(filelist[100:105])    # printing only from 10 to 20"
   ]
  },
  {
   "cell_type": "markdown",
   "metadata": {},
   "source": [
    "### Statistics and display"
   ]
  },
  {
   "cell_type": "markdown",
   "metadata": {},
   "source": [
    "#### Reading the master  BIAS file "
   ]
  },
  {
   "cell_type": "code",
   "execution_count": null,
   "metadata": {},
   "outputs": [],
   "source": [
    "filename = 'zero_N1.fits'\n",
    "master_bias = CCDData.read(directory+filename)"
   ]
  },
  {
   "cell_type": "markdown",
   "metadata": {},
   "source": [
    "#### Reading some example the files"
   ]
  },
  {
   "cell_type": "code",
   "execution_count": null,
   "metadata": {},
   "outputs": [],
   "source": [
    "science = CCDData.read(filelist[102])    # file with a science observation\n",
    "onebias = CCDData.read(filelist[9])      # file with a single BIAS frame"
   ]
  },
  {
   "cell_type": "markdown",
   "metadata": {},
   "source": [
    "#### Analysing the images data"
   ]
  },
  {
   "cell_type": "code",
   "execution_count": null,
   "metadata": {},
   "outputs": [],
   "source": [
    "print('Filename          Object            exp  Mean std min  max')\n",
    "print(science.header['FILENAME'], science.header['OBJECT'], science.header['EXPTIME'], \n",
    "          int(np.mean(science)), int(np.std(science)), np.min(science), np.max(science))\n",
    "print(onebias.header['FILENAME'], onebias.header['OBJECT'], onebias.header['EXPTIME'], \n",
    "          int(np.mean(onebias)), int(np.std(onebias)), np.min(onebias), np.max(onebias))"
   ]
  },
  {
   "cell_type": "markdown",
   "metadata": {},
   "source": [
    "The science image of this example is one of the three 300s exposure observations of NGC4496A. The maximum value is 65535 which means that there is saturation in some pixels of the image. This is the highest number that can be represented by an unsigned 16-bit binary number (2^16 -1)"
   ]
  },
  {
   "cell_type": "markdown",
   "metadata": {},
   "source": [
    "#### Display of the example files"
   ]
  },
  {
   "cell_type": "code",
   "execution_count": null,
   "metadata": {},
   "outputs": [],
   "source": [
    "# auxiliary function to display a rectangle and compute mean value within it\n",
    "def draw_rectangle(ax, image_data, x1, x2, y1, y2, color, text=False):\n",
    "    ax.plot((x1, x1), (y1, y2), color, lw=1)\n",
    "    ax.plot((x2, x2), (y1, y2), color, lw=1)\n",
    "    ax.plot((x1, x2), (y1, y1), color, lw=1)\n",
    "    ax.plot((x1, x2), (y2, y2), color, lw=1)\n",
    "    if text:\n",
    "        media = image_data[y1:y2,x1:x2].mean()\n",
    "        std   = image_data[y1:y2,x1:x2].std()\n",
    "        ax.text((x1+x2)/2, y1+(y2-y1)/8, str(int(media)), \n",
    "                ha='center', va='center', color=color, fontsize=12)        \n",
    "        ax.text((x1+x2)/2, y2-(y2-y1)/8, str(round(std,1)), \n",
    "                ha='center', va='top', color=color, fontsize=12)\n",
    "    return media, std"
   ]
  },
  {
   "cell_type": "code",
   "execution_count": null,
   "metadata": {},
   "outputs": [],
   "source": [
    "fig, axarr = plt.subplots(ncols=2, nrows=1, figsize=(12, 9))\n",
    "ax0 = axarr[0]\n",
    "img = ax0.imshow(onebias, cmap='gray', origin='low',vmin=340,vmax=380)\n",
    "ax0.set_xticks([])\n",
    "ax0.set_yticks([])\n",
    "ax0.text(600, 100, 'BIAS   '+onebias.header['FILENAME'], fontsize=10, color='w')\n",
    "divider = make_axes_locatable(ax0)\n",
    "cax = divider.append_axes(\"right\", size=\"5%\", pad=0.05)\n",
    "fig.colorbar(img, cax=cax) #, label='Number of counts')\n",
    "draw_rectangle(ax0, onebias.data , 200, 500, 200, 500, color='w',text=True)\n",
    "ax1 = axarr[1]\n",
    "img = ax1.imshow(science, cmap='gray', origin='low',vmin=5000,vmax=8000)\n",
    "ax1.set_xticks([])\n",
    "ax1.set_yticks([])\n",
    "ax1.text(600, 100, science.header['FILENAME'], fontsize=10, color='w')\n",
    "divider = make_axes_locatable(ax1)\n",
    "cax = divider.append_axes(\"right\", size=\"5%\", pad=0.05)\n",
    "fig.colorbar(img, cax=cax) #, label='Number of counts')\n",
    "draw_rectangle(ax1, science.data , 200, 500, 200, 500, color='w',text=True)\n"
   ]
  },
  {
   "cell_type": "markdown",
   "metadata": {},
   "source": [
    "### Manually substracting the master BIAS "
   ]
  },
  {
   "cell_type": "markdown",
   "metadata": {},
   "source": [
    "Although we will use ``ccdproc.subtract_bias`` let's substract the master BIAS from both images just to show that the procedure is a simple substraction."
   ]
  },
  {
   "cell_type": "code",
   "execution_count": null,
   "metadata": {},
   "outputs": [],
   "source": [
    "onebias_minus_bias = np.subtract(onebias,master_bias)\n",
    "science_minus_bias = np.subtract(science,master_bias)"
   ]
  },
  {
   "cell_type": "code",
   "execution_count": null,
   "metadata": {},
   "outputs": [],
   "source": [
    "fig, axarr = plt.subplots(ncols=2, nrows=1, figsize=(12, 9))\n",
    "images = [onebias_minus_bias,science_minus_bias]\n",
    "cuts = [0,10,5000,8000]\n",
    "for i in range(2):\n",
    "    ax = axarr[i]\n",
    "    vmin = cuts[0+2*i]\n",
    "    vmax = cuts[1+2*i]\n",
    "    img = ax.imshow(images[i].data, cmap='gray', origin='low',vmin=vmin,vmax=vmax)\n",
    "    ax.set_xticks([])\n",
    "    ax.set_yticks([])\n",
    "    divider = make_axes_locatable(ax)\n",
    "    cax = divider.append_axes(\"right\", size=\"5%\", pad=0.05)\n",
    "    ax.text(200, 1800, 'using numpy array substract', fontsize=12, color='y')\n",
    "    fig.colorbar(img, cax=cax) #, label='Number of counts')\n",
    "    draw_rectangle(ax, images[i] , 200, 500, 200, 500, color='w',text=True)"
   ]
  },
  {
   "cell_type": "markdown",
   "metadata": {},
   "source": [
    "As expected, the BIAS substracted BIAS has signal around 0 and the standard deviation does not change. For the science data, the result is a frame with lower signal (around 358 counts)."
   ]
  },
  {
   "cell_type": "markdown",
   "metadata": {},
   "source": [
    "### Using ccdproc_substract_bias "
   ]
  },
  {
   "cell_type": "code",
   "execution_count": null,
   "metadata": {},
   "outputs": [],
   "source": [
    "bias_subtracted_onebias = ccdproc.subtract_bias(onebias, master_bias)\n",
    "bias_subtracted_science = ccdproc.subtract_bias(science, master_bias)"
   ]
  },
  {
   "cell_type": "code",
   "execution_count": null,
   "metadata": {},
   "outputs": [],
   "source": [
    "fig, axarr = plt.subplots(ncols=2, nrows=1, figsize=(12, 9))\n",
    "images = [bias_subtracted_onebias,bias_subtracted_science]\n",
    "cuts = [0,40,5000,8000]\n",
    "for i in range(2):\n",
    "    ax = axarr[i]\n",
    "    vmin = cuts[0+2*i]\n",
    "    vmax = cuts[1+2*i]\n",
    "    img = ax.imshow(images[i].data, cmap='gray', origin='low',vmin=vmin,vmax=vmax)\n",
    "    ax.set_xticks([])\n",
    "    ax.set_yticks([])\n",
    "    ax.text(600, 100, images[i].header['FILENAME']+' - BIAS', fontsize=10, color='w')\n",
    "    ax.text(200, 1800, 'using ccdproc.subtract_bias', fontsize=12, color='y')\n",
    "    divider = make_axes_locatable(ax)\n",
    "    cax = divider.append_axes(\"right\", size=\"5%\", pad=0.05)\n",
    "    fig.colorbar(img, cax=cax) #, label='Number of counts')\n",
    "    draw_rectangle(ax, images[i].data , 200, 500, 200, 500, color='w',text=True)"
   ]
  },
  {
   "cell_type": "markdown",
   "metadata": {},
   "source": [
    "## Correcting all files from BIAS"
   ]
  },
  {
   "cell_type": "code",
   "execution_count": null,
   "metadata": {},
   "outputs": [],
   "source": [
    "# removing an image with different dimension\n",
    "print(filelist.pop(62)) "
   ]
  },
  {
   "cell_type": "code",
   "execution_count": null,
   "metadata": {},
   "outputs": [],
   "source": [
    "for i in range (len(filelist)):\n",
    "    image = CCDData.read(filelist[i]) #, unit=\"adu\")\n",
    "    z_image = ccdproc.subtract_bias(image,master_bias)\n",
    "    name_of_file = 'z'+ str(image.header['FILENAME'])\n",
    "    z_image.header['FILENAME']  = name_of_file\n",
    "    z_image.header['HISTORY']   = str(datetime.datetime.now())[0:18]+' astropy ccdproc substract_bias'\n",
    "    z_image.header['HISTORY']   = 'using NOT2008/N1/zero_N1.fits master BIAS' \n",
    "    print('writting '+name_of_file+ ' in '+directory)\n",
    "    z_image.write(directory+name_of_file,overwrite='yes')"
   ]
  },
  {
   "cell_type": "code",
   "execution_count": null,
   "metadata": {},
   "outputs": [],
   "source": []
  }
 ],
 "metadata": {
  "kernelspec": {
   "display_name": "Python 3",
   "language": "python",
   "name": "python3"
  },
  "language_info": {
   "codemirror_mode": {
    "name": "ipython",
    "version": 3
   },
   "file_extension": ".py",
   "mimetype": "text/x-python",
   "name": "python",
   "nbconvert_exporter": "python",
   "pygments_lexer": "ipython3",
   "version": "3.7.7"
  }
 },
 "nbformat": 4,
 "nbformat_minor": 4
}
