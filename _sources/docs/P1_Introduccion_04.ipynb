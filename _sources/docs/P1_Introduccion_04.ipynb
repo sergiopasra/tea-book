{
 "cells": [
  {
   "cell_type": "markdown",
   "metadata": {},
   "source": [
    "# Python, cuadernos de Jupyter, astropy\n",
    "Ventajas e inconvenientes frente a los paquetes tradicionales.\n",
    "\n",
    "\n",
    "## Python\n",
    "## Cuadernos de Jupyter\n",
    "## astropy \n",
    "Aunque podríamos hacer toda la reducción de observaciones usando sólo [``python``] es conveniente hacerlo usando los paquetes que pone a nuestra disposición [``astropy``](https://docs.astropy.org/en/stable/index.html) ya que fure desarrollado precisamente para ayudar a las tareas de la comunidad de astrónomos. Además incorpora otros paquetes afiliados desarrollados por investigadores que han resuleto problemas de reducción que no estaban originalmente en el núcleo de ``astropy``.\n",
    "\n",
    "[Astropy: A community Python package for astronomy](https://www.aanda.org/articles/aa/full_html/2013/10/aa22068-13/aa22068-13.html)\n",
    "\n",
    "- Instalar ``astropy`` [https://docs.astropy.org/en/stable/install.html](https://docs.astropy.org/en/stable/install.html)\n",
    "\n",
    "Resumiendo (es mejor consultar la página de instrucciones enlazada), si tienes una instalación de Linux realizada con ``conda``\n",
    "\n",
    "<pre>\n",
    "conda install astropy\n",
    "</pre>\n",
    "y después para actualizar a la última versión\n",
    "<pre>\n",
    "conda update astropy\n",
    "</pre>\n",
    "\n",
    "También puedes usar [``pip``](https://pypi.org/) si estás usando este instalador de paquetes. \n",
    "\n",
    "<pre>\n",
    "pip install astropy\n",
    "</pre>\n",
    "\n",
    "o si se quiere uno asegurar de que se cargan todas las dependencias\n",
    "<pre>\n",
    "pip install astropy[all]\n",
    "</pre>\n",
    "\n",
    "Segun avancemos en las clases surgirán paquetes nuevos que se usan. Se enlaza en cada caso las instrucciones de instalación aunque es fácil encontrarlas en las páginas de los paquetes. \n",
    "\n",
    "## (Importancia de la utilización de un sistema de control de versiones)\n",
    "Introducción a [Git](https://git-scm.com/)\n",
    "\n",
    "## (Acceso a catálogos on line desde Python)\n",
    "Realización de queries a [Vizier](https://vizier.u-strasbg.fr/viz-bin/VizieR)\n",
    " y [Aladin](https://aladin.u-strasbg.fr/).\n",
    "Utilización del paquete [PyVO](https://pypi.org/project/pyvo/) para acceder a datos astronómicos en archivos que siguen los estándares definidos por el IVOA (International Virtual Observatory Alliance)."
   ]
  }
 ],
 "metadata": {
  "jupytext": {
   "text_representation": {
    "extension": ".md",
    "format_name": "myst"
   }
  },
  "kernelspec": {
   "display_name": "Python 3",
   "language": "python",
   "name": "python3"
  },
  "language_info": {
   "codemirror_mode": {
    "name": "ipython",
    "version": 3
   },
   "file_extension": ".py",
   "mimetype": "text/x-python",
   "name": "python",
   "nbconvert_exporter": "python",
   "pygments_lexer": "ipython3",
   "version": "3.9.1"
  },
  "source_map": [
   10
  ]
 },
 "nbformat": 4,
 "nbformat_minor": 4
}