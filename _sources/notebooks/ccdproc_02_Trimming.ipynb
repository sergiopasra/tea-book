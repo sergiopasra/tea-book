{
 "cells": [
  {
   "cell_type": "markdown",
   "metadata": {},
   "source": [
    "# ccdproc-02:   Trimming\n",
    "\n",
    "## Overview\n",
    "1. Build a list of all image files\n",
    "2. How to trim images \n",
    "3. Trim all the images to the selected region of interest"
   ]
  },
  {
   "cell_type": "markdown",
   "metadata": {},
   "source": [
    "<pre>\n",
    "Máster en Astrofísica UCM  -- Técnicas Experimentales en Astrofísica  \n",
    "Jaime Zamorano, Nicolás Cardiel and Sergio Pascual\n",
    "\n",
    "This notebook has reproduced parts of the the astropy ccdproc docs: \n",
    "https://ccdproc.readthedocs.io/en/latest/reduction_toolbox.html#subtract-overscan-and-trim-images\n",
    "\n",
    "Version 1.0 2021/01/14  \n",
    "Version 2.0 2021/01/18  \n",
    "</pre>"
   ]
  },
  {
   "cell_type": "markdown",
   "metadata": {},
   "source": [
    "Note that the ``astropy`` package should be installed. In this sense, have a look to the\n",
    "astropy installation description: https://docs.astropy.org/en/stable/install.html."
   ]
  },
  {
   "cell_type": "code",
   "execution_count": null,
   "metadata": {},
   "outputs": [],
   "source": [
    "from astropy.io import fits\n",
    "from pylab import *\n",
    "import matplotlib\n",
    "%matplotlib inline\n",
    "import matplotlib.pyplot as plt\n",
    "import matplotlib.mlab as ml\n",
    "import numpy as np\n",
    "from mpl_toolkits.axes_grid1 import make_axes_locatable"
   ]
  },
  {
   "cell_type": "code",
   "execution_count": null,
   "metadata": {},
   "outputs": [],
   "source": [
    "plt.style.use('./tea.mplstyle')   # Some parameters for nicer graphs"
   ]
  },
  {
   "cell_type": "markdown",
   "metadata": {},
   "source": [
    "### Working with images in a directory\n",
    "We will use the files of the first night of observations at NOT (Nordic Optical Telescope) 2008 that can be downloaded from   ftp://astrax.fis.ucm.es/pub/users/jaz/NOT_2008_04_12-14/N1/\n",
    "or \n",
    "http://guaix.fis.ucm.es/~jaz/master_TEA/observaciones_NOT_2008/N1/\n",
    "\n",
    "``directory`` should point to the directory with the downloaded images"
   ]
  },
  {
   "cell_type": "code",
   "execution_count": null,
   "metadata": {},
   "outputs": [],
   "source": [
    "directory='NOT_2008_N1/'"
   ]
  },
  {
   "cell_type": "markdown",
   "metadata": {},
   "source": [
    "Let\\'s create a list containing all the FITS files in that directory "
   ]
  },
  {
   "cell_type": "code",
   "execution_count": null,
   "metadata": {},
   "outputs": [],
   "source": [
    "import os\n",
    "from glob import glob\n",
    "# os.path.join is a platform-independent way to join two directories\n",
    "globpath = os.path.join(directory, '*.fits')\n",
    "print(globpath)\n",
    "# glob searches through directories similar to the Unix shell\n",
    "filelist = sorted(glob(globpath))\n",
    "print(filelist[100:120])    # printing only from 10 to 20"
   ]
  },
  {
   "cell_type": "markdown",
   "metadata": {},
   "source": [
    "Let\\'s open one of the files to explore the HEADER keywords"
   ]
  },
  {
   "cell_type": "code",
   "execution_count": null,
   "metadata": {},
   "outputs": [],
   "source": [
    "HDUList_object = fits.open(filelist[101])\n",
    "HDUList_object.info()"
   ]
  },
  {
   "cell_type": "code",
   "execution_count": null,
   "metadata": {},
   "outputs": [],
   "source": [
    "# Extract primary header\n",
    "primary_header = HDUList_object[0].header\n",
    "# Index header object with keyword name and print value\n",
    "print('filename:',primary_header['FILENAME'],'    Object:',primary_header['OBJECT'])\n",
    "# Read the data to a numpy array\n",
    "image = fits.getdata(filelist[101])\n",
    "print(type(image))\n",
    "print('dimension:',image.shape)\n",
    "naxis2, naxis1 = image.shape\n",
    "print('naxis1:',image.shape[1])\n",
    "print('naxis2:',image.shape[0])"
   ]
  },
  {
   "cell_type": "markdown",
   "metadata": {},
   "source": [
    "Let\\'s display this file"
   ]
  },
  {
   "cell_type": "code",
   "execution_count": null,
   "metadata": {},
   "outputs": [],
   "source": [
    "fig, ax = plt.subplots(ncols=1, nrows=1, figsize=(8, 8))\n",
    "img = ax.imshow(image, cmap='gray', origin='low',vmin=4000,vmax=6500)\n",
    "ax.set_xlabel('X axis')\n",
    "ax.set_ylabel('Y axis')\n",
    "divider = make_axes_locatable(ax)\n",
    "cax = divider.append_axes(\"right\", size=\"5%\", pad=0.05)\n",
    "fig.colorbar(img, cax=cax, label='Number of counts')\n",
    "ax.grid()"
   ]
  },
  {
   "cell_type": "markdown",
   "metadata": {},
   "source": [
    "Selecting a region of the image can be done using ``trimming`` or simply using the python command."
   ]
  },
  {
   "cell_type": "markdown",
   "metadata": {},
   "source": [
    "### Trimming using python "
   ]
  },
  {
   "cell_type": "code",
   "execution_count": null,
   "metadata": {},
   "outputs": [],
   "source": [
    "new_image = image[0:1000,0:1250]"
   ]
  },
  {
   "cell_type": "code",
   "execution_count": null,
   "metadata": {},
   "outputs": [],
   "source": [
    "fig, axarr = plt.subplots(ncols=2, nrows=1, figsize=(12, 8))\n",
    "ax0 = axarr[0]\n",
    "img = ax0.imshow(image, cmap='gray', origin='low',vmin=4000,vmax=6500)\n",
    "ax0.set_xlabel('X axis')\n",
    "ax0.set_ylabel('Y axis')\n",
    "ax0.grid()\n",
    "ax1 = axarr[1]\n",
    "img = ax1.imshow(new_image, cmap='gray', origin='low',vmin=4000,vmax=6500)\n",
    "ax1.set_xlabel('X axis')\n",
    "ax1.set_ylabel('Y axis')\n",
    "divider = make_axes_locatable(ax1)\n",
    "cax = divider.append_axes(\"right\", size=\"5%\", pad=0.05)\n",
    "fig.colorbar(img, cax=cax, label='Number of counts')\n",
    "ax1.grid()"
   ]
  },
  {
   "cell_type": "code",
   "execution_count": null,
   "metadata": {},
   "outputs": [],
   "source": [
    "### Trimming using python the region of interest TRIMSEC= [20:-20,60:2100]\n",
    "new_image = image[20:-20,60:2100]\n",
    "print(image.shape,new_image.shape)"
   ]
  },
  {
   "cell_type": "code",
   "execution_count": null,
   "metadata": {},
   "outputs": [],
   "source": [
    "fig, axarr = plt.subplots(ncols=2, nrows=1, figsize=(12, 8))\n",
    "ax0 = axarr[0]\n",
    "img = ax0.imshow(image, cmap='gray', origin='low',vmin=4000,vmax=6500)\n",
    "ax0.set_xlabel('X axis')\n",
    "ax0.set_ylabel('Y axis')\n",
    "ax0.grid()\n",
    "ax1 = axarr[1]\n",
    "img = ax1.imshow(new_image, cmap='gray', origin='low',vmin=4000,vmax=6500)\n",
    "ax1.set_xlabel('X axis')\n",
    "ax1.set_ylabel('Y axis')\n",
    "divider = make_axes_locatable(ax1)\n",
    "cax = divider.append_axes(\"right\", size=\"5%\", pad=0.05)\n",
    "fig.colorbar(img, cax=cax, label='Number of counts')\n",
    "ax1.grid()"
   ]
  },
  {
   "cell_type": "markdown",
   "metadata": {},
   "source": [
    "### Trimming with ccdproc trim_image\n",
    "We need to convert the numpy array to [CCDData](https://docs.astropy.org/en/stable/api/astropy.nddata.CCDData.html) class"
   ]
  },
  {
   "cell_type": "code",
   "execution_count": null,
   "metadata": {},
   "outputs": [],
   "source": [
    "from astropy import units as u\n",
    "from astropy.nddata import CCDData\n",
    "import ccdproc"
   ]
  },
  {
   "cell_type": "code",
   "execution_count": null,
   "metadata": {},
   "outputs": [],
   "source": [
    "data_image = CCDData(image,unit=u.adu)"
   ]
  },
  {
   "cell_type": "code",
   "execution_count": null,
   "metadata": {},
   "outputs": [],
   "source": [
    "# FITS-style\n",
    "t_image_1 = ccdproc.trim_image(data_image,fits_section='[60:2099, 21:2032]')\n",
    "# python-style:\n",
    "t_image_2 = ccdproc.trim_image(data_image[20:-20,60:2100])\n",
    "print(t_image_1.shape,t_image_2.shape)"
   ]
  },
  {
   "cell_type": "code",
   "execution_count": null,
   "metadata": {},
   "outputs": [],
   "source": [
    "fig, axarr = plt.subplots(ncols=2, nrows=1, figsize=(12, 8))\n",
    "ax0 = axarr[0]\n",
    "img = ax0.imshow(t_image_1, cmap='gray', origin='low',vmin=4000,vmax=6500)\n",
    "ax0.set_xlabel('X axis')\n",
    "ax0.set_ylabel('Y axis')\n",
    "ax0.grid()\n",
    "ax1 = axarr[1]\n",
    "img = ax1.imshow(t_image_2, cmap='gray', origin='low',vmin=4000,vmax=6500)\n",
    "ax1.set_xlabel('X axis')\n",
    "ax1.set_ylabel('Y axis')\n",
    "ax1.grid()"
   ]
  },
  {
   "cell_type": "markdown",
   "metadata": {},
   "source": [
    "### Writing the resulting image as FITS file"
   ]
  },
  {
   "cell_type": "markdown",
   "metadata": {},
   "source": [
    "We can write the resulting CCDdata file to a FITS file.  \n",
    "The trim_image command maintain the information of the header (metadata) and also add some information. We will add more information."
   ]
  },
  {
   "cell_type": "code",
   "execution_count": null,
   "metadata": {},
   "outputs": [],
   "source": [
    "# Replace FILENAME keyword and add information\n",
    "t_image_1.header['FILENAME']  = 't_ALrd120102.fits' \n",
    "t_image_1.header['TRIMIM']  = 'fits_section=[60:2099, 21:2032]' \n",
    "t_image_1.header['HISTORY'] = str(datetime.datetime.now())[0:18]+' astropy ccdproc trim_image'"
   ]
  },
  {
   "cell_type": "code",
   "execution_count": null,
   "metadata": {},
   "outputs": [],
   "source": [
    "t_image_1.write('dummy.fits',overwrite='yes')"
   ]
  },
  {
   "cell_type": "markdown",
   "metadata": {},
   "source": [
    "## Trimming all the images of the first night"
   ]
  },
  {
   "cell_type": "markdown",
   "metadata": {},
   "source": [
    "We are using this method to trim all the images of the first night of the NOT2008 campaing.  \n",
    "We will read all the files to create CCDData objects. We created earlier in this notebook the list of files as filelist."
   ]
  },
  {
   "cell_type": "code",
   "execution_count": null,
   "metadata": {},
   "outputs": [],
   "source": [
    "for i in range(len(filelist)):\n",
    "    image = CCDData.read(filelist[i], unit=\"adu\")\n",
    "    #print(i,image.header)\n",
    "    t_image = ccdproc.trim_image(image[20:-20,60:2100])\n",
    "    #print(t_image.header)\n",
    "    name_of_file = 't_'+ str(image.header['FILENAME'])\n",
    "    t_image.header['FILENAME']  = name_of_file\n",
    "    t_image.header['HISTORY'] = str(datetime.datetime.now())[0:18]+' astropy ccdproc trim_image'\n",
    "    t_image.header['HISTORY']  = 'trimming fits_section=[60:2099, 21:2032]' \n",
    "    print('writting '+name_of_file+ ' in '+directory)\n",
    "    t_image.write(directory+name_of_file,overwrite='yes')"
   ]
  },
  {
   "cell_type": "code",
   "execution_count": null,
   "metadata": {},
   "outputs": [],
   "source": []
  }
 ],
 "metadata": {
  "kernelspec": {
   "display_name": "Python 3",
   "language": "python",
   "name": "python3"
  },
  "language_info": {
   "codemirror_mode": {
    "name": "ipython",
    "version": 3
   },
   "file_extension": ".py",
   "mimetype": "text/x-python",
   "name": "python",
   "nbconvert_exporter": "python",
   "pygments_lexer": "ipython3",
   "version": "3.7.7"
  }
 },
 "nbformat": 4,
 "nbformat_minor": 4
}
